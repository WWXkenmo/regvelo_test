{
 "cells": [
  {
   "cell_type": "markdown",
   "id": "bb21ffe1",
   "metadata": {},
   "source": [
    "# Model selection: select proper training strategy and regularization parameter with multi-view information"
   ]
  },
  {
   "cell_type": "markdown",
   "id": "56d76bdb",
   "metadata": {},
   "source": [
    "In training session, regvelo provide different training strategy for users, in order to meet different modeling preference or data characters. For \"hard\" mode, the GRN structure is strictly determined by prior knowledge, which means there no new interaction between genes and TFs can be build. However, for \"soft\" mode, these interaction are allowed to be build, according to data. The preference between prior knowledge and data character, are weighted by regularization parameter, lambda2. These function are packaged as a class named 'ModelComparison', includes three main functions, \"train\", \"evaluate\" and \"plot_results\"."
   ]
  },
  {
   "cell_type": "markdown",
   "id": "4485de33",
   "metadata": {},
   "source": [
    "### Library import"
   ]
  },
  {
   "cell_type": "code",
   "execution_count": 1,
   "id": "b44fa88b",
   "metadata": {},
   "outputs": [
    {
     "name": "stderr",
     "output_type": "stream",
     "text": [
      "Seed set to 0\n"
     ]
    },
    {
     "data": {
      "text/plain": [
       "AnnData object with n_obs × n_vars = 697 × 988\n",
       "    obs: 'initial_size_unspliced', 'initial_size_spliced', 'initial_size', 'n_counts', 'cell_type', 'stage', 'cell_type2', 'macrostates', 'latent_time', 'stage_num', 'macrostates_fwd', 'term_states_fwd', 'term_states_fwd_probs'\n",
       "    var: 'Accession', 'Chromosome', 'End', 'Start', 'Strand', 'gene_count_corr', 'is_tf', 'TF', 'velocity_genes', 'fit_beta', 'fit_gamma', 'fit_scaling'\n",
       "    uns: '_scvi_manager_uuid', '_scvi_uuid', 'cell_type_colors', 'coarse_fwd', 'eigendecomposition_fwd', 'macrostates_colors', 'macrostates_fwd_colors', 'neighbors', 'network', 'regulators', 'schur_matrix_fwd', 'skeleton', 'targets', 'term_states_fwd_colors'\n",
       "    obsm: 'X_pca', 'X_umap', 'macrostates_fwd_memberships', 'schur_vectors_fwd', 'term_states_fwd_memberships'\n",
       "    layers: 'Ms', 'Mu', 'ambiguous', 'fit_t', 'latent_time_velovi', 'matrix', 'spliced', 'unspliced', 'velocity'\n",
       "    obsp: 'connectivities', 'distances'"
      ]
     },
     "execution_count": 1,
     "metadata": {},
     "output_type": "execute_result"
    }
   ],
   "source": [
    "# Basic packages\n",
    "import numpy as np\n",
    "import pandas as pd\n",
    "import scipy\n",
    "import torch\n",
    "import matplotlib.pyplot as plt\n",
    "import mplscience\n",
    "import seaborn as sns\n",
    "from scipy.stats import ttest_rel\n",
    "\n",
    "# RegVelo and related package\n",
    "import scanpy as sc\n",
    "import cellrank as cr\n",
    "import scvi\n",
    "from regvelo import REGVELOVI\n",
    "import scvelo as scv\n",
    "from regvelo import ModelComparison # Import ModelComparison\n",
    "import regvelo as rgv\n",
    "\n",
    "# Initialize random seed\n",
    "scvi.settings.seed = 0\n",
    "\n",
    "# Data loading\n",
    "adata = rgv.datasets.zebrafish_nc()\n",
    "prior_net = rgv.datasets.zebrafish_grn()\n",
    "\n",
    "# Preprocessing\n",
    "sc.pp.neighbors(adata, n_neighbors=30, n_pcs=50)\n",
    "scv.pp.moments(adata)\n",
    "\n",
    "adata = rgv.pp.preprocess_data(adata)\n",
    "adata = rgv.pp.set_prior_grn(adata,prior_net)\n",
    "\n",
    "adata"
   ]
  },
  {
   "cell_type": "markdown",
   "id": "e911e1cc",
   "metadata": {},
   "source": [
    "The adata loaded in this step are after trained. In fact, only preprocessed adata is enough for run this step, because new training session will be done in following steps. Recommand preprocessing steps can be found [here](https://theislab.github.io/regvelo_reproducibility/zebrafish/1_ss3_analysis.html). \n",
    "\n",
    "However, in order to evaluate in different perspectives, we recommand you to run following side information compatation step."
   ]
  },
  {
   "cell_type": "markdown",
   "id": "db56e3cb",
   "metadata": {},
   "source": [
    "### Side information before creating ModelComparison object.\n",
    "There are several types of information that you may need in following steps. We recommand you to supply all information needed before creating ModelComparison object.\n",
    "\n",
    "### Pseudotime and Stemness Score.\n",
    "Pseudotime indicates a simulated timepoint to each cell, ranking them in temporal order. \n",
    "Stemness score indicates the differentiation potency of cells, measuring how far a cell is compared to stem cell.\n",
    "These steps provide pseudotime (via CellRank DPT kernel, see [here](https://theislab.github.io/regvelo_reproducibility/cell_cycle/2_dpt.html)) and stemness score (via CellRank CytoTrace kernel, see [here](https://cellrank.readthedocs.io/en/stable/notebooks/tutorials/kernels/400_cytotrace.html)).\n",
    "\n",
    "In fact, you can also use other methods to compute pseudo time or stemness score for each cell, and store those information in adata.obs. ModelComparison will also get your information in following \"evaluate\" step.  \n",
    "\n",
    "These two are not necessary, if you don't use pseudotime or stemness to evaluate model in following steps. \n",
    "\n",
    " "
   ]
  },
  {
   "cell_type": "code",
   "execution_count": 2,
   "id": "ff6a8dec",
   "metadata": {},
   "outputs": [
    {
     "data": {
      "application/vnd.jupyter.widget-view+json": {
       "model_id": "590c428b79b842bf82373142827eb588",
       "version_major": 2,
       "version_minor": 0
      },
      "text/plain": [
       "  0%|          | 0/697 [00:00<?, ?cell/s]"
      ]
     },
     "metadata": {},
     "output_type": "display_data"
    },
    {
     "data": {
      "application/vnd.jupyter.widget-view+json": {
       "model_id": "f588c025f2d14f77a5f761047259036c",
       "version_major": 2,
       "version_minor": 0
      },
      "text/plain": [
       "  0%|          | 0/697 [00:00<?, ?cell/s]"
      ]
     },
     "metadata": {},
     "output_type": "display_data"
    },
    {
     "data": {
      "application/vnd.jupyter.widget-view+json": {
       "model_id": "c8c6208bb9a0427cbac28921bac6c41e",
       "version_major": 2,
       "version_minor": 0
      },
      "text/plain": [
       "  0%|          | 0/697 [00:00<?, ?cell/s]"
      ]
     },
     "metadata": {},
     "output_type": "display_data"
    },
    {
     "data": {
      "text/plain": [
       "CytoTRACEKernel[n=697, dnorm=False, scheme='soft', b=10.0, nu=0.5]"
      ]
     },
     "execution_count": 2,
     "metadata": {},
     "output_type": "execute_result"
    }
   ],
   "source": [
    "# Diffusion pseudotime computation\n",
    "## In this step we just consider a random cell whose stage_num is 3 as root cell. You can also use other method to refer your root cell, if you also use DPT method provided by scanpy.\n",
    "root_cell_name = adata.obs[adata.obs['stage_num'] == 3.0].index[0] # Get cell name\n",
    "root_ix = np.where(adata.obs_names == root_cell_name)[0][0] # Get cell index\n",
    "adata.uns[\"iroot\"] = root_ix\n",
    "sc.tl.diffmap(adata)\n",
    "sc.tl.dpt(adata)\n",
    "\n",
    "# Stemness Score computation\n",
    "vk = cr.kernels.VelocityKernel(adata)\n",
    "vk.compute_transition_matrix()\n",
    "ck = cr.kernels.ConnectivityKernel(adata).compute_transition_matrix()\n",
    "kernel = 0.8 * vk + 0.2 * ck\n",
    "ctk = cr.kernels.CytoTRACEKernel(adata).compute_cytotrace()\n",
    "ctk.compute_transition_matrix(threshold_scheme=\"soft\", nu=0.5)"
   ]
  },
  {
   "cell_type": "markdown",
   "id": "5096ec07",
   "metadata": {},
   "source": [
    "### Terminal states and transition.\n",
    "\n",
    "Terminal states is a list recording all potential terminal cell type, given manually by user. This will be used, if you use 'TSI' mode in evaluation, otherwise it is not necessary.\n",
    "\n",
    "n_STATES refers to the total number of macrostates. Detailed introduction can be found [here](https://theislab.github.io/regvelo_reproducibility/pancreatic_endocrinogenesis/3_comparison_tsi.html) or in following content. This wil be used, if you use 'TSI' mode in evaluation, otherwise it is not necessary.\n",
    "\n",
    "State_transistion is a list of transition pair, and each element in transition pair must in type of string. Each pair records the orginal state and terminal state of a state transition event. This will be used, if you use 'CBC' mode in evaluation, otherwise it is not necessary. "
   ]
  },
  {
   "cell_type": "code",
   "execution_count": 3,
   "id": "b949c3a8",
   "metadata": {},
   "outputs": [],
   "source": [
    "TERMINAL_STATES = [\n",
    "    \"mNC_head_mesenchymal\",\n",
    "    \"mNC_arch2\",\n",
    "    \"mNC_hox34\",\n",
    "    \"Pigment\",\n",
    "]\n",
    "\n",
    "n_STATES = 8\n",
    "\n",
    "STATE_TRANSITION = (('3.0','6.5'),\n",
    "                    ('6.5','10.0'),\n",
    "                    ('10.0', '12.5'),\n",
    "                    ('12.5','17.5'),\n",
    "                    ('17.5','21.5'))"
   ]
  },
  {
   "cell_type": "markdown",
   "id": "a5b783d4",
   "metadata": {},
   "source": [
    "### ModelComparison: object build."
   ]
  },
  {
   "cell_type": "code",
   "execution_count": 4,
   "id": "70a0ddd3",
   "metadata": {},
   "outputs": [],
   "source": [
    "comp = ModelComparison(terminal_states=TERMINAL_STATES, state_transition=STATE_TRANSITION, n_states=n_STATES)"
   ]
  },
  {
   "cell_type": "markdown",
   "id": "499410dd",
   "metadata": {},
   "source": [
    "### ModelComparison: train.\n",
    "\n",
    "In this step you will begin to train models that you are interested in. All training strategies are stored in model_list. As introduced previously, 'soft' mode enable to create new connection within GRN, 'hard' mode don't. For 'soft_regularized' mode, you can put a series of lambda value in 'lam2' list accompany with soft_regularized models. A larger lambda2 value inficates a bigger preference on current data, and a smaller preference on prior knowledge. You can let model to be trained multiple times under the same circumstance, by ajusting n_repeats, to have multiple output results. Be aware that large number of n_repeats will cause huge amount of training time. "
   ]
  },
  {
   "cell_type": "code",
   "execution_count": 5,
   "id": "51d4e662",
   "metadata": {},
   "outputs": [
    {
     "name": "stderr",
     "output_type": "stream",
     "text": [
      "Seed set to 0\n"
     ]
    },
    {
     "name": "stderr",
     "output_type": "stream",
     "text": [
      "/home/huang/miniforge3/envs/regvelo-py310/lib/python3.10/site-packages/lightning/fabric/plugins/environments/slurm.py:204: The `srun` command is available on your system but is not used. HINT: If your intention is to run Lightning on SLURM, prepend your python command with `srun` like so: srun python /home/huang/miniforge3/envs/regvelo-py310/lib/python ...\n",
      "/home/huang/miniforge3/envs/regvelo-py310/lib/python3.10/site-packages/lightning/fabric/plugins/environments/slurm.py:204: The `srun` command is available on your system but is not used. HINT: If your intention is to run Lightning on SLURM, prepend your python command with `srun` like so: srun python /home/huang/miniforge3/envs/regvelo-py310/lib/python ...\n",
      "GPU available: True (cuda), used: True\n",
      "TPU available: False, using: 0 TPU cores\n",
      "HPU available: False, using: 0 HPUs\n",
      "/home/huang/miniforge3/envs/regvelo-py310/lib/python3.10/site-packages/lightning/fabric/plugins/environments/slurm.py:204: The `srun` command is available on your system but is not used. HINT: If your intention is to run Lightning on SLURM, prepend your python command with `srun` like so: srun python /home/huang/miniforge3/envs/regvelo-py310/lib/python ...\n",
      "You are using a CUDA device ('NVIDIA A30') that has Tensor Cores. To properly utilize them, you should set `torch.set_float32_matmul_precision('medium' | 'high')` which will trade-off precision for performance. For more details, read https://pytorch.org/docs/stable/generated/torch.set_float32_matmul_precision.html#torch.set_float32_matmul_precision\n",
      "LOCAL_RANK: 0 - CUDA_VISIBLE_DEVICES: [0]\n",
      "/home/huang/miniforge3/envs/regvelo-py310/lib/python3.10/site-packages/lightning/pytorch/trainer/connectors/data_connector.py:425: The 'train_dataloader' does not have many workers which may be a bottleneck. Consider increasing the value of the `num_workers` argument` to `num_workers=127` in the `DataLoader` to improve performance.\n",
      "/home/huang/miniforge3/envs/regvelo-py310/lib/python3.10/site-packages/lightning/pytorch/loops/fit_loop.py:310: The number of training batches (1) is smaller than the logging interval Trainer(log_every_n_steps=10). Set a lower value for log_every_n_steps if you want to see logs for the training epoch.\n",
      "/home/huang/miniforge3/envs/regvelo-py310/lib/python3.10/site-packages/lightning/pytorch/trainer/connectors/data_connector.py:425: The 'val_dataloader' does not have many workers which may be a bottleneck. Consider increasing the value of the `num_workers` argument` to `num_workers=127` in the `DataLoader` to improve performance.\n"
     ]
    },
    {
     "data": {
      "application/vnd.jupyter.widget-view+json": {
       "model_id": "a51554338a7b4ce883320952b97e9e72",
       "version_major": 2,
       "version_minor": 0
      },
      "text/plain": [
       "Training:   0%|          | 0/1500 [00:00<?, ?it/s]"
      ]
     },
     "metadata": {},
     "output_type": "display_data"
    },
    {
     "name": "stderr",
     "output_type": "stream",
     "text": [
      "Seed set to 1\n",
      "/home/huang/miniforge3/envs/regvelo-py310/lib/python3.10/site-packages/lightning/fabric/plugins/environments/slurm.py:204: The `srun` command is available on your system but is not used. HINT: If your intention is to run Lightning on SLURM, prepend your python command with `srun` like so: srun python /home/huang/miniforge3/envs/regvelo-py310/lib/python ...\n",
      "/home/huang/miniforge3/envs/regvelo-py310/lib/python3.10/site-packages/lightning/fabric/plugins/environments/slurm.py:204: The `srun` command is available on your system but is not used. HINT: If your intention is to run Lightning on SLURM, prepend your python command with `srun` like so: srun python /home/huang/miniforge3/envs/regvelo-py310/lib/python ...\n",
      "GPU available: True (cuda), used: True\n",
      "TPU available: False, using: 0 TPU cores\n",
      "HPU available: False, using: 0 HPUs\n",
      "/home/huang/miniforge3/envs/regvelo-py310/lib/python3.10/site-packages/lightning/fabric/plugins/environments/slurm.py:204: The `srun` command is available on your system but is not used. HINT: If your intention is to run Lightning on SLURM, prepend your python command with `srun` like so: srun python /home/huang/miniforge3/envs/regvelo-py310/lib/python ...\n",
      "LOCAL_RANK: 0 - CUDA_VISIBLE_DEVICES: [0]\n"
     ]
    },
    {
     "name": "stdout",
     "output_type": "stream",
     "text": [
      "Monitored metric elbo_validation did not improve in the last 45 records. Best score: -2518.839. Signaling Trainer to stop.\n"
     ]
    },
    {
     "name": "stderr",
     "output_type": "stream",
     "text": [
      "/home/huang/miniforge3/envs/regvelo-py310/lib/python3.10/site-packages/lightning/pytorch/trainer/connectors/data_connector.py:425: The 'train_dataloader' does not have many workers which may be a bottleneck. Consider increasing the value of the `num_workers` argument` to `num_workers=127` in the `DataLoader` to improve performance.\n",
      "/home/huang/miniforge3/envs/regvelo-py310/lib/python3.10/site-packages/lightning/pytorch/loops/fit_loop.py:310: The number of training batches (1) is smaller than the logging interval Trainer(log_every_n_steps=10). Set a lower value for log_every_n_steps if you want to see logs for the training epoch.\n",
      "/home/huang/miniforge3/envs/regvelo-py310/lib/python3.10/site-packages/lightning/pytorch/trainer/connectors/data_connector.py:425: The 'val_dataloader' does not have many workers which may be a bottleneck. Consider increasing the value of the `num_workers` argument` to `num_workers=127` in the `DataLoader` to improve performance.\n"
     ]
    },
    {
     "data": {
      "application/vnd.jupyter.widget-view+json": {
       "model_id": "ba25d28be0d64cf095baaae1876affb1",
       "version_major": 2,
       "version_minor": 0
      },
      "text/plain": [
       "Training:   0%|          | 0/1500 [00:00<?, ?it/s]"
      ]
     },
     "metadata": {},
     "output_type": "display_data"
    },
    {
     "name": "stderr",
     "output_type": "stream",
     "text": [
      "Seed set to 2\n",
      "/home/huang/miniforge3/envs/regvelo-py310/lib/python3.10/site-packages/lightning/fabric/plugins/environments/slurm.py:204: The `srun` command is available on your system but is not used. HINT: If your intention is to run Lightning on SLURM, prepend your python command with `srun` like so: srun python /home/huang/miniforge3/envs/regvelo-py310/lib/python ...\n",
      "/home/huang/miniforge3/envs/regvelo-py310/lib/python3.10/site-packages/lightning/fabric/plugins/environments/slurm.py:204: The `srun` command is available on your system but is not used. HINT: If your intention is to run Lightning on SLURM, prepend your python command with `srun` like so: srun python /home/huang/miniforge3/envs/regvelo-py310/lib/python ...\n",
      "GPU available: True (cuda), used: True\n",
      "TPU available: False, using: 0 TPU cores\n",
      "HPU available: False, using: 0 HPUs\n",
      "/home/huang/miniforge3/envs/regvelo-py310/lib/python3.10/site-packages/lightning/fabric/plugins/environments/slurm.py:204: The `srun` command is available on your system but is not used. HINT: If your intention is to run Lightning on SLURM, prepend your python command with `srun` like so: srun python /home/huang/miniforge3/envs/regvelo-py310/lib/python ...\n",
      "LOCAL_RANK: 0 - CUDA_VISIBLE_DEVICES: [0]\n"
     ]
    },
    {
     "name": "stdout",
     "output_type": "stream",
     "text": [
      "Monitored metric elbo_validation did not improve in the last 45 records. Best score: -2454.206. Signaling Trainer to stop.\n"
     ]
    },
    {
     "name": "stderr",
     "output_type": "stream",
     "text": [
      "/home/huang/miniforge3/envs/regvelo-py310/lib/python3.10/site-packages/lightning/pytorch/trainer/connectors/data_connector.py:425: The 'train_dataloader' does not have many workers which may be a bottleneck. Consider increasing the value of the `num_workers` argument` to `num_workers=127` in the `DataLoader` to improve performance.\n",
      "/home/huang/miniforge3/envs/regvelo-py310/lib/python3.10/site-packages/lightning/pytorch/loops/fit_loop.py:310: The number of training batches (1) is smaller than the logging interval Trainer(log_every_n_steps=10). Set a lower value for log_every_n_steps if you want to see logs for the training epoch.\n",
      "/home/huang/miniforge3/envs/regvelo-py310/lib/python3.10/site-packages/lightning/pytorch/trainer/connectors/data_connector.py:425: The 'val_dataloader' does not have many workers which may be a bottleneck. Consider increasing the value of the `num_workers` argument` to `num_workers=127` in the `DataLoader` to improve performance.\n"
     ]
    },
    {
     "data": {
      "application/vnd.jupyter.widget-view+json": {
       "model_id": "fd95884368ee4e3e94468ee685002284",
       "version_major": 2,
       "version_minor": 0
      },
      "text/plain": [
       "Training:   0%|          | 0/1500 [00:00<?, ?it/s]"
      ]
     },
     "metadata": {},
     "output_type": "display_data"
    },
    {
     "name": "stderr",
     "output_type": "stream",
     "text": [
      "Seed set to 0\n",
      "/home/huang/miniforge3/envs/regvelo-py310/lib/python3.10/site-packages/lightning/fabric/plugins/environments/slurm.py:204: The `srun` command is available on your system but is not used. HINT: If your intention is to run Lightning on SLURM, prepend your python command with `srun` like so: srun python /home/huang/miniforge3/envs/regvelo-py310/lib/python ...\n",
      "/home/huang/miniforge3/envs/regvelo-py310/lib/python3.10/site-packages/lightning/fabric/plugins/environments/slurm.py:204: The `srun` command is available on your system but is not used. HINT: If your intention is to run Lightning on SLURM, prepend your python command with `srun` like so: srun python /home/huang/miniforge3/envs/regvelo-py310/lib/python ...\n",
      "GPU available: True (cuda), used: True\n",
      "TPU available: False, using: 0 TPU cores\n",
      "HPU available: False, using: 0 HPUs\n",
      "/home/huang/miniforge3/envs/regvelo-py310/lib/python3.10/site-packages/lightning/fabric/plugins/environments/slurm.py:204: The `srun` command is available on your system but is not used. HINT: If your intention is to run Lightning on SLURM, prepend your python command with `srun` like so: srun python /home/huang/miniforge3/envs/regvelo-py310/lib/python ...\n",
      "LOCAL_RANK: 0 - CUDA_VISIBLE_DEVICES: [0]\n"
     ]
    },
    {
     "name": "stdout",
     "output_type": "stream",
     "text": [
      "Monitored metric elbo_validation did not improve in the last 45 records. Best score: -2489.106. Signaling Trainer to stop.\n"
     ]
    },
    {
     "name": "stderr",
     "output_type": "stream",
     "text": [
      "/home/huang/miniforge3/envs/regvelo-py310/lib/python3.10/site-packages/lightning/pytorch/trainer/connectors/data_connector.py:425: The 'train_dataloader' does not have many workers which may be a bottleneck. Consider increasing the value of the `num_workers` argument` to `num_workers=127` in the `DataLoader` to improve performance.\n",
      "/home/huang/miniforge3/envs/regvelo-py310/lib/python3.10/site-packages/lightning/pytorch/loops/fit_loop.py:310: The number of training batches (1) is smaller than the logging interval Trainer(log_every_n_steps=10). Set a lower value for log_every_n_steps if you want to see logs for the training epoch.\n",
      "/home/huang/miniforge3/envs/regvelo-py310/lib/python3.10/site-packages/lightning/pytorch/trainer/connectors/data_connector.py:425: The 'val_dataloader' does not have many workers which may be a bottleneck. Consider increasing the value of the `num_workers` argument` to `num_workers=127` in the `DataLoader` to improve performance.\n"
     ]
    },
    {
     "data": {
      "application/vnd.jupyter.widget-view+json": {
       "model_id": "420844a8b6a24a87bb2af816642ec588",
       "version_major": 2,
       "version_minor": 0
      },
      "text/plain": [
       "Training:   0%|          | 0/1500 [00:00<?, ?it/s]"
      ]
     },
     "metadata": {},
     "output_type": "display_data"
    },
    {
     "name": "stderr",
     "output_type": "stream",
     "text": [
      "Seed set to 1\n",
      "/home/huang/miniforge3/envs/regvelo-py310/lib/python3.10/site-packages/lightning/fabric/plugins/environments/slurm.py:204: The `srun` command is available on your system but is not used. HINT: If your intention is to run Lightning on SLURM, prepend your python command with `srun` like so: srun python /home/huang/miniforge3/envs/regvelo-py310/lib/python ...\n",
      "/home/huang/miniforge3/envs/regvelo-py310/lib/python3.10/site-packages/lightning/fabric/plugins/environments/slurm.py:204: The `srun` command is available on your system but is not used. HINT: If your intention is to run Lightning on SLURM, prepend your python command with `srun` like so: srun python /home/huang/miniforge3/envs/regvelo-py310/lib/python ...\n",
      "GPU available: True (cuda), used: True\n",
      "TPU available: False, using: 0 TPU cores\n",
      "HPU available: False, using: 0 HPUs\n",
      "/home/huang/miniforge3/envs/regvelo-py310/lib/python3.10/site-packages/lightning/fabric/plugins/environments/slurm.py:204: The `srun` command is available on your system but is not used. HINT: If your intention is to run Lightning on SLURM, prepend your python command with `srun` like so: srun python /home/huang/miniforge3/envs/regvelo-py310/lib/python ...\n",
      "LOCAL_RANK: 0 - CUDA_VISIBLE_DEVICES: [0]\n"
     ]
    },
    {
     "name": "stdout",
     "output_type": "stream",
     "text": [
      "Monitored metric elbo_validation did not improve in the last 45 records. Best score: -2371.138. Signaling Trainer to stop.\n"
     ]
    },
    {
     "name": "stderr",
     "output_type": "stream",
     "text": [
      "/home/huang/miniforge3/envs/regvelo-py310/lib/python3.10/site-packages/lightning/pytorch/trainer/connectors/data_connector.py:425: The 'train_dataloader' does not have many workers which may be a bottleneck. Consider increasing the value of the `num_workers` argument` to `num_workers=127` in the `DataLoader` to improve performance.\n",
      "/home/huang/miniforge3/envs/regvelo-py310/lib/python3.10/site-packages/lightning/pytorch/loops/fit_loop.py:310: The number of training batches (1) is smaller than the logging interval Trainer(log_every_n_steps=10). Set a lower value for log_every_n_steps if you want to see logs for the training epoch.\n",
      "/home/huang/miniforge3/envs/regvelo-py310/lib/python3.10/site-packages/lightning/pytorch/trainer/connectors/data_connector.py:425: The 'val_dataloader' does not have many workers which may be a bottleneck. Consider increasing the value of the `num_workers` argument` to `num_workers=127` in the `DataLoader` to improve performance.\n"
     ]
    },
    {
     "data": {
      "application/vnd.jupyter.widget-view+json": {
       "model_id": "024abd3a4ac44415a02bd5b0fdcf36dc",
       "version_major": 2,
       "version_minor": 0
      },
      "text/plain": [
       "Training:   0%|          | 0/1500 [00:00<?, ?it/s]"
      ]
     },
     "metadata": {},
     "output_type": "display_data"
    },
    {
     "name": "stderr",
     "output_type": "stream",
     "text": [
      "Seed set to 2\n",
      "/home/huang/miniforge3/envs/regvelo-py310/lib/python3.10/site-packages/lightning/fabric/plugins/environments/slurm.py:204: The `srun` command is available on your system but is not used. HINT: If your intention is to run Lightning on SLURM, prepend your python command with `srun` like so: srun python /home/huang/miniforge3/envs/regvelo-py310/lib/python ...\n",
      "/home/huang/miniforge3/envs/regvelo-py310/lib/python3.10/site-packages/lightning/fabric/plugins/environments/slurm.py:204: The `srun` command is available on your system but is not used. HINT: If your intention is to run Lightning on SLURM, prepend your python command with `srun` like so: srun python /home/huang/miniforge3/envs/regvelo-py310/lib/python ...\n",
      "GPU available: True (cuda), used: True\n",
      "TPU available: False, using: 0 TPU cores\n",
      "HPU available: False, using: 0 HPUs\n",
      "/home/huang/miniforge3/envs/regvelo-py310/lib/python3.10/site-packages/lightning/fabric/plugins/environments/slurm.py:204: The `srun` command is available on your system but is not used. HINT: If your intention is to run Lightning on SLURM, prepend your python command with `srun` like so: srun python /home/huang/miniforge3/envs/regvelo-py310/lib/python ...\n",
      "LOCAL_RANK: 0 - CUDA_VISIBLE_DEVICES: [0]\n"
     ]
    },
    {
     "name": "stdout",
     "output_type": "stream",
     "text": [
      "Monitored metric elbo_validation did not improve in the last 45 records. Best score: -2260.451. Signaling Trainer to stop.\n"
     ]
    },
    {
     "name": "stderr",
     "output_type": "stream",
     "text": [
      "/home/huang/miniforge3/envs/regvelo-py310/lib/python3.10/site-packages/lightning/pytorch/trainer/connectors/data_connector.py:425: The 'train_dataloader' does not have many workers which may be a bottleneck. Consider increasing the value of the `num_workers` argument` to `num_workers=127` in the `DataLoader` to improve performance.\n",
      "/home/huang/miniforge3/envs/regvelo-py310/lib/python3.10/site-packages/lightning/pytorch/loops/fit_loop.py:310: The number of training batches (1) is smaller than the logging interval Trainer(log_every_n_steps=10). Set a lower value for log_every_n_steps if you want to see logs for the training epoch.\n",
      "/home/huang/miniforge3/envs/regvelo-py310/lib/python3.10/site-packages/lightning/pytorch/trainer/connectors/data_connector.py:425: The 'val_dataloader' does not have many workers which may be a bottleneck. Consider increasing the value of the `num_workers` argument` to `num_workers=127` in the `DataLoader` to improve performance.\n"
     ]
    },
    {
     "data": {
      "application/vnd.jupyter.widget-view+json": {
       "model_id": "71e3ab8a86a644fc912f87b77d2d9f4e",
       "version_major": 2,
       "version_minor": 0
      },
      "text/plain": [
       "Training:   0%|          | 0/1500 [00:00<?, ?it/s]"
      ]
     },
     "metadata": {},
     "output_type": "display_data"
    },
    {
     "name": "stderr",
     "output_type": "stream",
     "text": [
      "Seed set to 0\n",
      "/home/huang/miniforge3/envs/regvelo-py310/lib/python3.10/site-packages/lightning/fabric/plugins/environments/slurm.py:204: The `srun` command is available on your system but is not used. HINT: If your intention is to run Lightning on SLURM, prepend your python command with `srun` like so: srun python /home/huang/miniforge3/envs/regvelo-py310/lib/python ...\n",
      "/home/huang/miniforge3/envs/regvelo-py310/lib/python3.10/site-packages/lightning/fabric/plugins/environments/slurm.py:204: The `srun` command is available on your system but is not used. HINT: If your intention is to run Lightning on SLURM, prepend your python command with `srun` like so: srun python /home/huang/miniforge3/envs/regvelo-py310/lib/python ...\n",
      "GPU available: True (cuda), used: True\n",
      "TPU available: False, using: 0 TPU cores\n",
      "HPU available: False, using: 0 HPUs\n",
      "/home/huang/miniforge3/envs/regvelo-py310/lib/python3.10/site-packages/lightning/fabric/plugins/environments/slurm.py:204: The `srun` command is available on your system but is not used. HINT: If your intention is to run Lightning on SLURM, prepend your python command with `srun` like so: srun python /home/huang/miniforge3/envs/regvelo-py310/lib/python ...\n",
      "LOCAL_RANK: 0 - CUDA_VISIBLE_DEVICES: [0]\n"
     ]
    },
    {
     "name": "stdout",
     "output_type": "stream",
     "text": [
      "Monitored metric elbo_validation did not improve in the last 45 records. Best score: -2435.288. Signaling Trainer to stop.\n"
     ]
    },
    {
     "name": "stderr",
     "output_type": "stream",
     "text": [
      "/home/huang/miniforge3/envs/regvelo-py310/lib/python3.10/site-packages/lightning/pytorch/trainer/connectors/data_connector.py:425: The 'train_dataloader' does not have many workers which may be a bottleneck. Consider increasing the value of the `num_workers` argument` to `num_workers=127` in the `DataLoader` to improve performance.\n",
      "/home/huang/miniforge3/envs/regvelo-py310/lib/python3.10/site-packages/lightning/pytorch/loops/fit_loop.py:310: The number of training batches (1) is smaller than the logging interval Trainer(log_every_n_steps=10). Set a lower value for log_every_n_steps if you want to see logs for the training epoch.\n",
      "/home/huang/miniforge3/envs/regvelo-py310/lib/python3.10/site-packages/lightning/pytorch/trainer/connectors/data_connector.py:425: The 'val_dataloader' does not have many workers which may be a bottleneck. Consider increasing the value of the `num_workers` argument` to `num_workers=127` in the `DataLoader` to improve performance.\n"
     ]
    },
    {
     "data": {
      "application/vnd.jupyter.widget-view+json": {
       "model_id": "1b3f949fbe7847178cce727b1702b061",
       "version_major": 2,
       "version_minor": 0
      },
      "text/plain": [
       "Training:   0%|          | 0/1500 [00:00<?, ?it/s]"
      ]
     },
     "metadata": {},
     "output_type": "display_data"
    },
    {
     "name": "stderr",
     "output_type": "stream",
     "text": [
      "/home/huang/miniforge3/envs/regvelo-py310/lib/python3.10/site-packages/lightning/fabric/plugins/environments/slurm.py:204: The `srun` command is available on your system but is not used. HINT: If your intention is to run Lightning on SLURM, prepend your python command with `srun` like so: srun python /home/huang/miniforge3/envs/regvelo-py310/lib/python ...\n",
      "/home/huang/miniforge3/envs/regvelo-py310/lib/python3.10/site-packages/lightning/fabric/plugins/environments/slurm.py:204: The `srun` command is available on your system but is not used. HINT: If your intention is to run Lightning on SLURM, prepend your python command with `srun` like so: srun python /home/huang/miniforge3/envs/regvelo-py310/lib/python ...\n",
      "GPU available: True (cuda), used: True\n",
      "TPU available: False, using: 0 TPU cores\n",
      "HPU available: False, using: 0 HPUs\n",
      "/home/huang/miniforge3/envs/regvelo-py310/lib/python3.10/site-packages/lightning/fabric/plugins/environments/slurm.py:204: The `srun` command is available on your system but is not used. HINT: If your intention is to run Lightning on SLURM, prepend your python command with `srun` like so: srun python /home/huang/miniforge3/envs/regvelo-py310/lib/python ...\n",
      "LOCAL_RANK: 0 - CUDA_VISIBLE_DEVICES: [0]\n"
     ]
    },
    {
     "name": "stdout",
     "output_type": "stream",
     "text": [
      "Monitored metric elbo_validation did not improve in the last 45 records. Best score: -2527.615. Signaling Trainer to stop.\n"
     ]
    },
    {
     "name": "stderr",
     "output_type": "stream",
     "text": [
      "/home/huang/miniforge3/envs/regvelo-py310/lib/python3.10/site-packages/lightning/pytorch/trainer/connectors/data_connector.py:425: The 'train_dataloader' does not have many workers which may be a bottleneck. Consider increasing the value of the `num_workers` argument` to `num_workers=127` in the `DataLoader` to improve performance.\n",
      "/home/huang/miniforge3/envs/regvelo-py310/lib/python3.10/site-packages/lightning/pytorch/loops/fit_loop.py:310: The number of training batches (1) is smaller than the logging interval Trainer(log_every_n_steps=10). Set a lower value for log_every_n_steps if you want to see logs for the training epoch.\n",
      "/home/huang/miniforge3/envs/regvelo-py310/lib/python3.10/site-packages/lightning/pytorch/trainer/connectors/data_connector.py:425: The 'val_dataloader' does not have many workers which may be a bottleneck. Consider increasing the value of the `num_workers` argument` to `num_workers=127` in the `DataLoader` to improve performance.\n"
     ]
    },
    {
     "data": {
      "application/vnd.jupyter.widget-view+json": {
       "model_id": "dd8bb5b6e43d4d4a9303880d32050fa7",
       "version_major": 2,
       "version_minor": 0
      },
      "text/plain": [
       "Training:   0%|          | 0/1500 [00:00<?, ?it/s]"
      ]
     },
     "metadata": {},
     "output_type": "display_data"
    },
    {
     "name": "stderr",
     "output_type": "stream",
     "text": [
      "/home/huang/miniforge3/envs/regvelo-py310/lib/python3.10/site-packages/lightning/fabric/plugins/environments/slurm.py:204: The `srun` command is available on your system but is not used. HINT: If your intention is to run Lightning on SLURM, prepend your python command with `srun` like so: srun python /home/huang/miniforge3/envs/regvelo-py310/lib/python ...\n",
      "/home/huang/miniforge3/envs/regvelo-py310/lib/python3.10/site-packages/lightning/fabric/plugins/environments/slurm.py:204: The `srun` command is available on your system but is not used. HINT: If your intention is to run Lightning on SLURM, prepend your python command with `srun` like so: srun python /home/huang/miniforge3/envs/regvelo-py310/lib/python ...\n",
      "GPU available: True (cuda), used: True\n",
      "TPU available: False, using: 0 TPU cores\n",
      "HPU available: False, using: 0 HPUs\n",
      "/home/huang/miniforge3/envs/regvelo-py310/lib/python3.10/site-packages/lightning/fabric/plugins/environments/slurm.py:204: The `srun` command is available on your system but is not used. HINT: If your intention is to run Lightning on SLURM, prepend your python command with `srun` like so: srun python /home/huang/miniforge3/envs/regvelo-py310/lib/python ...\n",
      "LOCAL_RANK: 0 - CUDA_VISIBLE_DEVICES: [0]\n"
     ]
    },
    {
     "name": "stdout",
     "output_type": "stream",
     "text": [
      "Monitored metric elbo_validation did not improve in the last 45 records. Best score: -2431.752. Signaling Trainer to stop.\n"
     ]
    },
    {
     "name": "stderr",
     "output_type": "stream",
     "text": [
      "/home/huang/miniforge3/envs/regvelo-py310/lib/python3.10/site-packages/lightning/pytorch/trainer/connectors/data_connector.py:425: The 'train_dataloader' does not have many workers which may be a bottleneck. Consider increasing the value of the `num_workers` argument` to `num_workers=127` in the `DataLoader` to improve performance.\n",
      "/home/huang/miniforge3/envs/regvelo-py310/lib/python3.10/site-packages/lightning/pytorch/loops/fit_loop.py:310: The number of training batches (1) is smaller than the logging interval Trainer(log_every_n_steps=10). Set a lower value for log_every_n_steps if you want to see logs for the training epoch.\n",
      "/home/huang/miniforge3/envs/regvelo-py310/lib/python3.10/site-packages/lightning/pytorch/trainer/connectors/data_connector.py:425: The 'val_dataloader' does not have many workers which may be a bottleneck. Consider increasing the value of the `num_workers` argument` to `num_workers=127` in the `DataLoader` to improve performance.\n"
     ]
    },
    {
     "data": {
      "application/vnd.jupyter.widget-view+json": {
       "model_id": "66a4f32258ed4c4489b18ed094d6b139",
       "version_major": 2,
       "version_minor": 0
      },
      "text/plain": [
       "Training:   0%|          | 0/1500 [00:00<?, ?it/s]"
      ]
     },
     "metadata": {},
     "output_type": "display_data"
    },
    {
     "name": "stderr",
     "output_type": "stream",
     "text": [
      "Seed set to 1\n",
      "/home/huang/miniforge3/envs/regvelo-py310/lib/python3.10/site-packages/lightning/fabric/plugins/environments/slurm.py:204: The `srun` command is available on your system but is not used. HINT: If your intention is to run Lightning on SLURM, prepend your python command with `srun` like so: srun python /home/huang/miniforge3/envs/regvelo-py310/lib/python ...\n",
      "/home/huang/miniforge3/envs/regvelo-py310/lib/python3.10/site-packages/lightning/fabric/plugins/environments/slurm.py:204: The `srun` command is available on your system but is not used. HINT: If your intention is to run Lightning on SLURM, prepend your python command with `srun` like so: srun python /home/huang/miniforge3/envs/regvelo-py310/lib/python ...\n",
      "GPU available: True (cuda), used: True\n",
      "TPU available: False, using: 0 TPU cores\n",
      "HPU available: False, using: 0 HPUs\n",
      "/home/huang/miniforge3/envs/regvelo-py310/lib/python3.10/site-packages/lightning/fabric/plugins/environments/slurm.py:204: The `srun` command is available on your system but is not used. HINT: If your intention is to run Lightning on SLURM, prepend your python command with `srun` like so: srun python /home/huang/miniforge3/envs/regvelo-py310/lib/python ...\n",
      "LOCAL_RANK: 0 - CUDA_VISIBLE_DEVICES: [0]\n"
     ]
    },
    {
     "name": "stdout",
     "output_type": "stream",
     "text": [
      "Monitored metric elbo_validation did not improve in the last 45 records. Best score: -2132.919. Signaling Trainer to stop.\n"
     ]
    },
    {
     "name": "stderr",
     "output_type": "stream",
     "text": [
      "/home/huang/miniforge3/envs/regvelo-py310/lib/python3.10/site-packages/lightning/pytorch/trainer/connectors/data_connector.py:425: The 'train_dataloader' does not have many workers which may be a bottleneck. Consider increasing the value of the `num_workers` argument` to `num_workers=127` in the `DataLoader` to improve performance.\n",
      "/home/huang/miniforge3/envs/regvelo-py310/lib/python3.10/site-packages/lightning/pytorch/loops/fit_loop.py:310: The number of training batches (1) is smaller than the logging interval Trainer(log_every_n_steps=10). Set a lower value for log_every_n_steps if you want to see logs for the training epoch.\n",
      "/home/huang/miniforge3/envs/regvelo-py310/lib/python3.10/site-packages/lightning/pytorch/trainer/connectors/data_connector.py:425: The 'val_dataloader' does not have many workers which may be a bottleneck. Consider increasing the value of the `num_workers` argument` to `num_workers=127` in the `DataLoader` to improve performance.\n"
     ]
    },
    {
     "data": {
      "application/vnd.jupyter.widget-view+json": {
       "model_id": "5b8d055a50b342f89a4087d1c2120240",
       "version_major": 2,
       "version_minor": 0
      },
      "text/plain": [
       "Training:   0%|          | 0/1500 [00:00<?, ?it/s]"
      ]
     },
     "metadata": {},
     "output_type": "display_data"
    },
    {
     "name": "stderr",
     "output_type": "stream",
     "text": [
      "/home/huang/miniforge3/envs/regvelo-py310/lib/python3.10/site-packages/lightning/fabric/plugins/environments/slurm.py:204: The `srun` command is available on your system but is not used. HINT: If your intention is to run Lightning on SLURM, prepend your python command with `srun` like so: srun python /home/huang/miniforge3/envs/regvelo-py310/lib/python ...\n",
      "/home/huang/miniforge3/envs/regvelo-py310/lib/python3.10/site-packages/lightning/fabric/plugins/environments/slurm.py:204: The `srun` command is available on your system but is not used. HINT: If your intention is to run Lightning on SLURM, prepend your python command with `srun` like so: srun python /home/huang/miniforge3/envs/regvelo-py310/lib/python ...\n",
      "GPU available: True (cuda), used: True\n",
      "TPU available: False, using: 0 TPU cores\n",
      "HPU available: False, using: 0 HPUs\n",
      "/home/huang/miniforge3/envs/regvelo-py310/lib/python3.10/site-packages/lightning/fabric/plugins/environments/slurm.py:204: The `srun` command is available on your system but is not used. HINT: If your intention is to run Lightning on SLURM, prepend your python command with `srun` like so: srun python /home/huang/miniforge3/envs/regvelo-py310/lib/python ...\n",
      "LOCAL_RANK: 0 - CUDA_VISIBLE_DEVICES: [0]\n"
     ]
    },
    {
     "name": "stdout",
     "output_type": "stream",
     "text": [
      "Monitored metric elbo_validation did not improve in the last 45 records. Best score: -2388.154. Signaling Trainer to stop.\n"
     ]
    },
    {
     "name": "stderr",
     "output_type": "stream",
     "text": [
      "/home/huang/miniforge3/envs/regvelo-py310/lib/python3.10/site-packages/lightning/pytorch/trainer/connectors/data_connector.py:425: The 'train_dataloader' does not have many workers which may be a bottleneck. Consider increasing the value of the `num_workers` argument` to `num_workers=127` in the `DataLoader` to improve performance.\n",
      "/home/huang/miniforge3/envs/regvelo-py310/lib/python3.10/site-packages/lightning/pytorch/loops/fit_loop.py:310: The number of training batches (1) is smaller than the logging interval Trainer(log_every_n_steps=10). Set a lower value for log_every_n_steps if you want to see logs for the training epoch.\n",
      "/home/huang/miniforge3/envs/regvelo-py310/lib/python3.10/site-packages/lightning/pytorch/trainer/connectors/data_connector.py:425: The 'val_dataloader' does not have many workers which may be a bottleneck. Consider increasing the value of the `num_workers` argument` to `num_workers=127` in the `DataLoader` to improve performance.\n"
     ]
    },
    {
     "data": {
      "application/vnd.jupyter.widget-view+json": {
       "model_id": "83c34aa8585747f58ef24923cc513146",
       "version_major": 2,
       "version_minor": 0
      },
      "text/plain": [
       "Training:   0%|          | 0/1500 [00:00<?, ?it/s]"
      ]
     },
     "metadata": {},
     "output_type": "display_data"
    },
    {
     "name": "stderr",
     "output_type": "stream",
     "text": [
      "/home/huang/miniforge3/envs/regvelo-py310/lib/python3.10/site-packages/lightning/fabric/plugins/environments/slurm.py:204: The `srun` command is available on your system but is not used. HINT: If your intention is to run Lightning on SLURM, prepend your python command with `srun` like so: srun python /home/huang/miniforge3/envs/regvelo-py310/lib/python ...\n",
      "/home/huang/miniforge3/envs/regvelo-py310/lib/python3.10/site-packages/lightning/fabric/plugins/environments/slurm.py:204: The `srun` command is available on your system but is not used. HINT: If your intention is to run Lightning on SLURM, prepend your python command with `srun` like so: srun python /home/huang/miniforge3/envs/regvelo-py310/lib/python ...\n",
      "GPU available: True (cuda), used: True\n",
      "TPU available: False, using: 0 TPU cores\n",
      "HPU available: False, using: 0 HPUs\n",
      "/home/huang/miniforge3/envs/regvelo-py310/lib/python3.10/site-packages/lightning/fabric/plugins/environments/slurm.py:204: The `srun` command is available on your system but is not used. HINT: If your intention is to run Lightning on SLURM, prepend your python command with `srun` like so: srun python /home/huang/miniforge3/envs/regvelo-py310/lib/python ...\n",
      "LOCAL_RANK: 0 - CUDA_VISIBLE_DEVICES: [0]\n"
     ]
    },
    {
     "name": "stdout",
     "output_type": "stream",
     "text": [
      "Monitored metric elbo_validation did not improve in the last 45 records. Best score: -2263.319. Signaling Trainer to stop.\n"
     ]
    },
    {
     "name": "stderr",
     "output_type": "stream",
     "text": [
      "/home/huang/miniforge3/envs/regvelo-py310/lib/python3.10/site-packages/lightning/pytorch/trainer/connectors/data_connector.py:425: The 'train_dataloader' does not have many workers which may be a bottleneck. Consider increasing the value of the `num_workers` argument` to `num_workers=127` in the `DataLoader` to improve performance.\n",
      "/home/huang/miniforge3/envs/regvelo-py310/lib/python3.10/site-packages/lightning/pytorch/loops/fit_loop.py:310: The number of training batches (1) is smaller than the logging interval Trainer(log_every_n_steps=10). Set a lower value for log_every_n_steps if you want to see logs for the training epoch.\n",
      "/home/huang/miniforge3/envs/regvelo-py310/lib/python3.10/site-packages/lightning/pytorch/trainer/connectors/data_connector.py:425: The 'val_dataloader' does not have many workers which may be a bottleneck. Consider increasing the value of the `num_workers` argument` to `num_workers=127` in the `DataLoader` to improve performance.\n"
     ]
    },
    {
     "data": {
      "application/vnd.jupyter.widget-view+json": {
       "model_id": "8e62ec73feab4dfabda94783dfd0ca51",
       "version_major": 2,
       "version_minor": 0
      },
      "text/plain": [
       "Training:   0%|          | 0/1500 [00:00<?, ?it/s]"
      ]
     },
     "metadata": {},
     "output_type": "display_data"
    },
    {
     "name": "stderr",
     "output_type": "stream",
     "text": [
      "Seed set to 2\n",
      "/home/huang/miniforge3/envs/regvelo-py310/lib/python3.10/site-packages/lightning/fabric/plugins/environments/slurm.py:204: The `srun` command is available on your system but is not used. HINT: If your intention is to run Lightning on SLURM, prepend your python command with `srun` like so: srun python /home/huang/miniforge3/envs/regvelo-py310/lib/python ...\n",
      "/home/huang/miniforge3/envs/regvelo-py310/lib/python3.10/site-packages/lightning/fabric/plugins/environments/slurm.py:204: The `srun` command is available on your system but is not used. HINT: If your intention is to run Lightning on SLURM, prepend your python command with `srun` like so: srun python /home/huang/miniforge3/envs/regvelo-py310/lib/python ...\n",
      "GPU available: True (cuda), used: True\n",
      "TPU available: False, using: 0 TPU cores\n",
      "HPU available: False, using: 0 HPUs\n",
      "/home/huang/miniforge3/envs/regvelo-py310/lib/python3.10/site-packages/lightning/fabric/plugins/environments/slurm.py:204: The `srun` command is available on your system but is not used. HINT: If your intention is to run Lightning on SLURM, prepend your python command with `srun` like so: srun python /home/huang/miniforge3/envs/regvelo-py310/lib/python ...\n",
      "LOCAL_RANK: 0 - CUDA_VISIBLE_DEVICES: [0]\n"
     ]
    },
    {
     "name": "stdout",
     "output_type": "stream",
     "text": [
      "Monitored metric elbo_validation did not improve in the last 45 records. Best score: -2082.085. Signaling Trainer to stop.\n"
     ]
    },
    {
     "name": "stderr",
     "output_type": "stream",
     "text": [
      "/home/huang/miniforge3/envs/regvelo-py310/lib/python3.10/site-packages/lightning/pytorch/trainer/connectors/data_connector.py:425: The 'train_dataloader' does not have many workers which may be a bottleneck. Consider increasing the value of the `num_workers` argument` to `num_workers=127` in the `DataLoader` to improve performance.\n",
      "/home/huang/miniforge3/envs/regvelo-py310/lib/python3.10/site-packages/lightning/pytorch/loops/fit_loop.py:310: The number of training batches (1) is smaller than the logging interval Trainer(log_every_n_steps=10). Set a lower value for log_every_n_steps if you want to see logs for the training epoch.\n",
      "/home/huang/miniforge3/envs/regvelo-py310/lib/python3.10/site-packages/lightning/pytorch/trainer/connectors/data_connector.py:425: The 'val_dataloader' does not have many workers which may be a bottleneck. Consider increasing the value of the `num_workers` argument` to `num_workers=127` in the `DataLoader` to improve performance.\n"
     ]
    },
    {
     "data": {
      "application/vnd.jupyter.widget-view+json": {
       "model_id": "d5a445a0012340ba80b4a76c91be5fb5",
       "version_major": 2,
       "version_minor": 0
      },
      "text/plain": [
       "Training:   0%|          | 0/1500 [00:00<?, ?it/s]"
      ]
     },
     "metadata": {},
     "output_type": "display_data"
    },
    {
     "name": "stderr",
     "output_type": "stream",
     "text": [
      "/home/huang/miniforge3/envs/regvelo-py310/lib/python3.10/site-packages/lightning/fabric/plugins/environments/slurm.py:204: The `srun` command is available on your system but is not used. HINT: If your intention is to run Lightning on SLURM, prepend your python command with `srun` like so: srun python /home/huang/miniforge3/envs/regvelo-py310/lib/python ...\n",
      "/home/huang/miniforge3/envs/regvelo-py310/lib/python3.10/site-packages/lightning/fabric/plugins/environments/slurm.py:204: The `srun` command is available on your system but is not used. HINT: If your intention is to run Lightning on SLURM, prepend your python command with `srun` like so: srun python /home/huang/miniforge3/envs/regvelo-py310/lib/python ...\n",
      "GPU available: True (cuda), used: True\n",
      "TPU available: False, using: 0 TPU cores\n",
      "HPU available: False, using: 0 HPUs\n",
      "/home/huang/miniforge3/envs/regvelo-py310/lib/python3.10/site-packages/lightning/fabric/plugins/environments/slurm.py:204: The `srun` command is available on your system but is not used. HINT: If your intention is to run Lightning on SLURM, prepend your python command with `srun` like so: srun python /home/huang/miniforge3/envs/regvelo-py310/lib/python ...\n",
      "LOCAL_RANK: 0 - CUDA_VISIBLE_DEVICES: [0]\n"
     ]
    },
    {
     "name": "stdout",
     "output_type": "stream",
     "text": [
      "Monitored metric elbo_validation did not improve in the last 45 records. Best score: -2471.712. Signaling Trainer to stop.\n"
     ]
    },
    {
     "name": "stderr",
     "output_type": "stream",
     "text": [
      "/home/huang/miniforge3/envs/regvelo-py310/lib/python3.10/site-packages/lightning/pytorch/trainer/connectors/data_connector.py:425: The 'train_dataloader' does not have many workers which may be a bottleneck. Consider increasing the value of the `num_workers` argument` to `num_workers=127` in the `DataLoader` to improve performance.\n",
      "/home/huang/miniforge3/envs/regvelo-py310/lib/python3.10/site-packages/lightning/pytorch/loops/fit_loop.py:310: The number of training batches (1) is smaller than the logging interval Trainer(log_every_n_steps=10). Set a lower value for log_every_n_steps if you want to see logs for the training epoch.\n",
      "/home/huang/miniforge3/envs/regvelo-py310/lib/python3.10/site-packages/lightning/pytorch/trainer/connectors/data_connector.py:425: The 'val_dataloader' does not have many workers which may be a bottleneck. Consider increasing the value of the `num_workers` argument` to `num_workers=127` in the `DataLoader` to improve performance.\n"
     ]
    },
    {
     "data": {
      "application/vnd.jupyter.widget-view+json": {
       "model_id": "9510e56f106f4166ae73a8f01f48415c",
       "version_major": 2,
       "version_minor": 0
      },
      "text/plain": [
       "Training:   0%|          | 0/1500 [00:00<?, ?it/s]"
      ]
     },
     "metadata": {},
     "output_type": "display_data"
    },
    {
     "name": "stderr",
     "output_type": "stream",
     "text": [
      "/home/huang/miniforge3/envs/regvelo-py310/lib/python3.10/site-packages/lightning/fabric/plugins/environments/slurm.py:204: The `srun` command is available on your system but is not used. HINT: If your intention is to run Lightning on SLURM, prepend your python command with `srun` like so: srun python /home/huang/miniforge3/envs/regvelo-py310/lib/python ...\n",
      "/home/huang/miniforge3/envs/regvelo-py310/lib/python3.10/site-packages/lightning/fabric/plugins/environments/slurm.py:204: The `srun` command is available on your system but is not used. HINT: If your intention is to run Lightning on SLURM, prepend your python command with `srun` like so: srun python /home/huang/miniforge3/envs/regvelo-py310/lib/python ...\n",
      "GPU available: True (cuda), used: True\n",
      "TPU available: False, using: 0 TPU cores\n",
      "HPU available: False, using: 0 HPUs\n",
      "/home/huang/miniforge3/envs/regvelo-py310/lib/python3.10/site-packages/lightning/fabric/plugins/environments/slurm.py:204: The `srun` command is available on your system but is not used. HINT: If your intention is to run Lightning on SLURM, prepend your python command with `srun` like so: srun python /home/huang/miniforge3/envs/regvelo-py310/lib/python ...\n",
      "LOCAL_RANK: 0 - CUDA_VISIBLE_DEVICES: [0]\n"
     ]
    },
    {
     "name": "stdout",
     "output_type": "stream",
     "text": [
      "Monitored metric elbo_validation did not improve in the last 45 records. Best score: -2485.853. Signaling Trainer to stop.\n"
     ]
    },
    {
     "name": "stderr",
     "output_type": "stream",
     "text": [
      "/home/huang/miniforge3/envs/regvelo-py310/lib/python3.10/site-packages/lightning/pytorch/trainer/connectors/data_connector.py:425: The 'train_dataloader' does not have many workers which may be a bottleneck. Consider increasing the value of the `num_workers` argument` to `num_workers=127` in the `DataLoader` to improve performance.\n",
      "/home/huang/miniforge3/envs/regvelo-py310/lib/python3.10/site-packages/lightning/pytorch/loops/fit_loop.py:310: The number of training batches (1) is smaller than the logging interval Trainer(log_every_n_steps=10). Set a lower value for log_every_n_steps if you want to see logs for the training epoch.\n",
      "/home/huang/miniforge3/envs/regvelo-py310/lib/python3.10/site-packages/lightning/pytorch/trainer/connectors/data_connector.py:425: The 'val_dataloader' does not have many workers which may be a bottleneck. Consider increasing the value of the `num_workers` argument` to `num_workers=127` in the `DataLoader` to improve performance.\n"
     ]
    },
    {
     "data": {
      "application/vnd.jupyter.widget-view+json": {
       "model_id": "df25bf51738d4559970f6d38a9adfd4c",
       "version_major": 2,
       "version_minor": 0
      },
      "text/plain": [
       "Training:   0%|          | 0/1500 [00:00<?, ?it/s]"
      ]
     },
     "metadata": {},
     "output_type": "display_data"
    },
    {
     "name": "stdout",
     "output_type": "stream",
     "text": [
      "Monitored metric elbo_validation did not improve in the last 45 records. Best score: -2333.958. Signaling Trainer to stop.\n"
     ]
    },
    {
     "data": {
      "text/plain": [
       "['soft_0',\n",
       " 'soft_1',\n",
       " 'soft_2',\n",
       " 'hard_0',\n",
       " 'hard_1',\n",
       " 'hard_2',\n",
       " 'soft_regularized\\nlam2:0.3_0',\n",
       " 'soft_regularized\\nlam2:0.5_0',\n",
       " 'soft_regularized\\nlam2:0.8_0',\n",
       " 'soft_regularized\\nlam2:0.3_1',\n",
       " 'soft_regularized\\nlam2:0.5_1',\n",
       " 'soft_regularized\\nlam2:0.8_1',\n",
       " 'soft_regularized\\nlam2:0.3_2',\n",
       " 'soft_regularized\\nlam2:0.5_2',\n",
       " 'soft_regularized\\nlam2:0.8_2']"
      ]
     },
     "execution_count": 5,
     "metadata": {},
     "output_type": "execute_result"
    }
   ],
   "source": [
    "comp.train(adata,\n",
    "           model_list=['soft','hard','soft_regularized'],\n",
    "           lam2=[0.3,0.5,0.8],\n",
    "           n_repeat=3)"
   ]
  },
  {
   "cell_type": "markdown",
   "id": "a74b03f3",
   "metadata": {},
   "source": [
    "### ModelComparison: evaluate and plotting.\n",
    "\n",
    "After training, all models has been reserved in the object, so you don't need to train them again and over again when evaluating. Here, we provide five perspectives to evaluate how good those models are. After evaluating, you can plot results by barplot using plot_results, with the best performed model marked and significance bar marked compared between the best one and the others. Significance bar will only be marked if n_repeat >= 3, and the p-value < 0.05 in comparison."
   ]
  },
  {
   "cell_type": "markdown",
   "id": "59f6fd14",
   "metadata": {},
   "source": [
    "### Real time\n",
    "\n",
    "If you know the real cell type of each cell, and the temporal sequence of each cell type, you can directly use 'Real_Time' mode. Under this mode, 'side_key' must be provided, stored in adata.obs, which must be a series of float number for calculating spearmann correlation with RegVelo latent time."
   ]
  },
  {
   "cell_type": "code",
   "execution_count": 6,
   "id": "f107c9d9",
   "metadata": {},
   "outputs": [
    {
     "data": {
      "image/png": "[encoded data removed]",
      "text/plain": [
       "<Figure size 600x450 with 1 Axes>"
      ]
     },
     "metadata": {},
     "output_type": "display_data"
    }
   ],
   "source": [
    "comp.evaluate(side_information='Real_Time',\n",
    "              side_key='stage_num')\n",
    "comp.plot_results(side_information='Real_Time')"
   ]
  },
  {
   "cell_type": "markdown",
   "id": "6c73a0b3",
   "metadata": {},
   "source": [
    "### Pseudo_Time\n",
    "\n",
    "If you have computed pseudo time as above, you can use 'Pseudo_Time' mode. Under this mode, 'side_key' will be setted as 'dpt_pseudotime' as default. You can provide any other side key stored in adata.obs, which must be a series of float number for calculating spearmmann correlation with RegVelo latent time."
   ]
  },
  {
   "cell_type": "code",
   "execution_count": 7,
   "id": "458fbf76",
   "metadata": {},
   "outputs": [
    {
     "data": {
      "image/png": "[encoded data removed]",
      "text/plain": [
       "<Figure size 600x450 with 1 Axes>"
      ]
     },
     "metadata": {},
     "output_type": "display_data"
    }
   ],
   "source": [
    "comp.evaluate(side_information='Pseudo_Time')\n",
    "comp.plot_results(side_information='Pseudo_Time')"
   ]
  },
  {
   "cell_type": "markdown",
   "id": "fce49869",
   "metadata": {},
   "source": [
    "### Stemness_Score\n",
    "\n",
    "If you have computed stemmness score as above, you can use 'Stemness_Score' mode. Under this mode, 'side_key' will be setted as 'ct_score' as default. You can provide any other side key stored in adata.obs, which must be a series of float number for calculating spearmann correlation with RegVelo latent time. "
   ]
  },
  {
   "cell_type": "code",
   "execution_count": 8,
   "id": "f513fd05",
   "metadata": {},
   "outputs": [
    {
     "data": {
      "image/png": "[encoded data removed]",
      "text/plain": [
       "<Figure size 600x450 with 1 Axes>"
      ]
     },
     "metadata": {},
     "output_type": "display_data"
    }
   ],
   "source": [
    "comp.evaluate(side_information='Stemness_Score')\n",
    "comp.plot_results(side_information='Stemness_Score')"
   ]
  },
  {
   "cell_type": "markdown",
   "id": "a5bae82c",
   "metadata": {},
   "source": [
    "### TSI (Terminal States Identification) score.\n",
    "Introduction of TSI score can be found [here](https://cellrank.readthedocs.io/en/latest/api/_autosummary/estimators/cellrank.estimators.GPCCA.html#tsi). In short, TSI score evaluate whether the prediction of RegVelo model correspond to given terminal states. Under this mode, 'side_key' must be given manually and used to put into cellrank.estimator.GPCCA.tsi(cluster_key = side_key).\n",
    "\n",
    "In order to use this mode, terminal states and n_states are necessary when building ModelComparison object."
   ]
  },
  {
   "cell_type": "code",
   "execution_count": 9,
   "id": "1b1e1001",
   "metadata": {},
   "outputs": [
    {
     "data": {
      "application/vnd.jupyter.widget-view+json": {
       "model_id": "713bd5bccb4d4142a125cd02b7f23111",
       "version_major": 2,
       "version_minor": 0
      },
      "text/plain": [
       "  0%|          | 0/697 [00:00<?, ?cell/s]"
      ]
     },
     "metadata": {},
     "output_type": "display_data"
    },
    {
     "data": {
      "application/vnd.jupyter.widget-view+json": {
       "model_id": "768ee57c841b410698b460b13f5fb754",
       "version_major": 2,
       "version_minor": 0
      },
      "text/plain": [
       "  0%|          | 0/697 [00:00<?, ?cell/s]"
      ]
     },
     "metadata": {},
     "output_type": "display_data"
    },
    {
     "name": "stdout",
     "output_type": "stream",
     "text": [
      "WARNING: Unable to import `petsc4py` or `slepc4py`. Using `method='brandts'`\n",
      "WARNING: For `method='brandts'`, dense matrix is required. Densifying\n",
      "WARNING: Found only one macrostate, making it the singular terminal state\n",
      "WARNING: Requested more macrostates `9` than available Schur vectors `8`. Recomputing the decomposition\n",
      "WARNING: Requested more macrostates `10` than available Schur vectors `9`. Recomputing the decomposition\n",
      "WARNING: Requested more macrostates `11` than available Schur vectors `10`. Recomputing the decomposition\n",
      "WARNING: Found only one macrostate, making it the singular terminal state\n",
      "WARNING: Found only one macrostate, making it the singular terminal state\n",
      "WARNING: Found only one macrostate, making it the singular terminal state\n",
      "WARNING: Found only one macrostate, making it the singular terminal state\n",
      "WARNING: Found only one macrostate, making it the singular terminal state\n",
      "WARNING: Found only one macrostate, making it the singular terminal state\n",
      "WARNING: Found only one macrostate, making it the singular terminal state\n",
      "WARNING: Found only one macrostate, making it the singular terminal state\n",
      "WARNING: Found only one macrostate, making it the singular terminal state\n",
      "WARNING: Found only one macrostate, making it the singular terminal state\n",
      "WARNING: Found only one macrostate, making it the singular terminal state\n",
      "WARNING: Found only one macrostate, making it the singular terminal state\n",
      "WARNING: Found only one macrostate, making it the singular terminal state\n",
      "WARNING: Found only one macrostate, making it the singular terminal state\n",
      "WARNING: Found only one macrostate, making it the singular terminal state\n",
      "WARNING: Found only one macrostate, making it the singular terminal state\n",
      "WARNING: Found only one macrostate, making it the singular terminal state\n",
      "WARNING: Found only one macrostate, making it the singular terminal state\n",
      "WARNING: Found only one macrostate, making it the singular terminal state\n"
     ]
    },
    {
     "data": {
      "application/vnd.jupyter.widget-view+json": {
       "model_id": "61c87b9137044378b9cd084572830595",
       "version_major": 2,
       "version_minor": 0
      },
      "text/plain": [
       "  0%|          | 0/697 [00:00<?, ?cell/s]"
      ]
     },
     "metadata": {},
     "output_type": "display_data"
    },
    {
     "data": {
      "application/vnd.jupyter.widget-view+json": {
       "model_id": "1be0d809c24248b280b4203e6534a8d0",
       "version_major": 2,
       "version_minor": 0
      },
      "text/plain": [
       "  0%|          | 0/697 [00:00<?, ?cell/s]"
      ]
     },
     "metadata": {},
     "output_type": "display_data"
    },
    {
     "name": "stdout",
     "output_type": "stream",
     "text": [
      "WARNING: Unable to import `petsc4py` or `slepc4py`. Using `method='brandts'`\n",
      "WARNING: For `method='brandts'`, dense matrix is required. Densifying\n",
      "WARNING: Found only one macrostate, making it the singular terminal state\n",
      "WARNING: Requested more macrostates `9` than available Schur vectors `8`. Recomputing the decomposition\n",
      "WARNING: Requested more macrostates `10` than available Schur vectors `9`. Recomputing the decomposition\n",
      "WARNING: Requested more macrostates `11` than available Schur vectors `10`. Recomputing the decomposition\n",
      "WARNING: Unable to compute macrostates with `n_states=11` because it will split complex conjugate eigenvalues. Using `n_states=12`\n",
      "WARNING: The following terminal states have different number of cells than requested (30): {'mNC_arch2_1': 22}\n",
      "WARNING: Found only one macrostate, making it the singular terminal state\n",
      "WARNING: Unable to compute macrostates with `n_states=11` because it will split complex conjugate eigenvalues. Using `n_states=12`\n",
      "WARNING: The following terminal states have different number of cells than requested (30): {'mNC_arch2_1': 22}\n",
      "WARNING: Found only one macrostate, making it the singular terminal state\n",
      "WARNING: Unable to compute macrostates with `n_states=11` because it will split complex conjugate eigenvalues. Using `n_states=12`\n",
      "WARNING: The following terminal states have different number of cells than requested (30): {'mNC_arch2_1': 22}\n",
      "WARNING: Found only one macrostate, making it the singular terminal state\n",
      "WARNING: Unable to compute macrostates with `n_states=11` because it will split complex conjugate eigenvalues. Using `n_states=12`\n",
      "WARNING: The following terminal states have different number of cells than requested (30): {'mNC_arch2_1': 22}\n",
      "WARNING: Found only one macrostate, making it the singular terminal state\n",
      "WARNING: Unable to compute macrostates with `n_states=11` because it will split complex conjugate eigenvalues. Using `n_states=12`\n",
      "WARNING: The following terminal states have different number of cells than requested (30): {'mNC_arch2_1': 22}\n",
      "WARNING: Found only one macrostate, making it the singular terminal state\n",
      "WARNING: Unable to compute macrostates with `n_states=11` because it will split complex conjugate eigenvalues. Using `n_states=12`\n",
      "WARNING: The following terminal states have different number of cells than requested (30): {'mNC_arch2_1': 22}\n",
      "WARNING: Found only one macrostate, making it the singular terminal state\n",
      "WARNING: Unable to compute macrostates with `n_states=11` because it will split complex conjugate eigenvalues. Using `n_states=12`\n",
      "WARNING: The following terminal states have different number of cells than requested (30): {'mNC_arch2_1': 22}\n",
      "WARNING: Found only one macrostate, making it the singular terminal state\n",
      "WARNING: Unable to compute macrostates with `n_states=11` because it will split complex conjugate eigenvalues. Using `n_states=12`\n",
      "WARNING: The following terminal states have different number of cells than requested (30): {'mNC_arch2_1': 22}\n",
      "WARNING: Found only one macrostate, making it the singular terminal state\n",
      "WARNING: Unable to compute macrostates with `n_states=11` because it will split complex conjugate eigenvalues. Using `n_states=12`\n",
      "WARNING: The following terminal states have different number of cells than requested (30): {'mNC_arch2_1': 22}\n",
      "WARNING: Found only one macrostate, making it the singular terminal state\n",
      "WARNING: Unable to compute macrostates with `n_states=11` because it will split complex conjugate eigenvalues. Using `n_states=12`\n",
      "WARNING: The following terminal states have different number of cells than requested (30): {'mNC_arch2_1': 22}\n",
      "WARNING: Found only one macrostate, making it the singular terminal state\n",
      "WARNING: Unable to compute macrostates with `n_states=11` because it will split complex conjugate eigenvalues. Using `n_states=12`\n",
      "WARNING: The following terminal states have different number of cells than requested (30): {'mNC_arch2_1': 22}\n",
      "WARNING: Found only one macrostate, making it the singular terminal state\n",
      "WARNING: Unable to compute macrostates with `n_states=11` because it will split complex conjugate eigenvalues. Using `n_states=12`\n",
      "WARNING: The following terminal states have different number of cells than requested (30): {'mNC_arch2_1': 22}\n",
      "WARNING: Found only one macrostate, making it the singular terminal state\n",
      "WARNING: Unable to compute macrostates with `n_states=11` because it will split complex conjugate eigenvalues. Using `n_states=12`\n",
      "WARNING: The following terminal states have different number of cells than requested (30): {'mNC_arch2_1': 22}\n",
      "WARNING: Found only one macrostate, making it the singular terminal state\n",
      "WARNING: Unable to compute macrostates with `n_states=11` because it will split complex conjugate eigenvalues. Using `n_states=12`\n",
      "WARNING: The following terminal states have different number of cells than requested (30): {'mNC_arch2_1': 22}\n",
      "WARNING: Found only one macrostate, making it the singular terminal state\n",
      "WARNING: Unable to compute macrostates with `n_states=11` because it will split complex conjugate eigenvalues. Using `n_states=12`\n",
      "WARNING: The following terminal states have different number of cells than requested (30): {'mNC_arch2_1': 22}\n",
      "WARNING: Found only one macrostate, making it the singular terminal state\n",
      "WARNING: Unable to compute macrostates with `n_states=11` because it will split complex conjugate eigenvalues. Using `n_states=12`\n",
      "WARNING: The following terminal states have different number of cells than requested (30): {'mNC_arch2_1': 22}\n",
      "WARNING: Found only one macrostate, making it the singular terminal state\n",
      "WARNING: Unable to compute macrostates with `n_states=11` because it will split complex conjugate eigenvalues. Using `n_states=12`\n",
      "WARNING: The following terminal states have different number of cells than requested (30): {'mNC_arch2_1': 22}\n",
      "WARNING: Found only one macrostate, making it the singular terminal state\n",
      "WARNING: Unable to compute macrostates with `n_states=11` because it will split complex conjugate eigenvalues. Using `n_states=12`\n",
      "WARNING: The following terminal states have different number of cells than requested (30): {'mNC_arch2_1': 22}\n",
      "WARNING: Found only one macrostate, making it the singular terminal state\n",
      "WARNING: Unable to compute macrostates with `n_states=11` because it will split complex conjugate eigenvalues. Using `n_states=12`\n",
      "WARNING: The following terminal states have different number of cells than requested (30): {'mNC_arch2_1': 22}\n",
      "WARNING: Found only one macrostate, making it the singular terminal state\n",
      "WARNING: Unable to compute macrostates with `n_states=11` because it will split complex conjugate eigenvalues. Using `n_states=12`\n",
      "WARNING: The following terminal states have different number of cells than requested (30): {'mNC_arch2_1': 22}\n"
     ]
    },
    {
     "data": {
      "application/vnd.jupyter.widget-view+json": {
       "model_id": "54d9d4807c724257a52fea7028d31831",
       "version_major": 2,
       "version_minor": 0
      },
      "text/plain": [
       "  0%|          | 0/697 [00:00<?, ?cell/s]"
      ]
     },
     "metadata": {},
     "output_type": "display_data"
    },
    {
     "data": {
      "application/vnd.jupyter.widget-view+json": {
       "model_id": "b8845c69a54242f89bcedb39b4792d93",
       "version_major": 2,
       "version_minor": 0
      },
      "text/plain": [
       "  0%|          | 0/697 [00:00<?, ?cell/s]"
      ]
     },
     "metadata": {},
     "output_type": "display_data"
    },
    {
     "name": "stdout",
     "output_type": "stream",
     "text": [
      "WARNING: Unable to import `petsc4py` or `slepc4py`. Using `method='brandts'`\n",
      "WARNING: For `method='brandts'`, dense matrix is required. Densifying\n",
      "WARNING: Found only one macrostate, making it the singular terminal state\n",
      "WARNING: Requested more macrostates `9` than available Schur vectors `8`. Recomputing the decomposition\n",
      "WARNING: Requested more macrostates `10` than available Schur vectors `9`. Recomputing the decomposition\n",
      "WARNING: Requested more macrostates `11` than available Schur vectors `10`. Recomputing the decomposition\n",
      "WARNING: The following terminal states have different number of cells than requested (30): {'mNC_arch2_1': 29, 'dNC_hoxa2b': 26}\n",
      "WARNING: Found only one macrostate, making it the singular terminal state\n",
      "WARNING: The following terminal states have different number of cells than requested (30): {'mNC_arch2_1': 29, 'dNC_hoxa2b': 26}\n",
      "WARNING: Found only one macrostate, making it the singular terminal state\n",
      "WARNING: The following terminal states have different number of cells than requested (30): {'mNC_arch2_1': 29, 'dNC_hoxa2b': 26}\n",
      "WARNING: Found only one macrostate, making it the singular terminal state\n",
      "WARNING: The following terminal states have different number of cells than requested (30): {'mNC_arch2_1': 29, 'dNC_hoxa2b': 26}\n",
      "WARNING: Found only one macrostate, making it the singular terminal state\n",
      "WARNING: The following terminal states have different number of cells than requested (30): {'mNC_arch2_1': 29, 'dNC_hoxa2b': 26}\n",
      "WARNING: Found only one macrostate, making it the singular terminal state\n",
      "WARNING: The following terminal states have different number of cells than requested (30): {'mNC_arch2_1': 29, 'dNC_hoxa2b': 26}\n",
      "WARNING: Found only one macrostate, making it the singular terminal state\n",
      "WARNING: The following terminal states have different number of cells than requested (30): {'mNC_arch2_1': 29, 'dNC_hoxa2b': 26}\n",
      "WARNING: Found only one macrostate, making it the singular terminal state\n",
      "WARNING: The following terminal states have different number of cells than requested (30): {'mNC_arch2_1': 29, 'dNC_hoxa2b': 26}\n",
      "WARNING: Found only one macrostate, making it the singular terminal state\n",
      "WARNING: The following terminal states have different number of cells than requested (30): {'mNC_arch2_1': 29, 'dNC_hoxa2b': 26}\n",
      "WARNING: Found only one macrostate, making it the singular terminal state\n",
      "WARNING: The following terminal states have different number of cells than requested (30): {'mNC_arch2_1': 29, 'dNC_hoxa2b': 26}\n",
      "WARNING: Found only one macrostate, making it the singular terminal state\n",
      "WARNING: The following terminal states have different number of cells than requested (30): {'mNC_arch2_1': 29, 'dNC_hoxa2b': 26}\n",
      "WARNING: Found only one macrostate, making it the singular terminal state\n",
      "WARNING: The following terminal states have different number of cells than requested (30): {'mNC_arch2_1': 29, 'dNC_hoxa2b': 26}\n",
      "WARNING: Found only one macrostate, making it the singular terminal state\n",
      "WARNING: The following terminal states have different number of cells than requested (30): {'mNC_arch2_1': 29, 'dNC_hoxa2b': 26}\n",
      "WARNING: Found only one macrostate, making it the singular terminal state\n",
      "WARNING: The following terminal states have different number of cells than requested (30): {'mNC_arch2_1': 29, 'dNC_hoxa2b': 26}\n",
      "WARNING: Found only one macrostate, making it the singular terminal state\n",
      "WARNING: The following terminal states have different number of cells than requested (30): {'mNC_arch2_1': 29, 'dNC_hoxa2b': 26}\n",
      "WARNING: Found only one macrostate, making it the singular terminal state\n",
      "WARNING: The following terminal states have different number of cells than requested (30): {'mNC_arch2_1': 29, 'dNC_hoxa2b': 26}\n",
      "WARNING: Found only one macrostate, making it the singular terminal state\n",
      "WARNING: The following terminal states have different number of cells than requested (30): {'mNC_arch2_1': 29, 'dNC_hoxa2b': 26}\n",
      "WARNING: Found only one macrostate, making it the singular terminal state\n",
      "WARNING: The following terminal states have different number of cells than requested (30): {'mNC_arch2_1': 29, 'dNC_hoxa2b': 26}\n",
      "WARNING: Found only one macrostate, making it the singular terminal state\n",
      "WARNING: The following terminal states have different number of cells than requested (30): {'mNC_arch2_1': 29, 'dNC_hoxa2b': 26}\n",
      "WARNING: Found only one macrostate, making it the singular terminal state\n",
      "WARNING: The following terminal states have different number of cells than requested (30): {'mNC_arch2_1': 29, 'dNC_hoxa2b': 26}\n"
     ]
    },
    {
     "data": {
      "application/vnd.jupyter.widget-view+json": {
       "model_id": "5dd1583cbb7642dcac1119c26e178504",
       "version_major": 2,
       "version_minor": 0
      },
      "text/plain": [
       "  0%|          | 0/697 [00:00<?, ?cell/s]"
      ]
     },
     "metadata": {},
     "output_type": "display_data"
    },
    {
     "data": {
      "application/vnd.jupyter.widget-view+json": {
       "model_id": "2f976e571ab54fd3ab7227866871feea",
       "version_major": 2,
       "version_minor": 0
      },
      "text/plain": [
       "  0%|          | 0/697 [00:00<?, ?cell/s]"
      ]
     },
     "metadata": {},
     "output_type": "display_data"
    },
    {
     "name": "stdout",
     "output_type": "stream",
     "text": [
      "WARNING: Unable to import `petsc4py` or `slepc4py`. Using `method='brandts'`\n",
      "WARNING: For `method='brandts'`, dense matrix is required. Densifying\n",
      "WARNING: Found only one macrostate, making it the singular terminal state\n",
      "WARNING: Requested more macrostates `9` than available Schur vectors `8`. Recomputing the decomposition\n",
      "WARNING: Requested more macrostates `10` than available Schur vectors `9`. Recomputing the decomposition\n",
      "WARNING: Requested more macrostates `11` than available Schur vectors `10`. Recomputing the decomposition\n",
      "WARNING: The following terminal states have different number of cells than requested (30): {'mNC_arch2_1': 24}\n",
      "WARNING: Found only one macrostate, making it the singular terminal state\n",
      "WARNING: The following terminal states have different number of cells than requested (30): {'mNC_arch2_1': 24}\n",
      "WARNING: Found only one macrostate, making it the singular terminal state\n",
      "WARNING: The following terminal states have different number of cells than requested (30): {'mNC_arch2_1': 24}\n",
      "WARNING: Found only one macrostate, making it the singular terminal state\n",
      "WARNING: The following terminal states have different number of cells than requested (30): {'mNC_arch2_1': 24}\n",
      "WARNING: Found only one macrostate, making it the singular terminal state\n",
      "WARNING: The following terminal states have different number of cells than requested (30): {'mNC_arch2_1': 24}\n",
      "WARNING: Found only one macrostate, making it the singular terminal state\n",
      "WARNING: The following terminal states have different number of cells than requested (30): {'mNC_arch2_1': 24}\n",
      "WARNING: Found only one macrostate, making it the singular terminal state\n",
      "WARNING: The following terminal states have different number of cells than requested (30): {'mNC_arch2_1': 24}\n",
      "WARNING: Found only one macrostate, making it the singular terminal state\n",
      "WARNING: The following terminal states have different number of cells than requested (30): {'mNC_arch2_1': 24}\n",
      "WARNING: Found only one macrostate, making it the singular terminal state\n",
      "WARNING: The following terminal states have different number of cells than requested (30): {'mNC_arch2_1': 24}\n",
      "WARNING: Found only one macrostate, making it the singular terminal state\n",
      "WARNING: The following terminal states have different number of cells than requested (30): {'mNC_arch2_1': 24}\n",
      "WARNING: Found only one macrostate, making it the singular terminal state\n",
      "WARNING: The following terminal states have different number of cells than requested (30): {'mNC_arch2_1': 24}\n",
      "WARNING: Found only one macrostate, making it the singular terminal state\n",
      "WARNING: The following terminal states have different number of cells than requested (30): {'mNC_arch2_1': 24}\n",
      "WARNING: Found only one macrostate, making it the singular terminal state\n",
      "WARNING: The following terminal states have different number of cells than requested (30): {'mNC_arch2_1': 24}\n",
      "WARNING: Found only one macrostate, making it the singular terminal state\n",
      "WARNING: The following terminal states have different number of cells than requested (30): {'mNC_arch2_1': 24}\n",
      "WARNING: Found only one macrostate, making it the singular terminal state\n",
      "WARNING: The following terminal states have different number of cells than requested (30): {'mNC_arch2_1': 24}\n",
      "WARNING: Found only one macrostate, making it the singular terminal state\n",
      "WARNING: The following terminal states have different number of cells than requested (30): {'mNC_arch2_1': 24}\n",
      "WARNING: Found only one macrostate, making it the singular terminal state\n",
      "WARNING: The following terminal states have different number of cells than requested (30): {'mNC_arch2_1': 24}\n",
      "WARNING: Found only one macrostate, making it the singular terminal state\n",
      "WARNING: The following terminal states have different number of cells than requested (30): {'mNC_arch2_1': 24}\n",
      "WARNING: Found only one macrostate, making it the singular terminal state\n",
      "WARNING: The following terminal states have different number of cells than requested (30): {'mNC_arch2_1': 24}\n",
      "WARNING: Found only one macrostate, making it the singular terminal state\n",
      "WARNING: The following terminal states have different number of cells than requested (30): {'mNC_arch2_1': 24}\n"
     ]
    },
    {
     "data": {
      "application/vnd.jupyter.widget-view+json": {
       "model_id": "c805bb3da37047e48acc52b2cba8cd3e",
       "version_major": 2,
       "version_minor": 0
      },
      "text/plain": [
       "  0%|          | 0/697 [00:00<?, ?cell/s]"
      ]
     },
     "metadata": {},
     "output_type": "display_data"
    },
    {
     "data": {
      "application/vnd.jupyter.widget-view+json": {
       "model_id": "d05c6458e55b4918ae0d1e9e70cf75f4",
       "version_major": 2,
       "version_minor": 0
      },
      "text/plain": [
       "  0%|          | 0/697 [00:00<?, ?cell/s]"
      ]
     },
     "metadata": {},
     "output_type": "display_data"
    },
    {
     "name": "stdout",
     "output_type": "stream",
     "text": [
      "WARNING: Unable to import `petsc4py` or `slepc4py`. Using `method='brandts'`\n",
      "WARNING: For `method='brandts'`, dense matrix is required. Densifying\n",
      "WARNING: Found only one macrostate, making it the singular terminal state\n",
      "WARNING: Requested more macrostates `9` than available Schur vectors `8`. Recomputing the decomposition\n",
      "WARNING: Requested more macrostates `10` than available Schur vectors `9`. Recomputing the decomposition\n",
      "WARNING: The following terminal states have different number of cells than requested (30): {'dNC_hoxa2b': 29}\n",
      "WARNING: Requested more macrostates `11` than available Schur vectors `10`. Recomputing the decomposition\n",
      "WARNING: The following terminal states have different number of cells than requested (30): {'mNC_arch2_1': 21}\n",
      "WARNING: Found only one macrostate, making it the singular terminal state\n",
      "WARNING: The following terminal states have different number of cells than requested (30): {'dNC_hoxa2b': 29}\n",
      "WARNING: The following terminal states have different number of cells than requested (30): {'mNC_arch2_1': 21}\n",
      "WARNING: Found only one macrostate, making it the singular terminal state\n",
      "WARNING: The following terminal states have different number of cells than requested (30): {'dNC_hoxa2b': 29}\n",
      "WARNING: The following terminal states have different number of cells than requested (30): {'mNC_arch2_1': 21}\n",
      "WARNING: Found only one macrostate, making it the singular terminal state\n",
      "WARNING: The following terminal states have different number of cells than requested (30): {'dNC_hoxa2b': 29}\n",
      "WARNING: The following terminal states have different number of cells than requested (30): {'mNC_arch2_1': 21}\n",
      "WARNING: Found only one macrostate, making it the singular terminal state\n",
      "WARNING: The following terminal states have different number of cells than requested (30): {'dNC_hoxa2b': 29}\n",
      "WARNING: The following terminal states have different number of cells than requested (30): {'mNC_arch2_1': 21}\n",
      "WARNING: Found only one macrostate, making it the singular terminal state\n",
      "WARNING: The following terminal states have different number of cells than requested (30): {'dNC_hoxa2b': 29}\n",
      "WARNING: The following terminal states have different number of cells than requested (30): {'mNC_arch2_1': 21}\n",
      "WARNING: Found only one macrostate, making it the singular terminal state\n",
      "WARNING: The following terminal states have different number of cells than requested (30): {'dNC_hoxa2b': 29}\n",
      "WARNING: The following terminal states have different number of cells than requested (30): {'mNC_arch2_1': 21}\n",
      "WARNING: Found only one macrostate, making it the singular terminal state\n",
      "WARNING: The following terminal states have different number of cells than requested (30): {'dNC_hoxa2b': 29}\n",
      "WARNING: The following terminal states have different number of cells than requested (30): {'mNC_arch2_1': 21}\n",
      "WARNING: Found only one macrostate, making it the singular terminal state\n",
      "WARNING: The following terminal states have different number of cells than requested (30): {'dNC_hoxa2b': 29}\n",
      "WARNING: The following terminal states have different number of cells than requested (30): {'mNC_arch2_1': 21}\n",
      "WARNING: Found only one macrostate, making it the singular terminal state\n",
      "WARNING: The following terminal states have different number of cells than requested (30): {'dNC_hoxa2b': 29}\n",
      "WARNING: The following terminal states have different number of cells than requested (30): {'mNC_arch2_1': 21}\n",
      "WARNING: Found only one macrostate, making it the singular terminal state\n",
      "WARNING: The following terminal states have different number of cells than requested (30): {'dNC_hoxa2b': 29}\n",
      "WARNING: The following terminal states have different number of cells than requested (30): {'mNC_arch2_1': 21}\n",
      "WARNING: Found only one macrostate, making it the singular terminal state\n",
      "WARNING: The following terminal states have different number of cells than requested (30): {'dNC_hoxa2b': 29}\n",
      "WARNING: The following terminal states have different number of cells than requested (30): {'mNC_arch2_1': 21}\n",
      "WARNING: Found only one macrostate, making it the singular terminal state\n",
      "WARNING: The following terminal states have different number of cells than requested (30): {'dNC_hoxa2b': 29}\n",
      "WARNING: The following terminal states have different number of cells than requested (30): {'mNC_arch2_1': 21}\n",
      "WARNING: Found only one macrostate, making it the singular terminal state\n",
      "WARNING: The following terminal states have different number of cells than requested (30): {'dNC_hoxa2b': 29}\n",
      "WARNING: The following terminal states have different number of cells than requested (30): {'mNC_arch2_1': 21}\n",
      "WARNING: Found only one macrostate, making it the singular terminal state\n",
      "WARNING: The following terminal states have different number of cells than requested (30): {'dNC_hoxa2b': 29}\n",
      "WARNING: The following terminal states have different number of cells than requested (30): {'mNC_arch2_1': 21}\n",
      "WARNING: Found only one macrostate, making it the singular terminal state\n",
      "WARNING: The following terminal states have different number of cells than requested (30): {'dNC_hoxa2b': 29}\n",
      "WARNING: The following terminal states have different number of cells than requested (30): {'mNC_arch2_1': 21}\n",
      "WARNING: Found only one macrostate, making it the singular terminal state\n",
      "WARNING: The following terminal states have different number of cells than requested (30): {'dNC_hoxa2b': 29}\n",
      "WARNING: The following terminal states have different number of cells than requested (30): {'mNC_arch2_1': 21}\n",
      "WARNING: Found only one macrostate, making it the singular terminal state\n",
      "WARNING: The following terminal states have different number of cells than requested (30): {'dNC_hoxa2b': 29}\n",
      "WARNING: The following terminal states have different number of cells than requested (30): {'mNC_arch2_1': 21}\n",
      "WARNING: Found only one macrostate, making it the singular terminal state\n",
      "WARNING: The following terminal states have different number of cells than requested (30): {'dNC_hoxa2b': 29}\n",
      "WARNING: The following terminal states have different number of cells than requested (30): {'mNC_arch2_1': 21}\n",
      "WARNING: Found only one macrostate, making it the singular terminal state\n",
      "WARNING: The following terminal states have different number of cells than requested (30): {'dNC_hoxa2b': 29}\n",
      "WARNING: The following terminal states have different number of cells than requested (30): {'mNC_arch2_1': 21}\n"
     ]
    },
    {
     "data": {
      "application/vnd.jupyter.widget-view+json": {
       "model_id": "2311baef787949ab8dc25e46354193cc",
       "version_major": 2,
       "version_minor": 0
      },
      "text/plain": [
       "  0%|          | 0/697 [00:00<?, ?cell/s]"
      ]
     },
     "metadata": {},
     "output_type": "display_data"
    },
    {
     "data": {
      "application/vnd.jupyter.widget-view+json": {
       "model_id": "b6fd4c79b78449eab6ce95855db9efc6",
       "version_major": 2,
       "version_minor": 0
      },
      "text/plain": [
       "  0%|          | 0/697 [00:00<?, ?cell/s]"
      ]
     },
     "metadata": {},
     "output_type": "display_data"
    },
    {
     "name": "stdout",
     "output_type": "stream",
     "text": [
      "WARNING: Unable to import `petsc4py` or `slepc4py`. Using `method='brandts'`\n",
      "WARNING: For `method='brandts'`, dense matrix is required. Densifying\n",
      "WARNING: Found only one macrostate, making it the singular terminal state\n",
      "WARNING: Requested more macrostates `9` than available Schur vectors `8`. Recomputing the decomposition\n",
      "WARNING: The following terminal states have different number of cells than requested (30): {'mNC_arch2_1': 29}\n",
      "WARNING: Requested more macrostates `10` than available Schur vectors `9`. Recomputing the decomposition\n",
      "WARNING: Requested more macrostates `11` than available Schur vectors `10`. Recomputing the decomposition\n",
      "WARNING: The following terminal states have different number of cells than requested (30): {'dNC_hoxa2b_1': 29, 'dNC_hoxa2b_2': 13}\n",
      "WARNING: Found only one macrostate, making it the singular terminal state\n",
      "WARNING: The following terminal states have different number of cells than requested (30): {'mNC_arch2_1': 29}\n",
      "WARNING: The following terminal states have different number of cells than requested (30): {'dNC_hoxa2b_1': 29, 'dNC_hoxa2b_2': 13}\n",
      "WARNING: Found only one macrostate, making it the singular terminal state\n",
      "WARNING: The following terminal states have different number of cells than requested (30): {'mNC_arch2_1': 29}\n",
      "WARNING: The following terminal states have different number of cells than requested (30): {'dNC_hoxa2b_1': 29, 'dNC_hoxa2b_2': 13}\n",
      "WARNING: Found only one macrostate, making it the singular terminal state\n",
      "WARNING: The following terminal states have different number of cells than requested (30): {'mNC_arch2_1': 29}\n",
      "WARNING: The following terminal states have different number of cells than requested (30): {'dNC_hoxa2b_1': 29, 'dNC_hoxa2b_2': 13}\n",
      "WARNING: Found only one macrostate, making it the singular terminal state\n",
      "WARNING: The following terminal states have different number of cells than requested (30): {'mNC_arch2_1': 29}\n",
      "WARNING: The following terminal states have different number of cells than requested (30): {'dNC_hoxa2b_1': 29, 'dNC_hoxa2b_2': 13}\n",
      "WARNING: Found only one macrostate, making it the singular terminal state\n",
      "WARNING: The following terminal states have different number of cells than requested (30): {'mNC_arch2_1': 29}\n",
      "WARNING: The following terminal states have different number of cells than requested (30): {'dNC_hoxa2b_1': 29, 'dNC_hoxa2b_2': 13}\n",
      "WARNING: Found only one macrostate, making it the singular terminal state\n",
      "WARNING: The following terminal states have different number of cells than requested (30): {'mNC_arch2_1': 29}\n",
      "WARNING: The following terminal states have different number of cells than requested (30): {'dNC_hoxa2b_1': 29, 'dNC_hoxa2b_2': 13}\n",
      "WARNING: Found only one macrostate, making it the singular terminal state\n",
      "WARNING: The following terminal states have different number of cells than requested (30): {'mNC_arch2_1': 29}\n",
      "WARNING: The following terminal states have different number of cells than requested (30): {'dNC_hoxa2b_1': 29, 'dNC_hoxa2b_2': 13}\n",
      "WARNING: Found only one macrostate, making it the singular terminal state\n",
      "WARNING: The following terminal states have different number of cells than requested (30): {'mNC_arch2_1': 29}\n",
      "WARNING: The following terminal states have different number of cells than requested (30): {'dNC_hoxa2b_1': 29, 'dNC_hoxa2b_2': 13}\n",
      "WARNING: Found only one macrostate, making it the singular terminal state\n",
      "WARNING: The following terminal states have different number of cells than requested (30): {'mNC_arch2_1': 29}\n",
      "WARNING: The following terminal states have different number of cells than requested (30): {'dNC_hoxa2b_1': 29, 'dNC_hoxa2b_2': 13}\n",
      "WARNING: Found only one macrostate, making it the singular terminal state\n",
      "WARNING: The following terminal states have different number of cells than requested (30): {'mNC_arch2_1': 29}\n",
      "WARNING: The following terminal states have different number of cells than requested (30): {'dNC_hoxa2b_1': 29, 'dNC_hoxa2b_2': 13}\n",
      "WARNING: Found only one macrostate, making it the singular terminal state\n",
      "WARNING: The following terminal states have different number of cells than requested (30): {'mNC_arch2_1': 29}\n",
      "WARNING: The following terminal states have different number of cells than requested (30): {'dNC_hoxa2b_1': 29, 'dNC_hoxa2b_2': 13}\n",
      "WARNING: Found only one macrostate, making it the singular terminal state\n",
      "WARNING: The following terminal states have different number of cells than requested (30): {'mNC_arch2_1': 29}\n",
      "WARNING: The following terminal states have different number of cells than requested (30): {'dNC_hoxa2b_1': 29, 'dNC_hoxa2b_2': 13}\n",
      "WARNING: Found only one macrostate, making it the singular terminal state\n",
      "WARNING: The following terminal states have different number of cells than requested (30): {'mNC_arch2_1': 29}\n",
      "WARNING: The following terminal states have different number of cells than requested (30): {'dNC_hoxa2b_1': 29, 'dNC_hoxa2b_2': 13}\n",
      "WARNING: Found only one macrostate, making it the singular terminal state\n",
      "WARNING: The following terminal states have different number of cells than requested (30): {'mNC_arch2_1': 29}\n",
      "WARNING: The following terminal states have different number of cells than requested (30): {'dNC_hoxa2b_1': 29, 'dNC_hoxa2b_2': 13}\n",
      "WARNING: Found only one macrostate, making it the singular terminal state\n",
      "WARNING: The following terminal states have different number of cells than requested (30): {'mNC_arch2_1': 29}\n",
      "WARNING: The following terminal states have different number of cells than requested (30): {'dNC_hoxa2b_1': 29, 'dNC_hoxa2b_2': 13}\n",
      "WARNING: Found only one macrostate, making it the singular terminal state\n",
      "WARNING: The following terminal states have different number of cells than requested (30): {'mNC_arch2_1': 29}\n",
      "WARNING: The following terminal states have different number of cells than requested (30): {'dNC_hoxa2b_1': 29, 'dNC_hoxa2b_2': 13}\n",
      "WARNING: Found only one macrostate, making it the singular terminal state\n",
      "WARNING: The following terminal states have different number of cells than requested (30): {'mNC_arch2_1': 29}\n",
      "WARNING: The following terminal states have different number of cells than requested (30): {'dNC_hoxa2b_1': 29, 'dNC_hoxa2b_2': 13}\n",
      "WARNING: Found only one macrostate, making it the singular terminal state\n",
      "WARNING: The following terminal states have different number of cells than requested (30): {'mNC_arch2_1': 29}\n",
      "WARNING: The following terminal states have different number of cells than requested (30): {'dNC_hoxa2b_1': 29, 'dNC_hoxa2b_2': 13}\n",
      "WARNING: Found only one macrostate, making it the singular terminal state\n",
      "WARNING: The following terminal states have different number of cells than requested (30): {'mNC_arch2_1': 29}\n",
      "WARNING: The following terminal states have different number of cells than requested (30): {'dNC_hoxa2b_1': 29, 'dNC_hoxa2b_2': 13}\n"
     ]
    },
    {
     "data": {
      "application/vnd.jupyter.widget-view+json": {
       "model_id": "e274965c834546c19d707df18cb2fcb9",
       "version_major": 2,
       "version_minor": 0
      },
      "text/plain": [
       "  0%|          | 0/697 [00:00<?, ?cell/s]"
      ]
     },
     "metadata": {},
     "output_type": "display_data"
    },
    {
     "data": {
      "application/vnd.jupyter.widget-view+json": {
       "model_id": "8b59b553f01347518ac5ba6ec45a8606",
       "version_major": 2,
       "version_minor": 0
      },
      "text/plain": [
       "  0%|          | 0/697 [00:00<?, ?cell/s]"
      ]
     },
     "metadata": {},
     "output_type": "display_data"
    },
    {
     "name": "stdout",
     "output_type": "stream",
     "text": [
      "WARNING: Unable to import `petsc4py` or `slepc4py`. Using `method='brandts'`\n",
      "WARNING: For `method='brandts'`, dense matrix is required. Densifying\n",
      "WARNING: Found only one macrostate, making it the singular terminal state\n",
      "WARNING: Requested more macrostates `9` than available Schur vectors `8`. Recomputing the decomposition\n",
      "WARNING: Requested more macrostates `10` than available Schur vectors `9`. Recomputing the decomposition\n",
      "WARNING: Unable to compute macrostates with `n_states=10` because it will split complex conjugate eigenvalues. Using `n_states=11`\n",
      "WARNING: The following terminal states have different number of cells than requested (30): {'mNC_arch2_1': 27}\n",
      "WARNING: The following terminal states have different number of cells than requested (30): {'mNC_arch2_1': 27}\n",
      "WARNING: Found only one macrostate, making it the singular terminal state\n",
      "WARNING: Unable to compute macrostates with `n_states=10` because it will split complex conjugate eigenvalues. Using `n_states=11`\n",
      "WARNING: The following terminal states have different number of cells than requested (30): {'mNC_arch2_1': 27}\n",
      "WARNING: The following terminal states have different number of cells than requested (30): {'mNC_arch2_1': 27}\n",
      "WARNING: Found only one macrostate, making it the singular terminal state\n",
      "WARNING: Unable to compute macrostates with `n_states=10` because it will split complex conjugate eigenvalues. Using `n_states=11`\n",
      "WARNING: The following terminal states have different number of cells than requested (30): {'mNC_arch2_1': 27}\n",
      "WARNING: The following terminal states have different number of cells than requested (30): {'mNC_arch2_1': 27}\n",
      "WARNING: Found only one macrostate, making it the singular terminal state\n",
      "WARNING: Unable to compute macrostates with `n_states=10` because it will split complex conjugate eigenvalues. Using `n_states=11`\n",
      "WARNING: The following terminal states have different number of cells than requested (30): {'mNC_arch2_1': 27}\n",
      "WARNING: The following terminal states have different number of cells than requested (30): {'mNC_arch2_1': 27}\n",
      "WARNING: Found only one macrostate, making it the singular terminal state\n",
      "WARNING: Unable to compute macrostates with `n_states=10` because it will split complex conjugate eigenvalues. Using `n_states=11`\n",
      "WARNING: The following terminal states have different number of cells than requested (30): {'mNC_arch2_1': 27}\n",
      "WARNING: The following terminal states have different number of cells than requested (30): {'mNC_arch2_1': 27}\n",
      "WARNING: Found only one macrostate, making it the singular terminal state\n",
      "WARNING: Unable to compute macrostates with `n_states=10` because it will split complex conjugate eigenvalues. Using `n_states=11`\n",
      "WARNING: The following terminal states have different number of cells than requested (30): {'mNC_arch2_1': 27}\n",
      "WARNING: The following terminal states have different number of cells than requested (30): {'mNC_arch2_1': 27}\n",
      "WARNING: Found only one macrostate, making it the singular terminal state\n",
      "WARNING: Unable to compute macrostates with `n_states=10` because it will split complex conjugate eigenvalues. Using `n_states=11`\n",
      "WARNING: The following terminal states have different number of cells than requested (30): {'mNC_arch2_1': 27}\n",
      "WARNING: The following terminal states have different number of cells than requested (30): {'mNC_arch2_1': 27}\n",
      "WARNING: Found only one macrostate, making it the singular terminal state\n",
      "WARNING: Unable to compute macrostates with `n_states=10` because it will split complex conjugate eigenvalues. Using `n_states=11`\n",
      "WARNING: The following terminal states have different number of cells than requested (30): {'mNC_arch2_1': 27}\n",
      "WARNING: The following terminal states have different number of cells than requested (30): {'mNC_arch2_1': 27}\n",
      "WARNING: Found only one macrostate, making it the singular terminal state\n",
      "WARNING: Unable to compute macrostates with `n_states=10` because it will split complex conjugate eigenvalues. Using `n_states=11`\n",
      "WARNING: The following terminal states have different number of cells than requested (30): {'mNC_arch2_1': 27}\n",
      "WARNING: The following terminal states have different number of cells than requested (30): {'mNC_arch2_1': 27}\n",
      "WARNING: Found only one macrostate, making it the singular terminal state\n",
      "WARNING: Unable to compute macrostates with `n_states=10` because it will split complex conjugate eigenvalues. Using `n_states=11`\n",
      "WARNING: The following terminal states have different number of cells than requested (30): {'mNC_arch2_1': 27}\n",
      "WARNING: The following terminal states have different number of cells than requested (30): {'mNC_arch2_1': 27}\n",
      "WARNING: Found only one macrostate, making it the singular terminal state\n",
      "WARNING: Unable to compute macrostates with `n_states=10` because it will split complex conjugate eigenvalues. Using `n_states=11`\n",
      "WARNING: The following terminal states have different number of cells than requested (30): {'mNC_arch2_1': 27}\n",
      "WARNING: The following terminal states have different number of cells than requested (30): {'mNC_arch2_1': 27}\n",
      "WARNING: Found only one macrostate, making it the singular terminal state\n",
      "WARNING: Unable to compute macrostates with `n_states=10` because it will split complex conjugate eigenvalues. Using `n_states=11`\n",
      "WARNING: The following terminal states have different number of cells than requested (30): {'mNC_arch2_1': 27}\n",
      "WARNING: The following terminal states have different number of cells than requested (30): {'mNC_arch2_1': 27}\n",
      "WARNING: Found only one macrostate, making it the singular terminal state\n",
      "WARNING: Unable to compute macrostates with `n_states=10` because it will split complex conjugate eigenvalues. Using `n_states=11`\n",
      "WARNING: The following terminal states have different number of cells than requested (30): {'mNC_arch2_1': 27}\n",
      "WARNING: The following terminal states have different number of cells than requested (30): {'mNC_arch2_1': 27}\n",
      "WARNING: Found only one macrostate, making it the singular terminal state\n",
      "WARNING: Unable to compute macrostates with `n_states=10` because it will split complex conjugate eigenvalues. Using `n_states=11`\n",
      "WARNING: The following terminal states have different number of cells than requested (30): {'mNC_arch2_1': 27}\n",
      "WARNING: The following terminal states have different number of cells than requested (30): {'mNC_arch2_1': 27}\n",
      "WARNING: Found only one macrostate, making it the singular terminal state\n",
      "WARNING: Unable to compute macrostates with `n_states=10` because it will split complex conjugate eigenvalues. Using `n_states=11`\n",
      "WARNING: The following terminal states have different number of cells than requested (30): {'mNC_arch2_1': 27}\n",
      "WARNING: The following terminal states have different number of cells than requested (30): {'mNC_arch2_1': 27}\n",
      "WARNING: Found only one macrostate, making it the singular terminal state\n",
      "WARNING: Unable to compute macrostates with `n_states=10` because it will split complex conjugate eigenvalues. Using `n_states=11`\n",
      "WARNING: The following terminal states have different number of cells than requested (30): {'mNC_arch2_1': 27}\n",
      "WARNING: The following terminal states have different number of cells than requested (30): {'mNC_arch2_1': 27}\n",
      "WARNING: Found only one macrostate, making it the singular terminal state\n",
      "WARNING: Unable to compute macrostates with `n_states=10` because it will split complex conjugate eigenvalues. Using `n_states=11`\n",
      "WARNING: The following terminal states have different number of cells than requested (30): {'mNC_arch2_1': 27}\n",
      "WARNING: The following terminal states have different number of cells than requested (30): {'mNC_arch2_1': 27}\n",
      "WARNING: Found only one macrostate, making it the singular terminal state\n",
      "WARNING: Unable to compute macrostates with `n_states=10` because it will split complex conjugate eigenvalues. Using `n_states=11`\n",
      "WARNING: The following terminal states have different number of cells than requested (30): {'mNC_arch2_1': 27}\n",
      "WARNING: The following terminal states have different number of cells than requested (30): {'mNC_arch2_1': 27}\n",
      "WARNING: Found only one macrostate, making it the singular terminal state\n",
      "WARNING: Unable to compute macrostates with `n_states=10` because it will split complex conjugate eigenvalues. Using `n_states=11`\n",
      "WARNING: The following terminal states have different number of cells than requested (30): {'mNC_arch2_1': 27}\n",
      "WARNING: The following terminal states have different number of cells than requested (30): {'mNC_arch2_1': 27}\n",
      "WARNING: Found only one macrostate, making it the singular terminal state\n",
      "WARNING: Unable to compute macrostates with `n_states=10` because it will split complex conjugate eigenvalues. Using `n_states=11`\n",
      "WARNING: The following terminal states have different number of cells than requested (30): {'mNC_arch2_1': 27}\n",
      "WARNING: The following terminal states have different number of cells than requested (30): {'mNC_arch2_1': 27}\n"
     ]
    },
    {
     "data": {
      "application/vnd.jupyter.widget-view+json": {
       "model_id": "b04ee008ee434af583b4a7b496bb0a39",
       "version_major": 2,
       "version_minor": 0
      },
      "text/plain": [
       "  0%|          | 0/697 [00:00<?, ?cell/s]"
      ]
     },
     "metadata": {},
     "output_type": "display_data"
    },
    {
     "data": {
      "application/vnd.jupyter.widget-view+json": {
       "model_id": "a3dd80b57699409c90b89ba5a104664d",
       "version_major": 2,
       "version_minor": 0
      },
      "text/plain": [
       "  0%|          | 0/697 [00:00<?, ?cell/s]"
      ]
     },
     "metadata": {},
     "output_type": "display_data"
    },
    {
     "name": "stdout",
     "output_type": "stream",
     "text": [
      "WARNING: Unable to import `petsc4py` or `slepc4py`. Using `method='brandts'`\n",
      "WARNING: For `method='brandts'`, dense matrix is required. Densifying\n",
      "WARNING: Found only one macrostate, making it the singular terminal state\n",
      "WARNING: Requested more macrostates `9` than available Schur vectors `8`. Recomputing the decomposition\n",
      "WARNING: Requested more macrostates `10` than available Schur vectors `9`. Recomputing the decomposition\n",
      "WARNING: Unable to compute macrostates with `n_states=10` because it will split complex conjugate eigenvalues. Using `n_states=11`\n",
      "WARNING: Found only one macrostate, making it the singular terminal state\n",
      "WARNING: Unable to compute macrostates with `n_states=10` because it will split complex conjugate eigenvalues. Using `n_states=11`\n",
      "WARNING: Found only one macrostate, making it the singular terminal state\n",
      "WARNING: Unable to compute macrostates with `n_states=10` because it will split complex conjugate eigenvalues. Using `n_states=11`\n",
      "WARNING: Found only one macrostate, making it the singular terminal state\n",
      "WARNING: Unable to compute macrostates with `n_states=10` because it will split complex conjugate eigenvalues. Using `n_states=11`\n",
      "WARNING: Found only one macrostate, making it the singular terminal state\n",
      "WARNING: Unable to compute macrostates with `n_states=10` because it will split complex conjugate eigenvalues. Using `n_states=11`\n",
      "WARNING: Found only one macrostate, making it the singular terminal state\n",
      "WARNING: Unable to compute macrostates with `n_states=10` because it will split complex conjugate eigenvalues. Using `n_states=11`\n",
      "WARNING: Found only one macrostate, making it the singular terminal state\n",
      "WARNING: Unable to compute macrostates with `n_states=10` because it will split complex conjugate eigenvalues. Using `n_states=11`\n",
      "WARNING: Found only one macrostate, making it the singular terminal state\n",
      "WARNING: Unable to compute macrostates with `n_states=10` because it will split complex conjugate eigenvalues. Using `n_states=11`\n",
      "WARNING: Found only one macrostate, making it the singular terminal state\n",
      "WARNING: Unable to compute macrostates with `n_states=10` because it will split complex conjugate eigenvalues. Using `n_states=11`\n",
      "WARNING: Found only one macrostate, making it the singular terminal state\n",
      "WARNING: Unable to compute macrostates with `n_states=10` because it will split complex conjugate eigenvalues. Using `n_states=11`\n",
      "WARNING: Found only one macrostate, making it the singular terminal state\n",
      "WARNING: Unable to compute macrostates with `n_states=10` because it will split complex conjugate eigenvalues. Using `n_states=11`\n",
      "WARNING: Found only one macrostate, making it the singular terminal state\n",
      "WARNING: Unable to compute macrostates with `n_states=10` because it will split complex conjugate eigenvalues. Using `n_states=11`\n",
      "WARNING: Found only one macrostate, making it the singular terminal state\n",
      "WARNING: Unable to compute macrostates with `n_states=10` because it will split complex conjugate eigenvalues. Using `n_states=11`\n",
      "WARNING: Found only one macrostate, making it the singular terminal state\n",
      "WARNING: Unable to compute macrostates with `n_states=10` because it will split complex conjugate eigenvalues. Using `n_states=11`\n",
      "WARNING: Found only one macrostate, making it the singular terminal state\n",
      "WARNING: Unable to compute macrostates with `n_states=10` because it will split complex conjugate eigenvalues. Using `n_states=11`\n",
      "WARNING: Found only one macrostate, making it the singular terminal state\n",
      "WARNING: Unable to compute macrostates with `n_states=10` because it will split complex conjugate eigenvalues. Using `n_states=11`\n",
      "WARNING: Found only one macrostate, making it the singular terminal state\n",
      "WARNING: Unable to compute macrostates with `n_states=10` because it will split complex conjugate eigenvalues. Using `n_states=11`\n",
      "WARNING: Found only one macrostate, making it the singular terminal state\n",
      "WARNING: Unable to compute macrostates with `n_states=10` because it will split complex conjugate eigenvalues. Using `n_states=11`\n",
      "WARNING: Found only one macrostate, making it the singular terminal state\n",
      "WARNING: Unable to compute macrostates with `n_states=10` because it will split complex conjugate eigenvalues. Using `n_states=11`\n",
      "WARNING: Found only one macrostate, making it the singular terminal state\n",
      "WARNING: Unable to compute macrostates with `n_states=10` because it will split complex conjugate eigenvalues. Using `n_states=11`\n"
     ]
    },
    {
     "data": {
      "application/vnd.jupyter.widget-view+json": {
       "model_id": "05d7690fa0e74fd5bc022b0703dfbcec",
       "version_major": 2,
       "version_minor": 0
      },
      "text/plain": [
       "  0%|          | 0/697 [00:00<?, ?cell/s]"
      ]
     },
     "metadata": {},
     "output_type": "display_data"
    },
    {
     "data": {
      "application/vnd.jupyter.widget-view+json": {
       "model_id": "d3dec5b7cda24c4fa55520715108c1e3",
       "version_major": 2,
       "version_minor": 0
      },
      "text/plain": [
       "  0%|          | 0/697 [00:00<?, ?cell/s]"
      ]
     },
     "metadata": {},
     "output_type": "display_data"
    },
    {
     "name": "stdout",
     "output_type": "stream",
     "text": [
      "WARNING: Unable to import `petsc4py` or `slepc4py`. Using `method='brandts'`\n",
      "WARNING: For `method='brandts'`, dense matrix is required. Densifying\n",
      "WARNING: Found only one macrostate, making it the singular terminal state\n",
      "WARNING: Requested more macrostates `9` than available Schur vectors `8`. Recomputing the decomposition\n",
      "WARNING: Requested more macrostates `10` than available Schur vectors `9`. Recomputing the decomposition\n",
      "WARNING: The following terminal states have different number of cells than requested (30): {'mNC_arch2_1': 29}\n",
      "WARNING: Requested more macrostates `11` than available Schur vectors `10`. Recomputing the decomposition\n",
      "WARNING: The following terminal states have different number of cells than requested (30): {'NPB_nohox': 22}\n",
      "WARNING: Found only one macrostate, making it the singular terminal state\n",
      "WARNING: The following terminal states have different number of cells than requested (30): {'mNC_arch2_1': 29}\n",
      "WARNING: The following terminal states have different number of cells than requested (30): {'NPB_nohox': 22}\n",
      "WARNING: Found only one macrostate, making it the singular terminal state\n",
      "WARNING: The following terminal states have different number of cells than requested (30): {'mNC_arch2_1': 29}\n",
      "WARNING: The following terminal states have different number of cells than requested (30): {'NPB_nohox': 22}\n",
      "WARNING: Found only one macrostate, making it the singular terminal state\n",
      "WARNING: The following terminal states have different number of cells than requested (30): {'mNC_arch2_1': 29}\n",
      "WARNING: The following terminal states have different number of cells than requested (30): {'NPB_nohox': 22}\n",
      "WARNING: Found only one macrostate, making it the singular terminal state\n",
      "WARNING: The following terminal states have different number of cells than requested (30): {'mNC_arch2_1': 29}\n",
      "WARNING: The following terminal states have different number of cells than requested (30): {'NPB_nohox': 22}\n",
      "WARNING: Found only one macrostate, making it the singular terminal state\n",
      "WARNING: The following terminal states have different number of cells than requested (30): {'mNC_arch2_1': 29}\n",
      "WARNING: The following terminal states have different number of cells than requested (30): {'NPB_nohox': 22}\n",
      "WARNING: Found only one macrostate, making it the singular terminal state\n",
      "WARNING: The following terminal states have different number of cells than requested (30): {'mNC_arch2_1': 29}\n",
      "WARNING: The following terminal states have different number of cells than requested (30): {'NPB_nohox': 22}\n",
      "WARNING: Found only one macrostate, making it the singular terminal state\n",
      "WARNING: The following terminal states have different number of cells than requested (30): {'mNC_arch2_1': 29}\n",
      "WARNING: The following terminal states have different number of cells than requested (30): {'NPB_nohox': 22}\n",
      "WARNING: Found only one macrostate, making it the singular terminal state\n",
      "WARNING: The following terminal states have different number of cells than requested (30): {'mNC_arch2_1': 29}\n",
      "WARNING: The following terminal states have different number of cells than requested (30): {'NPB_nohox': 22}\n",
      "WARNING: Found only one macrostate, making it the singular terminal state\n",
      "WARNING: The following terminal states have different number of cells than requested (30): {'mNC_arch2_1': 29}\n",
      "WARNING: The following terminal states have different number of cells than requested (30): {'NPB_nohox': 22}\n",
      "WARNING: Found only one macrostate, making it the singular terminal state\n",
      "WARNING: The following terminal states have different number of cells than requested (30): {'mNC_arch2_1': 29}\n",
      "WARNING: The following terminal states have different number of cells than requested (30): {'NPB_nohox': 22}\n",
      "WARNING: Found only one macrostate, making it the singular terminal state\n",
      "WARNING: The following terminal states have different number of cells than requested (30): {'mNC_arch2_1': 29}\n",
      "WARNING: The following terminal states have different number of cells than requested (30): {'NPB_nohox': 22}\n",
      "WARNING: Found only one macrostate, making it the singular terminal state\n",
      "WARNING: The following terminal states have different number of cells than requested (30): {'mNC_arch2_1': 29}\n",
      "WARNING: The following terminal states have different number of cells than requested (30): {'NPB_nohox': 22}\n",
      "WARNING: Found only one macrostate, making it the singular terminal state\n",
      "WARNING: The following terminal states have different number of cells than requested (30): {'mNC_arch2_1': 29}\n",
      "WARNING: The following terminal states have different number of cells than requested (30): {'NPB_nohox': 22}\n",
      "WARNING: Found only one macrostate, making it the singular terminal state\n",
      "WARNING: The following terminal states have different number of cells than requested (30): {'mNC_arch2_1': 29}\n",
      "WARNING: The following terminal states have different number of cells than requested (30): {'NPB_nohox': 22}\n",
      "WARNING: Found only one macrostate, making it the singular terminal state\n",
      "WARNING: The following terminal states have different number of cells than requested (30): {'mNC_arch2_1': 29}\n",
      "WARNING: The following terminal states have different number of cells than requested (30): {'NPB_nohox': 22}\n",
      "WARNING: Found only one macrostate, making it the singular terminal state\n",
      "WARNING: The following terminal states have different number of cells than requested (30): {'mNC_arch2_1': 29}\n",
      "WARNING: The following terminal states have different number of cells than requested (30): {'NPB_nohox': 22}\n",
      "WARNING: Found only one macrostate, making it the singular terminal state\n",
      "WARNING: The following terminal states have different number of cells than requested (30): {'mNC_arch2_1': 29}\n",
      "WARNING: The following terminal states have different number of cells than requested (30): {'NPB_nohox': 22}\n",
      "WARNING: Found only one macrostate, making it the singular terminal state\n",
      "WARNING: The following terminal states have different number of cells than requested (30): {'mNC_arch2_1': 29}\n",
      "WARNING: The following terminal states have different number of cells than requested (30): {'NPB_nohox': 22}\n",
      "WARNING: Found only one macrostate, making it the singular terminal state\n",
      "WARNING: The following terminal states have different number of cells than requested (30): {'mNC_arch2_1': 29}\n",
      "WARNING: The following terminal states have different number of cells than requested (30): {'NPB_nohox': 22}\n"
     ]
    },
    {
     "data": {
      "application/vnd.jupyter.widget-view+json": {
       "model_id": "345ccc890c4e4c1992e249ee96b58c11",
       "version_major": 2,
       "version_minor": 0
      },
      "text/plain": [
       "  0%|          | 0/697 [00:00<?, ?cell/s]"
      ]
     },
     "metadata": {},
     "output_type": "display_data"
    },
    {
     "data": {
      "application/vnd.jupyter.widget-view+json": {
       "model_id": "fd6cf65c3e444183b5e948376b27e096",
       "version_major": 2,
       "version_minor": 0
      },
      "text/plain": [
       "  0%|          | 0/697 [00:00<?, ?cell/s]"
      ]
     },
     "metadata": {},
     "output_type": "display_data"
    },
    {
     "name": "stdout",
     "output_type": "stream",
     "text": [
      "WARNING: Unable to import `petsc4py` or `slepc4py`. Using `method='brandts'`\n",
      "WARNING: For `method='brandts'`, dense matrix is required. Densifying\n",
      "WARNING: Found only one macrostate, making it the singular terminal state\n",
      "WARNING: Requested more macrostates `9` than available Schur vectors `8`. Recomputing the decomposition\n",
      "WARNING: Requested more macrostates `10` than available Schur vectors `9`. Recomputing the decomposition\n",
      "WARNING: Unable to compute macrostates with `n_states=10` because it will split complex conjugate eigenvalues. Using `n_states=11`\n",
      "WARNING: Found only one macrostate, making it the singular terminal state\n",
      "WARNING: Unable to compute macrostates with `n_states=10` because it will split complex conjugate eigenvalues. Using `n_states=11`\n",
      "WARNING: Found only one macrostate, making it the singular terminal state\n",
      "WARNING: Unable to compute macrostates with `n_states=10` because it will split complex conjugate eigenvalues. Using `n_states=11`\n",
      "WARNING: Found only one macrostate, making it the singular terminal state\n",
      "WARNING: Unable to compute macrostates with `n_states=10` because it will split complex conjugate eigenvalues. Using `n_states=11`\n",
      "WARNING: Found only one macrostate, making it the singular terminal state\n",
      "WARNING: Unable to compute macrostates with `n_states=10` because it will split complex conjugate eigenvalues. Using `n_states=11`\n",
      "WARNING: Found only one macrostate, making it the singular terminal state\n",
      "WARNING: Unable to compute macrostates with `n_states=10` because it will split complex conjugate eigenvalues. Using `n_states=11`\n",
      "WARNING: Found only one macrostate, making it the singular terminal state\n",
      "WARNING: Unable to compute macrostates with `n_states=10` because it will split complex conjugate eigenvalues. Using `n_states=11`\n",
      "WARNING: Found only one macrostate, making it the singular terminal state\n",
      "WARNING: Unable to compute macrostates with `n_states=10` because it will split complex conjugate eigenvalues. Using `n_states=11`\n",
      "WARNING: Found only one macrostate, making it the singular terminal state\n",
      "WARNING: Unable to compute macrostates with `n_states=10` because it will split complex conjugate eigenvalues. Using `n_states=11`\n",
      "WARNING: Found only one macrostate, making it the singular terminal state\n",
      "WARNING: Unable to compute macrostates with `n_states=10` because it will split complex conjugate eigenvalues. Using `n_states=11`\n",
      "WARNING: Found only one macrostate, making it the singular terminal state\n",
      "WARNING: Unable to compute macrostates with `n_states=10` because it will split complex conjugate eigenvalues. Using `n_states=11`\n",
      "WARNING: Found only one macrostate, making it the singular terminal state\n",
      "WARNING: Unable to compute macrostates with `n_states=10` because it will split complex conjugate eigenvalues. Using `n_states=11`\n",
      "WARNING: Found only one macrostate, making it the singular terminal state\n",
      "WARNING: Unable to compute macrostates with `n_states=10` because it will split complex conjugate eigenvalues. Using `n_states=11`\n",
      "WARNING: Found only one macrostate, making it the singular terminal state\n",
      "WARNING: Unable to compute macrostates with `n_states=10` because it will split complex conjugate eigenvalues. Using `n_states=11`\n",
      "WARNING: Found only one macrostate, making it the singular terminal state\n",
      "WARNING: Unable to compute macrostates with `n_states=10` because it will split complex conjugate eigenvalues. Using `n_states=11`\n",
      "WARNING: Found only one macrostate, making it the singular terminal state\n",
      "WARNING: Unable to compute macrostates with `n_states=10` because it will split complex conjugate eigenvalues. Using `n_states=11`\n",
      "WARNING: Found only one macrostate, making it the singular terminal state\n",
      "WARNING: Unable to compute macrostates with `n_states=10` because it will split complex conjugate eigenvalues. Using `n_states=11`\n",
      "WARNING: Found only one macrostate, making it the singular terminal state\n",
      "WARNING: Unable to compute macrostates with `n_states=10` because it will split complex conjugate eigenvalues. Using `n_states=11`\n",
      "WARNING: Found only one macrostate, making it the singular terminal state\n",
      "WARNING: Unable to compute macrostates with `n_states=10` because it will split complex conjugate eigenvalues. Using `n_states=11`\n",
      "WARNING: Found only one macrostate, making it the singular terminal state\n",
      "WARNING: Unable to compute macrostates with `n_states=10` because it will split complex conjugate eigenvalues. Using `n_states=11`\n"
     ]
    },
    {
     "data": {
      "application/vnd.jupyter.widget-view+json": {
       "model_id": "0daaf404bbdb4f1489f36919994752ae",
       "version_major": 2,
       "version_minor": 0
      },
      "text/plain": [
       "  0%|          | 0/697 [00:00<?, ?cell/s]"
      ]
     },
     "metadata": {},
     "output_type": "display_data"
    },
    {
     "data": {
      "application/vnd.jupyter.widget-view+json": {
       "model_id": "ea2162640b754298a7d1cf24a0bcc473",
       "version_major": 2,
       "version_minor": 0
      },
      "text/plain": [
       "  0%|          | 0/697 [00:00<?, ?cell/s]"
      ]
     },
     "metadata": {},
     "output_type": "display_data"
    },
    {
     "name": "stdout",
     "output_type": "stream",
     "text": [
      "WARNING: Unable to import `petsc4py` or `slepc4py`. Using `method='brandts'`\n",
      "WARNING: For `method='brandts'`, dense matrix is required. Densifying\n",
      "WARNING: Found only one macrostate, making it the singular terminal state\n",
      "WARNING: Requested more macrostates `9` than available Schur vectors `8`. Recomputing the decomposition\n",
      "WARNING: Requested more macrostates `10` than available Schur vectors `9`. Recomputing the decomposition\n",
      "WARNING: Requested more macrostates `11` than available Schur vectors `10`. Recomputing the decomposition\n",
      "WARNING: The following terminal states have different number of cells than requested (30): {'NPB_nohox': 29}\n",
      "WARNING: Found only one macrostate, making it the singular terminal state\n",
      "WARNING: The following terminal states have different number of cells than requested (30): {'NPB_nohox': 29}\n",
      "WARNING: Found only one macrostate, making it the singular terminal state\n",
      "WARNING: The following terminal states have different number of cells than requested (30): {'NPB_nohox': 29}\n",
      "WARNING: Found only one macrostate, making it the singular terminal state\n",
      "WARNING: The following terminal states have different number of cells than requested (30): {'NPB_nohox': 29}\n",
      "WARNING: Found only one macrostate, making it the singular terminal state\n",
      "WARNING: The following terminal states have different number of cells than requested (30): {'NPB_nohox': 29}\n",
      "WARNING: Found only one macrostate, making it the singular terminal state\n",
      "WARNING: The following terminal states have different number of cells than requested (30): {'NPB_nohox': 29}\n",
      "WARNING: Found only one macrostate, making it the singular terminal state\n",
      "WARNING: The following terminal states have different number of cells than requested (30): {'NPB_nohox': 29}\n",
      "WARNING: Found only one macrostate, making it the singular terminal state\n",
      "WARNING: The following terminal states have different number of cells than requested (30): {'NPB_nohox': 29}\n",
      "WARNING: Found only one macrostate, making it the singular terminal state\n",
      "WARNING: The following terminal states have different number of cells than requested (30): {'NPB_nohox': 29}\n",
      "WARNING: Found only one macrostate, making it the singular terminal state\n",
      "WARNING: The following terminal states have different number of cells than requested (30): {'NPB_nohox': 29}\n",
      "WARNING: Found only one macrostate, making it the singular terminal state\n",
      "WARNING: The following terminal states have different number of cells than requested (30): {'NPB_nohox': 29}\n",
      "WARNING: Found only one macrostate, making it the singular terminal state\n",
      "WARNING: The following terminal states have different number of cells than requested (30): {'NPB_nohox': 29}\n",
      "WARNING: Found only one macrostate, making it the singular terminal state\n",
      "WARNING: The following terminal states have different number of cells than requested (30): {'NPB_nohox': 29}\n",
      "WARNING: Found only one macrostate, making it the singular terminal state\n",
      "WARNING: The following terminal states have different number of cells than requested (30): {'NPB_nohox': 29}\n",
      "WARNING: Found only one macrostate, making it the singular terminal state\n",
      "WARNING: The following terminal states have different number of cells than requested (30): {'NPB_nohox': 29}\n",
      "WARNING: Found only one macrostate, making it the singular terminal state\n",
      "WARNING: The following terminal states have different number of cells than requested (30): {'NPB_nohox': 29}\n",
      "WARNING: Found only one macrostate, making it the singular terminal state\n",
      "WARNING: The following terminal states have different number of cells than requested (30): {'NPB_nohox': 29}\n",
      "WARNING: Found only one macrostate, making it the singular terminal state\n",
      "WARNING: The following terminal states have different number of cells than requested (30): {'NPB_nohox': 29}\n",
      "WARNING: Found only one macrostate, making it the singular terminal state\n",
      "WARNING: The following terminal states have different number of cells than requested (30): {'NPB_nohox': 29}\n",
      "WARNING: Found only one macrostate, making it the singular terminal state\n",
      "WARNING: The following terminal states have different number of cells than requested (30): {'NPB_nohox': 29}\n"
     ]
    },
    {
     "data": {
      "application/vnd.jupyter.widget-view+json": {
       "model_id": "ed80c48d341f414db8ee4a8c7d9d14c2",
       "version_major": 2,
       "version_minor": 0
      },
      "text/plain": [
       "  0%|          | 0/697 [00:00<?, ?cell/s]"
      ]
     },
     "metadata": {},
     "output_type": "display_data"
    },
    {
     "data": {
      "application/vnd.jupyter.widget-view+json": {
       "model_id": "c9b62eb7e8a94184b17e3a31c359584a",
       "version_major": 2,
       "version_minor": 0
      },
      "text/plain": [
       "  0%|          | 0/697 [00:00<?, ?cell/s]"
      ]
     },
     "metadata": {},
     "output_type": "display_data"
    },
    {
     "name": "stdout",
     "output_type": "stream",
     "text": [
      "WARNING: Unable to import `petsc4py` or `slepc4py`. Using `method='brandts'`\n",
      "WARNING: For `method='brandts'`, dense matrix is required. Densifying\n",
      "WARNING: Found only one macrostate, making it the singular terminal state\n",
      "WARNING: Requested more macrostates `9` than available Schur vectors `8`. Recomputing the decomposition\n",
      "WARNING: Requested more macrostates `10` than available Schur vectors `9`. Recomputing the decomposition\n",
      "WARNING: Requested more macrostates `11` than available Schur vectors `10`. Recomputing the decomposition\n",
      "WARNING: The following terminal states have different number of cells than requested (30): {'dNC_nohox_2': 8}\n",
      "WARNING: Found only one macrostate, making it the singular terminal state\n",
      "WARNING: The following terminal states have different number of cells than requested (30): {'dNC_nohox_2': 8}\n",
      "WARNING: Found only one macrostate, making it the singular terminal state\n",
      "WARNING: The following terminal states have different number of cells than requested (30): {'dNC_nohox_2': 8}\n",
      "WARNING: Found only one macrostate, making it the singular terminal state\n",
      "WARNING: The following terminal states have different number of cells than requested (30): {'dNC_nohox_2': 8}\n",
      "WARNING: Found only one macrostate, making it the singular terminal state\n",
      "WARNING: The following terminal states have different number of cells than requested (30): {'dNC_nohox_2': 8}\n",
      "WARNING: Found only one macrostate, making it the singular terminal state\n",
      "WARNING: The following terminal states have different number of cells than requested (30): {'dNC_nohox_2': 8}\n",
      "WARNING: Found only one macrostate, making it the singular terminal state\n",
      "WARNING: The following terminal states have different number of cells than requested (30): {'dNC_nohox_2': 8}\n",
      "WARNING: Found only one macrostate, making it the singular terminal state\n",
      "WARNING: The following terminal states have different number of cells than requested (30): {'dNC_nohox_2': 8}\n",
      "WARNING: Found only one macrostate, making it the singular terminal state\n",
      "WARNING: The following terminal states have different number of cells than requested (30): {'dNC_nohox_2': 8}\n",
      "WARNING: Found only one macrostate, making it the singular terminal state\n",
      "WARNING: The following terminal states have different number of cells than requested (30): {'dNC_nohox_2': 8}\n",
      "WARNING: Found only one macrostate, making it the singular terminal state\n",
      "WARNING: The following terminal states have different number of cells than requested (30): {'dNC_nohox_2': 8}\n",
      "WARNING: Found only one macrostate, making it the singular terminal state\n",
      "WARNING: The following terminal states have different number of cells than requested (30): {'dNC_nohox_2': 8}\n",
      "WARNING: Found only one macrostate, making it the singular terminal state\n",
      "WARNING: The following terminal states have different number of cells than requested (30): {'dNC_nohox_2': 8}\n",
      "WARNING: Found only one macrostate, making it the singular terminal state\n",
      "WARNING: The following terminal states have different number of cells than requested (30): {'dNC_nohox_2': 8}\n",
      "WARNING: Found only one macrostate, making it the singular terminal state\n",
      "WARNING: The following terminal states have different number of cells than requested (30): {'dNC_nohox_2': 8}\n",
      "WARNING: Found only one macrostate, making it the singular terminal state\n",
      "WARNING: The following terminal states have different number of cells than requested (30): {'dNC_nohox_2': 8}\n",
      "WARNING: Found only one macrostate, making it the singular terminal state\n",
      "WARNING: The following terminal states have different number of cells than requested (30): {'dNC_nohox_2': 8}\n",
      "WARNING: Found only one macrostate, making it the singular terminal state\n",
      "WARNING: The following terminal states have different number of cells than requested (30): {'dNC_nohox_2': 8}\n",
      "WARNING: Found only one macrostate, making it the singular terminal state\n",
      "WARNING: The following terminal states have different number of cells than requested (30): {'dNC_nohox_2': 8}\n",
      "WARNING: Found only one macrostate, making it the singular terminal state\n",
      "WARNING: The following terminal states have different number of cells than requested (30): {'dNC_nohox_2': 8}\n"
     ]
    },
    {
     "data": {
      "application/vnd.jupyter.widget-view+json": {
       "model_id": "3fc41b4d8e8542b3aea477b80b52ddc0",
       "version_major": 2,
       "version_minor": 0
      },
      "text/plain": [
       "  0%|          | 0/697 [00:00<?, ?cell/s]"
      ]
     },
     "metadata": {},
     "output_type": "display_data"
    },
    {
     "data": {
      "application/vnd.jupyter.widget-view+json": {
       "model_id": "94e2896321b54e058e113d173fd13f8b",
       "version_major": 2,
       "version_minor": 0
      },
      "text/plain": [
       "  0%|          | 0/697 [00:00<?, ?cell/s]"
      ]
     },
     "metadata": {},
     "output_type": "display_data"
    },
    {
     "name": "stdout",
     "output_type": "stream",
     "text": [
      "WARNING: Unable to import `petsc4py` or `slepc4py`. Using `method='brandts'`\n",
      "WARNING: For `method='brandts'`, dense matrix is required. Densifying\n",
      "WARNING: Found only one macrostate, making it the singular terminal state\n",
      "WARNING: Requested more macrostates `9` than available Schur vectors `8`. Recomputing the decomposition\n",
      "WARNING: Requested more macrostates `10` than available Schur vectors `9`. Recomputing the decomposition\n",
      "WARNING: Requested more macrostates `11` than available Schur vectors `10`. Recomputing the decomposition\n",
      "WARNING: Found only one macrostate, making it the singular terminal state\n",
      "WARNING: Found only one macrostate, making it the singular terminal state\n",
      "WARNING: Found only one macrostate, making it the singular terminal state\n",
      "WARNING: Found only one macrostate, making it the singular terminal state\n",
      "WARNING: Found only one macrostate, making it the singular terminal state\n",
      "WARNING: Found only one macrostate, making it the singular terminal state\n",
      "WARNING: Found only one macrostate, making it the singular terminal state\n",
      "WARNING: Found only one macrostate, making it the singular terminal state\n",
      "WARNING: Found only one macrostate, making it the singular terminal state\n",
      "WARNING: Found only one macrostate, making it the singular terminal state\n",
      "WARNING: Found only one macrostate, making it the singular terminal state\n",
      "WARNING: Found only one macrostate, making it the singular terminal state\n",
      "WARNING: Found only one macrostate, making it the singular terminal state\n",
      "WARNING: Found only one macrostate, making it the singular terminal state\n",
      "WARNING: Found only one macrostate, making it the singular terminal state\n",
      "WARNING: Found only one macrostate, making it the singular terminal state\n",
      "WARNING: Found only one macrostate, making it the singular terminal state\n",
      "WARNING: Found only one macrostate, making it the singular terminal state\n",
      "WARNING: Found only one macrostate, making it the singular terminal state\n"
     ]
    },
    {
     "data": {
      "application/vnd.jupyter.widget-view+json": {
       "model_id": "4bf14019400a44eeae52fe7850229e9b",
       "version_major": 2,
       "version_minor": 0
      },
      "text/plain": [
       "  0%|          | 0/697 [00:00<?, ?cell/s]"
      ]
     },
     "metadata": {},
     "output_type": "display_data"
    },
    {
     "data": {
      "application/vnd.jupyter.widget-view+json": {
       "model_id": "1fad2ba86de04610a034de435510621f",
       "version_major": 2,
       "version_minor": 0
      },
      "text/plain": [
       "  0%|          | 0/697 [00:00<?, ?cell/s]"
      ]
     },
     "metadata": {},
     "output_type": "display_data"
    },
    {
     "name": "stdout",
     "output_type": "stream",
     "text": [
      "WARNING: Unable to import `petsc4py` or `slepc4py`. Using `method='brandts'`\n",
      "WARNING: For `method='brandts'`, dense matrix is required. Densifying\n",
      "WARNING: Found only one macrostate, making it the singular terminal state\n",
      "WARNING: Requested more macrostates `9` than available Schur vectors `8`. Recomputing the decomposition\n",
      "WARNING: Requested more macrostates `10` than available Schur vectors `9`. Recomputing the decomposition\n",
      "WARNING: Unable to compute macrostates with `n_states=10` because it will split complex conjugate eigenvalues. Using `n_states=11`\n",
      "WARNING: Found only one macrostate, making it the singular terminal state\n",
      "WARNING: Unable to compute macrostates with `n_states=10` because it will split complex conjugate eigenvalues. Using `n_states=11`\n",
      "WARNING: Found only one macrostate, making it the singular terminal state\n",
      "WARNING: Unable to compute macrostates with `n_states=10` because it will split complex conjugate eigenvalues. Using `n_states=11`\n",
      "WARNING: Found only one macrostate, making it the singular terminal state\n",
      "WARNING: Unable to compute macrostates with `n_states=10` because it will split complex conjugate eigenvalues. Using `n_states=11`\n",
      "WARNING: Found only one macrostate, making it the singular terminal state\n",
      "WARNING: Unable to compute macrostates with `n_states=10` because it will split complex conjugate eigenvalues. Using `n_states=11`\n",
      "WARNING: Found only one macrostate, making it the singular terminal state\n",
      "WARNING: Unable to compute macrostates with `n_states=10` because it will split complex conjugate eigenvalues. Using `n_states=11`\n",
      "WARNING: Found only one macrostate, making it the singular terminal state\n",
      "WARNING: Unable to compute macrostates with `n_states=10` because it will split complex conjugate eigenvalues. Using `n_states=11`\n",
      "WARNING: Found only one macrostate, making it the singular terminal state\n",
      "WARNING: Unable to compute macrostates with `n_states=10` because it will split complex conjugate eigenvalues. Using `n_states=11`\n",
      "WARNING: Found only one macrostate, making it the singular terminal state\n",
      "WARNING: Unable to compute macrostates with `n_states=10` because it will split complex conjugate eigenvalues. Using `n_states=11`\n",
      "WARNING: Found only one macrostate, making it the singular terminal state\n",
      "WARNING: Unable to compute macrostates with `n_states=10` because it will split complex conjugate eigenvalues. Using `n_states=11`\n",
      "WARNING: Found only one macrostate, making it the singular terminal state\n",
      "WARNING: Unable to compute macrostates with `n_states=10` because it will split complex conjugate eigenvalues. Using `n_states=11`\n",
      "WARNING: Found only one macrostate, making it the singular terminal state\n",
      "WARNING: Unable to compute macrostates with `n_states=10` because it will split complex conjugate eigenvalues. Using `n_states=11`\n",
      "WARNING: Found only one macrostate, making it the singular terminal state\n",
      "WARNING: Unable to compute macrostates with `n_states=10` because it will split complex conjugate eigenvalues. Using `n_states=11`\n",
      "WARNING: Found only one macrostate, making it the singular terminal state\n",
      "WARNING: Unable to compute macrostates with `n_states=10` because it will split complex conjugate eigenvalues. Using `n_states=11`\n",
      "WARNING: Found only one macrostate, making it the singular terminal state\n",
      "WARNING: Unable to compute macrostates with `n_states=10` because it will split complex conjugate eigenvalues. Using `n_states=11`\n",
      "WARNING: Found only one macrostate, making it the singular terminal state\n",
      "WARNING: Unable to compute macrostates with `n_states=10` because it will split complex conjugate eigenvalues. Using `n_states=11`\n",
      "WARNING: Found only one macrostate, making it the singular terminal state\n",
      "WARNING: Unable to compute macrostates with `n_states=10` because it will split complex conjugate eigenvalues. Using `n_states=11`\n",
      "WARNING: Found only one macrostate, making it the singular terminal state\n",
      "WARNING: Unable to compute macrostates with `n_states=10` because it will split complex conjugate eigenvalues. Using `n_states=11`\n",
      "WARNING: Found only one macrostate, making it the singular terminal state\n",
      "WARNING: Unable to compute macrostates with `n_states=10` because it will split complex conjugate eigenvalues. Using `n_states=11`\n",
      "WARNING: Found only one macrostate, making it the singular terminal state\n",
      "WARNING: Unable to compute macrostates with `n_states=10` because it will split complex conjugate eigenvalues. Using `n_states=11`\n"
     ]
    },
    {
     "data": {
      "application/vnd.jupyter.widget-view+json": {
       "model_id": "94b4d37000824b17ad9e435efe77b9c1",
       "version_major": 2,
       "version_minor": 0
      },
      "text/plain": [
       "  0%|          | 0/697 [00:00<?, ?cell/s]"
      ]
     },
     "metadata": {},
     "output_type": "display_data"
    },
    {
     "data": {
      "application/vnd.jupyter.widget-view+json": {
       "model_id": "61c0dba05e7a4cd9af964117671a3385",
       "version_major": 2,
       "version_minor": 0
      },
      "text/plain": [
       "  0%|          | 0/697 [00:00<?, ?cell/s]"
      ]
     },
     "metadata": {},
     "output_type": "display_data"
    },
    {
     "name": "stdout",
     "output_type": "stream",
     "text": [
      "WARNING: Unable to import `petsc4py` or `slepc4py`. Using `method='brandts'`\n",
      "WARNING: For `method='brandts'`, dense matrix is required. Densifying\n",
      "WARNING: Found only one macrostate, making it the singular terminal state\n",
      "WARNING: Requested more macrostates `9` than available Schur vectors `8`. Recomputing the decomposition\n",
      "WARNING: Requested more macrostates `10` than available Schur vectors `9`. Recomputing the decomposition\n",
      "WARNING: Requested more macrostates `11` than available Schur vectors `10`. Recomputing the decomposition\n",
      "WARNING: Found only one macrostate, making it the singular terminal state\n",
      "WARNING: Found only one macrostate, making it the singular terminal state\n",
      "WARNING: Found only one macrostate, making it the singular terminal state\n",
      "WARNING: Found only one macrostate, making it the singular terminal state\n",
      "WARNING: Found only one macrostate, making it the singular terminal state\n",
      "WARNING: Found only one macrostate, making it the singular terminal state\n",
      "WARNING: Found only one macrostate, making it the singular terminal state\n",
      "WARNING: Found only one macrostate, making it the singular terminal state\n",
      "WARNING: Found only one macrostate, making it the singular terminal state\n",
      "WARNING: Found only one macrostate, making it the singular terminal state\n",
      "WARNING: Found only one macrostate, making it the singular terminal state\n",
      "WARNING: Found only one macrostate, making it the singular terminal state\n",
      "WARNING: Found only one macrostate, making it the singular terminal state\n",
      "WARNING: Found only one macrostate, making it the singular terminal state\n",
      "WARNING: Found only one macrostate, making it the singular terminal state\n",
      "WARNING: Found only one macrostate, making it the singular terminal state\n",
      "WARNING: Found only one macrostate, making it the singular terminal state\n",
      "WARNING: Found only one macrostate, making it the singular terminal state\n",
      "WARNING: Found only one macrostate, making it the singular terminal state\n"
     ]
    },
    {
     "data": {
      "image/png": "[encoded data removed]",
      "text/plain": [
       "<Figure size 600x450 with 1 Axes>"
      ]
     },
     "metadata": {},
     "output_type": "display_data"
    }
   ],
   "source": [
    "comp.evaluate(side_information='TSI',\n",
    "              side_key='cell_type')\n",
    "comp.plot_results(side_information='TSI')"
   ]
  },
  {
   "cell_type": "markdown",
   "id": "657775a0",
   "metadata": {},
   "source": [
    "### CBC(Corss boundary correctness) score\n",
    "\n",
    "Introduction of CBC score can be found [here](https://cellrank.readthedocs.io/en/stable/api/developer.html#cellrank.kernels.Kernel.cbc). In short, CBC score evaluate whether the prediction of RegVelo model is reasonable under each given transition event. Under this mode, 'side_key' must be given manually and used to put into cellrank.kernels.kernel.cbc(cluster_key = side_key). side_key can store either a series of string, or a series of float, because it will be converted into category type in this step. \n",
    "\n",
    "In order to use this mode, state transition is necessary when building ModelComparison object, and all element must in string format."
   ]
  },
  {
   "cell_type": "code",
   "execution_count": 10,
   "id": "05f0e389",
   "metadata": {},
   "outputs": [
    {
     "data": {
      "application/vnd.jupyter.widget-view+json": {
       "model_id": "ef1977670dfd4d9d93aaa7e5003d3729",
       "version_major": 2,
       "version_minor": 0
      },
      "text/plain": [
       "  0%|          | 0/697 [00:00<?, ?cell/s]"
      ]
     },
     "metadata": {},
     "output_type": "display_data"
    },
    {
     "data": {
      "application/vnd.jupyter.widget-view+json": {
       "model_id": "abf09d13050647c7a6b22a6fc48be612",
       "version_major": 2,
       "version_minor": 0
      },
      "text/plain": [
       "  0%|          | 0/697 [00:00<?, ?cell/s]"
      ]
     },
     "metadata": {},
     "output_type": "display_data"
    },
    {
     "data": {
      "application/vnd.jupyter.widget-view+json": {
       "model_id": "a4b430b3bed74906b5fba1e9782bef31",
       "version_major": 2,
       "version_minor": 0
      },
      "text/plain": [
       "  0%|          | 0/697 [00:00<?, ?cell/s]"
      ]
     },
     "metadata": {},
     "output_type": "display_data"
    },
    {
     "data": {
      "application/vnd.jupyter.widget-view+json": {
       "model_id": "eee2cc010f70481cabbc970cc8199cca",
       "version_major": 2,
       "version_minor": 0
      },
      "text/plain": [
       "  0%|          | 0/697 [00:00<?, ?cell/s]"
      ]
     },
     "metadata": {},
     "output_type": "display_data"
    },
    {
     "data": {
      "application/vnd.jupyter.widget-view+json": {
       "model_id": "e92b2eb0d1224fd1a763d8ce182e16e5",
       "version_major": 2,
       "version_minor": 0
      },
      "text/plain": [
       "  0%|          | 0/697 [00:00<?, ?cell/s]"
      ]
     },
     "metadata": {},
     "output_type": "display_data"
    },
    {
     "data": {
      "application/vnd.jupyter.widget-view+json": {
       "model_id": "ae327479555745f9915e01b87589dee6",
       "version_major": 2,
       "version_minor": 0
      },
      "text/plain": [
       "  0%|          | 0/697 [00:00<?, ?cell/s]"
      ]
     },
     "metadata": {},
     "output_type": "display_data"
    },
    {
     "data": {
      "application/vnd.jupyter.widget-view+json": {
       "model_id": "34ebd7c8f7b94709bedab5d4a67672db",
       "version_major": 2,
       "version_minor": 0
      },
      "text/plain": [
       "  0%|          | 0/697 [00:00<?, ?cell/s]"
      ]
     },
     "metadata": {},
     "output_type": "display_data"
    },
    {
     "data": {
      "application/vnd.jupyter.widget-view+json": {
       "model_id": "5a0dc57bd388416cafcff1c9f312fc8e",
       "version_major": 2,
       "version_minor": 0
      },
      "text/plain": [
       "  0%|          | 0/697 [00:00<?, ?cell/s]"
      ]
     },
     "metadata": {},
     "output_type": "display_data"
    },
    {
     "data": {
      "application/vnd.jupyter.widget-view+json": {
       "model_id": "825f501ed31b4c7da34353bcf04e16a9",
       "version_major": 2,
       "version_minor": 0
      },
      "text/plain": [
       "  0%|          | 0/697 [00:00<?, ?cell/s]"
      ]
     },
     "metadata": {},
     "output_type": "display_data"
    },
    {
     "data": {
      "application/vnd.jupyter.widget-view+json": {
       "model_id": "9153d13fb12c493dbcac6aebcd5d0270",
       "version_major": 2,
       "version_minor": 0
      },
      "text/plain": [
       "  0%|          | 0/697 [00:00<?, ?cell/s]"
      ]
     },
     "metadata": {},
     "output_type": "display_data"
    },
    {
     "data": {
      "application/vnd.jupyter.widget-view+json": {
       "model_id": "6097a860758849d2a1aa2417d816e9e8",
       "version_major": 2,
       "version_minor": 0
      },
      "text/plain": [
       "  0%|          | 0/697 [00:00<?, ?cell/s]"
      ]
     },
     "metadata": {},
     "output_type": "display_data"
    },
    {
     "data": {
      "application/vnd.jupyter.widget-view+json": {
       "model_id": "1c83f174edd5428888b358c8aaf944c3",
       "version_major": 2,
       "version_minor": 0
      },
      "text/plain": [
       "  0%|          | 0/697 [00:00<?, ?cell/s]"
      ]
     },
     "metadata": {},
     "output_type": "display_data"
    },
    {
     "data": {
      "application/vnd.jupyter.widget-view+json": {
       "model_id": "c52a9832544d4df09da48bc21ad6db85",
       "version_major": 2,
       "version_minor": 0
      },
      "text/plain": [
       "  0%|          | 0/697 [00:00<?, ?cell/s]"
      ]
     },
     "metadata": {},
     "output_type": "display_data"
    },
    {
     "data": {
      "application/vnd.jupyter.widget-view+json": {
       "model_id": "5bbbc4da6cb04075a6504426b7236565",
       "version_major": 2,
       "version_minor": 0
      },
      "text/plain": [
       "  0%|          | 0/697 [00:00<?, ?cell/s]"
      ]
     },
     "metadata": {},
     "output_type": "display_data"
    },
    {
     "data": {
      "application/vnd.jupyter.widget-view+json": {
       "model_id": "19e9b223951f43969c0081199d03e276",
       "version_major": 2,
       "version_minor": 0
      },
      "text/plain": [
       "  0%|          | 0/697 [00:00<?, ?cell/s]"
      ]
     },
     "metadata": {},
     "output_type": "display_data"
    },
    {
     "data": {
      "application/vnd.jupyter.widget-view+json": {
       "model_id": "34ffc3d5a2d54cf7bbed8139acfa4af4",
       "version_major": 2,
       "version_minor": 0
      },
      "text/plain": [
       "  0%|          | 0/697 [00:00<?, ?cell/s]"
      ]
     },
     "metadata": {},
     "output_type": "display_data"
    },
    {
     "data": {
      "application/vnd.jupyter.widget-view+json": {
       "model_id": "88364fbad7424d9f9a3a941b4b4ee0c8",
       "version_major": 2,
       "version_minor": 0
      },
      "text/plain": [
       "  0%|          | 0/697 [00:00<?, ?cell/s]"
      ]
     },
     "metadata": {},
     "output_type": "display_data"
    },
    {
     "data": {
      "application/vnd.jupyter.widget-view+json": {
       "model_id": "ba144891a8534fdc93a20c185afccd63",
       "version_major": 2,
       "version_minor": 0
      },
      "text/plain": [
       "  0%|          | 0/697 [00:00<?, ?cell/s]"
      ]
     },
     "metadata": {},
     "output_type": "display_data"
    },
    {
     "data": {
      "application/vnd.jupyter.widget-view+json": {
       "model_id": "502789b986f740dc85cb03192e943c7a",
       "version_major": 2,
       "version_minor": 0
      },
      "text/plain": [
       "  0%|          | 0/697 [00:00<?, ?cell/s]"
      ]
     },
     "metadata": {},
     "output_type": "display_data"
    },
    {
     "data": {
      "application/vnd.jupyter.widget-view+json": {
       "model_id": "d1de242966e24e0cb990f8a7b2ec584b",
       "version_major": 2,
       "version_minor": 0
      },
      "text/plain": [
       "  0%|          | 0/697 [00:00<?, ?cell/s]"
      ]
     },
     "metadata": {},
     "output_type": "display_data"
    },
    {
     "data": {
      "application/vnd.jupyter.widget-view+json": {
       "model_id": "76fd5197ff864b40a2bcc5181a1557a0",
       "version_major": 2,
       "version_minor": 0
      },
      "text/plain": [
       "  0%|          | 0/697 [00:00<?, ?cell/s]"
      ]
     },
     "metadata": {},
     "output_type": "display_data"
    },
    {
     "data": {
      "application/vnd.jupyter.widget-view+json": {
       "model_id": "9a8714269e4a4295a9fb6b16d7a78ac6",
       "version_major": 2,
       "version_minor": 0
      },
      "text/plain": [
       "  0%|          | 0/697 [00:00<?, ?cell/s]"
      ]
     },
     "metadata": {},
     "output_type": "display_data"
    },
    {
     "data": {
      "application/vnd.jupyter.widget-view+json": {
       "model_id": "b48a2b15b8ef4c24a17c0613602d753d",
       "version_major": 2,
       "version_minor": 0
      },
      "text/plain": [
       "  0%|          | 0/697 [00:00<?, ?cell/s]"
      ]
     },
     "metadata": {},
     "output_type": "display_data"
    },
    {
     "data": {
      "application/vnd.jupyter.widget-view+json": {
       "model_id": "3e1e62b29a684693a5443da846847d90",
       "version_major": 2,
       "version_minor": 0
      },
      "text/plain": [
       "  0%|          | 0/697 [00:00<?, ?cell/s]"
      ]
     },
     "metadata": {},
     "output_type": "display_data"
    },
    {
     "data": {
      "application/vnd.jupyter.widget-view+json": {
       "model_id": "ede050d522654a8abc5f24b8e65952d9",
       "version_major": 2,
       "version_minor": 0
      },
      "text/plain": [
       "  0%|          | 0/697 [00:00<?, ?cell/s]"
      ]
     },
     "metadata": {},
     "output_type": "display_data"
    },
    {
     "data": {
      "application/vnd.jupyter.widget-view+json": {
       "model_id": "a1cf423d9f0d466f90d6314ff5c652ca",
       "version_major": 2,
       "version_minor": 0
      },
      "text/plain": [
       "  0%|          | 0/697 [00:00<?, ?cell/s]"
      ]
     },
     "metadata": {},
     "output_type": "display_data"
    },
    {
     "data": {
      "application/vnd.jupyter.widget-view+json": {
       "model_id": "8f775850d8d0462483092a0718d703f0",
       "version_major": 2,
       "version_minor": 0
      },
      "text/plain": [
       "  0%|          | 0/697 [00:00<?, ?cell/s]"
      ]
     },
     "metadata": {},
     "output_type": "display_data"
    },
    {
     "data": {
      "application/vnd.jupyter.widget-view+json": {
       "model_id": "7f83ddf647c44c24952ee860506c2763",
       "version_major": 2,
       "version_minor": 0
      },
      "text/plain": [
       "  0%|          | 0/697 [00:00<?, ?cell/s]"
      ]
     },
     "metadata": {},
     "output_type": "display_data"
    },
    {
     "data": {
      "application/vnd.jupyter.widget-view+json": {
       "model_id": "8fcddcc3dba14eee87c61c688aa9282c",
       "version_major": 2,
       "version_minor": 0
      },
      "text/plain": [
       "  0%|          | 0/697 [00:00<?, ?cell/s]"
      ]
     },
     "metadata": {},
     "output_type": "display_data"
    },
    {
     "data": {
      "application/vnd.jupyter.widget-view+json": {
       "model_id": "1b4cd3d599864af081b9e24470ba3cda",
       "version_major": 2,
       "version_minor": 0
      },
      "text/plain": [
       "  0%|          | 0/697 [00:00<?, ?cell/s]"
      ]
     },
     "metadata": {},
     "output_type": "display_data"
    },
    {
     "data": {
      "image/png": "[encoded data removed]",
      "text/plain": [
       "<Figure size 600x450 with 1 Axes>"
      ]
     },
     "metadata": {},
     "output_type": "display_data"
    }
   ],
   "source": [
    "comp.evaluate(side_information='CBC',\n",
    "              side_key = 'stage_num')\n",
    "comp.plot_results(side_information='CBC')"
   ]
  }
 ],
 "metadata": {
  "kernelspec": {
   "display_name": "regvelo-py310",
   "language": "python",
   "name": "python3"
  },
  "language_info": {
   "codemirror_mode": {
    "name": "ipython",
    "version": 3
   },
   "file_extension": ".py",
   "mimetype": "text/x-python",
   "name": "python",
   "nbconvert_exporter": "python",
   "pygments_lexer": "ipython3",
   "version": "3.10.16"
  }
 },
 "nbformat": 4,
 "nbformat_minor": 5
}
