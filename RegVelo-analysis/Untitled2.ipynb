{
 "cells": [
  {
   "cell_type": "code",
   "execution_count": 1,
   "id": "d5335ee2-c67a-407d-ba4f-71d880a62965",
   "metadata": {},
   "outputs": [],
   "source": [
    "import torch"
   ]
  },
  {
   "cell_type": "code",
   "execution_count": 2,
   "id": "3531ac61-4d88-4a77-993d-7f0c6df1218a",
   "metadata": {},
   "outputs": [],
   "source": [
    "scale_unconstr = torch.nn.Parameter(-1 * torch.ones(250, 4))"
   ]
  },
  {
   "cell_type": "code",
   "execution_count": 4,
   "id": "faf9a166-f886-4a12-acc4-85667a3d42b6",
   "metadata": {},
   "outputs": [],
   "source": [
    "import torch.nn.functional as F\n",
    "scale = F.softplus(scale_unconstr)"
   ]
  },
  {
   "cell_type": "code",
   "execution_count": 6,
   "id": "d7ff7525-6fc4-4fb7-a7fa-3e1188a07846",
   "metadata": {},
   "outputs": [],
   "source": [
    "scale_s = scale.expand(128, 250, 4).sqrt()"
   ]
  },
  {
   "cell_type": "code",
   "execution_count": 11,
   "id": "6afd0a37-08d9-4c8f-896e-3df787c6fa5d",
   "metadata": {},
   "outputs": [
    {
     "data": {
      "text/plain": [
       "torch.Size([128, 250])"
      ]
     },
     "execution_count": 11,
     "metadata": {},
     "output_type": "execute_result"
    }
   ],
   "source": [
    "scale_s[..., 0].shape"
   ]
  },
  {
   "cell_type": "code",
   "execution_count": null,
   "id": "7b5daf6c-9f62-4a58-bfbc-13027763a477",
   "metadata": {},
   "outputs": [],
   "source": []
  }
 ],
 "metadata": {
  "kernelspec": {
   "display_name": "Python 3 (ipykernel)",
   "language": "python",
   "name": "python3"
  },
  "language_info": {
   "codemirror_mode": {
    "name": "ipython",
    "version": 3
   },
   "file_extension": ".py",
   "mimetype": "text/x-python",
   "name": "python",
   "nbconvert_exporter": "python",
   "pygments_lexer": "ipython3",
   "version": "3.10.0"
  }
 },
 "nbformat": 4,
 "nbformat_minor": 5
}
