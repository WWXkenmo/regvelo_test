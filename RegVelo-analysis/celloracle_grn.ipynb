{
 "cells": [
  {
   "cell_type": "code",
   "execution_count": 1,
   "id": "6a28efd9-1def-4de2-b59d-b5f4aa94368f",
   "metadata": {},
   "outputs": [],
   "source": [
    "import os\n",
    "import sys\n",
    "\n",
    "import matplotlib.pyplot as plt\n",
    "import numpy as np\n",
    "import pandas as pd\n",
    "import scanpy as sc\n",
    "import seaborn as sns"
   ]
  },
  {
   "cell_type": "code",
   "execution_count": 2,
   "id": "05fd8ddd-4d95-4814-a0ac-d3b94495ef2a",
   "metadata": {},
   "outputs": [
    {
     "name": "stderr",
     "output_type": "stream",
     "text": [
      "INFO:matplotlib.font_manager:Failed to extract font properties from /System/Library/Fonts/Supplemental/NISC18030.ttf: In FT2Font: Could not set the fontsize (invalid pixel size; error code 0x17)\n",
      "INFO:matplotlib.font_manager:Failed to extract font properties from /System/Library/Fonts/LastResort.otf: tuple indices must be integers or slices, not str\n",
      "INFO:matplotlib.font_manager:Failed to extract font properties from /System/Library/Fonts/Apple Color Emoji.ttc: In FT2Font: Could not set the fontsize (invalid pixel size; error code 0x17)\n"
     ]
    },
    {
     "data": {
      "text/plain": [
       "'0.12.0'"
      ]
     },
     "execution_count": 2,
     "metadata": {},
     "output_type": "execute_result"
    }
   ],
   "source": [
    "import celloracle as co\n",
    "co.__version__"
   ]
  },
  {
   "cell_type": "code",
   "execution_count": 3,
   "id": "8511fb5b-fa51-4eeb-8ba3-4fe4f555239a",
   "metadata": {},
   "outputs": [],
   "source": [
    "# visualization settings\n",
    "%config InlineBackend.figure_format = 'retina'\n",
    "%matplotlib inline\n",
    "\n",
    "plt.rcParams['figure.figsize'] = [6, 4.5]\n",
    "plt.rcParams[\"savefig.dpi\"] = 300"
   ]
  },
  {
   "cell_type": "code",
   "execution_count": 4,
   "id": "9a4089f7-4679-4524-adaa-64d339694cc8",
   "metadata": {},
   "outputs": [],
   "source": [
    "save_folder = \"figures\"\n",
    "os.makedirs(save_folder, exist_ok=True)"
   ]
  },
  {
   "cell_type": "code",
   "execution_count": 9,
   "id": "1ac3817f-250d-42fa-b018-d19c5d6e3020",
   "metadata": {},
   "outputs": [
    {
     "data": {
      "text/plain": [
       "AnnData object with n_obs × n_vars = 2671 × 1999\n",
       "    obs: 'paul15_clusters', 'n_counts_all', 'n_counts', 'louvain', 'cell_type', 'louvain_annot', 'dpt_pseudotime'\n",
       "    var: 'n_counts'\n",
       "    uns: 'cell_type_colors', 'diffmap_evals', 'draw_graph', 'iroot', 'louvain', 'louvain_annot_colors', 'louvain_colors', 'louvain_sizes', 'neighbors', 'paga', 'paul15_clusters_colors', 'pca'\n",
       "    obsm: 'X_diffmap', 'X_draw_graph_fa', 'X_pca'\n",
       "    varm: 'PCs'\n",
       "    layers: 'raw_count'\n",
       "    obsp: 'connectivities', 'distances'"
      ]
     },
     "execution_count": 9,
     "metadata": {},
     "output_type": "execute_result"
    }
   ],
   "source": [
    "# Load data.\n",
    "# Here, we will use a hematopoiesis data by Paul 2015.\n",
    "# You can load preprocessed data using a celloracle function as follows.\n",
    "adata = sc.read_h5ad(\"/Users/weixu.wang/Downloads/Paul_etal_v202204.h5ad\")\n",
    "adata"
   ]
  },
  {
   "cell_type": "code",
   "execution_count": 10,
   "id": "299ee063-96b5-4bcc-875b-ed9b6660e4f8",
   "metadata": {},
   "outputs": [
    {
     "name": "stdout",
     "output_type": "stream",
     "text": [
      "Cell number is :2671\n",
      "Gene number is :1999\n"
     ]
    }
   ],
   "source": [
    "print(f\"Cell number is :{adata.shape[0]}\")\n",
    "print(f\"Gene number is :{adata.shape[1]}\")"
   ]
  },
  {
   "cell_type": "code",
   "execution_count": 11,
   "id": "6756cb32-9dbd-452b-8712-b3577f5ce362",
   "metadata": {},
   "outputs": [
    {
     "name": "stdout",
     "output_type": "stream",
     "text": [
      "Data not found in the local folder. Loading data from github. Data will be saved at /Users/weixu.wang/celloracle_data/TFinfo_data\n"
     ]
    },
    {
     "data": {
      "application/vnd.jupyter.widget-view+json": {
       "model_id": "1387794cc80f4a14903189886925399b",
       "version_major": 2,
       "version_minor": 0
      },
      "text/plain": [
       "  0%|          | 0.00/9.01M [00:00<?, ?B/s]"
      ]
     },
     "metadata": {},
     "output_type": "display_data"
    }
   ],
   "source": [
    "base_GRN = co.data.load_mouse_scATAC_atlas_base_GRN()"
   ]
  },
  {
   "cell_type": "code",
   "execution_count": 12,
   "id": "d2d21276-c3f3-4c52-89c8-894765057896",
   "metadata": {},
   "outputs": [
    {
     "data": {
      "text/html": [
       "<div>\n",
       "<style scoped>\n",
       "    .dataframe tbody tr th:only-of-type {\n",
       "        vertical-align: middle;\n",
       "    }\n",
       "\n",
       "    .dataframe tbody tr th {\n",
       "        vertical-align: top;\n",
       "    }\n",
       "\n",
       "    .dataframe thead th {\n",
       "        text-align: right;\n",
       "    }\n",
       "</style>\n",
       "<table border=\"1\" class=\"dataframe\">\n",
       "  <thead>\n",
       "    <tr style=\"text-align: right;\">\n",
       "      <th></th>\n",
       "      <th>peak_id</th>\n",
       "      <th>gene_short_name</th>\n",
       "      <th>9430076c15rik</th>\n",
       "      <th>Ac002126.6</th>\n",
       "      <th>Ac012531.1</th>\n",
       "      <th>Ac226150.2</th>\n",
       "      <th>Afp</th>\n",
       "      <th>Ahr</th>\n",
       "      <th>Ahrr</th>\n",
       "      <th>Aire</th>\n",
       "      <th>...</th>\n",
       "      <th>Znf784</th>\n",
       "      <th>Znf8</th>\n",
       "      <th>Znf816</th>\n",
       "      <th>Znf85</th>\n",
       "      <th>Zscan10</th>\n",
       "      <th>Zscan16</th>\n",
       "      <th>Zscan22</th>\n",
       "      <th>Zscan26</th>\n",
       "      <th>Zscan31</th>\n",
       "      <th>Zscan4</th>\n",
       "    </tr>\n",
       "  </thead>\n",
       "  <tbody>\n",
       "    <tr>\n",
       "      <th>0</th>\n",
       "      <td>chr10_100050979_100052296</td>\n",
       "      <td>4930430F08Rik</td>\n",
       "      <td>0.0</td>\n",
       "      <td>0.0</td>\n",
       "      <td>1.0</td>\n",
       "      <td>0.0</td>\n",
       "      <td>0.0</td>\n",
       "      <td>0.0</td>\n",
       "      <td>0.0</td>\n",
       "      <td>0.0</td>\n",
       "      <td>...</td>\n",
       "      <td>0.0</td>\n",
       "      <td>0.0</td>\n",
       "      <td>0.0</td>\n",
       "      <td>0.0</td>\n",
       "      <td>0.0</td>\n",
       "      <td>0.0</td>\n",
       "      <td>0.0</td>\n",
       "      <td>0.0</td>\n",
       "      <td>0.0</td>\n",
       "      <td>0.0</td>\n",
       "    </tr>\n",
       "    <tr>\n",
       "      <th>1</th>\n",
       "      <td>chr10_101006922_101007748</td>\n",
       "      <td>SNORA17</td>\n",
       "      <td>0.0</td>\n",
       "      <td>0.0</td>\n",
       "      <td>0.0</td>\n",
       "      <td>0.0</td>\n",
       "      <td>0.0</td>\n",
       "      <td>0.0</td>\n",
       "      <td>0.0</td>\n",
       "      <td>0.0</td>\n",
       "      <td>...</td>\n",
       "      <td>0.0</td>\n",
       "      <td>0.0</td>\n",
       "      <td>0.0</td>\n",
       "      <td>0.0</td>\n",
       "      <td>0.0</td>\n",
       "      <td>0.0</td>\n",
       "      <td>0.0</td>\n",
       "      <td>0.0</td>\n",
       "      <td>1.0</td>\n",
       "      <td>0.0</td>\n",
       "    </tr>\n",
       "    <tr>\n",
       "      <th>2</th>\n",
       "      <td>chr10_101144061_101145000</td>\n",
       "      <td>Mgat4c</td>\n",
       "      <td>0.0</td>\n",
       "      <td>0.0</td>\n",
       "      <td>0.0</td>\n",
       "      <td>0.0</td>\n",
       "      <td>0.0</td>\n",
       "      <td>0.0</td>\n",
       "      <td>0.0</td>\n",
       "      <td>0.0</td>\n",
       "      <td>...</td>\n",
       "      <td>0.0</td>\n",
       "      <td>0.0</td>\n",
       "      <td>0.0</td>\n",
       "      <td>0.0</td>\n",
       "      <td>0.0</td>\n",
       "      <td>0.0</td>\n",
       "      <td>0.0</td>\n",
       "      <td>0.0</td>\n",
       "      <td>0.0</td>\n",
       "      <td>1.0</td>\n",
       "    </tr>\n",
       "    <tr>\n",
       "      <th>3</th>\n",
       "      <td>chr10_10148873_10149183</td>\n",
       "      <td>9130014G24Rik</td>\n",
       "      <td>0.0</td>\n",
       "      <td>0.0</td>\n",
       "      <td>0.0</td>\n",
       "      <td>0.0</td>\n",
       "      <td>0.0</td>\n",
       "      <td>0.0</td>\n",
       "      <td>0.0</td>\n",
       "      <td>0.0</td>\n",
       "      <td>...</td>\n",
       "      <td>0.0</td>\n",
       "      <td>0.0</td>\n",
       "      <td>0.0</td>\n",
       "      <td>0.0</td>\n",
       "      <td>0.0</td>\n",
       "      <td>0.0</td>\n",
       "      <td>0.0</td>\n",
       "      <td>0.0</td>\n",
       "      <td>0.0</td>\n",
       "      <td>0.0</td>\n",
       "    </tr>\n",
       "    <tr>\n",
       "      <th>4</th>\n",
       "      <td>chr10_10149425_10149815</td>\n",
       "      <td>9130014G24Rik</td>\n",
       "      <td>0.0</td>\n",
       "      <td>0.0</td>\n",
       "      <td>0.0</td>\n",
       "      <td>0.0</td>\n",
       "      <td>0.0</td>\n",
       "      <td>0.0</td>\n",
       "      <td>0.0</td>\n",
       "      <td>0.0</td>\n",
       "      <td>...</td>\n",
       "      <td>0.0</td>\n",
       "      <td>0.0</td>\n",
       "      <td>0.0</td>\n",
       "      <td>0.0</td>\n",
       "      <td>0.0</td>\n",
       "      <td>0.0</td>\n",
       "      <td>0.0</td>\n",
       "      <td>0.0</td>\n",
       "      <td>0.0</td>\n",
       "      <td>0.0</td>\n",
       "    </tr>\n",
       "    <tr>\n",
       "      <th>...</th>\n",
       "      <td>...</td>\n",
       "      <td>...</td>\n",
       "      <td>...</td>\n",
       "      <td>...</td>\n",
       "      <td>...</td>\n",
       "      <td>...</td>\n",
       "      <td>...</td>\n",
       "      <td>...</td>\n",
       "      <td>...</td>\n",
       "      <td>...</td>\n",
       "      <td>...</td>\n",
       "      <td>...</td>\n",
       "      <td>...</td>\n",
       "      <td>...</td>\n",
       "      <td>...</td>\n",
       "      <td>...</td>\n",
       "      <td>...</td>\n",
       "      <td>...</td>\n",
       "      <td>...</td>\n",
       "      <td>...</td>\n",
       "      <td>...</td>\n",
       "    </tr>\n",
       "    <tr>\n",
       "      <th>91971</th>\n",
       "      <td>chrX_99839037_99840900</td>\n",
       "      <td>Phka1</td>\n",
       "      <td>0.0</td>\n",
       "      <td>0.0</td>\n",
       "      <td>0.0</td>\n",
       "      <td>0.0</td>\n",
       "      <td>0.0</td>\n",
       "      <td>0.0</td>\n",
       "      <td>0.0</td>\n",
       "      <td>0.0</td>\n",
       "      <td>...</td>\n",
       "      <td>0.0</td>\n",
       "      <td>0.0</td>\n",
       "      <td>0.0</td>\n",
       "      <td>0.0</td>\n",
       "      <td>0.0</td>\n",
       "      <td>0.0</td>\n",
       "      <td>0.0</td>\n",
       "      <td>0.0</td>\n",
       "      <td>0.0</td>\n",
       "      <td>1.0</td>\n",
       "    </tr>\n",
       "    <tr>\n",
       "      <th>91972</th>\n",
       "      <td>chrY_345823_347369</td>\n",
       "      <td>Eif2s3y</td>\n",
       "      <td>0.0</td>\n",
       "      <td>0.0</td>\n",
       "      <td>0.0</td>\n",
       "      <td>0.0</td>\n",
       "      <td>0.0</td>\n",
       "      <td>0.0</td>\n",
       "      <td>0.0</td>\n",
       "      <td>0.0</td>\n",
       "      <td>...</td>\n",
       "      <td>0.0</td>\n",
       "      <td>0.0</td>\n",
       "      <td>0.0</td>\n",
       "      <td>0.0</td>\n",
       "      <td>0.0</td>\n",
       "      <td>0.0</td>\n",
       "      <td>0.0</td>\n",
       "      <td>0.0</td>\n",
       "      <td>0.0</td>\n",
       "      <td>0.0</td>\n",
       "    </tr>\n",
       "    <tr>\n",
       "      <th>91973</th>\n",
       "      <td>chrY_581272_582790</td>\n",
       "      <td>Uty</td>\n",
       "      <td>0.0</td>\n",
       "      <td>0.0</td>\n",
       "      <td>1.0</td>\n",
       "      <td>0.0</td>\n",
       "      <td>0.0</td>\n",
       "      <td>0.0</td>\n",
       "      <td>0.0</td>\n",
       "      <td>0.0</td>\n",
       "      <td>...</td>\n",
       "      <td>1.0</td>\n",
       "      <td>0.0</td>\n",
       "      <td>0.0</td>\n",
       "      <td>0.0</td>\n",
       "      <td>0.0</td>\n",
       "      <td>0.0</td>\n",
       "      <td>0.0</td>\n",
       "      <td>0.0</td>\n",
       "      <td>0.0</td>\n",
       "      <td>0.0</td>\n",
       "    </tr>\n",
       "    <tr>\n",
       "      <th>91974</th>\n",
       "      <td>chrY_621772_623366</td>\n",
       "      <td>Ddx3y</td>\n",
       "      <td>0.0</td>\n",
       "      <td>0.0</td>\n",
       "      <td>1.0</td>\n",
       "      <td>0.0</td>\n",
       "      <td>0.0</td>\n",
       "      <td>0.0</td>\n",
       "      <td>0.0</td>\n",
       "      <td>0.0</td>\n",
       "      <td>...</td>\n",
       "      <td>0.0</td>\n",
       "      <td>0.0</td>\n",
       "      <td>0.0</td>\n",
       "      <td>0.0</td>\n",
       "      <td>0.0</td>\n",
       "      <td>0.0</td>\n",
       "      <td>0.0</td>\n",
       "      <td>0.0</td>\n",
       "      <td>0.0</td>\n",
       "      <td>0.0</td>\n",
       "    </tr>\n",
       "    <tr>\n",
       "      <th>91975</th>\n",
       "      <td>chrY_795887_796426</td>\n",
       "      <td>Usp9y</td>\n",
       "      <td>0.0</td>\n",
       "      <td>0.0</td>\n",
       "      <td>0.0</td>\n",
       "      <td>0.0</td>\n",
       "      <td>0.0</td>\n",
       "      <td>0.0</td>\n",
       "      <td>0.0</td>\n",
       "      <td>1.0</td>\n",
       "      <td>...</td>\n",
       "      <td>0.0</td>\n",
       "      <td>0.0</td>\n",
       "      <td>0.0</td>\n",
       "      <td>0.0</td>\n",
       "      <td>0.0</td>\n",
       "      <td>0.0</td>\n",
       "      <td>0.0</td>\n",
       "      <td>0.0</td>\n",
       "      <td>0.0</td>\n",
       "      <td>0.0</td>\n",
       "    </tr>\n",
       "  </tbody>\n",
       "</table>\n",
       "<p>91976 rows × 1095 columns</p>\n",
       "</div>"
      ],
      "text/plain": [
       "                         peak_id gene_short_name  9430076c15rik  Ac002126.6  \\\n",
       "0      chr10_100050979_100052296   4930430F08Rik            0.0         0.0   \n",
       "1      chr10_101006922_101007748         SNORA17            0.0         0.0   \n",
       "2      chr10_101144061_101145000          Mgat4c            0.0         0.0   \n",
       "3        chr10_10148873_10149183   9130014G24Rik            0.0         0.0   \n",
       "4        chr10_10149425_10149815   9130014G24Rik            0.0         0.0   \n",
       "...                          ...             ...            ...         ...   \n",
       "91971     chrX_99839037_99840900           Phka1            0.0         0.0   \n",
       "91972         chrY_345823_347369         Eif2s3y            0.0         0.0   \n",
       "91973         chrY_581272_582790             Uty            0.0         0.0   \n",
       "91974         chrY_621772_623366           Ddx3y            0.0         0.0   \n",
       "91975         chrY_795887_796426           Usp9y            0.0         0.0   \n",
       "\n",
       "       Ac012531.1  Ac226150.2  Afp  Ahr  Ahrr  Aire  ...  Znf784  Znf8  \\\n",
       "0             1.0         0.0  0.0  0.0   0.0   0.0  ...     0.0   0.0   \n",
       "1             0.0         0.0  0.0  0.0   0.0   0.0  ...     0.0   0.0   \n",
       "2             0.0         0.0  0.0  0.0   0.0   0.0  ...     0.0   0.0   \n",
       "3             0.0         0.0  0.0  0.0   0.0   0.0  ...     0.0   0.0   \n",
       "4             0.0         0.0  0.0  0.0   0.0   0.0  ...     0.0   0.0   \n",
       "...           ...         ...  ...  ...   ...   ...  ...     ...   ...   \n",
       "91971         0.0         0.0  0.0  0.0   0.0   0.0  ...     0.0   0.0   \n",
       "91972         0.0         0.0  0.0  0.0   0.0   0.0  ...     0.0   0.0   \n",
       "91973         1.0         0.0  0.0  0.0   0.0   0.0  ...     1.0   0.0   \n",
       "91974         1.0         0.0  0.0  0.0   0.0   0.0  ...     0.0   0.0   \n",
       "91975         0.0         0.0  0.0  0.0   0.0   1.0  ...     0.0   0.0   \n",
       "\n",
       "       Znf816  Znf85  Zscan10  Zscan16  Zscan22  Zscan26  Zscan31  Zscan4  \n",
       "0         0.0    0.0      0.0      0.0      0.0      0.0      0.0     0.0  \n",
       "1         0.0    0.0      0.0      0.0      0.0      0.0      1.0     0.0  \n",
       "2         0.0    0.0      0.0      0.0      0.0      0.0      0.0     1.0  \n",
       "3         0.0    0.0      0.0      0.0      0.0      0.0      0.0     0.0  \n",
       "4         0.0    0.0      0.0      0.0      0.0      0.0      0.0     0.0  \n",
       "...       ...    ...      ...      ...      ...      ...      ...     ...  \n",
       "91971     0.0    0.0      0.0      0.0      0.0      0.0      0.0     1.0  \n",
       "91972     0.0    0.0      0.0      0.0      0.0      0.0      0.0     0.0  \n",
       "91973     0.0    0.0      0.0      0.0      0.0      0.0      0.0     0.0  \n",
       "91974     0.0    0.0      0.0      0.0      0.0      0.0      0.0     0.0  \n",
       "91975     0.0    0.0      0.0      0.0      0.0      0.0      0.0     0.0  \n",
       "\n",
       "[91976 rows x 1095 columns]"
      ]
     },
     "execution_count": 12,
     "metadata": {},
     "output_type": "execute_result"
    }
   ],
   "source": [
    "base_GRN"
   ]
  },
  {
   "cell_type": "code",
   "execution_count": 13,
   "id": "8bce8115-cf55-436a-acff-3c351c2baba4",
   "metadata": {},
   "outputs": [],
   "source": [
    "oracle = co.Oracle()"
   ]
  },
  {
   "cell_type": "code",
   "execution_count": 14,
   "id": "ce2ec45f-608c-46ee-bc34-95b9803c60b9",
   "metadata": {},
   "outputs": [
    {
     "name": "stdout",
     "output_type": "stream",
     "text": [
      "Metadata columns : ['paul15_clusters', 'n_counts_all', 'n_counts', 'louvain', 'cell_type', 'louvain_annot', 'dpt_pseudotime']\n",
      "Dimensional reduction:  ['X_diffmap', 'X_draw_graph_fa', 'X_pca']\n"
     ]
    }
   ],
   "source": [
    "print(\"Metadata columns :\", list(adata.obs.columns))\n",
    "print(\"Dimensional reduction: \", list(adata.obsm.keys()))"
   ]
  },
  {
   "cell_type": "code",
   "execution_count": 15,
   "id": "20b74055-a687-496e-a7bf-50f09ebfb64d",
   "metadata": {},
   "outputs": [],
   "source": [
    "adata.X = adata.layers[\"raw_count\"].copy()\n",
    "\n",
    "# Instantiate Oracle object.\n",
    "oracle.import_anndata_as_raw_count(adata=adata,\n",
    "                                   cluster_column_name=\"louvain_annot\",\n",
    "                                   embedding_name=\"X_draw_graph_fa\")"
   ]
  },
  {
   "cell_type": "code",
   "execution_count": 16,
   "id": "5b747c97-ba87-4cb3-a2c0-f73a89d41c00",
   "metadata": {},
   "outputs": [],
   "source": [
    "oracle.import_TF_data(TF_info_matrix=base_GRN)"
   ]
  },
  {
   "cell_type": "code",
   "execution_count": 17,
   "id": "c779f2b5-3849-4ffd-bc3b-6a7cbcf2af58",
   "metadata": {},
   "outputs": [
    {
     "name": "stdout",
     "output_type": "stream",
     "text": [
      "Loading prebuilt promoter base-GRN. Version: hg19_gimmemotifsv5_fpr2\n",
      "Data not found in the local folder. Loading data from github. Data will be saved at /Users/weixu.wang/celloracle_data/promoter_base_GRN\n"
     ]
    },
    {
     "data": {
      "application/vnd.jupyter.widget-view+json": {
       "model_id": "ebad47be5d064568b881e17d34ae384c",
       "version_major": 2,
       "version_minor": 0
      },
      "text/plain": [
       "  0%|          | 0.00/5.26M [00:00<?, ?B/s]"
      ]
     },
     "metadata": {},
     "output_type": "display_data"
    }
   ],
   "source": [
    "base_GRN = co.data.load_human_promoter_base_GRN()"
   ]
  },
  {
   "cell_type": "code",
   "execution_count": 19,
   "id": "e9eff602-f8c5-4301-bf20-fcbeeabf20a9",
   "metadata": {},
   "outputs": [
    {
     "data": {
      "text/html": [
       "<div>\n",
       "<style scoped>\n",
       "    .dataframe tbody tr th:only-of-type {\n",
       "        vertical-align: middle;\n",
       "    }\n",
       "\n",
       "    .dataframe tbody tr th {\n",
       "        vertical-align: top;\n",
       "    }\n",
       "\n",
       "    .dataframe thead th {\n",
       "        text-align: right;\n",
       "    }\n",
       "</style>\n",
       "<table border=\"1\" class=\"dataframe\">\n",
       "  <thead>\n",
       "    <tr style=\"text-align: right;\">\n",
       "      <th></th>\n",
       "      <th>TF</th>\n",
       "      <th>Target_genes</th>\n",
       "    </tr>\n",
       "  </thead>\n",
       "  <tbody>\n",
       "    <tr>\n",
       "      <th>0</th>\n",
       "      <td>Cebpa</td>\n",
       "      <td>Abcb1b, Acot1, C3, Cnpy3, Dhrs7, Dtx4, Edem2, ...</td>\n",
       "    </tr>\n",
       "    <tr>\n",
       "      <th>1</th>\n",
       "      <td>Irf8</td>\n",
       "      <td>Abcd1, Aif1, BC017643, Cbl, Ccdc109b, Ccl6, d6...</td>\n",
       "    </tr>\n",
       "    <tr>\n",
       "      <th>2</th>\n",
       "      <td>Irf8</td>\n",
       "      <td>1100001G20Rik, 4732418C07Rik, 9230105E10Rik, A...</td>\n",
       "    </tr>\n",
       "    <tr>\n",
       "      <th>3</th>\n",
       "      <td>Klf1</td>\n",
       "      <td>2010011I20Rik, 5730469M10Rik, Acsl6, Add2, Ank...</td>\n",
       "    </tr>\n",
       "    <tr>\n",
       "      <th>4</th>\n",
       "      <td>Spi1</td>\n",
       "      <td>0910001L09Rik, 2310014H01Rik, 4632428N05Rik, A...</td>\n",
       "    </tr>\n",
       "  </tbody>\n",
       "</table>\n",
       "</div>"
      ],
      "text/plain": [
       "      TF                                       Target_genes\n",
       "0  Cebpa  Abcb1b, Acot1, C3, Cnpy3, Dhrs7, Dtx4, Edem2, ...\n",
       "1   Irf8  Abcd1, Aif1, BC017643, Cbl, Ccdc109b, Ccl6, d6...\n",
       "2   Irf8  1100001G20Rik, 4732418C07Rik, 9230105E10Rik, A...\n",
       "3   Klf1  2010011I20Rik, 5730469M10Rik, Acsl6, Add2, Ank...\n",
       "4   Spi1  0910001L09Rik, 2310014H01Rik, 4632428N05Rik, A..."
      ]
     },
     "execution_count": 19,
     "metadata": {},
     "output_type": "execute_result"
    }
   ],
   "source": [
    "Paul_15_data = pd.read_csv(\"TF_data_in_Paul15.csv\")\n",
    "Paul_15_data"
   ]
  },
  {
   "cell_type": "code",
   "execution_count": 20,
   "id": "943b62f0-b4fe-4f28-a2b6-8c5b595507af",
   "metadata": {},
   "outputs": [
    {
     "data": {
      "text/plain": [
       "(5, 2)"
      ]
     },
     "execution_count": 20,
     "metadata": {},
     "output_type": "execute_result"
    }
   ],
   "source": []
  },
  {
   "cell_type": "code",
   "execution_count": null,
   "id": "9d572f71-fbb2-49e5-ae71-4f9922c2da96",
   "metadata": {},
   "outputs": [],
   "source": []
  }
 ],
 "metadata": {
  "kernelspec": {
   "display_name": "Python 3 (ipykernel)",
   "language": "python",
   "name": "python3"
  },
  "language_info": {
   "codemirror_mode": {
    "name": "ipython",
    "version": 3
   },
   "file_extension": ".py",
   "mimetype": "text/x-python",
   "name": "python",
   "nbconvert_exporter": "python",
   "pygments_lexer": "ipython3",
   "version": "3.10.0"
  }
 },
 "nbformat": 4,
 "nbformat_minor": 5
}
