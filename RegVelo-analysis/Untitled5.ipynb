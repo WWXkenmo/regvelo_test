{
 "cells": [
  {
   "cell_type": "code",
   "execution_count": 1,
   "id": "677529ba-cb3d-4c02-9179-29dd133671ec",
   "metadata": {},
   "outputs": [
    {
     "name": "stderr",
     "output_type": "stream",
     "text": [
      "Global seed set to 0\n",
      "/Users/weixu.wang/miniconda3/envs/RegVelo/lib/python3.10/site-packages/flax/core/frozen_dict.py:169: FutureWarning: jax.tree_util.register_keypaths is deprecated, and will be removed in a future release. Please use `register_pytree_with_keys()` instead.\n",
      "  jax.tree_util.register_keypaths(\n"
     ]
    }
   ],
   "source": [
    "#TODO: split as two stage training, 1) Interpolation stage 2) froze encoder and decoder update GRN paramters and Kinetic parameters.\n",
    "from regvelovi import REGVELOVI"
   ]
  },
  {
   "cell_type": "code",
   "execution_count": 2,
   "id": "16de0eb8-66dd-43d2-a99d-f30a59b78b73",
   "metadata": {},
   "outputs": [],
   "source": [
    "import scanpy as sc\n",
    "import numpy as np\n",
    "import pandas as pd\n",
    "import matplotlib.pyplot as plt\n",
    "import scvelo as scv\n",
    "import sctour as rgv\n",
    "from velovi import preprocess_data"
   ]
  },
  {
   "cell_type": "code",
   "execution_count": 3,
   "id": "8f2dcdbe-e2e8-4513-909f-8ce14c478929",
   "metadata": {},
   "outputs": [],
   "source": [
    "scv.set_figure_params()"
   ]
  },
  {
   "cell_type": "code",
   "execution_count": 4,
   "id": "e3f7c419-0bba-4415-b9b9-98c8810a37ab",
   "metadata": {
    "tags": []
   },
   "outputs": [],
   "source": [
    "adata = sc.read_h5ad(\"dataset_branch_v2.h5ad\")"
   ]
  },
  {
   "cell_type": "code",
   "execution_count": 5,
   "id": "56955ee7-5e1a-4b47-acf3-475c6dac7f6d",
   "metadata": {},
   "outputs": [],
   "source": [
    "def sanity_check(adata):\n",
    "    reg_index = [i in adata.var.index.values for i in adata.uns[\"regulators\"]]\n",
    "    tar_index = [i in adata.var.index.values for i in adata.uns[\"targets\"]]\n",
    "    adata.uns[\"regulators\"] = adata.uns[\"regulators\"][reg_index]\n",
    "    adata.uns[\"targets\"] = adata.uns[\"targets\"][tar_index]\n",
    "    W = adata.uns[\"skeleton\"]\n",
    "    W = W[reg_index,:]\n",
    "    W = W[:,tar_index]\n",
    "    adata.uns[\"skeleton\"] = W\n",
    "    W = adata.uns[\"network\"]\n",
    "    W = W[reg_index,:]\n",
    "    W = W[:,tar_index]\n",
    "    adata.uns[\"network\"] = W\n",
    "    \n",
    "    regulators = adata.uns[\"regulators\"][adata.uns[\"skeleton\"].sum(1) > 0]\n",
    "    targets = adata.uns[\"targets\"][adata.uns[\"skeleton\"].sum(0) > 0]\n",
    "    \n",
    "    adata = adata[:,np.unique(regulators.tolist()+targets.tolist())].copy()\n",
    "    \n",
    "    ## to make sure consistency\n",
    "    regulator_index = [i in regulators for i in adata.var.index.values]\n",
    "    target_index = [i in targets for i in adata.var.index.values]\n",
    "    regulators = adata.var.index.values[regulator_index]\n",
    "    targets = adata.var.index.values[target_index]\n",
    "    print(\"num regulators: \"+str(len(regulators)))\n",
    "    print(\"num targets: \"+str(len(targets)))\n",
    "    \n",
    "    W = pd.DataFrame(adata.uns[\"skeleton\"],index = adata.uns[\"regulators\"],columns = adata.uns[\"targets\"])\n",
    "    W = W.loc[regulators,targets]\n",
    "    adata.uns[\"skeleton\"] = W\n",
    "    W = pd.DataFrame(adata.uns[\"network\"],index = adata.uns[\"regulators\"],columns = adata.uns[\"targets\"])\n",
    "    W = W.loc[regulators,targets]\n",
    "    adata.uns[\"network\"] = W\n",
    "    \n",
    "    adata.uns[\"regulators\"] = regulators\n",
    "    adata.uns[\"targets\"] = targets\n",
    "    \n",
    "    return adata"
   ]
  },
  {
   "cell_type": "code",
   "execution_count": 6,
   "id": "07af1e48-b411-4f1d-8762-b3b8e43d3492",
   "metadata": {},
   "outputs": [
    {
     "data": {
      "text/plain": [
       "(280, 280)"
      ]
     },
     "execution_count": 6,
     "metadata": {},
     "output_type": "execute_result"
    }
   ],
   "source": [
    "adata.uns[\"skeleton\"].shape"
   ]
  },
  {
   "cell_type": "code",
   "execution_count": 7,
   "id": "576b5271-1ceb-4fa7-ba13-2779cf5a70f1",
   "metadata": {},
   "outputs": [],
   "source": [
    "adata.X = adata.X.copy()\n",
    "adata.layers[\"spliced\"] = adata.layers[\"counts_spliced\"].copy()\n",
    "adata.layers[\"unspliced\"] = adata.layers[\"counts_unspliced\"].copy()"
   ]
  },
  {
   "cell_type": "code",
   "execution_count": 8,
   "id": "470fe720-91d7-4e79-80ff-3221504b0ca8",
   "metadata": {},
   "outputs": [
    {
     "name": "stdout",
     "output_type": "stream",
     "text": [
      "Filtered out 14 genes that are detected 5 counts (shared).\n",
      "Normalized count data: X, spliced, unspliced.\n",
      "Skip filtering by dispersion since number of variables are less than `n_top_genes`.\n",
      "WARNING: Did not modify X as it looks preprocessed already.\n",
      "computing neighbors\n",
      "    finished (0:00:01) --> added \n",
      "    'distances' and 'connectivities', weighted adjacency matrices (adata.obsp)\n",
      "computing moments based on connectivities\n",
      "    finished (0:00:00) --> added \n",
      "    'Ms' and 'Mu', moments of un/spliced abundances (adata.layers)\n"
     ]
    }
   ],
   "source": [
    "scv.pp.filter_and_normalize(adata, min_shared_counts=5, n_top_genes=280)\n",
    "scv.pp.moments(adata, n_pcs=30, n_neighbors=30)"
   ]
  },
  {
   "cell_type": "code",
   "execution_count": 9,
   "id": "8efb8464-435a-45bb-ba1e-b28bb1a1b60f",
   "metadata": {},
   "outputs": [
    {
     "data": {
      "text/plain": [
       "39747.324"
      ]
     },
     "execution_count": 9,
     "metadata": {},
     "output_type": "execute_result"
    }
   ],
   "source": [
    "adata.layers[\"Ms\"].max()"
   ]
  },
  {
   "cell_type": "code",
   "execution_count": 10,
   "id": "f671cb67-c6e1-4f41-ac83-d7668df17e38",
   "metadata": {},
   "outputs": [],
   "source": [
    "adata.X = np.log1p(adata.X.copy())"
   ]
  },
  {
   "cell_type": "code",
   "execution_count": 11,
   "id": "08c40fd4-85bd-483a-81ed-903cf9fa0bb3",
   "metadata": {},
   "outputs": [
    {
     "name": "stdout",
     "output_type": "stream",
     "text": [
      "computing velocities\n",
      "    finished (0:00:00) --> added \n",
      "    'velocity', velocity vectors for each individual cell (adata.layers)\n",
      "num regulators: 88\n",
      "num targets: 133\n"
     ]
    }
   ],
   "source": [
    "adata = preprocess_data(adata)\n",
    "adata = sanity_check(adata)\n",
    "adata.uns[\"Ms\"] = adata.layers[\"Ms\"]\n",
    "adata.uns[\"Mu\"] = adata.layers[\"Mu\"]"
   ]
  },
  {
   "cell_type": "code",
   "execution_count": 272,
   "id": "e55e44a1-f29d-478d-9c8f-0a4023fb9fbd",
   "metadata": {},
   "outputs": [],
   "source": [
    "import torch\n",
    "W = adata.uns[\"skeleton\"].copy()\n",
    "W = torch.tensor(np.array(W)).int()"
   ]
  },
  {
   "cell_type": "code",
   "execution_count": 273,
   "id": "adf5bbe6-9b55-41a9-9d37-94df48615cc7",
   "metadata": {},
   "outputs": [],
   "source": [
    "W = torch.ones(W.shape)"
   ]
  },
  {
   "cell_type": "code",
   "execution_count": 274,
   "id": "2b976904-04d1-402d-a7cf-8c7d31e6fa7d",
   "metadata": {},
   "outputs": [],
   "source": [
    "REGVELOVI.setup_anndata(adata, spliced_layer=\"Ms\", unspliced_layer=\"Mu\")\n",
    "reg_vae = REGVELOVI(adata,W=W.T,lam=100)\n",
    "#reg_vae_0_0001 = REGVELOVI(adata,W=W.T,RBF_interpolate=True,lam = 0.0001)\n",
    "#reg_vae_0_001 = REGVELOVI(adata,W=W.T,RBF_interpolate=True,lam = 0.001)\n",
    "#reg_vae_0_01 = REGVELOVI(adata,W=W.T,RBF_interpolate=True,lam = 0.01)\n",
    "#reg_vae_0_1 = REGVELOVI(adata,W=W.T,RBF_interpolate=True,lam = 0.1)"
   ]
  },
  {
   "cell_type": "code",
   "execution_count": 275,
   "id": "00f2ffc9-55f6-431b-b2d3-d7a703df66e7",
   "metadata": {},
   "outputs": [],
   "source": [
    "reg_vae.module.v_encoder.grn.data[reg_vae.module.v_encoder.grn.data == 1] = 0"
   ]
  },
  {
   "cell_type": "code",
   "execution_count": 276,
   "id": "d438e2d7-e293-4f30-abc5-345e9cfd9aed",
   "metadata": {},
   "outputs": [
    {
     "data": {
      "text/plain": [
       "tensor([[-0.7480, -0.7785, -0.6988,  ...,  0.0215,  0.0174,  0.0176],\n",
       "        [-0.7603, -0.7980, -0.7035,  ...,  0.0256,  0.0248,  0.0222],\n",
       "        [ 0.7320,  0.7771,  0.6723,  ..., -0.0875, -0.0794, -0.0794],\n",
       "        ...,\n",
       "        [-0.8507, -0.8199, -0.8559,  ...,  0.0234,  0.0215,  0.0182],\n",
       "        [ 0.1686,  0.1914,  0.1770,  ..., -0.3571, -0.3257, -0.3338],\n",
       "        [ 0.0454,  0.0865,  0.0711,  ...,  0.0346,  0.0263,  0.0255]])"
      ]
     },
     "execution_count": 276,
     "metadata": {},
     "output_type": "execute_result"
    }
   ],
   "source": [
    "reg_vae.module.v_encoder.grn.data"
   ]
  },
  {
   "cell_type": "code",
   "execution_count": 277,
   "id": "eb563a50-e730-4186-977e-988da0d542a4",
   "metadata": {},
   "outputs": [
    {
     "data": {
      "text/plain": [
       "tensor([[ 1.3294, -2.5432, -1.8126,  ...,  1.1036,  0.5293, -1.2225],\n",
       "        [ 0.2271, -1.9782, -0.3126,  ..., -0.1496, -0.5012,  0.2082],\n",
       "        [ 0.0852, -0.2110,  0.5515,  ..., -1.1339, -1.2568,  1.9815],\n",
       "        ...,\n",
       "        [ 0.0615, -0.3764,  1.1542,  ..., -0.5478, -0.0601,  0.4801],\n",
       "        [ 0.3991, -0.7604, -0.8269,  ..., -0.6638, -1.4477, -0.2326],\n",
       "        [ 0.5715,  1.8567, -0.7052,  ..., -0.7836, -0.1842, -1.4051]])"
      ]
     },
     "execution_count": 277,
     "metadata": {},
     "output_type": "execute_result"
    }
   ],
   "source": [
    "torch.nn.init.normal_(reg_vae.module.v_encoder.grn.data)"
   ]
  },
  {
   "cell_type": "code",
   "execution_count": 278,
   "id": "c7d210c5-f879-4cbc-aed3-7fda184e61f2",
   "metadata": {},
   "outputs": [],
   "source": [
    "coef = np.array(reg_vae.module.v_encoder.grn.data).ravel()\n",
    "coef = coef[coef!=0]\n",
    "coef = np.abs(coef)\n",
    "coef = pd.DataFrame({\"coef\":coef})"
   ]
  },
  {
   "cell_type": "code",
   "execution_count": 279,
   "id": "32a2490b-2a46-4d2e-911b-4995f3c528a0",
   "metadata": {},
   "outputs": [
    {
     "data": {
      "text/plain": [
       "<seaborn.axisgrid.FacetGrid at 0x2a98b01f0>"
      ]
     },
     "execution_count": 279,
     "metadata": {},
     "output_type": "execute_result"
    },
    {
     "data": {
      "image/png": "[encoded data removed]",
      "text/plain": [
       "<Figure size 500x500 with 1 Axes>"
      ]
     },
     "metadata": {
      "image/png": {
       "height": 484,
       "width": 484
      }
     },
     "output_type": "display_data"
    }
   ],
   "source": [
    "import seaborn as sns\n",
    "sns.displot(coef, x=\"coef\", binwidth=0.01)"
   ]
  },
  {
   "cell_type": "code",
   "execution_count": 280,
   "id": "5d7bd9c1-1a96-473b-a21c-884c41d725dc",
   "metadata": {},
   "outputs": [
    {
     "data": {
      "text/plain": [
       "Parameter containing:\n",
       "tensor([0., 0., 0., 0., 0., 0., 0., 0., 0., 0., 0., 0., 0., 0., 0., 0., 0., 0., 0., 0., 0., 0., 0., 0.,\n",
       "        0., 0., 0., 0., 0., 0., 0., 0., 0., 0., 0., 0., 0., 0., 0., 0., 0., 0., 0., 0., 0., 0., 0., 0.,\n",
       "        0., 0., 0., 0., 0., 0., 0., 0., 0., 0., 0., 0., 0., 0., 0., 0., 0., 0., 0., 0., 0., 0., 0., 0.,\n",
       "        0., 0., 0., 0., 0., 0., 0., 0., 0., 0., 0., 0., 0., 0., 0., 0., 0., 0., 0., 0., 0., 0., 0., 0.,\n",
       "        0., 0., 0., 0., 0., 0., 0., 0., 0., 0., 0., 0., 0., 0., 0., 0., 0., 0., 0., 0., 0., 0., 0., 0.,\n",
       "        0., 0., 0., 0., 0., 0., 0., 0., 0., 0., 0., 0., 0.],\n",
       "       requires_grad=True)"
      ]
     },
     "execution_count": 280,
     "metadata": {},
     "output_type": "execute_result"
    }
   ],
   "source": [
    "reg_vae.module.alpha_1_unconstr"
   ]
  },
  {
   "cell_type": "code",
   "execution_count": 281,
   "id": "609cdcc2-5893-4c92-8b43-34f0d0150f1f",
   "metadata": {},
   "outputs": [],
   "source": [
    "reg_vae.module.dirichlet_concentration = torch.tensor([0.8,0.1,0.1])\n",
    "#reg_vae_0_0001.module.dirichlet_concentration = torch.tensor([0.8,0.1,0.1])\n",
    "#reg_vae_0_001.module.dirichlet_concentration = torch.tensor([0.8,0.1,0.1])\n",
    "#reg_vae_0_01.module.dirichlet_concentration = torch.tensor([0.8,0.1,0.1])\n",
    "#reg_vae_0_1.module.dirichlet_concentration = torch.tensor([0.8,0.1,0.1])"
   ]
  },
  {
   "cell_type": "code",
   "execution_count": 282,
   "id": "10100814-26ca-42de-b4a3-0838080cd2f1",
   "metadata": {},
   "outputs": [
    {
     "data": {
      "text/plain": [
       "tensor([0.8000, 0.1000, 0.1000])"
      ]
     },
     "execution_count": 282,
     "metadata": {},
     "output_type": "execute_result"
    }
   ],
   "source": [
    "reg_vae.module.dirichlet_concentration"
   ]
  },
  {
   "cell_type": "code",
   "execution_count": 283,
   "id": "3d53db34-e8f7-4840-ade0-2525a3634bc0",
   "metadata": {},
   "outputs": [
    {
     "data": {
      "text/plain": [
       "Parameter containing:\n",
       "tensor([0.2837, 0.3349, 0.4678, 0.0175, 0.4040, 0.3680, 0.4183, 0.3693, 0.3043,\n",
       "        0.4052, 0.4751, 0.4462, 0.4470, 0.4189, 0.4169, 0.5017, 0.4129, 0.4602,\n",
       "        0.4169, 0.4801, 0.4721, 0.4369, 0.4919, 0.3943, 0.4950, 0.4681, 0.4105,\n",
       "        0.4673, 0.4862, 0.4699, 0.4875, 0.4375, 0.2296, 0.4422, 0.3303, 0.5031,\n",
       "        0.3417, 0.4225, 0.3829, 0.3684, 0.4063, 0.3868, 0.4212, 0.4071, 0.4460,\n",
       "        0.4173, 0.4596, 0.3101, 0.4275, 0.3168, 0.4852, 0.4858, 0.3787, 0.5065,\n",
       "        0.4598, 0.4485, 0.4762, 0.5033, 0.3864, 0.4375, 0.2525, 0.3609, 0.4121,\n",
       "        0.2830, 0.2591, 0.4056, 0.4220, 0.4145, 0.4183, 0.4791, 0.4869, 0.4208,\n",
       "        0.3835, 0.3845, 0.4808, 0.2246, 0.4352, 0.4272, 0.4049, 0.2792, 0.2199,\n",
       "        0.2697, 0.4384, 0.2978, 0.4583, 0.3149, 0.4215, 0.2221, 0.3554, 0.1695,\n",
       "        0.4504, 0.3040, 0.4098, 0.4145, 0.4269, 0.3463, 0.4876, 0.4190, 0.2121,\n",
       "        0.2435, 0.1957, 0.2750, 0.3196, 0.2718, 0.4824, 0.3453, 0.4284, 0.2497,\n",
       "        0.4257, 0.0457, 0.3974, 0.4154, 0.4696, 0.4468, 0.4031, 0.4718, 0.3683,\n",
       "        0.4510, 0.3017, 0.3698, 0.4518, 0.3805, 0.0638, 0.4184, 0.5237, 0.3430,\n",
       "        0.2172, 0.3443, 0.3860, 0.4706, 0.4603, 0.3059, 0.3987],\n",
       "       requires_grad=True)"
      ]
     },
     "execution_count": 283,
     "metadata": {},
     "output_type": "execute_result"
    }
   ],
   "source": [
    "reg_vae.module.v_encoder.alpha_unconstr_bias"
   ]
  },
  {
   "cell_type": "code",
   "execution_count": 284,
   "id": "714768cb-1119-4b2c-8244-b621528c59a8",
   "metadata": {
    "tags": []
   },
   "outputs": [
    {
     "name": "stderr",
     "output_type": "stream",
     "text": [
      "GPU available: True (mps), used: False\n",
      "TPU available: False, using: 0 TPU cores\n",
      "IPU available: False, using: 0 IPUs\n",
      "HPU available: False, using: 0 HPUs\n"
     ]
    },
    {
     "name": "stdout",
     "output_type": "stream",
     "text": [
      "Model is in pretraining stage...\n",
      "Epoch 369/500:  74%|████████████████████████████████████▏            | 369/500 [06:14<02:13,  1.02s/it, loss=-444, v_num=1]\n",
      "Monitored metric elbo_validation did not improve in the last 45 records. Best score: 0.267. Signaling Trainer to stop.\n"
     ]
    }
   ],
   "source": [
    "reg_vae.train(max_epochs=500,lr=0.01,optimizer = \"AdamW\",weight_decay = 1e-5)\n",
    "#reg_vae_0_0001.train(max_epochs=1000,lr=0.01,optimizer = \"AdamW\",weight_decay = 1e-5)\n",
    "#reg_vae_0_001.train(max_epochs=1000,lr=0.01,optimizer = \"AdamW\",weight_decay = 1e-5)\n",
    "#reg_vae_0_01.train(max_epochs=1000,lr=0.01,optimizer = \"AdamW\",weight_decay = 1e-5)\n",
    "#reg_vae_0_1.train(max_epochs=1000,lr=0.01,optimizer = \"AdamW\",weight_decay = 1e-5)"
   ]
  },
  {
   "cell_type": "code",
   "execution_count": 218,
   "id": "5c087abb-ccf3-4169-ae6b-d0a0573479fc",
   "metadata": {},
   "outputs": [],
   "source": [
    "def GRN_transform(net):\n",
    "    sign_net = torch.sign(net)\n",
    "    net_weight = torch.abs(net)\n",
    "    net_weight = torch.matmul(torch.diag(1 / net_weight.sum(1)),net_weight)\n",
    "    net = sign_net * net_weight\n",
    "    return net"
   ]
  },
  {
   "cell_type": "code",
   "execution_count": 189,
   "id": "c31427fc-e000-4bbb-b7b3-62d16cd1ed28",
   "metadata": {},
   "outputs": [],
   "source": [
    "reg_vae_tuning = REGVELOVI.load_pretrain_model(adata,reg_vae,freeze_grn = False,freeze_kinetic_params = True,freeze_rbf_params = True,freeze_expression=True,freeze_time_decoder=True)"
   ]
  },
  {
   "cell_type": "code",
   "execution_count": 190,
   "id": "4b6e12ce-fea1-4b5a-845d-392ac710754b",
   "metadata": {},
   "outputs": [
    {
     "name": "stderr",
     "output_type": "stream",
     "text": [
      "GPU available: True (mps), used: False\n",
      "TPU available: False, using: 0 TPU cores\n",
      "IPU available: False, using: 0 IPUs\n",
      "HPU available: False, using: 0 HPUs\n"
     ]
    },
    {
     "name": "stdout",
     "output_type": "stream",
     "text": [
      "Model is in refining stage...\n",
      "Epoch 85/200:  42%|█████████████████████▋                             | 85/200 [01:10<01:34,  1.21it/s, loss=-232, v_num=1]\n",
      "Monitored metric validation_loss did not improve in the last 45 records. Best score: -231.210. Signaling Trainer to stop.\n"
     ]
    }
   ],
   "source": [
    "reg_vae_tuning.train(max_epochs=200,lr=0.0001,optimizer = \"AdamW\",weight_decay = 0)"
   ]
  },
  {
   "cell_type": "code",
   "execution_count": 265,
   "id": "068f7b60-7362-48bf-bb16-8003d51e4b97",
   "metadata": {},
   "outputs": [
    {
     "data": {
      "text/plain": [
       "10"
      ]
     },
     "execution_count": 265,
     "metadata": {},
     "output_type": "execute_result"
    }
   ],
   "source": [
    "reg_vae.module.lamba"
   ]
  },
  {
   "cell_type": "code",
   "execution_count": 426,
   "id": "14a41fde-f4b9-4379-bdd2-e17fad388fff",
   "metadata": {},
   "outputs": [
    {
     "name": "stdout",
     "output_type": "stream",
     "text": [
      "switch_time_unconstr False\n",
      "gamma_mean_unconstr False\n",
      "beta_mean_unconstr False\n",
      "alpha_unconstr False\n",
      "alpha_1_unconstr False\n",
      "scale_unconstr_targets False\n",
      "z_encoder.encoder.fc_layers.Layer 0.0.weight False\n",
      "z_encoder.encoder.fc_layers.Layer 0.0.bias False\n",
      "z_encoder.encoder.fc_layers.Layer 0.1.weight False\n",
      "z_encoder.encoder.fc_layers.Layer 0.1.bias False\n",
      "z_encoder.mean_encoder.weight False\n",
      "z_encoder.mean_encoder.bias False\n",
      "z_encoder.var_encoder.weight False\n",
      "z_encoder.var_encoder.bias False\n",
      "decoder.linear_scaling_tau False\n",
      "decoder.linear_scaling_tau_intercept False\n",
      "decoder.rho_first_decoder.fc_layers.Layer 0.0.weight False\n",
      "decoder.rho_first_decoder.fc_layers.Layer 0.0.bias False\n",
      "decoder.rho_first_decoder.fc_layers.Layer 0.1.weight False\n",
      "decoder.rho_first_decoder.fc_layers.Layer 0.1.bias False\n",
      "decoder.pi_first_decoder.fc_layers.Layer 0.0.weight False\n",
      "decoder.pi_first_decoder.fc_layers.Layer 0.0.bias False\n",
      "decoder.pi_first_decoder.fc_layers.Layer 0.1.weight False\n",
      "decoder.pi_first_decoder.fc_layers.Layer 0.1.bias False\n",
      "decoder.px_pi_decoder.weight False\n",
      "decoder.px_pi_decoder.bias False\n",
      "decoder.px_rho_decoder.0.weight False\n",
      "decoder.px_rho_decoder.0.bias False\n",
      "decoder.px_tau_decoder.0.weight False\n",
      "decoder.px_tau_decoder.0.bias False\n",
      "v_encoder.log_h False\n",
      "v_encoder.log_phi False\n",
      "v_encoder.tau False\n",
      "v_encoder.o False\n",
      "v_encoder.grn True\n"
     ]
    }
   ],
   "source": [
    "for k,par in reg_vae_tuning.module.named_parameters():\n",
    "    print(k+\" \"+str(par.requires_grad))"
   ]
  },
  {
   "cell_type": "code",
   "execution_count": 427,
   "id": "a1465b82-67fe-4eb1-b48c-8e0f8d58a2c8",
   "metadata": {},
   "outputs": [
    {
     "data": {
      "text/plain": [
       "Parameter containing:\n",
       "tensor([-1.6810, -1.8000, -4.7933, -1.6264, -1.5476, -1.5197, -1.5531, -1.0916,\n",
       "        -0.8585, -0.9195, -0.7765, -1.0274, -0.8916, -1.0698, -0.7902, -0.5445,\n",
       "        -0.8976, -0.7349, -0.7769, -0.7507, -0.8469, -0.6866, -0.7746, -0.7995,\n",
       "        -0.8045, -0.8610, -0.7964, -0.7565, -0.7939, -0.7232, -0.8963, -0.5108,\n",
       "        -0.7173, -0.7680, -1.0992, -0.8651, -1.0093, -0.8823, -1.0684, -0.8700,\n",
       "        -0.9573, -0.9033, -0.9734, -1.0530, -1.4687, -1.7413, -1.4438, -1.5631,\n",
       "        -1.5587, -1.4829, -1.5573, -1.4818, -0.8175, -0.1688, -1.0106, -0.9546,\n",
       "        -0.9231, -0.8613, -0.8573, -0.8119, -0.9252, -0.9845, -0.9873, -1.0248,\n",
       "        -1.0130, -1.0192, -0.8998, -0.9288, -0.9201, -0.9699, -0.7440, -0.9305,\n",
       "        -0.9500, -0.7705, -0.8767, -0.9311, -0.8792, -0.9250, -0.9508, -1.1101,\n",
       "        -1.8042, -1.6721, -1.6168, -1.6164, -1.4885, -1.6833, -5.4793, -4.8262,\n",
       "        -0.7974, -0.9412, -0.7957, -0.7456, -0.9045, -0.7500, -0.8620, -0.8549,\n",
       "        -0.8015, -0.9401, -0.8325, -0.8388, -0.8603, -0.8030, -0.8664, -0.8513,\n",
       "        -1.0779, -6.8370, -0.9060, -0.9754, -1.2534, -1.1798, -0.8711, -0.9298,\n",
       "        -1.1735, -1.4722, -1.4841, -0.7104, -4.2281, -0.7129, -0.9021, -0.8183,\n",
       "        -1.3981, -0.9046, -0.9869, -1.2684, -1.3895, -0.9164, -1.2690, -1.0540,\n",
       "        -1.1300, -1.6462, -0.6359, -1.3121, -1.3679])"
      ]
     },
     "execution_count": 427,
     "metadata": {},
     "output_type": "execute_result"
    }
   ],
   "source": [
    "reg_vae_tuning.module.v_encoder.gamma_mean_unconstr"
   ]
  },
  {
   "cell_type": "code",
   "execution_count": 428,
   "id": "e0a36589-3590-4ce0-9ba7-84f29384f0b6",
   "metadata": {},
   "outputs": [
    {
     "data": {
      "text/plain": [
       "Parameter containing:\n",
       "tensor([-1.6810, -1.8000, -4.7933, -1.6264, -1.5476, -1.5197, -1.5531, -1.0916,\n",
       "        -0.8585, -0.9195, -0.7765, -1.0274, -0.8916, -1.0698, -0.7902, -0.5445,\n",
       "        -0.8976, -0.7349, -0.7769, -0.7507, -0.8469, -0.6866, -0.7746, -0.7995,\n",
       "        -0.8045, -0.8610, -0.7964, -0.7565, -0.7939, -0.7232, -0.8963, -0.5108,\n",
       "        -0.7173, -0.7680, -1.0992, -0.8651, -1.0093, -0.8823, -1.0684, -0.8700,\n",
       "        -0.9573, -0.9033, -0.9734, -1.0530, -1.4687, -1.7413, -1.4438, -1.5631,\n",
       "        -1.5587, -1.4829, -1.5573, -1.4818, -0.8175, -0.1688, -1.0106, -0.9546,\n",
       "        -0.9231, -0.8613, -0.8573, -0.8119, -0.9252, -0.9845, -0.9873, -1.0248,\n",
       "        -1.0130, -1.0192, -0.8998, -0.9288, -0.9201, -0.9699, -0.7440, -0.9305,\n",
       "        -0.9500, -0.7705, -0.8767, -0.9311, -0.8792, -0.9250, -0.9508, -1.1101,\n",
       "        -1.8042, -1.6721, -1.6168, -1.6164, -1.4885, -1.6833, -5.4793, -4.8262,\n",
       "        -0.7974, -0.9412, -0.7957, -0.7456, -0.9045, -0.7500, -0.8620, -0.8549,\n",
       "        -0.8015, -0.9401, -0.8325, -0.8388, -0.8603, -0.8030, -0.8664, -0.8513,\n",
       "        -1.0779, -6.8370, -0.9060, -0.9754, -1.2534, -1.1798, -0.8711, -0.9298,\n",
       "        -1.1735, -1.4722, -1.4841, -0.7104, -4.2281, -0.7129, -0.9021, -0.8183,\n",
       "        -1.3981, -0.9046, -0.9869, -1.2684, -1.3895, -0.9164, -1.2690, -1.0540,\n",
       "        -1.1300, -1.6462, -0.6359, -1.3121, -1.3679], requires_grad=True)"
      ]
     },
     "execution_count": 428,
     "metadata": {},
     "output_type": "execute_result"
    }
   ],
   "source": [
    "reg_vae.module.gamma_mean_unconstr"
   ]
  },
  {
   "cell_type": "code",
   "execution_count": 429,
   "id": "9168e35f-0d52-4a46-9dd0-bcb17d811109",
   "metadata": {},
   "outputs": [],
   "source": [
    "parameter_list = {}\n",
    "for k,par in reg_vae_tuning.module.named_parameters():\n",
    "    parameter_list[k] = par.data"
   ]
  },
  {
   "cell_type": "code",
   "execution_count": 430,
   "id": "c0a44a10-60c0-4825-921b-6566ee4d8785",
   "metadata": {},
   "outputs": [
    {
     "data": {
      "text/plain": [
       "tensor([-1.6810, -1.8000, -4.7933, -1.6264, -1.5476, -1.5197, -1.5531, -1.0916,\n",
       "        -0.8585, -0.9195, -0.7765, -1.0274, -0.8916, -1.0698, -0.7902, -0.5445,\n",
       "        -0.8976, -0.7349, -0.7769, -0.7507, -0.8469, -0.6866, -0.7746, -0.7995,\n",
       "        -0.8045, -0.8610, -0.7964, -0.7565, -0.7939, -0.7232, -0.8963, -0.5108,\n",
       "        -0.7173, -0.7680, -1.0992, -0.8651, -1.0093, -0.8823, -1.0684, -0.8700,\n",
       "        -0.9573, -0.9033, -0.9734, -1.0530, -1.4687, -1.7413, -1.4438, -1.5631,\n",
       "        -1.5587, -1.4829, -1.5573, -1.4818, -0.8175, -0.1688, -1.0106, -0.9546,\n",
       "        -0.9231, -0.8613, -0.8573, -0.8119, -0.9252, -0.9845, -0.9873, -1.0248,\n",
       "        -1.0130, -1.0192, -0.8998, -0.9288, -0.9201, -0.9699, -0.7440, -0.9305,\n",
       "        -0.9500, -0.7705, -0.8767, -0.9311, -0.8792, -0.9250, -0.9508, -1.1101,\n",
       "        -1.8042, -1.6721, -1.6168, -1.6164, -1.4885, -1.6833, -5.4793, -4.8262,\n",
       "        -0.7974, -0.9412, -0.7957, -0.7456, -0.9045, -0.7500, -0.8620, -0.8549,\n",
       "        -0.8015, -0.9401, -0.8325, -0.8388, -0.8603, -0.8030, -0.8664, -0.8513,\n",
       "        -1.0779, -6.8370, -0.9060, -0.9754, -1.2534, -1.1798, -0.8711, -0.9298,\n",
       "        -1.1735, -1.4722, -1.4841, -0.7104, -4.2281, -0.7129, -0.9021, -0.8183,\n",
       "        -1.3981, -0.9046, -0.9869, -1.2684, -1.3895, -0.9164, -1.2690, -1.0540,\n",
       "        -1.1300, -1.6462, -0.6359, -1.3121, -1.3679])"
      ]
     },
     "execution_count": 430,
     "metadata": {},
     "output_type": "execute_result"
    }
   ],
   "source": [
    "parameter_list[\"gamma_mean_unconstr\"]"
   ]
  },
  {
   "cell_type": "code",
   "execution_count": 431,
   "id": "5fbb00ea-a0a1-405b-9537-091138152914",
   "metadata": {},
   "outputs": [],
   "source": [
    "parameter_list2 = {}\n",
    "for k,par in reg_vae.module.named_parameters():\n",
    "    parameter_list2[k] = par.data"
   ]
  },
  {
   "cell_type": "code",
   "execution_count": 432,
   "id": "a27ee433-c3fb-4c69-a60d-06bf1309ded9",
   "metadata": {},
   "outputs": [
    {
     "data": {
      "text/plain": [
       "tensor([-1.6810, -1.8000, -4.7933, -1.6264, -1.5476, -1.5197, -1.5531, -1.0916,\n",
       "        -0.8585, -0.9195, -0.7765, -1.0274, -0.8916, -1.0698, -0.7902, -0.5445,\n",
       "        -0.8976, -0.7349, -0.7769, -0.7507, -0.8469, -0.6866, -0.7746, -0.7995,\n",
       "        -0.8045, -0.8610, -0.7964, -0.7565, -0.7939, -0.7232, -0.8963, -0.5108,\n",
       "        -0.7173, -0.7680, -1.0992, -0.8651, -1.0093, -0.8823, -1.0684, -0.8700,\n",
       "        -0.9573, -0.9033, -0.9734, -1.0530, -1.4687, -1.7413, -1.4438, -1.5631,\n",
       "        -1.5587, -1.4829, -1.5573, -1.4818, -0.8175, -0.1688, -1.0106, -0.9546,\n",
       "        -0.9231, -0.8613, -0.8573, -0.8119, -0.9252, -0.9845, -0.9873, -1.0248,\n",
       "        -1.0130, -1.0192, -0.8998, -0.9288, -0.9201, -0.9699, -0.7440, -0.9305,\n",
       "        -0.9500, -0.7705, -0.8767, -0.9311, -0.8792, -0.9250, -0.9508, -1.1101,\n",
       "        -1.8042, -1.6721, -1.6168, -1.6164, -1.4885, -1.6833, -5.4793, -4.8262,\n",
       "        -0.7974, -0.9412, -0.7957, -0.7456, -0.9045, -0.7500, -0.8620, -0.8549,\n",
       "        -0.8015, -0.9401, -0.8325, -0.8388, -0.8603, -0.8030, -0.8664, -0.8513,\n",
       "        -1.0779, -6.8370, -0.9060, -0.9754, -1.2534, -1.1798, -0.8711, -0.9298,\n",
       "        -1.1735, -1.4722, -1.4841, -0.7104, -4.2281, -0.7129, -0.9021, -0.8183,\n",
       "        -1.3981, -0.9046, -0.9869, -1.2684, -1.3895, -0.9164, -1.2690, -1.0540,\n",
       "        -1.1300, -1.6462, -0.6359, -1.3121, -1.3679])"
      ]
     },
     "execution_count": 432,
     "metadata": {},
     "output_type": "execute_result"
    }
   ],
   "source": [
    "parameter_list2[\"gamma_mean_unconstr\"]"
   ]
  },
  {
   "cell_type": "code",
   "execution_count": 433,
   "id": "3c6265b8-21ef-4f33-9b5c-9a9b2bdb2471",
   "metadata": {},
   "outputs": [
    {
     "name": "stdout",
     "output_type": "stream",
     "text": [
      "switch_time_unconstr tensor(True)\n",
      "gamma_mean_unconstr tensor(True)\n",
      "beta_mean_unconstr tensor(True)\n",
      "alpha_unconstr tensor(True)\n",
      "alpha_1_unconstr tensor(True)\n",
      "scale_unconstr_targets tensor(True)\n",
      "z_encoder.encoder.fc_layers.Layer 0.0.weight tensor(True)\n",
      "z_encoder.encoder.fc_layers.Layer 0.0.bias tensor(True)\n",
      "z_encoder.encoder.fc_layers.Layer 0.1.weight tensor(True)\n",
      "z_encoder.encoder.fc_layers.Layer 0.1.bias tensor(True)\n",
      "z_encoder.mean_encoder.weight tensor(True)\n",
      "z_encoder.mean_encoder.bias tensor(True)\n",
      "z_encoder.var_encoder.weight tensor(True)\n",
      "z_encoder.var_encoder.bias tensor(True)\n",
      "decoder.linear_scaling_tau tensor(True)\n",
      "decoder.linear_scaling_tau_intercept tensor(True)\n",
      "decoder.rho_first_decoder.fc_layers.Layer 0.0.weight tensor(True)\n",
      "decoder.rho_first_decoder.fc_layers.Layer 0.0.bias tensor(True)\n",
      "decoder.rho_first_decoder.fc_layers.Layer 0.1.weight tensor(True)\n",
      "decoder.rho_first_decoder.fc_layers.Layer 0.1.bias tensor(True)\n",
      "decoder.pi_first_decoder.fc_layers.Layer 0.0.weight tensor(True)\n",
      "decoder.pi_first_decoder.fc_layers.Layer 0.0.bias tensor(True)\n",
      "decoder.pi_first_decoder.fc_layers.Layer 0.1.weight tensor(True)\n",
      "decoder.pi_first_decoder.fc_layers.Layer 0.1.bias tensor(True)\n",
      "decoder.px_pi_decoder.weight tensor(True)\n",
      "decoder.px_pi_decoder.bias tensor(True)\n",
      "decoder.px_rho_decoder.0.weight tensor(True)\n",
      "decoder.px_rho_decoder.0.bias tensor(True)\n",
      "decoder.px_tau_decoder.0.weight tensor(True)\n",
      "decoder.px_tau_decoder.0.bias tensor(True)\n",
      "v_encoder.log_h tensor(True)\n",
      "v_encoder.log_phi tensor(True)\n",
      "v_encoder.tau tensor(True)\n",
      "v_encoder.o tensor(True)\n",
      "v_encoder.grn tensor(False)\n"
     ]
    }
   ],
   "source": [
    "for k in parameter_list.keys():\n",
    "    print(k + \" \" + str((parameter_list[k] == parameter_list2[k]).all()))"
   ]
  },
  {
   "cell_type": "code",
   "execution_count": 434,
   "id": "870a5500-afbc-4931-addf-ba224c7efb5f",
   "metadata": {},
   "outputs": [
    {
     "data": {
      "text/plain": [
       "Parameter containing:\n",
       "tensor([ 8.9376,  6.4621, 11.2190,  7.7597,  7.7633,  6.8675,  8.1420,  7.5312,\n",
       "         8.0111,  7.6059,  7.7477,  8.1351,  7.2222,  7.8916,  8.6494,  6.0540,\n",
       "         7.9654,  8.7688,  8.3548,  8.0242,  7.8379,  8.7726,  7.0398,  8.0776,\n",
       "         8.5525,  7.7427,  7.6025,  8.0705,  8.1772,  8.0320,  8.0385,  7.6121,\n",
       "         7.5865,  6.3466,  7.3305,  7.0100,  7.0662,  7.4365,  6.2983,  7.7530,\n",
       "         8.0395,  7.9901,  7.8309,  7.6546,  6.5358,  6.7738,  7.2424,  8.9071,\n",
       "         7.1568,  7.1892,  6.6791,  7.2870,  7.0599,  6.4426,  8.1047,  7.3680,\n",
       "         7.4695,  7.7668,  8.0720,  7.9206,  8.5373,  7.5730,  7.5757,  7.3604,\n",
       "         6.9397,  7.5117,  8.3574,  9.0847,  8.2142,  7.9507,  7.6335,  7.9489,\n",
       "         7.8594,  8.8030,  8.1751,  8.1236,  7.9094,  7.8557,  7.7501,  6.7082,\n",
       "         7.8094,  6.1265,  7.4759,  7.7701,  6.7555,  7.4615, 10.4027, 11.2586,\n",
       "         8.0099,  8.2585,  8.0567,  8.3377,  7.7392,  8.1159,  8.0454,  7.9998,\n",
       "         8.2182,  7.1458,  7.6608,  8.0852,  7.6399,  7.9637,  7.8748,  7.5947,\n",
       "         7.9188, 11.0826,  8.1595,  7.6667,  6.7128,  7.6318,  7.7867,  8.3893,\n",
       "         7.6938,  7.0183,  7.1926,  7.5381,  8.8612,  8.4833,  7.4591,  8.2635,\n",
       "         8.0085,  7.6166,  8.3113,  7.1988,  6.4380,  7.6817,  7.9824,  7.4839,\n",
       "         7.7312,  7.3292,  6.5368,  6.4584,  6.9385])"
      ]
     },
     "execution_count": 434,
     "metadata": {},
     "output_type": "execute_result"
    }
   ],
   "source": [
    "reg_vae_tuning.module.switch_time_unconstr"
   ]
  },
  {
   "cell_type": "code",
   "execution_count": 435,
   "id": "4133d424-5f08-4331-a6ab-c20dadce0200",
   "metadata": {},
   "outputs": [
    {
     "data": {
      "text/plain": [
       "Parameter containing:\n",
       "tensor([ 8.9376,  6.4621, 11.2190,  7.7597,  7.7633,  6.8675,  8.1420,  7.5312,\n",
       "         8.0111,  7.6059,  7.7477,  8.1351,  7.2222,  7.8916,  8.6494,  6.0540,\n",
       "         7.9654,  8.7688,  8.3548,  8.0242,  7.8379,  8.7726,  7.0398,  8.0776,\n",
       "         8.5525,  7.7427,  7.6025,  8.0705,  8.1772,  8.0320,  8.0385,  7.6121,\n",
       "         7.5865,  6.3466,  7.3305,  7.0100,  7.0662,  7.4365,  6.2983,  7.7530,\n",
       "         8.0395,  7.9901,  7.8309,  7.6546,  6.5358,  6.7738,  7.2424,  8.9071,\n",
       "         7.1568,  7.1892,  6.6791,  7.2870,  7.0599,  6.4426,  8.1047,  7.3680,\n",
       "         7.4695,  7.7668,  8.0720,  7.9206,  8.5373,  7.5730,  7.5757,  7.3604,\n",
       "         6.9397,  7.5117,  8.3574,  9.0847,  8.2142,  7.9507,  7.6335,  7.9489,\n",
       "         7.8594,  8.8030,  8.1751,  8.1236,  7.9094,  7.8557,  7.7501,  6.7082,\n",
       "         7.8094,  6.1265,  7.4759,  7.7701,  6.7555,  7.4615, 10.4027, 11.2586,\n",
       "         8.0099,  8.2585,  8.0567,  8.3377,  7.7392,  8.1159,  8.0454,  7.9998,\n",
       "         8.2182,  7.1458,  7.6608,  8.0852,  7.6399,  7.9637,  7.8748,  7.5947,\n",
       "         7.9188, 11.0826,  8.1595,  7.6667,  6.7128,  7.6318,  7.7867,  8.3893,\n",
       "         7.6938,  7.0183,  7.1926,  7.5381,  8.8612,  8.4833,  7.4591,  8.2635,\n",
       "         8.0085,  7.6166,  8.3113,  7.1988,  6.4380,  7.6817,  7.9824,  7.4839,\n",
       "         7.7312,  7.3292,  6.5368,  6.4584,  6.9385], requires_grad=True)"
      ]
     },
     "execution_count": 435,
     "metadata": {},
     "output_type": "execute_result"
    }
   ],
   "source": [
    "reg_vae.module.switch_time_unconstr"
   ]
  },
  {
   "cell_type": "code",
   "execution_count": 436,
   "id": "459b1170-fe89-41fe-8222-d05d8f243c55",
   "metadata": {},
   "outputs": [
    {
     "data": {
      "text/plain": [
       "tensor(True)"
      ]
     },
     "execution_count": 436,
     "metadata": {},
     "output_type": "execute_result"
    }
   ],
   "source": [
    "tt = torch.randn(133).reshape(133,1)\n",
    "(reg_vae.module.v_encoder.emulation_all(tt) == reg_vae_tuning.module.v_encoder.emulation_all(tt)).all()"
   ]
  },
  {
   "cell_type": "code",
   "execution_count": 63,
   "id": "37829c15-10fd-4eb1-867b-e76e6254c074",
   "metadata": {},
   "outputs": [
    {
     "data": {
      "text/plain": [
       "Parameter containing:\n",
       "tensor([[-7.4218e-01, -7.7329e-01, -6.9054e-01,  ...,  3.9767e-04,\n",
       "          3.5736e-04,  4.0012e-04],\n",
       "        [-7.4156e-01, -7.8012e-01, -6.8235e-01,  ..., -5.6447e-05,\n",
       "         -5.8084e-05, -6.2004e-05],\n",
       "        [ 5.4115e-06,  5.7208e-06, -2.2719e-05,  ..., -2.2564e-04,\n",
       "         -3.6393e-04, -3.6591e-04],\n",
       "        ...,\n",
       "        [-6.9658e-01, -6.6569e-01, -7.0176e-01,  ..., -4.7103e-03,\n",
       "         -4.8850e-03, -5.7599e-03],\n",
       "        [-3.6625e-05,  2.4100e-05,  9.9428e-06,  ..., -1.0523e-04,\n",
       "         -1.1057e-04, -9.7879e-05],\n",
       "        [-2.6670e-06, -5.4522e-06, -7.2274e-06,  ...,  2.7006e-05,\n",
       "          2.9206e-05,  3.0176e-05]], requires_grad=True)"
      ]
     },
     "execution_count": 63,
     "metadata": {},
     "output_type": "execute_result"
    }
   ],
   "source": [
    "reg_vae.module.v_encoder.grn"
   ]
  },
  {
   "cell_type": "code",
   "execution_count": 438,
   "id": "c53e96dc-8e0b-447a-9e4e-3b40e2858efe",
   "metadata": {},
   "outputs": [
    {
     "data": {
      "text/plain": [
       "Parameter containing:\n",
       "tensor([[0.1169, 0.0000, 0.1111,  ..., 0.0000, 0.0000, 0.0000],\n",
       "        [0.0000, 0.0000, 0.1322,  ..., 0.0000, 0.0000, 0.0000],\n",
       "        [0.0000, 0.0000, 0.0000,  ..., 0.0000, 0.0000, 0.0000],\n",
       "        ...,\n",
       "        [0.0000, 0.0000, 0.0000,  ..., 0.0000, 0.0000, 0.0000],\n",
       "        [0.0000, 0.0000, 0.0000,  ..., 0.0000, 0.0000, 0.0000],\n",
       "        [0.0000, 0.0000, 0.0000,  ..., 0.0000, 0.0000, 0.0000]])"
      ]
     },
     "execution_count": 438,
     "metadata": {},
     "output_type": "execute_result"
    }
   ],
   "source": [
    "reg_vae_tuning.module.v_encoder.o"
   ]
  },
  {
   "cell_type": "code",
   "execution_count": 266,
   "id": "2c9e62ce-072b-4539-aa99-3f4aa2c817f9",
   "metadata": {},
   "outputs": [
    {
     "data": {
      "text/plain": [
       "<matplotlib.legend.Legend at 0x2a9a77df0>"
      ]
     },
     "execution_count": 266,
     "metadata": {},
     "output_type": "execute_result"
    },
    {
     "data": {
      "image/png": "[encoded data removed]",
      "text/plain": [
       "<Figure size 600x400 with 1 Axes>"
      ]
     },
     "metadata": {
      "image/png": {
       "height": 368,
       "width": 516
      }
     },
     "output_type": "display_data"
    }
   ],
   "source": [
    "fig, ax = plt.subplots()\n",
    "reg_vae.history[\"elbo_train\"].iloc[10:].plot(ax=ax, label=\"train_loss_epoch\")\n",
    "plt.legend()"
   ]
  },
  {
   "cell_type": "code",
   "execution_count": 267,
   "id": "10c86a7e-9236-4fa8-845a-c888ee7564df",
   "metadata": {},
   "outputs": [
    {
     "data": {
      "text/plain": [
       "10"
      ]
     },
     "execution_count": 267,
     "metadata": {},
     "output_type": "execute_result"
    }
   ],
   "source": [
    "reg_vae.module.lamba"
   ]
  },
  {
   "cell_type": "code",
   "execution_count": 268,
   "id": "a0855011-d524-4e20-b25a-3cb210421051",
   "metadata": {},
   "outputs": [
    {
     "data": {
      "text/plain": [
       "10"
      ]
     },
     "execution_count": 268,
     "metadata": {},
     "output_type": "execute_result"
    }
   ],
   "source": [
    "reg_vae.module.lamba"
   ]
  },
  {
   "cell_type": "code",
   "execution_count": 285,
   "id": "f251cf38-416e-495e-af83-1d507789ee47",
   "metadata": {},
   "outputs": [
    {
     "data": {
      "text/plain": [
       "tensor(486.2224, grad_fn=<AddBackward0>)"
      ]
     },
     "execution_count": 285,
     "metadata": {},
     "output_type": "execute_result"
    }
   ],
   "source": [
    "sum(p.pow(2.0).sum() for p in reg_vae.module.v_encoder.grn)"
   ]
  },
  {
   "cell_type": "code",
   "execution_count": 286,
   "id": "ed5fcf99-947e-49f8-b2e4-542a3066148e",
   "metadata": {},
   "outputs": [],
   "source": [
    "def add_velovi_outputs_to_adata(adata_raw, vae):\n",
    "    latent_time = vae.get_latent_time(n_samples=25, time_statistic = \"mean\")\n",
    "    velocities = vae.get_velocity(n_samples=25, velo_statistic=\"mean\")\n",
    "\n",
    "    t = latent_time\n",
    "    scaling = 20 / t.max(0)\n",
    "    adata = adata_raw[:,vae.module.target_index].copy()\n",
    "    \n",
    "    adata.layers[\"velocity\"] = velocities / scaling\n",
    "    adata.layers[\"latent_time_velovi\"] = latent_time\n",
    "\n",
    "    #adata.var[\"fit_alpha\"] = vae.get_rates()[\"alpha\"] / scaling\n",
    "    #adata.var[\"fit_beta\"] = vae.get_rates()[\"beta\"] / scaling\n",
    "    #adata.var[\"fit_gamma\"] = vae.get_rates()[\"gamma\"] / scaling\n",
    "    adata.var[\"fit_t_\"] = (\n",
    "        torch.nn.functional.softplus(vae.module.switch_time_unconstr)\n",
    "        .detach()\n",
    "        .cpu()\n",
    "        .numpy()\n",
    "    ) * scaling\n",
    "    adata.layers[\"fit_t\"] = latent_time.values * scaling[np.newaxis, :]\n",
    "    adata.var['fit_scaling'] = 1.0\n",
    "    \n",
    "    return adata\n",
    "\n",
    "adata_target = add_velovi_outputs_to_adata(adata, reg_vae)"
   ]
  },
  {
   "cell_type": "code",
   "execution_count": 287,
   "id": "20f08032-aeb3-4748-b202-f6ca95cbd0d2",
   "metadata": {},
   "outputs": [
    {
     "name": "stdout",
     "output_type": "stream",
     "text": [
      "computing velocity graph (using 1/8 cores)\n"
     ]
    },
    {
     "data": {
      "application/vnd.jupyter.widget-view+json": {
       "model_id": "99244db634564b529b7b32554e3fe4ca",
       "version_major": 2,
       "version_minor": 0
      },
      "text/plain": [
       "  0%|          | 0/1000 [00:00<?, ?cells/s]"
      ]
     },
     "metadata": {},
     "output_type": "display_data"
    },
    {
     "name": "stdout",
     "output_type": "stream",
     "text": [
      "    finished (0:00:00) --> added \n",
      "    'velocity_graph', sparse matrix with cosine correlations (adata.uns)\n"
     ]
    }
   ],
   "source": [
    "scv.tl.velocity_graph(adata_target)"
   ]
  },
  {
   "cell_type": "code",
   "execution_count": 288,
   "id": "bbafbab7-8486-45db-9ed6-6e00be2add2a",
   "metadata": {},
   "outputs": [
    {
     "name": "stdout",
     "output_type": "stream",
     "text": [
      "computing terminal states\n",
      "    identified 0 region of root cells and 1 region of end points .\n",
      "    finished (0:00:00) --> added\n",
      "    'root_cells', root cells of Markov diffusion process (adata.obs)\n",
      "    'end_points', end points of Markov diffusion process (adata.obs)\n",
      "WARNING: No root cells detected. Consider specifying root cells to improve latent time prediction.\n",
      "computing latent time using root_cells as prior\n",
      "    finished (0:00:00) --> added \n",
      "    'latent_time', shared time (adata.obs)\n",
      "Renamed 'dimred' to convention 'X_dimred' (adata.obsm).\n",
      "computing velocity embedding\n",
      "    finished (0:00:00) --> added\n",
      "    'velocity_dimred', embedded velocity vectors (adata.obsm)\n"
     ]
    },
    {
     "name": "stderr",
     "output_type": "stream",
     "text": [
      "/Users/weixu.wang/miniconda3/envs/RegVelo/lib/python3.10/site-packages/scvelo/plotting/utils.py:869: MatplotlibDeprecationWarning: The draw_all function was deprecated in Matplotlib 3.6 and will be removed two minor releases later. Use fig.draw_without_rendering() instead.\n",
      "  cb.draw_all()\n"
     ]
    },
    {
     "data": {
      "image/png": "[encoded data removed]",
      "text/plain": [
       "<Figure size 600x400 with 2 Axes>"
      ]
     },
     "metadata": {
      "image/png": {
       "height": 353,
       "width": 507
      }
     },
     "output_type": "display_data"
    }
   ],
   "source": [
    "scv.tl.latent_time(adata_target,min_likelihood=None)\n",
    "scv.pl.velocity_embedding_stream(adata_target, basis='dimred',color = 'latent_time')"
   ]
  },
  {
   "cell_type": "code",
   "execution_count": 289,
   "id": "a9f6a249-e59a-45ea-b31c-9b97d130ac0a",
   "metadata": {},
   "outputs": [
    {
     "data": {
      "text/plain": [
       "SignificanceResult(statistic=0.8560405586480535, pvalue=2.861497126466942e-288)"
      ]
     },
     "execution_count": 289,
     "metadata": {},
     "output_type": "execute_result"
    }
   ],
   "source": [
    "import scipy\n",
    "scipy.stats.spearmanr(adata_target.obs[\"latent_time\"], adata_target.obs[\"sim_time\"])"
   ]
  },
  {
   "cell_type": "code",
   "execution_count": 290,
   "id": "c7830f60-527d-4564-831c-750813ed3ee3",
   "metadata": {},
   "outputs": [],
   "source": [
    "velocity_gt = adata_target.layers[\"rna_velocity\"]\n",
    "velocity = adata_target.layers[\"velocity\"]\n",
    "import scipy\n",
    "corr = scipy.stats.spearmanr(velocity_gt.todense(), velocity)\n",
    "corr = np.diagonal(corr.statistic[0:133,133:(133*2)])\n",
    "\n",
    "corr = []\n",
    "for i in range(velocity.shape[1]):\n",
    "    corr.append(scipy.stats.pearsonr(np.array(velocity_gt.todense()[:,i]).ravel(), np.array(velocity[:,i]).ravel()))\n",
    "\n",
    "corr = np.array(corr)[:,0]"
   ]
  },
  {
   "cell_type": "code",
   "execution_count": 291,
   "id": "d5e22a05-0a2f-42ce-b8e8-2b2dd6be9861",
   "metadata": {},
   "outputs": [
    {
     "data": {
      "text/plain": [
       "9.66399654745004"
      ]
     },
     "execution_count": 291,
     "metadata": {},
     "output_type": "execute_result"
    }
   ],
   "source": [
    "adata_target.layers[\"rna_velocity\"].max()"
   ]
  },
  {
   "cell_type": "code",
   "execution_count": 292,
   "id": "ebb58f12-92a7-4da8-8539-4d6d22b63bd5",
   "metadata": {
    "tags": []
   },
   "outputs": [
    {
     "data": {
      "text/plain": [
       "0.17618494949860158"
      ]
     },
     "execution_count": 292,
     "metadata": {},
     "output_type": "execute_result"
    }
   ],
   "source": [
    "corr.mean()"
   ]
  },
  {
   "cell_type": "code",
   "execution_count": 293,
   "id": "22aa3eca-e9f6-4df9-ad0f-7df5aa14df98",
   "metadata": {},
   "outputs": [],
   "source": [
    "velocity_regvelovi = velocity.copy()\n",
    "corr_regvelovi = corr.copy()"
   ]
  },
  {
   "cell_type": "code",
   "execution_count": 294,
   "id": "edd500cc-a8e4-4a57-8152-f9f6fa2e80d8",
   "metadata": {},
   "outputs": [
    {
     "data": {
      "text/plain": [
       "tensor([[1., 1., 1.,  ..., 1., 1., 1.],\n",
       "        [1., 1., 1.,  ..., 1., 1., 1.],\n",
       "        [1., 1., 1.,  ..., 1., 1., 1.],\n",
       "        ...,\n",
       "        [1., 1., 1.,  ..., 1., 1., 1.],\n",
       "        [1., 1., 1.,  ..., 1., 1., 1.],\n",
       "        [1., 1., 1.,  ..., 1., 1., 1.]])"
      ]
     },
     "execution_count": 294,
     "metadata": {},
     "output_type": "execute_result"
    }
   ],
   "source": [
    "W"
   ]
  },
  {
   "cell_type": "code",
   "execution_count": 295,
   "id": "297a5979-87c2-4fe8-b933-b8eaa8df202d",
   "metadata": {},
   "outputs": [],
   "source": [
    "W = adata.uns[\"skeleton\"].copy()\n",
    "W = torch.tensor(np.array(W)).int()\n",
    "GRN = W.T * reg_vae.module.v_encoder.grn\n",
    "#GRN_0 = W.T * reg_vae_0.module.v_encoder.grn\n",
    "#GRN_0_0001 = W.T * reg_vae_0_0001.module.v_encoder.grn\n",
    "#GRN_0_001 = W.T * reg_vae_0_001.module.v_encoder.grn\n",
    "#GRN_0_01 = W.T * reg_vae_0_01.module.v_encoder.grn\n",
    "#GRN_0_1 = W.T * reg_vae_0_1.module.v_encoder.grn"
   ]
  },
  {
   "cell_type": "code",
   "execution_count": 296,
   "id": "bc8c7298-0de5-4b82-a2f3-088145910f78",
   "metadata": {},
   "outputs": [],
   "source": [
    "gt = np.array(adata.uns[\"network\"].T)[np.array(adata.uns[\"skeleton\"].T)==1]"
   ]
  },
  {
   "cell_type": "code",
   "execution_count": 297,
   "id": "ea9e5d33-8be3-43a1-9fe7-2296546f2838",
   "metadata": {},
   "outputs": [],
   "source": [
    "pre = GRN[W.T==1]\n",
    "#pre_0 = GRN_0[W.T==1]\n",
    "#pre_0_0001 = GRN_0_0001[W.T==1]\n",
    "#pre_0_001 = GRN_0_001[W.T==1]\n",
    "#pre_0_01 = GRN_0_01[W.T==1]\n",
    "#pre_0_1 = GRN_0_1[W.T==1]"
   ]
  },
  {
   "cell_type": "code",
   "execution_count": 298,
   "id": "b9427460-033c-4fdb-99c6-e94ce348fac2",
   "metadata": {},
   "outputs": [],
   "source": [
    "from scipy.spatial.distance import cdist\n",
    "regulator_index = [i in adata.uns[\"regulators\"] for i in adata.var.index.values]\n",
    "target_index = [i in adata.uns[\"targets\"] for i in adata.var.index.values]\n",
    "        \n",
    "corr_m = 1 - cdist(adata.X.todense().T, adata.X.todense().T, metric='correlation')\n",
    "corr_m = torch.tensor(corr_m)\n",
    "corr_m = corr_m[target_index,]\n",
    "corr_m = corr_m[:,regulator_index]\n",
    "corr_m = corr_m.float()"
   ]
  },
  {
   "cell_type": "code",
   "execution_count": 299,
   "id": "bde1fb16-6d71-4864-825b-797613a89086",
   "metadata": {},
   "outputs": [],
   "source": [
    "corr_m[corr_m==1] = 0"
   ]
  },
  {
   "cell_type": "code",
   "execution_count": 300,
   "id": "0c58800f-9fd8-44cb-afb8-fa4e27521623",
   "metadata": {},
   "outputs": [],
   "source": [
    "pre2 = corr_m[np.array(adata.uns[\"skeleton\"].T)==1]"
   ]
  },
  {
   "cell_type": "code",
   "execution_count": 301,
   "id": "6859fb4f-8f02-4289-b214-995540199ed0",
   "metadata": {},
   "outputs": [
    {
     "data": {
      "text/plain": [
       "-0.05438800923419008"
      ]
     },
     "execution_count": 301,
     "metadata": {},
     "output_type": "execute_result"
    }
   ],
   "source": [
    "import scipy.stats as stats\n",
    "\n",
    "# calculate Spearman correlation coefficient and p-value\n",
    "corr, _ = stats.spearmanr(np.abs(pre.detach().numpy()),np.abs(gt))\n",
    "corr"
   ]
  },
  {
   "cell_type": "code",
   "execution_count": null,
   "id": "91fcdfd8-bc40-4049-b06d-e4180dba04e6",
   "metadata": {},
   "outputs": [],
   "source": []
  },
  {
   "cell_type": "code",
   "execution_count": null,
   "id": "9cd8ae10-ac07-4133-9da5-49ff4d1dd166",
   "metadata": {},
   "outputs": [],
   "source": []
  },
  {
   "cell_type": "code",
   "execution_count": null,
   "id": "5cf5d365-b926-4a6a-beb2-a05a65482183",
   "metadata": {},
   "outputs": [],
   "source": []
  },
  {
   "cell_type": "code",
   "execution_count": null,
   "id": "8eced1ac-7637-4a33-98f0-877da15fab54",
   "metadata": {},
   "outputs": [],
   "source": []
  },
  {
   "cell_type": "code",
   "execution_count": null,
   "id": "9901c7da-c637-41b3-b322-5affdaab3a89",
   "metadata": {},
   "outputs": [],
   "source": []
  },
  {
   "cell_type": "code",
   "execution_count": 302,
   "id": "2f50ab16-5842-4242-ac89-6ef009ebde72",
   "metadata": {},
   "outputs": [
    {
     "data": {
      "text/plain": [
       "0.545591780528426"
      ]
     },
     "execution_count": 302,
     "metadata": {},
     "output_type": "execute_result"
    }
   ],
   "source": [
    "import sklearn.metrics\n",
    "fpr, tpr, thresholds = sklearn.metrics.roc_curve(y_true = W.T.ravel(), y_score = abs(reg_vae.module.v_encoder.grn.detach().numpy().ravel()), pos_label = 1) #positive class is 1; negative class is 0\n",
    "auroc = sklearn.metrics.auc(fpr, tpr)\n",
    "auroc"
   ]
  },
  {
   "cell_type": "code",
   "execution_count": 303,
   "id": "e9956719-5601-4ea8-8fa1-508cfd792b0e",
   "metadata": {},
   "outputs": [
    {
     "data": {
      "text/plain": [
       "0.7888155828626415"
      ]
     },
     "execution_count": 303,
     "metadata": {},
     "output_type": "execute_result"
    }
   ],
   "source": [
    "import sklearn.metrics\n",
    "fpr, tpr, thresholds = sklearn.metrics.roc_curve(y_true = W.T.ravel(), y_score = abs(corr_m.ravel()), pos_label = 1) #positive class is 1; negative class is 0\n",
    "auroc = sklearn.metrics.auc(fpr, tpr)\n",
    "auroc"
   ]
  },
  {
   "cell_type": "code",
   "execution_count": null,
   "id": "32f62743-6b81-4baf-8334-062a1d82edc3",
   "metadata": {},
   "outputs": [],
   "source": []
  },
  {
   "cell_type": "code",
   "execution_count": null,
   "id": "e568e3ea-a3be-4b8a-9afc-6e769af71511",
   "metadata": {},
   "outputs": [],
   "source": []
  },
  {
   "cell_type": "code",
   "execution_count": 173,
   "id": "d922237e-a618-460c-8fe3-41499836bec2",
   "metadata": {},
   "outputs": [],
   "source": [
    "### run VeloVAE\n",
    "import sys\n",
    "sys.path.append(\"/Users/weixu.wang/Documents/pj/RegVelo/RegVelo/VeloVAE\")\n",
    "import velovae as vv"
   ]
  },
  {
   "cell_type": "code",
   "execution_count": 503,
   "id": "ae92c040-3933-473e-b055-86e9d0471bfb",
   "metadata": {},
   "outputs": [
    {
     "name": "stdout",
     "output_type": "stream",
     "text": [
      "Estimating ODE parameters...\n"
     ]
    },
    {
     "data": {
      "application/vnd.jupyter.widget-view+json": {
       "model_id": "cd869b1b06324881aa8617ddef4ad598",
       "version_major": 2,
       "version_minor": 0
      },
      "text/plain": [
       "  0%|          | 0/141 [00:00<?, ?it/s]"
      ]
     },
     "metadata": {},
     "output_type": "display_data"
    },
    {
     "name": "stdout",
     "output_type": "stream",
     "text": [
      "Detected 89 velocity genes.\n",
      "Estimating the variance...\n"
     ]
    },
    {
     "data": {
      "application/vnd.jupyter.widget-view+json": {
       "model_id": "7605f81981b24c9aa435bcae1def2765",
       "version_major": 2,
       "version_minor": 0
      },
      "text/plain": [
       "  0%|          | 0/141 [00:00<?, ?it/s]"
      ]
     },
     "metadata": {},
     "output_type": "display_data"
    },
    {
     "name": "stdout",
     "output_type": "stream",
     "text": [
      "Initialization using the steady-state and dynamical models.\n",
      "Reinitialize the regular ODE parameters based on estimated global latent time.\n"
     ]
    },
    {
     "data": {
      "application/vnd.jupyter.widget-view+json": {
       "model_id": "9e9ee637928c46bca29d7b33280651e0",
       "version_major": 2,
       "version_minor": 0
      },
      "text/plain": [
       "  0%|          | 0/141 [00:00<?, ?it/s]"
      ]
     },
     "metadata": {},
     "output_type": "display_data"
    },
    {
     "name": "stdout",
     "output_type": "stream",
     "text": [
      "3 clusters detected based on gene co-expression.\n",
      "(0.37, 0.7836147447522841), (0.63, 0.2951635812621893)\n",
      "(0.55, 0.8431695085869744), (0.45, 0.324509484925456)\n",
      "KS-test result: [1. 0. 0.]\n",
      "Initial induction: 84, repression: 57/141\n"
     ]
    }
   ],
   "source": [
    "vae = vv.VAE(adata, \n",
    "             tmax=20, \n",
    "             dim_z=5, \n",
    "             device='cpu')"
   ]
  },
  {
   "cell_type": "code",
   "execution_count": 504,
   "id": "26fb67a0-33fc-41ed-805b-45b9fa00f5a3",
   "metadata": {},
   "outputs": [
    {
     "name": "stdout",
     "output_type": "stream",
     "text": [
      "Learning Rate based on Data Sparsity: 0.0000\n",
      "--------------------------- Train a VeloVAE ---------------------------\n",
      "*********        Creating Training/Validation Datasets        *********\n",
      "*********                      Finished.                      *********\n",
      "*********                 Creating optimizers                 *********\n",
      "*********                      Finished.                      *********\n",
      "*********                    Start training                   *********\n",
      "*********                      Stage  1                       *********\n",
      "Total Number of Iterations Per Epoch: 6, test iteration: 10\n",
      "*********                      Stage  2                       *********\n",
      "*********             Velocity Refinement Round 1             *********\n"
     ]
    },
    {
     "data": {
      "application/vnd.jupyter.widget-view+json": {
       "model_id": "78eb2977c895423cad2f0ec0e270e210",
       "version_major": 2,
       "version_minor": 0
      },
      "text/plain": [
       "  0%|          | 0/1000 [00:00<?, ?it/s]"
      ]
     },
     "metadata": {},
     "output_type": "display_data"
    },
    {
     "name": "stdout",
     "output_type": "stream",
     "text": [
      "Percentage of Invalid Sets: 0.028\n",
      "Average Set Size: 20\n",
      "*********     Round 1: Early Stop Triggered at epoch 1434.    *********\n",
      "Change in noise variance: 0.0336\n",
      "*********             Velocity Refinement Round 2             *********\n",
      "*********     Round 2: Early Stop Triggered at epoch 1491.    *********\n",
      "Change in noise variance: 0.0084\n",
      "Change in x0: 0.4721\n",
      "*********             Velocity Refinement Round 3             *********\n",
      "*********     Round 3: Early Stop Triggered at epoch 1500.    *********\n",
      "Change in noise variance: 0.0041\n",
      "Change in x0: 0.3273\n",
      "*********             Velocity Refinement Round 4             *********\n",
      "*********     Round 4: Early Stop Triggered at epoch 1626.    *********\n",
      "Change in noise variance: 0.0041\n",
      "Change in x0: 0.2096\n",
      "*********             Velocity Refinement Round 5             *********\n",
      "*********     Round 5: Early Stop Triggered at epoch 1723.    *********\n",
      "Change in noise variance: 0.0006\n",
      "Change in x0: 0.1901\n",
      "*********             Velocity Refinement Round 6             *********\n",
      "*********     Round 6: Early Stop Triggered at epoch 1794.    *********\n",
      "Change in noise variance: 0.0000\n",
      "Change in x0: 0.1511\n",
      "*********             Velocity Refinement Round 7             *********\n",
      "*********     Round 7: Early Stop Triggered at epoch 1835.    *********\n",
      "Change in noise variance: 0.0000\n",
      "Change in x0: 0.1300\n",
      "*********             Velocity Refinement Round 8             *********\n",
      "*********     Round 8: Early Stop Triggered at epoch 1886.    *********\n",
      "Change in noise variance: 0.0000\n",
      "Change in x0: 0.1141\n",
      "*********             Velocity Refinement Round 9             *********\n",
      "*********     Round 9: Early Stop Triggered at epoch 2137.    *********\n",
      "Change in noise variance: 0.0000\n",
      "Change in x0: 0.1050\n",
      "*********             Velocity Refinement Round 10             *********\n",
      "Stage 2: Early Stop Triggered at round 9.\n",
      "*********              Finished. Total Time =   0 h :  2 m : 13 s             *********\n",
      "Final: Train ELBO = 64.500,\tTest ELBO = 81.045\n"
     ]
    }
   ],
   "source": [
    "config = {\n",
    "    # You can change any hyperparameters here!\n",
    "}\n",
    "vae.train(adata,\n",
    "          config=config,\n",
    "          plot=False,\n",
    "          embed='dimred')"
   ]
  },
  {
   "cell_type": "code",
   "execution_count": 505,
   "id": "8209c2b0-d552-4347-aa1a-cc3c4fb56ffe",
   "metadata": {},
   "outputs": [],
   "source": [
    "vae.save_anndata(adata, 'vae', \"/Users/weixu.wang/Documents/pj/RegVelo/RegVelo-analysis\", file_name=\"pancreas_out.h5ad\")"
   ]
  },
  {
   "cell_type": "code",
   "execution_count": 489,
   "id": "45cf81a1-c8c9-465e-a87d-76f89df2c846",
   "metadata": {},
   "outputs": [
    {
     "name": "stdout",
     "output_type": "stream",
     "text": [
      "Estimating ODE parameters...\n"
     ]
    },
    {
     "data": {
      "application/vnd.jupyter.widget-view+json": {
       "model_id": "737e2f032ec94b90ab8229003816b9fa",
       "version_major": 2,
       "version_minor": 0
      },
      "text/plain": [
       "  0%|          | 0/141 [00:00<?, ?it/s]"
      ]
     },
     "metadata": {},
     "output_type": "display_data"
    },
    {
     "name": "stdout",
     "output_type": "stream",
     "text": [
      "Detected 89 velocity genes.\n",
      "Estimating the variance...\n"
     ]
    },
    {
     "data": {
      "application/vnd.jupyter.widget-view+json": {
       "model_id": "d29563448f7d404393c590f36f5a498c",
       "version_major": 2,
       "version_minor": 0
      },
      "text/plain": [
       "  0%|          | 0/141 [00:00<?, ?it/s]"
      ]
     },
     "metadata": {},
     "output_type": "display_data"
    },
    {
     "name": "stdout",
     "output_type": "stream",
     "text": [
      "Initialization using the steady-state and dynamical models.\n",
      "Reinitialize the regular ODE parameters based on estimated global latent time.\n"
     ]
    },
    {
     "data": {
      "application/vnd.jupyter.widget-view+json": {
       "model_id": "da7561d25ca04f41b336d7d8681dc40b",
       "version_major": 2,
       "version_minor": 0
      },
      "text/plain": [
       "  0%|          | 0/141 [00:00<?, ?it/s]"
      ]
     },
     "metadata": {},
     "output_type": "display_data"
    },
    {
     "name": "stdout",
     "output_type": "stream",
     "text": [
      "3 clusters detected based on gene co-expression.\n",
      "(0.40, 0.7794799156599237), (0.60, 0.2716483253552967)\n",
      "(0.61, 0.8342811718769557), (0.39, 0.2643999867002183)\n",
      "KS-test result: [1. 0. 0.]\n",
      "Initial induction: 90, repression: 51/141\n"
     ]
    }
   ],
   "source": [
    "torch.manual_seed(2022)\n",
    "np.random.seed(2022)\n",
    "rate_prior = {\n",
    "    'alpha': (0.0, 1.0),\n",
    "    'beta': (0.0, 0.5),\n",
    "    'gamma': (0.0, 0.5)\n",
    "}\n",
    "full_vb = vv.VAE(adata, \n",
    "                 tmax=20, \n",
    "                 dim_z=5, \n",
    "                 device='cpu',\n",
    "                 full_vb=True,\n",
    "                 rate_prior=rate_prior)"
   ]
  },
  {
   "cell_type": "code",
   "execution_count": 490,
   "id": "db2aa265-f108-4c41-be47-1a27704aa6c1",
   "metadata": {},
   "outputs": [
    {
     "name": "stdout",
     "output_type": "stream",
     "text": [
      "Learning Rate based on Data Sparsity: 0.0000\n",
      "--------------------------- Train a VeloVAE ---------------------------\n",
      "*********        Creating Training/Validation Datasets        *********\n",
      "*********                      Finished.                      *********\n",
      "*********                 Creating optimizers                 *********\n",
      "*********                      Finished.                      *********\n",
      "*********                    Start training                   *********\n",
      "*********                      Stage  1                       *********\n",
      "Total Number of Iterations Per Epoch: 6, test iteration: 10\n",
      "*********                      Stage  2                       *********\n",
      "*********             Velocity Refinement Round 1             *********\n"
     ]
    },
    {
     "data": {
      "application/vnd.jupyter.widget-view+json": {
       "model_id": "660958f4633f48b9a4e4755f27d2ca4e",
       "version_major": 2,
       "version_minor": 0
      },
      "text/plain": [
       "  0%|          | 0/1000 [00:00<?, ?it/s]"
      ]
     },
     "metadata": {},
     "output_type": "display_data"
    },
    {
     "name": "stdout",
     "output_type": "stream",
     "text": [
      "Percentage of Invalid Sets: 0.028\n",
      "Average Set Size: 20\n",
      "*********     Round 1: Early Stop Triggered at epoch 1294.    *********\n",
      "Change in noise variance: 0.0392\n",
      "*********             Velocity Refinement Round 2             *********\n",
      "*********     Round 2: Early Stop Triggered at epoch 1338.    *********\n",
      "Change in noise variance: 0.0328\n",
      "Change in x0: 0.5960\n",
      "*********             Velocity Refinement Round 3             *********\n",
      "*********     Round 3: Early Stop Triggered at epoch 1440.    *********\n",
      "Change in noise variance: 0.0046\n",
      "Change in x0: 0.3849\n",
      "*********             Velocity Refinement Round 4             *********\n",
      "*********     Round 4: Early Stop Triggered at epoch 1447.    *********\n",
      "Change in noise variance: 0.0030\n",
      "Change in x0: 0.2971\n",
      "*********             Velocity Refinement Round 5             *********\n",
      "*********     Round 5: Early Stop Triggered at epoch 1454.    *********\n",
      "Change in noise variance: 0.0010\n",
      "Change in x0: 0.2326\n",
      "*********             Velocity Refinement Round 6             *********\n",
      "*********     Round 6: Early Stop Triggered at epoch 1461.    *********\n",
      "Change in noise variance: 0.0003\n",
      "Change in x0: 0.2222\n",
      "*********             Velocity Refinement Round 7             *********\n",
      "*********     Round 7: Early Stop Triggered at epoch 1505.    *********\n",
      "Change in noise variance: 0.0000\n",
      "Change in x0: 0.1887\n",
      "*********             Velocity Refinement Round 8             *********\n",
      "*********     Round 8: Early Stop Triggered at epoch 1512.    *********\n",
      "Change in noise variance: 0.0000\n",
      "Change in x0: 0.1790\n",
      "*********             Velocity Refinement Round 9             *********\n",
      "Stage 2: Early Stop Triggered at round 8.\n",
      "*********              Finished. Total Time =   0 h :  1 m : 44 s             *********\n",
      "Final: Train ELBO = 15.635,\tTest ELBO = 32.472\n"
     ]
    }
   ],
   "source": [
    "config = {\n",
    "    # You can change any hyperparameters here!\n",
    "}\n",
    "full_vb.train(adata,\n",
    "          config=config,\n",
    "          plot=False,\n",
    "          embed='dimred')"
   ]
  },
  {
   "cell_type": "code",
   "execution_count": 483,
   "id": "19a15bee-de39-4efe-8e12-0ad26906a2ec",
   "metadata": {},
   "outputs": [],
   "source": [
    "del adata.layers[\"velocity\"]"
   ]
  },
  {
   "cell_type": "code",
   "execution_count": 495,
   "id": "8dc896a6-5b94-4e84-815a-ace77746a322",
   "metadata": {},
   "outputs": [],
   "source": [
    "full_vb.save_anndata(adata, 'fullvb', \"/Users/weixu.wang/Documents/pj/RegVelo/RegVelo-analysis\", file_name=\"pancreas_out.h5ad\")"
   ]
  },
  {
   "cell_type": "code",
   "execution_count": 509,
   "id": "d1d7afd7-8d71-4ed8-bda5-afe2bb60532b",
   "metadata": {},
   "outputs": [],
   "source": [
    "adata.layers[\"velocity\"] = adata.layers[\"vae_velocity\"].copy()"
   ]
  },
  {
   "cell_type": "code",
   "execution_count": 510,
   "id": "b8008882-d1b1-4c83-8f7c-9715ebf41f14",
   "metadata": {},
   "outputs": [
    {
     "name": "stdout",
     "output_type": "stream",
     "text": [
      "computing velocity graph (using 1/8 cores)\n"
     ]
    },
    {
     "data": {
      "application/vnd.jupyter.widget-view+json": {
       "model_id": "c6b7e2c655174ad4a1ef024b6dc118fc",
       "version_major": 2,
       "version_minor": 0
      },
      "text/plain": [
       "  0%|          | 0/1000 [00:00<?, ?cells/s]"
      ]
     },
     "metadata": {},
     "output_type": "display_data"
    },
    {
     "name": "stdout",
     "output_type": "stream",
     "text": [
      "    finished (0:00:00) --> added \n",
      "    'velocity_graph', sparse matrix with cosine correlations (adata.uns)\n"
     ]
    }
   ],
   "source": [
    "scv.tl.velocity_graph(adata)"
   ]
  },
  {
   "cell_type": "code",
   "execution_count": 512,
   "id": "84d7bca8-bfd6-4d12-a867-f995a49844c3",
   "metadata": {},
   "outputs": [
    {
     "data": {
      "image/png": "[encoded data removed]",
      "text/plain": [
       "<Figure size 600x400 with 2 Axes>"
      ]
     },
     "metadata": {
      "image/png": {
       "height": 344,
       "width": 506
      }
     },
     "output_type": "display_data"
    }
   ],
   "source": [
    "scv.pl.velocity_embedding_stream(adata, basis='dimred',color = 'vae_time')"
   ]
  },
  {
   "cell_type": "code",
   "execution_count": 515,
   "id": "49701364-b3af-4161-bd88-5890a49544df",
   "metadata": {},
   "outputs": [
    {
     "data": {
      "text/plain": [
       "SignificanceResult(statistic=0.57254098537692, pvalue=3.6669393255876333e-88)"
      ]
     },
     "execution_count": 515,
     "metadata": {},
     "output_type": "execute_result"
    }
   ],
   "source": [
    "import scipy\n",
    "scipy.stats.spearmanr(adata.obs[\"fullvb_time\"], adata.obs[\"sim_time\"])"
   ]
  },
  {
   "cell_type": "code",
   "execution_count": 507,
   "id": "09190818-91a3-4889-be72-08a0e86b862f",
   "metadata": {},
   "outputs": [],
   "source": [
    "velocity_gt = adata.layers[\"rna_velocity\"]\n",
    "velocity = adata.layers[\"vae_velocity\"]\n",
    "import scipy\n",
    "corr = scipy.stats.spearmanr(velocity_gt.todense(), velocity)\n",
    "corr = np.diagonal(corr.statistic[0:141,141:(141*2)])\n",
    "\n",
    "corr = []\n",
    "for i in range(velocity.shape[1]):\n",
    "    corr.append(scipy.stats.pearsonr(np.array(velocity_gt.todense()[:,i]).ravel(), np.array(velocity[:,i]).ravel()))\n",
    "\n",
    "corr = np.array(corr)[:,0]"
   ]
  },
  {
   "cell_type": "code",
   "execution_count": 508,
   "id": "d210a1aa-24d4-4c08-bd1e-593ef5f7c705",
   "metadata": {},
   "outputs": [
    {
     "data": {
      "text/plain": [
       "0.17288023270562686"
      ]
     },
     "execution_count": 508,
     "metadata": {},
     "output_type": "execute_result"
    }
   ],
   "source": [
    "corr.mean()"
   ]
  },
  {
   "cell_type": "code",
   "execution_count": 506,
   "id": "f1ea2a3e-0477-49cd-894d-8b2d9d642708",
   "metadata": {},
   "outputs": [
    {
     "data": {
      "text/plain": [
       "AnnData object with n_obs × n_vars = 1000 × 141\n",
       "    obs: 'step_ix', 'simulation_i', 'sim_time', 'initial_size_unspliced', 'initial_size_spliced', 'initial_size', 'n_counts', 'velocity_self_transition', 'fullvb_time', 'fullvb_std_t', 'fullvb_t0', 'vae_time', 'vae_std_t', 'vae_t0'\n",
       "    var: 'module_id', 'basal', 'burn', 'independence', 'color', 'is_tf', 'is_hk', 'transcription_rate', 'splicing_rate', 'translation_rate', 'mrna_halflife', 'protein_halflife', 'mrna_decay_rate', 'protein_decay_rate', 'max_premrna', 'max_mrna', 'max_protein', 'mol_premrna', 'mol_mrna', 'mol_protein', 'velocity_gamma', 'velocity_qreg_ratio', 'velocity_r2', 'velocity_genes', 'init_mode', 'w_init', 'fullvb_logmu_alpha', 'fullvb_logmu_beta', 'fullvb_logmu_gamma', 'fullvb_logstd_alpha', 'fullvb_logstd_beta', 'fullvb_logstd_gamma', 'fullvb_ton', 'fullvb_scaling', 'fullvb_sigma_u', 'fullvb_sigma_s', 'vae_alpha', 'vae_beta', 'vae_gamma', 'vae_ton', 'vae_scaling', 'vae_sigma_u', 'vae_sigma_s'\n",
       "    uns: 'network', 'regulators', 'skeleton', 'targets', 'traj_dimred_segments', 'traj_milestone_network', 'traj_progressions', 'pca', 'neighbors', 'velocity_params', 'Ms', 'Mu', '_scvi_uuid', '_scvi_manager_uuid', 'velocity_graph', 'velocity_graph_neg', 'fullvb_train_idx', 'fullvb_test_idx', 'fullvb_run_time', 'vae_train_idx', 'vae_test_idx', 'vae_run_time'\n",
       "    obsm: 'dimred', 'X_pca', 'X_dimred', 'velocity_dimred', 'fullvb_z', 'fullvb_std_z', 'vae_z', 'vae_std_z'\n",
       "    varm: 'PCs', 'fullvb_mode', 'vae_mode'\n",
       "    layers: 'counts_protein', 'counts_spliced', 'counts_unspliced', 'logcounts', 'rna_velocity', 'spliced', 'unspliced', 'Ms', 'Mu', 'fullvb_uhat', 'fullvb_shat', 'fullvb_rho', 'fullvb_u0', 'fullvb_s0', 'fullvb_velocity', 'fullvb_velocity_u', 'velocity', 'vae_uhat', 'vae_shat', 'vae_rho', 'vae_u0', 'vae_s0', 'vae_velocity', 'vae_velocity_u'\n",
       "    obsp: 'distances', 'connectivities'"
      ]
     },
     "execution_count": 506,
     "metadata": {},
     "output_type": "execute_result"
    }
   ],
   "source": [
    "adata"
   ]
  },
  {
   "cell_type": "code",
   "execution_count": null,
   "id": "3b76e041-0ac2-4d2b-bdfc-f5d26b666f2f",
   "metadata": {},
   "outputs": [],
   "source": []
  },
  {
   "cell_type": "code",
   "execution_count": null,
   "id": "32d29553-47a4-45df-8237-ab229d56fa49",
   "metadata": {},
   "outputs": [],
   "source": []
  },
  {
   "cell_type": "code",
   "execution_count": null,
   "id": "95c962d1-cec9-48b2-b66f-1653034b2a0a",
   "metadata": {},
   "outputs": [],
   "source": []
  },
  {
   "cell_type": "code",
   "execution_count": null,
   "id": "e3e6c8c4-03f2-4aff-ace0-75611f392899",
   "metadata": {},
   "outputs": [],
   "source": []
  },
  {
   "cell_type": "code",
   "execution_count": null,
   "id": "16461653-4e46-410d-b7b0-172328285343",
   "metadata": {},
   "outputs": [],
   "source": []
  },
  {
   "cell_type": "code",
   "execution_count": null,
   "id": "726f29ec-f927-4ab3-88f6-830709a49298",
   "metadata": {},
   "outputs": [],
   "source": []
  },
  {
   "cell_type": "code",
   "execution_count": null,
   "id": "5c215f44-d513-4220-95da-b93315765bba",
   "metadata": {},
   "outputs": [],
   "source": [
    "d = {'Pearson_Correlation': [0.14904173963968984,\n",
    "              0.1591490775575371,\n",
    "              0.16574673382966143, \n",
    "              0.15867883817250994,\n",
    "              0.18934842357315437],\n",
    "     'Model': [\"Random Graph(#edges = 127)\",\n",
    "               \"Random Graph(#edges = 348)\",\n",
    "               \"Random Graph(#edges = 569)\",\n",
    "               \"Random Graph(#edges = 1197)\",\n",
    "               \"Truth Graph(#edges = 386)\"]}\n",
    "df = pd.DataFrame(data=d)"
   ]
  },
  {
   "cell_type": "code",
   "execution_count": null,
   "id": "28acd698-443a-4481-a65b-57c09b0752a4",
   "metadata": {},
   "outputs": [
    {
     "data": {
      "image/png": "[encoded data removed]",
      "text/plain": [
       "<Figure size 600x400 with 1 Axes>"
      ]
     },
     "metadata": {
      "image/png": {
       "height": 388,
       "width": 733
      }
     },
     "output_type": "display_data"
    }
   ],
   "source": [
    "from matplotlib import pyplot as plt\n",
    "import seaborn as sns\n",
    "\n",
    "ax = sns.barplot(y=\"Model\", x=\"Pearson_Correlation\",data=df).set(title='velocity correlation with ground truth')  # RUN PLOT   \n",
    "plt.show()\n",
    "\n",
    "plt.clf()\n",
    "plt.close()"
   ]
  },
  {
   "cell_type": "code",
   "execution_count": null,
   "id": "7b889c08-9136-46e7-bba7-7c2fc25cdff7",
   "metadata": {},
   "outputs": [],
   "source": [
    "d = {'Spearman_Correlation': [0.8051733290648203,\n",
    "              0.8146423838660012,\n",
    "              0.8123833769354999, \n",
    "              0.8032826981565722,\n",
    "              0.8525169530437499],\n",
    "     'Model': [\"Random Graph(#edges = 127)\",\n",
    "               \"Random Graph(#edges = 348)\",\n",
    "               \"Random Graph(#edges = 569)\",\n",
    "               \"Random Graph(#edges = 1197)\",\n",
    "               \"Truth Graph(#edges = 386)\"]}\n",
    "df = pd.DataFrame(data=d)"
   ]
  },
  {
   "cell_type": "code",
   "execution_count": null,
   "id": "f646c162-11e7-4186-a32e-0c9c0325a57b",
   "metadata": {},
   "outputs": [
    {
     "data": {
      "image/png": "[encoded data removed]",
      "text/plain": [
       "<Figure size 600x400 with 1 Axes>"
      ]
     },
     "metadata": {
      "image/png": {
       "height": 388,
       "width": 733
      }
     },
     "output_type": "display_data"
    }
   ],
   "source": [
    "from matplotlib import pyplot as plt\n",
    "import seaborn as sns\n",
    "\n",
    "ax = sns.barplot(y=\"Model\", x=\"Spearman_Correlation\",data=df).set(title='latent time correlation with ground truth')  # RUN PLOT   \n",
    "plt.show()\n",
    "\n",
    "plt.clf()\n",
    "plt.close()"
   ]
  },
  {
   "cell_type": "code",
   "execution_count": null,
   "id": "e8f90a46-2dcb-4317-a6a5-9f9902bf5d3d",
   "metadata": {},
   "outputs": [],
   "source": []
  },
  {
   "cell_type": "code",
   "execution_count": null,
   "id": "00d5bdb2-cad2-429a-b42a-3a154f45a932",
   "metadata": {},
   "outputs": [],
   "source": [
    "attr_dict, var_names, load_state_dict = _get_loaded_data(\n",
    "    reg_vae, device=\"cpu\"\n",
    ")"
   ]
  },
  {
   "cell_type": "code",
   "execution_count": null,
   "id": "b22a854e-8667-4330-bdb4-664482551275",
   "metadata": {},
   "outputs": [
    {
     "data": {
      "text/plain": [
       "OrderedDict([('switch_time_unconstr',\n",
       "              tensor([ 8.9398,  6.4609, 11.2575,  7.7566,  7.7635,  6.8689,  8.1414,  7.5435,\n",
       "                       8.0200,  7.6247,  7.7495,  8.1416,  7.2177,  7.8939,  8.6356,  6.0436,\n",
       "                       7.9499,  8.7684,  8.3530,  8.0275,  7.8365,  8.7751,  7.0371,  8.0674,\n",
       "                       8.5438,  7.7309,  7.6088,  8.0650,  8.1708,  8.0333,  8.0339,  7.6098,\n",
       "                       7.5841,  6.3420,  7.3274,  7.0161,  7.0675,  7.4437,  6.3061,  7.7626,\n",
       "                       8.0422,  8.0000,  7.8392,  7.6489,  6.5385,  6.7724,  7.2385,  8.9053,\n",
       "                       7.1533,  7.1836,  6.6775,  7.2884,  7.0611,  6.4471,  8.1119,  7.3859,\n",
       "                       7.4779,  7.7664,  8.0718,  7.9246,  8.5361,  7.5816,  7.5794,  7.3672,\n",
       "                       6.9416,  7.5094,  8.3393,  9.0959,  8.1998,  7.9375,  7.6360,  7.9355,\n",
       "                       7.8296,  8.7931,  8.1676,  8.1099,  7.8992,  7.8448,  7.7469,  6.7008,\n",
       "                       7.8069,  6.1298,  7.4679,  7.7667,  6.7547,  7.4590, 10.4315, 11.3056,\n",
       "                       7.9972,  8.2520,  8.0449,  8.3275,  7.7352,  8.1139,  8.0405,  7.9917,\n",
       "                       8.2125,  7.1391,  7.6590,  8.0796,  7.6375,  7.9639,  7.8737,  7.5903,\n",
       "                       7.9155, 11.1271,  8.1424,  7.6525,  6.7136,  7.6381,  7.7678,  8.3883,\n",
       "                       7.6737,  7.0098,  7.1913,  7.5338,  8.9200,  8.4815,  7.4617,  8.2599,\n",
       "                       8.0053,  7.6060,  8.3057,  7.2052,  6.4392,  7.6882,  7.9781,  7.4865,\n",
       "                       7.7290,  7.3317,  6.5341,  6.4604,  6.9363])),\n",
       "             ('gamma_mean_unconstr',\n",
       "              tensor([-1.6880, -1.7976, -4.8014, -1.6201, -1.5462, -1.5231, -1.5525, -1.1051,\n",
       "                      -0.8696, -0.9516, -0.7816, -1.0372, -0.8905, -1.0746, -0.7719, -0.5332,\n",
       "                      -0.8844, -0.7282, -0.7701, -0.7549, -0.8388, -0.6875, -0.7643, -0.7836,\n",
       "                      -0.7870, -0.8353, -0.7966, -0.7462, -0.7750, -0.7196, -0.8844, -0.5099,\n",
       "                      -0.7150, -0.7606, -1.0893, -0.8710, -1.0068, -0.8867, -1.0670, -0.8842,\n",
       "                      -0.9573, -0.9121, -0.9898, -1.0451, -1.4737, -1.7431, -1.4328, -1.5640,\n",
       "                      -1.5543, -1.4707, -1.5558, -1.4842, -0.8122, -0.1869, -1.0157, -0.9722,\n",
       "                      -0.9282, -0.8516, -0.8553, -0.8173, -0.9119, -0.9960, -0.9927, -1.0296,\n",
       "                      -1.0149, -1.0131, -0.8732, -0.9462, -0.8899, -0.9527, -0.7369, -0.9121,\n",
       "                      -0.9012, -0.7554, -0.8707, -0.9066, -0.8615, -0.9058, -0.9463, -1.0959,\n",
       "                      -1.8027, -1.6766, -1.6053, -1.6109, -1.4872, -1.6811, -5.4864, -4.8317,\n",
       "                      -0.7761, -0.9324, -0.7743, -0.7380, -0.8902, -0.7523, -0.8590, -0.8309,\n",
       "                      -0.7889, -0.9318, -0.8306, -0.8217, -0.8518, -0.8027, -0.8643, -0.8355,\n",
       "                      -1.0762, -6.8590, -0.8758, -0.9494, -1.2510, -1.1890, -0.8484, -0.9219,\n",
       "                      -1.1446, -1.4593, -1.4818, -0.7067, -4.2334, -0.7103, -0.9065, -0.8103,\n",
       "                      -1.3930, -0.8859, -0.9730, -1.2772, -1.3895, -0.9214, -1.2654, -1.0557,\n",
       "                      -1.1223, -1.6492, -0.6376, -1.3155, -1.3647])),\n",
       "             ('beta_mean_unconstr',\n",
       "              tensor([-7.5580e-01, -5.2437e-01, -4.3764e+00, -6.7977e-01, -6.5584e-01,\n",
       "                      -5.7478e-01, -5.8680e-01,  4.7007e-01, -5.0051e-02,  7.9879e-02,\n",
       "                      -2.1107e-01,  3.0164e-01, -7.2720e-01, -1.2061e-01, -3.5055e-01,\n",
       "                      -6.4957e-01, -4.7360e-02,  2.3606e-02, -3.5858e-03, -4.6863e-02,\n",
       "                       3.8338e-02, -1.0986e-01, -3.8607e-01,  7.0054e-02, -4.2386e-02,\n",
       "                      -1.3108e-02, -5.4277e-02, -1.6101e-01, -6.4622e-02, -1.7645e-01,\n",
       "                       4.3810e-02,  1.3623e-01,  3.0012e-01, -5.1485e-02,  2.0353e-01,\n",
       "                      -3.6796e-01, -8.5438e-02, -1.9765e-01, -3.8699e-01,  1.2013e-01,\n",
       "                       3.1449e-02, -2.0668e-01,  2.0316e-01,  2.7371e-01, -6.2592e-01,\n",
       "                      -3.9691e-01, -6.8191e-01, -4.9997e-01, -4.6988e-01, -5.4146e-01,\n",
       "                      -3.6555e-01, -4.9613e-01, -4.7862e-01, -4.8890e-01,  2.4384e-01,\n",
       "                      -1.4064e-01, -1.4591e-01, -2.3745e-01, -5.9289e-02, -3.1452e-01,\n",
       "                       3.7724e-01,  3.3984e-01,  3.3290e-01,  2.5203e-01,  2.0507e-01,\n",
       "                       2.1068e-01, -1.8666e-02,  1.2921e-01, -5.6908e-02,  1.4024e-01,\n",
       "                      -1.2939e-01,  3.1508e-01,  3.5745e-02,  2.5802e-01,  1.1573e-01,\n",
       "                       3.2640e-01, -6.0267e-03,  1.6388e-02,  8.2648e-02, -4.4279e-01,\n",
       "                      -4.4141e-01, -1.0515e+00, -5.7841e-01, -7.2373e-01, -6.8747e-01,\n",
       "                      -6.2313e-01, -4.4392e+00, -4.7708e+00,  8.9937e-03,  4.0466e-01,\n",
       "                      -8.0072e-02,  6.2629e-02,  7.4899e-02, -7.2307e-02,  2.5824e-02,\n",
       "                      -6.9998e-02,  5.2359e-02, -6.5255e-02,  1.4005e-01,  9.7902e-02,\n",
       "                       1.0130e-01,  5.7279e-02,  1.0659e-01,  2.4483e-02, -1.0660e-01,\n",
       "                       2.5332e+00, -2.8408e-02,  2.6719e-01,  2.3177e-01,  4.0315e-01,\n",
       "                       1.6317e-02, -7.3607e-02,  2.9997e-01, -6.4464e-01, -6.0464e-01,\n",
       "                       3.0563e-01, -4.5385e+00, -2.8528e-02,  4.4017e-01,  1.2590e-01,\n",
       "                      -9.4953e-01,  9.7531e-02,  1.5115e-01, -5.6554e-01, -5.6945e-01,\n",
       "                       2.1887e-01,  2.6120e-01,  3.1722e-01,  1.2030e-01,  6.0144e-02,\n",
       "                      -9.6704e-02, -3.9965e-01, -4.7608e-01])),\n",
       "             ('alpha_unconstr',\n",
       "              tensor([ 0.3385,  0.4045,  0.4678,  0.0866,  0.4684,  0.4378,  0.4749, -0.0295,\n",
       "                      -0.1103, -0.0448,  0.0774,  0.0486,  0.4591, -0.0589, -0.1895,  0.5801,\n",
       "                      -0.0075,  0.0896,  0.0561,  0.1115,  0.1109,  0.0716,  0.5956,  0.0487,\n",
       "                       0.0802,  0.0864,  0.0941,  0.1104,  0.1076,  0.1166,  0.1220, -0.1280,\n",
       "                      -0.3285,  0.2088,  0.0392,  0.0241, -0.0080,  0.1361,  0.2047,  0.1417,\n",
       "                       0.1690,  0.2164,  0.1668,  0.1401,  0.5212,  0.4862,  0.5430,  0.3673,\n",
       "                       0.4981,  0.3932,  0.5663,  0.5624,  0.0084,  0.4931,  0.0029, -0.0061,\n",
       "                      -0.0853,  0.0520, -0.0388, -0.0089, -0.2008, -0.0395,  0.0203, -0.0700,\n",
       "                       0.0125,  0.0023, -0.1767, -0.0931, -0.2207, -0.0368, -0.0925, -0.0288,\n",
       "                      -0.1513, -0.1748, -0.1369, -0.2421, -0.2293, -0.2179, -0.1969,  0.2686,\n",
       "                       0.2640,  0.3232,  0.4968,  0.3568,  0.5402,  0.3682,  0.4215,  0.2221,\n",
       "                      -0.0595, -0.1759,  0.0158, -0.1228, -0.0116, -0.0209,  0.0125, -0.0084,\n",
       "                       0.1529,  0.3122, -0.0556, -0.0364, -0.0643, -0.0265,  0.0343, -0.0096,\n",
       "                       0.1298,  0.3453, -0.2627, -0.2275,  0.2030, -0.2933, -0.0699, -0.2669,\n",
       "                      -0.0450,  0.6082,  0.5391,  0.1305,  0.2503, -0.0399, -0.1315, -0.0704,\n",
       "                       0.5273, -0.0563, -0.2608,  0.5307,  0.7068, -0.0162, -0.1196, -0.1101,\n",
       "                      -0.0651,  0.5111,  0.6652,  0.4000,  0.5439])),\n",
       "             ('alpha_1_unconstr',\n",
       "              tensor([ 7.7201e-01,  7.4656e-01,  7.3443e+00,  1.1697e+00,  7.8019e-01,\n",
       "                       8.1512e-01,  7.6706e-01, -3.2856e-02, -3.0120e-01, -1.9026e-01,\n",
       "                      -1.0876e-01, -3.8542e-01, -1.2478e-01, -2.1542e-01, -3.1703e-01,\n",
       "                      -2.4870e-02, -2.8895e-01,  1.5112e-01,  5.3563e-02,  3.5352e-02,\n",
       "                       2.0295e-01, -4.3566e-02, -9.8782e-03,  8.9033e-02,  1.2160e-01,\n",
       "                       1.4023e-01,  9.8497e-02,  9.0283e-04,  2.5853e-02,  2.4728e-03,\n",
       "                       2.4231e-01, -2.7291e-01, -4.8460e-01, -2.9011e-01, -2.7224e-01,\n",
       "                      -3.7713e-01, -1.7269e-01, -2.6194e-01, -3.7253e-01, -1.2894e-01,\n",
       "                      -1.9565e-01, -2.3994e-01, -1.1557e-01,  7.7277e-02,  9.0973e-01,\n",
       "                       8.4561e-01,  7.7572e-01,  9.5791e-01,  7.2679e-01,  8.4865e-01,\n",
       "                       7.3950e-01,  7.2508e-01, -4.1268e-01, -1.2878e-01, -6.8774e-04,\n",
       "                      -1.5857e-01, -2.5178e-01, -8.0920e-02, -2.5074e-01, -3.4813e-01,\n",
       "                       7.1401e-02, -9.3651e-02, -1.5113e-01,  1.0255e-02, -8.3609e-02,\n",
       "                       3.8103e-02, -2.3463e-01, -2.6454e-01, -3.4672e-01, -1.6107e-01,\n",
       "                      -1.6046e-01, -2.2926e-01, -2.6404e-01, -1.9558e-01, -1.7908e-01,\n",
       "                      -2.2964e-01, -2.6988e-01, -2.9175e-01, -2.4926e-01, -1.6815e-01,\n",
       "                       8.9698e-01,  9.4680e-01,  7.2486e-01,  8.3361e-01,  7.4817e-01,\n",
       "                       8.5204e-01,  7.9244e+00,  7.6680e+00, -3.8164e-02,  1.8545e-02,\n",
       "                      -8.1448e-02, -2.2899e-02,  7.1603e-02, -2.7160e-02,  8.3383e-02,\n",
       "                      -1.1349e-01,  8.0136e-02,  3.5478e-02, -9.6249e-02, -6.0639e-02,\n",
       "                      -6.0043e-02, -7.5560e-02, -1.4974e-03, -6.3257e-02,  2.6702e-01,\n",
       "                       8.0443e+00, -2.9307e-01, -1.3080e-01, -6.3566e-02, -1.8015e-01,\n",
       "                       8.2850e-02, -2.1078e-01,  5.0798e-01,  6.3013e-01,  6.0066e-01,\n",
       "                      -1.4853e-01,  6.6448e+00,  9.9827e-02, -4.3712e-01,  1.5142e-01,\n",
       "                       8.0832e-01,  1.4811e-01, -1.7509e-01,  8.8860e-01,  5.3244e-01,\n",
       "                      -5.7525e-03, -1.6677e-01, -7.7291e-02, -1.4020e-02,  5.2615e-01,\n",
       "                       1.0722e-01,  8.2810e-01,  6.4602e-01])),\n",
       "             ('scale_unconstr_targets',\n",
       "              tensor([[-4.1642, -0.9999, -0.9999],\n",
       "                      [-4.1503, -0.9999, -0.9999],\n",
       "                      [-3.1378, -0.9999, -0.9999],\n",
       "                      [-4.7123, -0.9999, -0.9999],\n",
       "                      [-4.3011, -0.9999, -0.9999],\n",
       "                      [-4.3548, -0.9999, -0.9999],\n",
       "                      [-4.0950, -0.9999, -0.9999],\n",
       "                      [-5.2201, -0.9999, -0.9999],\n",
       "                      [-5.1885, -0.9999, -0.9999],\n",
       "                      [-5.3414, -0.9999, -0.9999],\n",
       "                      [-5.5668, -0.9999, -0.9999],\n",
       "                      [-4.7631, -0.9999, -0.9999],\n",
       "                      [-5.4362, -0.9999, -0.9999],\n",
       "                      [-5.1007, -0.9999, -0.9999],\n",
       "                      [-5.4082, -0.9999, -0.9999],\n",
       "                      [-5.5271, -0.9999, -0.9999],\n",
       "                      [-5.1233, -0.9999, -0.9999],\n",
       "                      [-5.5733, -0.9999, -0.9999],\n",
       "                      [-5.6082, -0.9999, -0.9999],\n",
       "                      [-5.5681, -0.9999, -0.9999],\n",
       "                      [-5.6364, -0.9999, -0.9999],\n",
       "                      [-5.5200, -0.9999, -0.9999],\n",
       "                      [-5.6677, -0.9999, -0.9999],\n",
       "                      [-5.5624, -0.9999, -0.9999],\n",
       "                      [-5.5317, -0.9999, -0.9999],\n",
       "                      [-5.6470, -0.9999, -0.9999],\n",
       "                      [-5.5885, -0.9999, -0.9999],\n",
       "                      [-5.5850, -0.9999, -0.9999],\n",
       "                      [-5.5157, -0.9999, -0.9999],\n",
       "                      [-5.6215, -0.9999, -0.9999],\n",
       "                      [-5.6050, -0.9999, -0.9999],\n",
       "                      [-4.6064, -0.9999, -0.9999],\n",
       "                      [-4.3115, -0.9999, -0.9999],\n",
       "                      [-4.0437, -0.9999, -0.9999],\n",
       "                      [-4.9829, -0.9999, -0.9999],\n",
       "                      [-5.3756, -0.9999, -0.9999],\n",
       "                      [-5.2948, -0.9999, -0.9999],\n",
       "                      [-5.2709, -0.9999, -0.9999],\n",
       "                      [-5.1066, -0.9999, -0.9999],\n",
       "                      [-5.3183, -0.9999, -0.9999],\n",
       "                      [-5.1170, -0.9999, -0.9999],\n",
       "                      [-5.7097, -0.9999, -0.9999],\n",
       "                      [-5.0924, -0.9999, -0.9999],\n",
       "                      [-5.1166, -0.9999, -0.9999],\n",
       "                      [-4.3339, -0.9999, -0.9999],\n",
       "                      [-3.6710, -0.9999, -0.9999],\n",
       "                      [-4.2152, -0.9999, -0.9999],\n",
       "                      [-3.9039, -0.9999, -0.9999],\n",
       "                      [-4.0549, -0.9999, -0.9999],\n",
       "                      [-4.1724, -0.9999, -0.9999],\n",
       "                      [-3.9883, -0.9999, -0.9999],\n",
       "                      [-3.8616, -0.9999, -0.9999],\n",
       "                      [-5.5480, -0.9999, -0.9999],\n",
       "                      [-5.5946, -0.9999, -0.9999],\n",
       "                      [-5.0449, -0.9999, -0.9999],\n",
       "                      [-5.3250, -0.9999, -0.9999],\n",
       "                      [-5.0535, -0.9999, -0.9999],\n",
       "                      [-5.4208, -0.9999, -0.9999],\n",
       "                      [-5.2418, -0.9999, -0.9999],\n",
       "                      [-5.2766, -0.9999, -0.9999],\n",
       "                      [-5.1942, -0.9999, -0.9999],\n",
       "                      [-4.9679, -0.9999, -0.9999],\n",
       "                      [-4.6495, -0.9999, -0.9999],\n",
       "                      [-5.2443, -0.9999, -0.9999],\n",
       "                      [-5.0492, -0.9999, -0.9999],\n",
       "                      [-5.0656, -0.9999, -0.9999],\n",
       "                      [-5.3649, -0.9999, -0.9999],\n",
       "                      [-4.9817, -0.9999, -0.9999],\n",
       "                      [-5.2153, -0.9999, -0.9999],\n",
       "                      [-5.1933, -0.9999, -0.9999],\n",
       "                      [-5.3546, -0.9999, -0.9999],\n",
       "                      [-5.2508, -0.9999, -0.9999],\n",
       "                      [-5.3401, -0.9999, -0.9999],\n",
       "                      [-5.3283, -0.9999, -0.9999],\n",
       "                      [-5.3571, -0.9999, -0.9999],\n",
       "                      [-5.3647, -0.9999, -0.9999],\n",
       "                      [-5.3721, -0.9999, -0.9999],\n",
       "                      [-5.3692, -0.9999, -0.9999],\n",
       "                      [-5.3811, -0.9999, -0.9999],\n",
       "                      [-5.3762, -0.9999, -0.9999],\n",
       "                      [-4.5297, -0.9999, -0.9999],\n",
       "                      [-4.7713, -0.9999, -0.9999],\n",
       "                      [-4.1451, -0.9999, -0.9999],\n",
       "                      [-4.4064, -0.9999, -0.9999],\n",
       "                      [-4.6448, -0.9999, -0.9999],\n",
       "                      [-4.2769, -0.9999, -0.9999],\n",
       "                      [-3.4297, -0.9999, -0.9999],\n",
       "                      [-3.5771, -0.9999, -0.9999],\n",
       "                      [-5.5771, -0.9999, -0.9999],\n",
       "                      [-5.4560, -0.9999, -0.9999],\n",
       "                      [-5.6101, -0.9999, -0.9999],\n",
       "                      [-5.6468, -0.9999, -0.9999],\n",
       "                      [-5.5514, -0.9999, -0.9999],\n",
       "                      [-5.6740, -0.9999, -0.9999],\n",
       "                      [-5.6452, -0.9999, -0.9999],\n",
       "                      [-5.6118, -0.9999, -0.9999],\n",
       "                      [-5.6438, -0.9999, -0.9999],\n",
       "                      [-5.6730, -0.9999, -0.9999],\n",
       "                      [-5.6428, -0.9999, -0.9999],\n",
       "                      [-5.6281, -0.9999, -0.9999],\n",
       "                      [-5.6491, -0.9999, -0.9999],\n",
       "                      [-5.6531, -0.9999, -0.9999],\n",
       "                      [-5.6246, -0.9999, -0.9999],\n",
       "                      [-5.6604, -0.9999, -0.9999],\n",
       "                      [-4.7518, -0.9999, -0.9999],\n",
       "                      [-2.0511, -0.9999, -0.9999],\n",
       "                      [-5.3105, -0.9999, -0.9999],\n",
       "                      [-5.4938, -0.9999, -0.9999],\n",
       "                      [-5.1378, -0.9999, -0.9999],\n",
       "                      [-5.3689, -0.9999, -0.9999],\n",
       "                      [-5.5641, -0.9999, -0.9999],\n",
       "                      [-5.2557, -0.9999, -0.9999],\n",
       "                      [-5.2973, -0.9999, -0.9999],\n",
       "                      [-4.4756, -0.9999, -0.9999],\n",
       "                      [-4.0828, -0.9999, -0.9999],\n",
       "                      [-4.4881, -0.9999, -0.9999],\n",
       "                      [-2.3625, -0.9999, -0.9999],\n",
       "                      [-5.6709, -0.9999, -0.9999],\n",
       "                      [-4.3634, -0.9999, -0.9999],\n",
       "                      [-5.6262, -0.9999, -0.9999],\n",
       "                      [-4.6335, -0.9999, -0.9999],\n",
       "                      [-5.5586, -0.9999, -0.9999],\n",
       "                      [-4.9819, -0.9999, -0.9999],\n",
       "                      [-4.9970, -0.9999, -0.9999],\n",
       "                      [-4.3133, -0.9999, -0.9999],\n",
       "                      [-4.6224, -0.9999, -0.9999],\n",
       "                      [-4.6336, -0.9999, -0.9999],\n",
       "                      [-4.9545, -0.9999, -0.9999],\n",
       "                      [-5.1996, -0.9999, -0.9999],\n",
       "                      [-4.6938, -0.9999, -0.9999],\n",
       "                      [-4.1500, -0.9999, -0.9999],\n",
       "                      [-4.4108, -0.9999, -0.9999],\n",
       "                      [-4.1294, -0.9999, -0.9999],\n",
       "                      [-4.9379, -0.9999, -0.9999],\n",
       "                      [-5.0314, -0.9999, -0.9999],\n",
       "                      [-2.6942, -0.9999, -0.9999],\n",
       "                      [-4.7362, -0.9999, -0.9999],\n",
       "                      [-4.7717, -0.9999, -0.9999],\n",
       "                      [-5.0834, -0.9999, -0.9999],\n",
       "                      [-4.9100, -0.9999, -0.9999],\n",
       "                      [-5.4236, -0.9999, -0.9999],\n",
       "                      [-5.3774, -0.9999, -0.9999],\n",
       "                      [-5.4633, -0.9999, -0.9999],\n",
       "                      [-5.4617, -0.9999, -0.9999],\n",
       "                      [-5.3448, -0.9999, -0.9999],\n",
       "                      [-5.2682, -0.9999, -0.9999],\n",
       "                      [-5.2311, -0.9999, -0.9999],\n",
       "                      [-5.2889, -0.9999, -0.9999],\n",
       "                      [-5.2576, -0.9999, -0.9999],\n",
       "                      [-5.3624, -0.9999, -0.9999],\n",
       "                      [-5.5656, -0.9999, -0.9999],\n",
       "                      [-5.5810, -0.9999, -0.9999],\n",
       "                      [-5.5768, -0.9999, -0.9999],\n",
       "                      [-5.5756, -0.9999, -0.9999],\n",
       "                      [-5.5994, -0.9999, -0.9999],\n",
       "                      [-5.5786, -0.9999, -0.9999],\n",
       "                      [-5.5942, -0.9999, -0.9999],\n",
       "                      [-5.5270, -0.9999, -0.9999],\n",
       "                      [-5.5198, -0.9999, -0.9999],\n",
       "                      [-5.5600, -0.9999, -0.9999],\n",
       "                      [-5.5807, -0.9999, -0.9999],\n",
       "                      [-5.5995, -0.9999, -0.9999],\n",
       "                      [-5.5376, -0.9999, -0.9999],\n",
       "                      [-5.5705, -0.9999, -0.9999],\n",
       "                      [-5.1153, -0.9999, -0.9999],\n",
       "                      [-4.6948, -0.9999, -0.9999],\n",
       "                      [-5.0337, -0.9999, -0.9999],\n",
       "                      [-5.4398, -0.9999, -0.9999],\n",
       "                      [-5.2216, -0.9999, -0.9999],\n",
       "                      [-5.1965, -0.9999, -0.9999],\n",
       "                      [-5.3789, -0.9999, -0.9999],\n",
       "                      [-4.7775, -0.9999, -0.9999],\n",
       "                      [-5.5802, -0.9999, -0.9999],\n",
       "                      [-5.5114, -0.9999, -0.9999],\n",
       "                      [-5.3420, -0.9999, -0.9999],\n",
       "                      [-5.5250, -0.9999, -0.9999],\n",
       "                      [-5.4684, -0.9999, -0.9999],\n",
       "                      [-5.0484, -0.9999, -0.9999],\n",
       "                      [-5.1220, -0.9999, -0.9999],\n",
       "                      [-5.0846, -0.9999, -0.9999],\n",
       "                      [-5.1116, -0.9999, -0.9999],\n",
       "                      [-5.1806, -0.9999, -0.9999],\n",
       "                      [-5.2625, -0.9999, -0.9999],\n",
       "                      [-5.2394, -0.9999, -0.9999],\n",
       "                      [-5.1288, -0.9999, -0.9999],\n",
       "                      [-5.4111, -0.9999, -0.9999],\n",
       "                      [-5.1617, -0.9999, -0.9999],\n",
       "                      [-5.3658, -0.9999, -0.9999],\n",
       "                      [-5.3477, -0.9999, -0.9999],\n",
       "                      [-5.3447, -0.9999, -0.9999],\n",
       "                      [-5.3673, -0.9999, -0.9999],\n",
       "                      [-5.4619, -0.9999, -0.9999],\n",
       "                      [-5.3778, -0.9999, -0.9999],\n",
       "                      [-5.4010, -0.9999, -0.9999],\n",
       "                      [-5.3746, -0.9999, -0.9999],\n",
       "                      [-5.3796, -0.9999, -0.9999],\n",
       "                      [-5.2655, -0.9999, -0.9999],\n",
       "                      [-5.2948, -0.9999, -0.9999],\n",
       "                      [-5.2988, -0.9999, -0.9999],\n",
       "                      [-5.3857, -0.9999, -0.9999],\n",
       "                      [-5.2917, -0.9999, -0.9999],\n",
       "                      [-5.3561, -0.9999, -0.9999],\n",
       "                      [-5.5891, -0.9999, -0.9999],\n",
       "                      [-5.5591, -0.9999, -0.9999],\n",
       "                      [-5.6058, -0.9999, -0.9999],\n",
       "                      [-5.5119, -0.9999, -0.9999],\n",
       "                      [-5.5310, -0.9999, -0.9999],\n",
       "                      [-5.6032, -0.9999, -0.9999],\n",
       "                      [-5.5929, -0.9999, -0.9999],\n",
       "                      [-5.5616, -0.9999, -0.9999],\n",
       "                      [-5.5462, -0.9999, -0.9999],\n",
       "                      [-5.5676, -0.9999, -0.9999],\n",
       "                      [-5.5392, -0.9999, -0.9999],\n",
       "                      [-4.8545, -0.9999, -0.9999],\n",
       "                      [-5.3010, -0.9999, -0.9999],\n",
       "                      [-4.8160, -0.9999, -0.9999],\n",
       "                      [-4.7612, -0.9999, -0.9999],\n",
       "                      [-5.0656, -0.9999, -0.9999],\n",
       "                      [-5.0973, -0.9999, -0.9999],\n",
       "                      [-3.0666, -0.9999, -0.9999],\n",
       "                      [-3.0441, -0.9999, -0.9999],\n",
       "                      [-5.6095, -0.9999, -0.9999],\n",
       "                      [-5.5948, -0.9999, -0.9999],\n",
       "                      [-5.5995, -0.9999, -0.9999],\n",
       "                      [-5.5677, -0.9999, -0.9999],\n",
       "                      [-5.5276, -0.9999, -0.9999],\n",
       "                      [-5.5633, -0.9999, -0.9999],\n",
       "                      [-5.5610, -0.9999, -0.9999],\n",
       "                      [-5.4403, -0.9999, -0.9999],\n",
       "                      [-5.6170, -0.9999, -0.9999],\n",
       "                      [-5.6289, -0.9999, -0.9999],\n",
       "                      [-5.5852, -0.9999, -0.9999],\n",
       "                      [-5.5822, -0.9999, -0.9999],\n",
       "                      [-5.6069, -0.9999, -0.9999],\n",
       "                      [-5.5890, -0.9999, -0.9999],\n",
       "                      [-5.6195, -0.9999, -0.9999],\n",
       "                      [-5.5915, -0.9999, -0.9999],\n",
       "                      [-4.2606, -0.9999, -0.9999],\n",
       "                      [-3.9954, -0.9999, -0.9999],\n",
       "                      [-5.5356, -0.9999, -0.9999],\n",
       "                      [-5.5629, -0.9999, -0.9999],\n",
       "                      [-5.6367, -0.9999, -0.9999],\n",
       "                      [-5.2828, -0.9999, -0.9999],\n",
       "                      [-5.4106, -0.9999, -0.9999],\n",
       "                      [-5.5315, -0.9999, -0.9999],\n",
       "                      [-5.4043, -0.9999, -0.9999],\n",
       "                      [-4.8783, -0.9999, -0.9999],\n",
       "                      [-5.0218, -0.9999, -0.9999],\n",
       "                      [-5.1747, -0.9999, -0.9999],\n",
       "                      [-2.0351, -0.9999, -0.9999],\n",
       "                      [-5.6154, -0.9999, -0.9999],\n",
       "                      [-4.9350, -0.9999, -0.9999],\n",
       "                      [-5.6030, -0.9999, -0.9999],\n",
       "                      [-5.1440, -0.9999, -0.9999],\n",
       "                      [-5.5778, -0.9999, -0.9999],\n",
       "                      [-5.3065, -0.9999, -0.9999],\n",
       "                      [-4.9833, -0.9999, -0.9999],\n",
       "                      [-4.5954, -0.9999, -0.9999],\n",
       "                      [-5.1056, -0.9999, -0.9999],\n",
       "                      [-5.3039, -0.9999, -0.9999],\n",
       "                      [-5.2641, -0.9999, -0.9999],\n",
       "                      [-5.2140, -0.9999, -0.9999],\n",
       "                      [-4.9892, -0.9999, -0.9999],\n",
       "                      [-4.6407, -0.9999, -0.9999],\n",
       "                      [-5.0344, -0.9999, -0.9999],\n",
       "                      [-4.9587, -0.9999, -0.9999]])),\n",
       "             ('z_encoder.encoder.fc_layers.Layer 0.0.weight',\n",
       "              tensor([[-0.0597,  0.0344, -0.0591,  ..., -0.6108, -0.3076,  0.4356],\n",
       "                      [-0.0706, -0.0653, -0.0282,  ..., -0.2628, -0.2207, -0.1282],\n",
       "                      [-0.0972, -0.2166, -0.2415,  ..., -0.0646, -0.1621,  0.2013],\n",
       "                      ...,\n",
       "                      [-0.0491,  0.0646, -0.0865,  ...,  0.3694,  0.4232,  0.2663],\n",
       "                      [-0.1895, -0.1654, -0.3398,  ..., -0.0306, -0.0880,  0.0272],\n",
       "                      [-0.1352, -0.0306, -0.0793,  ..., -0.1771, -0.0110, -0.1966]])),\n",
       "             ('z_encoder.encoder.fc_layers.Layer 0.0.bias',\n",
       "              tensor([ 1.1946e-01,  8.6366e-02,  2.8979e-01,  1.5306e-02,  1.6198e-01,\n",
       "                       1.3866e-01, -1.0045e-01,  8.7239e-02, -7.6876e-02,  4.7540e-02,\n",
       "                       1.7976e-01, -1.7942e-01, -7.2117e-02, -4.3520e-02, -6.6549e-02,\n",
       "                       1.1703e-01,  1.5447e-01,  2.8143e-01,  2.7901e-02, -2.2308e-01,\n",
       "                       4.6073e-01, -1.5921e-04,  1.9855e-01, -1.3599e-01, -7.6960e-02,\n",
       "                      -3.2555e-02, -1.9727e-01, -8.1593e-02, -1.7414e-01,  4.8626e-01,\n",
       "                       2.0793e-01, -7.4327e-01, -5.3984e-01, -7.1708e-01, -4.2541e-01,\n",
       "                      -2.2852e-01,  1.3157e-01,  9.9768e-03,  4.6315e-02,  1.8237e-01,\n",
       "                       1.3334e-01,  4.4029e-02,  6.3306e-02,  1.4491e-01, -2.4677e-01,\n",
       "                      -1.0002e-01,  6.0980e-02, -2.5605e-01,  5.6870e-01,  1.0711e-01,\n",
       "                      -8.1106e-02, -5.1287e-01, -1.2158e-01,  4.4715e-02,  7.1111e-02,\n",
       "                      -5.1574e-01, -3.8260e-01,  9.6770e-02,  1.4767e-01,  5.1239e-01,\n",
       "                      -1.7462e-01, -6.9349e-02,  7.5272e-02, -5.7774e-02,  1.0848e-02,\n",
       "                      -1.1628e-01,  1.7748e-01,  2.9170e-02,  4.0720e-01, -1.3149e-01,\n",
       "                      -6.3540e-02,  1.5962e-02, -2.8470e-01,  1.2609e-01,  1.2446e-01,\n",
       "                       6.8276e-02, -5.1874e-01, -2.1733e-01, -8.6509e-02,  3.6288e-01,\n",
       "                      -3.0164e-01,  4.5521e-02,  1.8708e-02,  1.5241e-01,  6.8603e-02,\n",
       "                      -1.1786e-01,  5.8475e-02,  1.8477e-01, -1.8441e-01, -1.5588e-01,\n",
       "                       6.7335e-02, -4.1887e-02,  1.1360e-01,  5.0940e-02, -4.6694e-02,\n",
       "                      -1.9372e-02, -2.4111e-01, -2.0761e-01, -4.6391e-01,  8.7139e-02,\n",
       "                      -6.9683e-02, -1.1774e-01,  4.0625e-01, -3.1916e-01,  4.0683e-01,\n",
       "                      -9.3413e-03,  1.2493e-01, -2.6306e-01, -1.9039e-01, -6.8375e-02,\n",
       "                      -2.9765e-02,  1.0765e-01,  2.3849e-02,  8.8110e-02,  1.4991e-01,\n",
       "                       2.2224e-01,  3.5199e-03, -3.0124e-01,  6.6361e-02,  3.1717e-01,\n",
       "                       1.9351e-01,  1.9930e-02, -4.7578e-04,  4.3813e-01,  1.2178e-01,\n",
       "                       1.4912e-01,  6.8325e-02,  6.6298e-02, -8.6912e-02, -2.9646e-01,\n",
       "                      -5.6250e-02,  5.3416e-02, -3.0060e-01, -8.8859e-02, -2.0133e-01,\n",
       "                       3.4622e-01,  1.0889e-01, -9.0550e-02,  8.7375e-02, -2.4385e-01,\n",
       "                       1.8534e-01,  1.6530e-02, -3.4317e-01, -1.5851e-01,  2.8137e-01,\n",
       "                      -3.1820e-01, -9.2507e-02, -2.0323e-01,  2.6919e-01,  4.7516e-01,\n",
       "                      -4.2254e-01,  2.6664e-01,  1.9231e-01, -4.7510e-02,  1.6286e-01,\n",
       "                       1.5356e-01, -8.9115e-02,  1.0689e-01,  5.8280e-03, -1.0219e-01,\n",
       "                       7.0321e-02, -1.0617e-01,  4.5259e-01, -9.2842e-02, -2.3802e-01,\n",
       "                       1.5123e-02,  2.9186e-02, -2.9145e-01, -4.3601e-02, -9.3263e-02,\n",
       "                       5.0005e-02,  3.0955e-01,  6.3133e-02,  1.6684e-02,  1.8793e-01,\n",
       "                      -4.6162e-01,  4.5152e-02,  4.2368e-01,  7.5252e-02,  2.1078e-01,\n",
       "                      -1.2659e-01,  5.5167e-01,  8.6705e-03, -1.4245e-01, -1.1941e-01,\n",
       "                      -3.1870e-01, -2.0335e-01, -1.5240e-01,  1.7349e-01, -5.0037e-02,\n",
       "                       9.4626e-02,  5.1483e-02,  2.1006e-02, -2.9118e-01, -1.3979e-01,\n",
       "                       3.7914e-01, -1.9393e-01,  2.4851e-02, -5.9460e-02,  1.9614e-01,\n",
       "                      -1.5038e-01,  1.3492e-01,  5.0161e-01,  2.4277e-01, -1.4251e-01,\n",
       "                       3.5369e-01, -1.2148e-01,  4.7360e-02, -3.0633e-01, -2.5172e-01,\n",
       "                      -1.3757e-01, -1.2699e-01,  1.1201e-01, -6.0105e-01,  2.7686e-01,\n",
       "                       6.8600e-02, -6.9204e-02,  1.0673e-01,  4.7651e-02, -2.0358e-02,\n",
       "                       6.9150e-02, -2.2486e-01, -1.3130e-01,  2.6004e-01,  2.7754e-01,\n",
       "                       4.8269e-02,  5.7189e-01,  1.7180e-01,  3.5631e-01,  1.5198e-02,\n",
       "                      -3.3250e-01, -6.8705e-03, -3.2742e-01, -2.8909e-01,  6.3123e-02,\n",
       "                      -2.0184e-01, -4.2111e-02,  1.1742e-01, -6.7971e-01, -1.9194e-01,\n",
       "                       3.9537e-01, -1.9260e-01,  3.1094e-01,  2.8210e-01, -1.0709e-01,\n",
       "                       1.8264e-01,  4.7426e-01, -3.2393e-02, -6.8794e-02, -4.7170e-01,\n",
       "                       3.7923e-02,  2.4738e-01,  1.6164e-01, -2.6982e-01,  9.1537e-02,\n",
       "                       1.9351e-02])),\n",
       "             ('z_encoder.encoder.fc_layers.Layer 0.1.weight',\n",
       "              tensor([0.8233, 0.8238, 0.8023, 0.7345, 1.1734, 1.3297, 1.2474, 1.0350, 1.1247,\n",
       "                      0.6073, 0.9662, 1.0410, 0.9922, 0.8754, 0.9460, 0.7919, 1.0296, 0.8503,\n",
       "                      0.7512, 0.8450, 0.5854, 1.0606, 1.0606, 1.0663, 1.1124, 0.9192, 1.3802,\n",
       "                      0.8343, 0.7991, 0.7002, 0.8371, 0.8569, 1.3893, 1.7164, 1.5238, 1.0323,\n",
       "                      0.8225, 1.0844, 0.8166, 0.9320, 0.8888, 0.6013, 0.9235, 1.0463, 0.7057,\n",
       "                      0.7597, 0.6562, 0.8080, 0.7840, 0.7727, 1.3605, 1.2643, 0.7277, 1.0768,\n",
       "                      1.0039, 1.3641, 1.0486, 1.0046, 1.0283, 1.2080, 0.8527, 0.8477, 0.8814,\n",
       "                      0.8979, 0.9866, 1.1065, 0.6840, 0.8834, 0.7349, 1.1173, 1.0198, 0.8300,\n",
       "                      0.8192, 1.0186, 0.7392, 1.2185, 0.7219, 1.1470, 0.8885, 0.8036, 0.7684,\n",
       "                      0.7897, 0.8170, 1.1014, 0.7980, 0.8213, 1.1012, 0.9636, 0.7943, 1.0079,\n",
       "                      1.0660, 1.2015, 0.7768, 1.0143, 0.8914, 0.8663, 1.1227, 0.6750, 0.7718,\n",
       "                      1.0081, 0.8720, 0.6780, 0.6222, 0.7106, 0.8455, 0.8889, 0.7935, 1.0298,\n",
       "                      1.1293, 0.9352, 0.8804, 0.6271, 0.7842, 0.7351, 1.3663, 0.9063, 1.0256,\n",
       "                      0.8878, 0.9371, 1.1299, 1.2388, 0.9057, 1.3503, 1.1453, 1.0119, 0.6859,\n",
       "                      1.3099, 1.4152, 1.2939, 1.1892, 0.7160, 0.8657, 0.7356, 1.2594, 0.8747,\n",
       "                      0.6284, 0.7122, 0.6668, 0.7823, 0.9999, 1.1075, 1.0306, 0.6414, 1.2290,\n",
       "                      1.0299, 0.8505, 0.9804, 0.7519, 1.1211, 1.0107, 1.2339, 1.1070, 1.0519,\n",
       "                      0.6470, 0.9890, 0.5955, 1.1514, 1.1761, 0.8591, 0.8776, 0.8653, 1.0608,\n",
       "                      0.9442, 1.4057, 1.0647, 1.0052, 0.8145, 1.0595, 1.0867, 1.2559, 0.9164,\n",
       "                      0.7390, 1.1238, 0.9999, 0.8187, 0.7588, 0.9532, 1.1901, 0.7515, 1.2349,\n",
       "                      0.9577, 1.5756, 0.7511, 1.0755, 1.1551, 0.9875, 0.8099, 1.0172, 1.1327,\n",
       "                      1.0233, 0.9112, 0.9998, 0.7663, 0.8605, 1.0393, 1.0231, 1.3275, 0.8639,\n",
       "                      1.0772, 1.0209, 0.7358, 0.7451, 1.2568, 1.0774, 0.8827, 0.8812, 1.1293,\n",
       "                      0.7961, 0.6562, 0.7339, 0.8689, 1.2083, 0.7198, 0.8705, 1.1795, 0.9110,\n",
       "                      1.2487, 0.8340, 1.0217, 0.9485, 1.1223, 1.0483, 0.9155, 0.7951, 0.6417,\n",
       "                      0.9362, 1.1443, 1.1917, 0.7882, 0.8099, 0.7826, 1.1876, 0.8584, 1.0623,\n",
       "                      0.8426, 1.0331, 0.8675, 0.8430, 0.9754, 1.2671, 1.2127, 0.6465, 0.8477,\n",
       "                      0.9514, 0.8328, 1.3718, 1.4143, 1.0850, 0.9183, 1.0907, 1.0354, 1.2203,\n",
       "                      0.9442, 0.9024, 1.0880, 0.6865])),\n",
       "             ('z_encoder.encoder.fc_layers.Layer 0.1.bias',\n",
       "              tensor([ 0.1699,  0.6635, -0.0268,  0.2069,  0.7520, -0.4093,  0.0140,  0.2902,\n",
       "                       0.1852,  0.0396, -0.3493, -0.0196, -0.2135, -0.2511,  0.1340, -0.1657,\n",
       "                       0.5550,  0.0300,  0.4496, -0.0235,  0.0777,  0.0927, -0.3295, -0.0525,\n",
       "                       0.1334,  0.1080, -0.2113,  0.1622,  0.7004,  0.2727, -0.0416,  0.2123,\n",
       "                      -0.8792,  0.0688, -0.1889, -0.2040,  0.0533, -0.4751,  0.0426,  0.0198,\n",
       "                       0.3932,  0.3809,  0.1902, -0.0552,  0.2586,  0.0379,  0.2701,  0.0791,\n",
       "                       0.1529,  0.7686, -0.4074, -0.9710,  0.1831,  0.2027,  0.0338, -0.2456,\n",
       "                      -0.2205, -0.3817, -0.1716,  0.0785,  0.1264, -0.2285,  0.3239, -0.0574,\n",
       "                      -0.5931, -0.4992,  0.4106,  0.1086,  0.2965, -0.6608,  0.3687,  0.2371,\n",
       "                       0.1053,  0.2172,  0.6311,  0.1052,  0.0183,  0.2784,  0.0335,  0.2728,\n",
       "                       0.3276,  0.2072,  0.2071,  0.2106,  0.0597,  0.4554,  0.0685, -0.3235,\n",
       "                      -0.1212,  0.2430,  0.4703, -0.0578,  0.0074,  0.0651,  0.3937,  0.3026,\n",
       "                       0.2775,  0.1302,  0.0402, -0.0770,  0.2691, -0.3537,  0.4016,  0.3800,\n",
       "                       0.1654, -0.3843,  0.6812,  0.0800, -0.2093,  0.0414,  0.2114,  0.3863,\n",
       "                      -0.0513,  0.2254, -0.2198, -0.1187,  0.3872, -0.1919, -0.0359, -0.0193,\n",
       "                       0.2369,  0.0653,  0.3490, -0.1242, -0.0997, -0.0279,  0.4440,  0.0188,\n",
       "                      -0.0961,  0.0492,  0.1711, -0.0295,  0.0767,  0.3581,  0.1022,  0.1329,\n",
       "                       0.2718,  0.4225,  0.1386, -0.4710, -0.2702, -0.0607,  0.2408, -0.6928,\n",
       "                       0.1671,  0.1662, -0.0201,  0.1673,  0.3403,  0.1058, -0.0665, -0.7079,\n",
       "                      -0.0754,  0.1765,  0.2064,  0.5774, -0.5454, -0.6751, -0.0859,  0.3067,\n",
       "                       0.2470, -0.0467, -0.4016,  0.1532, -0.0508,  0.2250, -0.1986,  0.0383,\n",
       "                      -0.2501, -0.1422, -0.1607, -0.2212,  0.2406,  0.1308, -0.1453,  0.4466,\n",
       "                      -0.4830, -0.4733,  0.1507, -0.0332,  0.0597,  0.3315,  0.1895, -0.5458,\n",
       "                      -0.6921,  0.5189,  0.1174, -0.0347,  0.2158, -0.2094,  0.3625, -0.4949,\n",
       "                       0.1731, -0.2203,  0.2138, -0.1966, -0.3237, -0.0085,  0.4009, -0.3849,\n",
       "                      -0.1125,  0.0611,  0.1727, -0.2680,  0.2925,  0.5108, -0.0116, -0.0561,\n",
       "                      -0.0210,  0.3325, -0.0874,  0.0087,  0.5324,  0.2133, -0.4700,  0.3312,\n",
       "                      -0.6816, -0.3259, -0.2402,  0.1569, -0.8343,  0.2143,  0.4757,  0.3683,\n",
       "                       0.4329, -0.0577, -0.7816,  0.2777,  0.0472, -0.0385,  0.2365,  0.4903,\n",
       "                       0.1871, -0.1898,  0.4020,  0.1933,  0.0313,  0.6462, -0.3603, -0.0346,\n",
       "                       0.3190,  0.4044, -0.0806, -0.0327,  1.1602, -0.0665, -0.4075, -0.1981,\n",
       "                      -0.5443, -0.2895, -0.1553,  0.4663,  0.1750,  0.1060,  0.6079,  0.2889])),\n",
       "             ('z_encoder.encoder.fc_layers.Layer 0.1.running_mean',\n",
       "              tensor([ 8.8747e-01, -2.2888e-01, -1.0080e+00,  3.9514e-01, -1.4085e-01,\n",
       "                       7.7256e-01, -2.8023e+00, -1.4661e+00, -2.3018e+00,  1.2273e+00,\n",
       "                      -1.7192e+00,  1.2761e+00, -2.3994e-01,  2.4307e-01,  1.5686e-01,\n",
       "                      -3.8961e-03, -9.7768e-01, -2.4069e-01,  6.5026e-01,  2.2355e-01,\n",
       "                       4.6391e-01, -8.6368e-02, -4.8907e-01, -1.1558e+00, -3.4374e+00,\n",
       "                      -8.4732e-01, -8.3141e-01,  1.1597e+00, -5.2873e-01,  1.2210e+00,\n",
       "                      -9.0439e-01, -1.4607e+00, -1.1875e+00, -3.7554e+00, -3.4427e+00,\n",
       "                      -2.4013e+00,  1.9832e+00, -4.5508e-01,  8.3027e-03, -2.5774e-01,\n",
       "                       5.1932e-01,  3.0560e+00,  1.0808e+00, -7.0261e-01,  1.5876e+00,\n",
       "                       1.0708e-01, -4.5502e-01, -6.6778e-01,  2.6305e-01,  8.7431e-01,\n",
       "                       9.6109e-01,  2.7273e-01,  3.4690e-01, -9.9311e-01, -1.9916e+00,\n",
       "                      -6.1317e-01, -5.1764e-01, -1.0352e+00,  7.7433e-01, -2.3117e+00,\n",
       "                       6.8809e-01,  1.6996e+00,  3.0294e-01, -8.5567e-01,  7.3404e-01,\n",
       "                      -8.2597e-01, -2.6876e+00,  1.8833e-01,  2.0157e+00, -4.9789e-01,\n",
       "                       7.5989e-01,  2.3474e+00, -4.8098e-01, -8.8941e-01,  2.1981e+00,\n",
       "                      -7.0550e-02, -1.2883e-01, -1.1011e-01,  1.0914e-01, -9.4978e-01,\n",
       "                      -8.0829e-01,  3.0870e-01,  1.8643e+00,  1.4861e+00, -4.9961e-01,\n",
       "                       5.1113e-01, -2.7309e+00, -1.4273e+00, -6.8492e-01,  1.9691e-01,\n",
       "                       3.4604e-01, -1.9020e+00,  3.3517e+00,  2.2541e+00,  7.6443e-01,\n",
       "                      -9.5741e-01, -2.2671e+00, -2.4093e-01, -1.1456e+00,  9.3788e-01,\n",
       "                      -8.2385e-01, -1.7174e+00,  4.2017e-01, -1.1380e+00,  1.7854e+00,\n",
       "                      -1.8497e-01,  1.5286e+00, -7.5564e-01,  7.4741e-01,  4.4169e-01,\n",
       "                       5.7341e-01,  1.8824e+00, -9.6575e-01,  8.7138e-01,  2.1295e+00,\n",
       "                      -4.7921e-01,  8.4517e-01, -4.3092e-01,  1.2105e+00,  1.5957e+00,\n",
       "                       3.3709e-01,  2.4573e-01,  1.2256e+00, -1.2092e+00,  4.3450e-01,\n",
       "                       4.1668e-01,  1.4262e+00, -1.5888e+00, -1.8920e+00, -2.6472e+00,\n",
       "                       1.6499e+00, -9.6846e-01, -4.3988e-01, -1.3500e+00,  7.3488e-01,\n",
       "                       1.0185e-01,  1.8465e-01,  6.6947e-01,  1.3496e-01, -1.3321e+00,\n",
       "                      -4.0350e-01,  1.3413e+00,  3.7976e-01, -2.0542e-01,  2.5380e-01,\n",
       "                      -6.4930e-01, -7.2984e-01, -5.3896e-01, -9.9993e-01, -1.1867e-01,\n",
       "                      -1.6979e+00,  7.5643e-02, -8.0491e-01,  5.5376e-01,  2.9597e+00,\n",
       "                       1.3540e+00, -2.1167e+00,  7.0005e-01,  9.0560e-02,  2.0308e+00,\n",
       "                       3.8338e-01, -7.2522e-01,  1.8895e+00,  9.1860e-01, -1.5581e+00,\n",
       "                       2.3134e+00,  2.0793e-03,  2.8157e+00, -3.2168e+00,  3.7194e-01,\n",
       "                       1.4296e+00, -3.9979e-01, -7.3721e-01, -7.7293e-01,  2.7175e-01,\n",
       "                      -3.8924e-02, -3.7760e-01, -6.7369e-01,  1.2444e+00, -2.2744e-01,\n",
       "                       1.9390e-01,  4.3293e+00,  5.1408e-02, -1.9257e-01, -6.0844e-02,\n",
       "                      -3.7799e-01,  1.3524e-01, -1.1416e-01, -1.4357e+00,  9.2934e-01,\n",
       "                      -1.5333e+00, -1.6465e-02,  3.7242e+00,  2.6821e+00, -2.2033e-01,\n",
       "                       1.1852e+00,  5.1413e-01, -3.6332e-01,  1.2083e+00, -2.3320e+00,\n",
       "                      -1.6005e+00, -3.8138e-01,  1.0015e+00,  6.4654e-01, -7.6810e-01,\n",
       "                       1.0721e+00, -2.5436e+00,  2.2404e+00,  9.1052e-01, -1.2942e+00,\n",
       "                      -7.2079e-01, -2.0605e+00,  7.3986e-01, -2.0303e+00,  2.5307e-01,\n",
       "                      -3.1643e-01, -6.4490e-01,  1.1323e+00, -1.5801e-02,  1.0735e-01,\n",
       "                       7.8158e-01, -1.2695e+00,  1.6721e+00, -1.0891e-01,  1.7396e+00,\n",
       "                      -1.3887e+00,  7.4000e-01,  2.9440e+00, -3.2142e-01, -6.3894e-03,\n",
       "                       2.1276e+00,  4.4075e-02,  1.1921e+00, -8.6447e-01, -1.0382e+00,\n",
       "                      -1.1271e-01, -4.8311e-01,  1.0779e+00,  1.4572e+00, -1.8103e+00,\n",
       "                       2.6122e+00,  2.3959e-01,  6.3108e-01, -2.0297e+00,  1.3816e-01,\n",
       "                      -1.3728e+00, -1.2830e-01, -2.3298e-01,  3.8519e-01, -4.0262e-01,\n",
       "                       5.4575e-01,  1.1015e+00, -1.8938e-01,  1.3362e+00,  1.3241e+00,\n",
       "                       2.8055e+00])),\n",
       "             ('z_encoder.encoder.fc_layers.Layer 0.1.running_var',\n",
       "              tensor([ 4.7122,  4.5232,  3.7914, 14.7073,  8.4961,  3.2006,  2.8873,  7.1983,\n",
       "                       1.5578, 11.0006,  7.2172,  3.8490,  9.9068, 18.5836, 11.4193,  6.7562,\n",
       "                       3.3855,  2.3075,  6.6026, 12.6455, 10.7088, 11.7044,  1.6791,  7.8481,\n",
       "                       4.3780,  7.4233,  2.5921, 10.8076,  9.5672,  4.0127, 12.4566,  3.3141,\n",
       "                       4.4855,  1.0169,  2.2671,  1.2662,  6.4234, 11.4000,  9.7341, 15.2499,\n",
       "                       3.0427,  5.1542,  4.4569,  3.9323, 13.4896,  6.6447,  8.7206, 11.0316,\n",
       "                      13.2962, 13.2092,  6.3590,  5.7056,  9.8043,  3.4601,  4.2476,  2.6236,\n",
       "                      10.8524,  2.5019,  1.6064,  2.8455,  9.2563,  3.0821,  2.3518,  6.0954,\n",
       "                       6.2365,  2.8154,  8.6518,  1.8479,  5.9375,  3.2017,  6.6422, 17.4295,\n",
       "                       9.0914,  9.9700, 13.5019,  1.1890,  8.7095,  3.7249,  4.9870,  7.9537,\n",
       "                       7.8512,  7.5142,  1.6828, 10.7922, 15.9921,  7.0629,  8.5047,  3.0619,\n",
       "                      13.8910,  6.1391,  3.7998,  1.6128,  6.5088,  7.5312,  2.6501,  1.9735,\n",
       "                       1.2661, 15.9376, 15.4167,  4.2471, 13.5213,  4.9605, 18.2838,  8.1197,\n",
       "                      10.3437, 11.3381, 10.7951,  1.9059,  5.8508,  7.7981,  4.5653,  8.2499,\n",
       "                      12.8970, 12.1302,  5.9944, 15.9118,  3.5837,  4.2995,  7.3505, 14.5348,\n",
       "                       7.2211,  9.2228,  1.1488,  3.0682, 10.2580,  9.1573,  7.6648,  2.0728,\n",
       "                       2.7462,  2.6772,  4.5726,  8.9452,  2.8659, 16.7916,  5.7145,  4.4450,\n",
       "                      14.5074, 11.2480,  9.2184,  8.2643,  3.6316,  1.0706,  9.4419,  8.5662,\n",
       "                       7.8416, 17.5941,  7.0925, 15.1585, 13.7520, 13.6804,  1.8514,  2.7906,\n",
       "                       5.0692,  8.9993,  3.6445,  4.6247,  1.4098,  7.8192, 17.5437,  2.0709,\n",
       "                       5.8436,  7.1363,  7.1526,  4.4243,  2.5179,  7.0382,  8.4265,  1.5400,\n",
       "                       6.6532,  1.4409,  3.7847,  8.4617, 10.4581, 15.0525,  5.5185,  9.0709,\n",
       "                      13.5966,  2.1189, 11.6271,  1.5506,  4.1662,  3.2002,  9.1984,  2.5215,\n",
       "                       5.8948,  7.5837, 13.5769, 13.2941,  4.4799,  3.6789,  3.9708,  6.6214,\n",
       "                       5.0963,  3.6408,  3.6760,  7.6522,  3.5489,  8.6321,  6.0786,  1.5579,\n",
       "                      13.1905, 12.5995,  1.8334,  8.2573, 20.9768,  6.4030,  1.6136,  1.6215,\n",
       "                       4.1167,  5.8607,  7.8518,  4.7295, 17.0817,  3.7366,  2.3040,  7.7421,\n",
       "                       9.2554, 25.2428,  6.1028,  6.3465,  7.4855,  7.2067,  8.1152,  3.9453,\n",
       "                       6.5981,  7.4774,  7.5853,  6.0652, 13.1355, 14.5882, 12.6389,  7.8731,\n",
       "                      10.1935,  4.3725,  9.4561,  9.1170, 18.2532,  8.9868,  1.0910,  1.6450,\n",
       "                       3.9396, 16.1752,  9.7219,  5.0364, 10.2567,  3.0908,  1.7643,  4.7867,\n",
       "                      11.9550,  6.1442,  3.2611,  4.5350,  2.9540,  2.4568,  6.1912,  9.0242])),\n",
       "             ('z_encoder.encoder.fc_layers.Layer 0.1.num_batches_tracked',\n",
       "              tensor(668)),\n",
       "             ('z_encoder.mean_encoder.weight',\n",
       "              tensor([[ 0.0825,  0.1027,  0.0257,  ...,  0.0397, -0.0271,  0.0037],\n",
       "                      [ 0.0432, -0.0280,  0.1356,  ..., -0.0160,  0.0036,  0.0040],\n",
       "                      [-0.0021,  0.0283,  0.0127,  ...,  0.0055,  0.0695,  0.0749],\n",
       "                      ...,\n",
       "                      [-0.0718,  0.0191,  0.0186,  ..., -0.0218,  0.0281, -0.0206],\n",
       "                      [ 0.0976, -0.0136, -0.0158,  ...,  0.1150, -0.0395, -0.0688],\n",
       "                      [-0.1517,  0.0528, -0.0483,  ...,  0.0524,  0.0305, -0.0239]])),\n",
       "             ('z_encoder.mean_encoder.bias',\n",
       "              tensor([-0.1430,  0.0417, -0.1326,  0.8428,  0.0417, -0.5416, -0.1675, -0.7821,\n",
       "                      -0.2108, -0.1519])),\n",
       "             ('z_encoder.var_encoder.weight',\n",
       "              tensor([[-0.0676, -0.0442, -0.0372,  ..., -0.0245, -0.0012, -0.0564],\n",
       "                      [-0.1366, -0.0950,  0.0007,  ..., -0.1119,  0.0016, -0.0813],\n",
       "                      [-0.0794,  0.0003, -0.0462,  ...,  0.0295, -0.0073, -0.0394],\n",
       "                      ...,\n",
       "                      [-0.0521, -0.0720, -0.0330,  ..., -0.1511, -0.0231, -0.0615],\n",
       "                      [-0.1555, -0.0013, -0.0750,  ..., -0.1541, -0.0301, -0.0844],\n",
       "                      [-0.0392, -0.0599, -0.0595,  ..., -0.1454, -0.1009, -0.0914]])),\n",
       "             ('z_encoder.var_encoder.bias',\n",
       "              tensor([-0.1399, -0.1954, -0.2073, -0.1233, -0.1424, -0.1094, -0.2698, -0.1098,\n",
       "                      -0.1541, -0.1546])),\n",
       "             ('decoder.linear_scaling_tau',\n",
       "              tensor([0., 0., 0., 0., 0., 0., 0., 0., 0., 0., 0., 0., 0., 0., 0., 0., 0., 0., 0., 0., 0., 0., 0., 0.,\n",
       "                      0., 0., 0., 0., 0., 0., 0., 0., 0., 0., 0., 0., 0., 0., 0., 0., 0., 0., 0., 0., 0., 0., 0., 0.,\n",
       "                      0., 0., 0., 0., 0., 0., 0., 0., 0., 0., 0., 0., 0., 0., 0., 0., 0., 0., 0., 0., 0., 0., 0., 0.,\n",
       "                      0., 0., 0., 0., 0., 0., 0., 0., 0., 0., 0., 0., 0., 0., 0., 0., 0., 0., 0., 0., 0., 0., 0., 0.,\n",
       "                      0., 0., 0., 0., 0., 0., 0., 0., 0., 0., 0., 0., 0., 0., 0., 0., 0., 0., 0., 0., 0., 0., 0., 0.,\n",
       "                      0., 0., 0., 0., 0., 0., 0., 0., 0., 0., 0., 0., 0.])),\n",
       "             ('decoder.linear_scaling_tau_intercept',\n",
       "              tensor([0., 0., 0., 0., 0., 0., 0., 0., 0., 0., 0., 0., 0., 0., 0., 0., 0., 0., 0., 0., 0., 0., 0., 0.,\n",
       "                      0., 0., 0., 0., 0., 0., 0., 0., 0., 0., 0., 0., 0., 0., 0., 0., 0., 0., 0., 0., 0., 0., 0., 0.,\n",
       "                      0., 0., 0., 0., 0., 0., 0., 0., 0., 0., 0., 0., 0., 0., 0., 0., 0., 0., 0., 0., 0., 0., 0., 0.,\n",
       "                      0., 0., 0., 0., 0., 0., 0., 0., 0., 0., 0., 0., 0., 0., 0., 0., 0., 0., 0., 0., 0., 0., 0., 0.,\n",
       "                      0., 0., 0., 0., 0., 0., 0., 0., 0., 0., 0., 0., 0., 0., 0., 0., 0., 0., 0., 0., 0., 0., 0., 0.,\n",
       "                      0., 0., 0., 0., 0., 0., 0., 0., 0., 0., 0., 0., 0.])),\n",
       "             ('decoder.rho_first_decoder.fc_layers.Layer 0.0.weight',\n",
       "              tensor([[ 0.0029,  0.5856,  0.3331,  ...,  0.1969,  0.1464,  0.2041],\n",
       "                      [ 0.0856, -0.4347, -0.1540,  ..., -0.2954, -0.4750, -0.1221],\n",
       "                      [ 0.0766, -0.4758,  0.4001,  ...,  0.1586,  0.6142,  0.4203],\n",
       "                      ...,\n",
       "                      [-0.0355,  0.2029, -0.3003,  ...,  0.1659,  0.0200,  0.2044],\n",
       "                      [-0.0273,  0.2049,  0.2784,  ..., -0.3477,  0.0827,  0.0780],\n",
       "                      [-0.0157,  0.1876, -0.1914,  ...,  0.4751, -0.1479, -0.0572]])),\n",
       "             ('decoder.rho_first_decoder.fc_layers.Layer 0.0.bias',\n",
       "              tensor([ 3.5389e-01,  5.7935e-02, -6.4316e-01, -3.2800e-01, -2.9373e-01,\n",
       "                       8.0832e-01,  2.2034e-01,  4.6370e-02, -6.8023e-01,  2.1456e-01,\n",
       "                      -1.7452e-01, -3.5051e-02, -6.0362e-01,  3.1811e-01, -3.8533e-01,\n",
       "                      -8.9912e-01,  5.7179e-01,  1.6263e-01, -6.2427e-01, -6.4227e-01,\n",
       "                       1.0611e-01,  1.7201e-01,  4.4737e-01,  1.5749e-02, -1.9603e-02,\n",
       "                       6.9301e-01,  2.6602e-01,  3.4069e-01,  3.3412e-01, -4.4148e-01,\n",
       "                       8.2127e-01,  1.1950e-01, -2.4452e-02,  3.3949e-01, -2.4205e-01,\n",
       "                      -9.2053e-02, -3.6013e-01,  1.5623e-01, -1.5548e-01,  4.6078e-01,\n",
       "                      -4.5429e-03,  5.8251e-01,  1.6098e-01, -1.1007e-01, -6.3841e-04,\n",
       "                      -7.5618e-02, -1.9361e-01, -2.0331e-01, -1.0237e-02,  8.1422e-01,\n",
       "                      -1.8443e-01,  3.3980e-01, -1.7584e-02,  2.7347e-01,  1.0737e-01,\n",
       "                       7.3789e-03, -3.9683e-02, -3.0207e-01,  2.0198e-02,  4.0647e-01,\n",
       "                      -9.9657e-02, -5.5646e-02, -5.6770e-01,  5.1441e-01,  4.8208e-01,\n",
       "                      -2.1714e-01,  1.0366e-03, -2.7421e-01,  4.1209e-01,  5.0699e-01,\n",
       "                      -1.4399e-01, -2.6554e-01, -4.8863e-01, -5.6812e-01,  5.5905e-01,\n",
       "                      -4.7141e-01,  7.9758e-01,  9.2200e-02,  7.2923e-01, -8.1297e-01,\n",
       "                      -2.8819e-01,  1.8234e-01, -9.9481e-01, -1.9286e-01,  6.7932e-01,\n",
       "                      -1.2496e-01,  1.7499e-01, -9.4354e-02, -4.0089e-02, -4.7890e-01,\n",
       "                       1.4007e-01,  9.7308e-02, -8.7578e-01, -4.8775e-01, -6.8786e-02,\n",
       "                      -1.7591e-01, -5.8106e-01,  8.2095e-01, -2.0019e-01, -1.1017e-01,\n",
       "                      -5.4079e-02, -5.5546e-01, -6.2209e-02,  8.3133e-02, -1.6663e-01,\n",
       "                      -5.3883e-01, -1.3227e-02,  4.4912e-01, -5.7767e-02, -8.2533e-02,\n",
       "                      -1.1291e-01,  7.4143e-02, -5.1260e-01,  2.2046e-01, -1.9823e-01,\n",
       "                      -3.5237e-01, -1.2102e-01, -8.5742e-02, -5.2127e-01,  3.0960e-02,\n",
       "                      -6.6220e-02, -4.6273e-01,  2.8297e-01, -4.7693e-01, -4.8892e-01,\n",
       "                      -2.8466e-01,  1.7525e-03,  6.4072e-01,  3.8987e-01,  9.7439e-02,\n",
       "                       4.7658e-01,  1.5737e-01, -7.1730e-02,  1.0667e-01,  8.6625e-01,\n",
       "                      -8.7456e-03,  1.4740e-01,  1.6651e-01,  3.2362e-01,  1.3144e-02,\n",
       "                       4.6200e-02,  3.4933e-01, -5.7291e-01,  6.1884e-01, -6.0694e-01,\n",
       "                       6.6772e-02,  5.8367e-01, -3.1119e-01, -5.9587e-01, -3.9579e-01,\n",
       "                      -8.5199e-01, -1.5996e-01,  9.6799e-02,  6.2338e-01,  1.3054e-01,\n",
       "                       3.3523e-01, -7.7191e-01,  1.4224e-01,  7.3592e-02, -5.7269e-01,\n",
       "                       4.2846e-01,  4.1687e-01, -1.6154e-02, -4.6658e-02,  4.9414e-01,\n",
       "                      -2.8037e-02, -6.7226e-01, -1.8535e-01, -2.2516e-01, -1.8078e-01,\n",
       "                      -1.7509e-01,  6.2683e-01,  3.9617e-01,  5.1528e-02, -4.5039e-01,\n",
       "                       7.4256e-01,  3.3740e-01,  3.8153e-01, -4.6059e-01,  5.1688e-01,\n",
       "                       8.6234e-01, -2.8350e-01, -7.9402e-01,  4.2283e-01, -6.0898e-01,\n",
       "                       8.0534e-02, -4.1387e-01,  7.0463e-01, -1.5605e-01,  1.0322e+00,\n",
       "                       4.8953e-01,  1.5323e-01, -5.0976e-01,  9.0527e-02,  1.4044e-02,\n",
       "                      -4.1550e-01, -4.9630e-01, -1.1827e-01, -2.1801e-01,  1.4052e-01,\n",
       "                      -1.2553e-02,  1.2129e+00,  8.8226e-02,  4.3883e-02,  2.3324e-01,\n",
       "                       5.6059e-01,  1.7950e-01,  6.4755e-03, -1.4782e-02,  6.6848e-01,\n",
       "                      -5.2309e-02, -5.2000e-01,  3.8903e-01, -1.8890e-01, -1.6685e-01,\n",
       "                      -2.2718e-02, -6.5909e-01,  3.3501e-01,  8.6882e-02,  9.6525e-02,\n",
       "                       1.1355e-01, -5.5497e-01, -1.9945e-01,  4.7486e-01, -2.9609e-01,\n",
       "                      -6.8561e-02,  2.1551e-01, -4.2350e-02,  5.1345e-01, -4.3237e-01,\n",
       "                       8.0085e-02, -2.1243e-01, -2.8246e-01, -2.3221e-01, -9.8458e-03,\n",
       "                       9.1215e-01,  2.2188e-01,  3.5392e-01, -1.3145e-01,  2.0967e-01,\n",
       "                       1.1621e+00, -5.9449e-02,  8.0959e-02,  1.0441e-01, -8.0651e-02,\n",
       "                       6.1082e-01, -1.6941e-01,  1.8743e-01, -1.1732e-01, -5.0425e-01,\n",
       "                      -3.9573e-02,  1.8438e-01, -7.0454e-01,  7.4168e-02, -4.1287e-01,\n",
       "                       2.0161e-02])),\n",
       "             ('decoder.rho_first_decoder.fc_layers.Layer 0.1.weight',\n",
       "              tensor([0.5084, 0.8261, 0.6995, 0.6741, 1.0400, 0.9997, 0.5709, 1.1855, 0.5488,\n",
       "                      0.9562, 0.9543, 0.8072, 0.9296, 0.5229, 0.6837, 0.7007, 0.2901, 0.7157,\n",
       "                      1.7388, 0.8129, 0.3352, 0.7768, 1.6646, 0.9999, 1.1295, 0.2449, 0.8984,\n",
       "                      0.8831, 0.7912, 1.1051, 0.9553, 1.0326, 4.0832, 1.0371, 1.0754, 0.6138,\n",
       "                      1.1029, 0.7341, 0.9635, 1.4817, 0.3074, 0.3545, 1.1997, 2.1362, 1.0261,\n",
       "                      0.9006, 0.7296, 0.6657, 0.6020, 0.9269, 0.7421, 0.8821, 1.1700, 2.2674,\n",
       "                      0.6241, 0.5197, 0.7204, 2.0876, 0.5931, 0.6019, 0.2384, 0.2028, 0.9970,\n",
       "                      0.9125, 1.0051, 0.4807, 0.4538, 0.6562, 0.6178, 0.3301, 0.6632, 0.8484,\n",
       "                      0.9659, 0.5115, 0.8351, 0.7744, 1.0835, 2.6845, 0.5837, 1.0576, 0.7139,\n",
       "                      0.8959, 0.9635, 1.3473, 0.7484, 0.9051, 0.9174, 0.6768, 0.9794, 0.8635,\n",
       "                      0.6396, 0.8565, 0.7133, 0.4297, 0.5165, 0.8919, 0.4552, 0.8589, 0.7140,\n",
       "                      0.7324, 0.6819, 1.4611, 0.7289, 0.9874, 0.9566, 0.3623, 1.2100, 1.1650,\n",
       "                      0.6143, 0.7014, 0.5894, 0.9156, 0.7402, 0.6904, 0.7694, 0.4416, 0.6630,\n",
       "                      2.1567, 1.1131, 0.6162, 0.4173, 0.4317, 0.9306, 0.6379, 1.0319, 0.7522,\n",
       "                      0.2207, 0.6421, 0.9368, 1.2718, 1.2151, 0.6394, 1.2393, 0.8733, 1.2798,\n",
       "                      1.0184, 0.5866, 0.8952, 0.6825, 1.2818, 1.2893, 0.1461, 0.9036, 1.1627,\n",
       "                      0.9480, 1.6613, 1.2800, 0.8619, 0.7922, 1.0138, 0.9645, 1.0846, 1.0549,\n",
       "                      0.9578, 0.7753, 1.4404, 0.8902, 0.7790, 0.6037, 0.1577, 0.8732, 1.0056,\n",
       "                      0.5692, 0.9679, 1.0864, 0.7720, 1.0640, 0.9086, 0.5871, 1.0635, 0.7773,\n",
       "                      0.2635, 1.0903, 0.9222, 0.4349, 1.3204, 1.1841, 1.0377, 0.7410, 0.8337,\n",
       "                      0.7844, 0.4917, 0.7832, 0.8434, 0.8428, 0.3537, 2.6331, 1.4360, 1.3782,\n",
       "                      1.8214, 0.7847, 0.8004, 1.5444, 0.8127, 1.1539, 0.3574, 1.0931, 0.5475,\n",
       "                      1.3502, 0.2363, 1.2445, 0.8773, 0.4982, 0.8058, 0.5842, 0.4955, 0.6525,\n",
       "                      0.6610, 0.7939, 0.6777, 0.9207, 0.9628, 0.9143, 1.1123, 0.6944, 0.3080,\n",
       "                      0.7796, 2.0734, 0.7652, 2.0941, 0.5487, 0.8620, 0.4842, 0.5139, 0.3211,\n",
       "                      0.9628, 0.8030, 0.8470, 2.0778, 0.3566, 1.1142, 0.8193, 0.3984, 0.9299,\n",
       "                      0.7657, 1.0172, 0.9819, 1.1309, 0.8167, 1.0765, 0.6908, 1.3487, 1.0231,\n",
       "                      0.3885, 2.2591, 0.8447, 2.5407, 0.9799, 1.0767, 0.6797, 2.2201, 0.8108,\n",
       "                      0.9836, 0.8100, 0.6982, 0.5827])),\n",
       "             ('decoder.rho_first_decoder.fc_layers.Layer 0.1.bias',\n",
       "              tensor([-0.0477, -0.6134,  0.0494, -0.5365, -0.0479, -0.3786,  0.0511,  0.0076,\n",
       "                       0.0190,  0.2441, -0.0491, -0.2511, -0.3721,  0.0147, -0.0489,  0.3555,\n",
       "                       0.3699, -0.1292,  0.1702, -0.0492,  0.1085,  0.1022, -0.0481,  0.2697,\n",
       "                       0.9123,  0.1093,  0.0449, -0.0458,  0.4054, -0.7543,  0.3526, -0.1556,\n",
       "                       0.7435,  0.3040,  0.2789, -0.2154,  0.3436,  0.0069, -0.0989,  0.0917,\n",
       "                       0.1653,  0.4111,  0.6442,  0.1441, -0.1534,  0.1913, -0.4512, -0.1111,\n",
       "                      -0.0305,  0.0050, -0.0367, -0.2013,  0.2863,  1.3258,  0.4800, -0.0307,\n",
       "                      -0.0089,  0.1581,  0.1094,  0.2628,  0.2080,  0.1735,  0.3106,  0.1493,\n",
       "                      -0.1472, -0.0461,  0.0548, -0.2339,  0.0188,  0.1450, -0.0530,  0.0991,\n",
       "                      -0.2553,  0.1886,  0.1236, -0.1475, -0.6495, -0.8712,  0.1049, -0.4075,\n",
       "                      -0.5035, -0.1044, -0.2492, -0.0323,  0.5652, -0.2216, -0.3473,  0.2309,\n",
       "                      -0.3077, -0.1981,  0.0153,  0.1848, -0.2804,  0.0861,  0.2750, -0.1678,\n",
       "                       0.2698, -0.1386, -0.0614, -0.2789, -0.0037,  0.4251,  0.1058,  0.7485,\n",
       "                      -0.3579,  0.0699,  0.7334,  0.0471,  0.3940, -0.0569,  0.2075, -0.1281,\n",
       "                       0.3612, -0.1656, -0.2839,  0.3230, -0.0810,  0.9884,  0.0285, -0.0140,\n",
       "                       0.0114,  0.1265, -0.5388,  0.0877,  0.2267, -0.0305,  0.3416, -0.1939,\n",
       "                      -0.2849, -0.1103,  0.5877, -0.2404,  0.6438,  0.1132, -0.1674, -0.2620,\n",
       "                       0.2712, -0.1797,  0.0351, -0.2520,  0.4655,  0.1309,  0.2374, -0.3762,\n",
       "                      -0.1479,  0.0372, -0.2373, -0.3904, -0.0209, -0.2626, -0.2967,  0.2539,\n",
       "                      -0.3898, -0.1550,  0.3207,  0.0272, -0.4565, -0.1845,  0.1429,  0.1774,\n",
       "                      -0.3060,  0.1720, -0.0280, -0.1446, -0.5025,  0.3389,  0.2014, -0.0377,\n",
       "                      -0.1974, -0.9284,  0.0431,  0.1619,  0.0887,  0.2537,  0.0975, -0.0372,\n",
       "                      -0.5445, -0.3853,  0.0773, -0.0615, -0.1487,  0.2849,  0.2258, -0.3716,\n",
       "                       0.4824,  0.0259,  0.5962,  0.8633,  0.5870,  0.2581, -0.1506, -0.6121,\n",
       "                      -0.1297, -0.3459,  0.5106,  0.0232, -0.1024, -0.1630, -0.2890,  0.2464,\n",
       "                      -0.2992, -0.5437, -0.1631, -0.4509,  0.1422,  0.1745,  0.3801, -0.0323,\n",
       "                      -0.1160,  0.0903,  0.5339, -0.7145, -0.0351, -0.5138,  0.1206,  0.0280,\n",
       "                      -0.0845, -0.5362,  0.3806, -0.3181,  0.1820,  0.0370,  0.0923,  0.2276,\n",
       "                       0.1590,  0.4990,  0.1039, -0.5637,  1.7635,  0.0450, -0.2793, -0.2258,\n",
       "                       0.0975, -0.3872, -0.2328,  0.6075,  0.0956,  0.0281, -0.3718,  0.2199,\n",
       "                      -0.3160, -0.3672, -0.2298,  0.1571,  0.3479,  0.3087, -0.5644,  0.4943,\n",
       "                       0.1698, -0.7464, -0.6301, -0.4876,  0.4104,  0.1115, -0.4090,  0.4685])),\n",
       "             ('decoder.rho_first_decoder.fc_layers.Layer 0.1.running_mean',\n",
       "              tensor([ 3.5438e-01, -1.0108e-02, -7.4211e-01, -3.2117e-01, -2.4948e-01,\n",
       "                       7.5537e-01,  2.6452e-01,  2.2393e-02, -5.4937e-01,  2.9033e-01,\n",
       "                      -1.4631e-01, -9.0363e-02, -5.5308e-01,  2.5059e-01, -3.1262e-01,\n",
       "                      -7.9430e-01,  4.6256e-01,  1.3766e-01, -4.4165e-01, -6.8080e-01,\n",
       "                       4.8187e-02,  3.4911e-02,  4.5306e-01,  9.4496e-03,  8.2838e-04,\n",
       "                       6.7640e-01,  1.8201e-01,  4.1498e-01,  3.5725e-01, -4.6652e-01,\n",
       "                       8.3805e-01,  6.0657e-02,  3.0027e-02,  3.6547e-01, -1.9214e-01,\n",
       "                      -7.3696e-02, -3.0429e-01,  2.1627e-01, -1.2663e-01,  2.8404e-01,\n",
       "                       6.6676e-02,  5.5584e-01,  8.8452e-02, -1.2021e-01, -2.2561e-02,\n",
       "                      -1.6840e-01, -2.2783e-01, -1.1255e-01,  1.6427e-02,  7.6952e-01,\n",
       "                      -2.1004e-01,  1.4546e-01, -9.1275e-02,  2.7546e-01,  2.3311e-02,\n",
       "                      -5.9064e-03, -7.9931e-02, -1.6522e-01,  1.3725e-01,  2.9634e-01,\n",
       "                      -1.2885e-01, -6.6178e-02, -4.8086e-01,  3.5173e-01,  4.3853e-01,\n",
       "                      -2.7613e-01, -3.3010e-02, -2.2761e-01,  3.9846e-01,  3.9477e-01,\n",
       "                      -4.9080e-02, -2.3704e-01, -5.9628e-01, -5.2649e-01,  5.7039e-01,\n",
       "                      -4.0257e-01,  6.5818e-01,  9.2284e-02,  7.6816e-01, -7.6405e-01,\n",
       "                      -2.6659e-01,  2.0012e-01, -8.5833e-01, -2.5293e-01,  6.4020e-01,\n",
       "                      -2.5434e-01,  1.6906e-01, -3.9415e-02,  8.0446e-03, -4.1091e-01,\n",
       "                       1.2649e-01,  1.3450e-01, -8.2293e-01, -4.8077e-01, -8.8566e-02,\n",
       "                      -1.9991e-01, -5.0626e-01,  8.2373e-01, -2.8033e-01, -1.7080e-01,\n",
       "                      -2.5291e-02, -4.9534e-01, -2.1351e-02, -8.8922e-03, -1.2210e-01,\n",
       "                      -4.4413e-01,  3.1458e-02,  4.7594e-01, -6.9270e-02, -6.7631e-02,\n",
       "                      -1.8108e-02,  7.7135e-02, -4.4876e-01,  1.0230e-01, -4.8093e-02,\n",
       "                      -3.1679e-01, -2.0842e-01,  6.1251e-02, -5.3270e-01,  4.5386e-02,\n",
       "                      -1.8693e-01, -4.6635e-01,  3.2438e-01, -4.5729e-01, -5.0996e-01,\n",
       "                      -3.0493e-01, -3.7243e-02,  5.7485e-01,  3.4723e-01,  1.1081e-01,\n",
       "                       4.2818e-01,  1.0802e-01, -2.0124e-01,  5.0708e-02,  6.6112e-01,\n",
       "                      -1.2981e-01,  8.6769e-02,  6.8021e-02,  4.2255e-01, -7.0706e-02,\n",
       "                       9.8645e-02,  3.0584e-01, -5.7043e-01,  6.4428e-01, -5.9074e-01,\n",
       "                       1.8268e-01,  5.9920e-01, -3.2255e-01, -4.3634e-01, -2.4431e-01,\n",
       "                      -7.0921e-01, -1.6668e-01,  1.1192e-01,  5.1249e-01,  4.0489e-02,\n",
       "                       2.2161e-01, -7.3683e-01,  1.7248e-01,  1.0872e-01, -5.6871e-01,\n",
       "                       2.8431e-01,  3.0624e-01, -1.5094e-02, -6.7058e-02,  4.7228e-01,\n",
       "                       1.0137e-01, -4.9931e-01, -1.0677e-01, -1.4596e-01, -3.9171e-02,\n",
       "                      -8.4020e-02,  6.0078e-01,  3.6320e-01,  8.8157e-03, -5.0091e-01,\n",
       "                       5.4403e-01,  2.7059e-01,  3.6706e-01, -4.1745e-01,  3.6410e-01,\n",
       "                       7.0875e-01, -2.6137e-01, -6.7497e-01,  3.4879e-01, -5.2085e-01,\n",
       "                       8.6050e-02, -4.6863e-01,  5.4215e-01, -1.1857e-01,  9.5890e-01,\n",
       "                       4.3673e-01,  1.3253e-01, -5.1405e-01,  9.9161e-02,  2.0734e-02,\n",
       "                      -3.8990e-01, -4.8694e-01, -7.9664e-02, -2.2067e-01,  1.4977e-01,\n",
       "                      -6.4620e-02,  1.1153e+00,  2.0194e-01,  8.6658e-02,  1.7151e-01,\n",
       "                       5.0172e-01,  2.8830e-01, -1.8071e-02, -1.5686e-01,  7.0439e-01,\n",
       "                       7.2072e-02, -4.2269e-01,  4.1339e-01,  4.2565e-04, -1.3766e-01,\n",
       "                      -6.0323e-02, -6.3513e-01,  2.7373e-01,  1.2676e-01,  1.4118e-01,\n",
       "                       9.4297e-02, -4.0862e-01, -2.6592e-01,  3.8783e-01, -2.5176e-01,\n",
       "                       4.3456e-02,  3.1077e-01,  3.1104e-02,  4.5255e-01, -3.3211e-01,\n",
       "                       1.5731e-01, -1.9055e-01, -3.2898e-01, -3.3183e-01, -2.1609e-02,\n",
       "                       7.7122e-01,  3.6314e-01,  3.3034e-01,  6.3106e-02,  2.2808e-01,\n",
       "                       1.0822e+00, -9.6739e-02,  2.6985e-02,  1.0282e-01, -1.5454e-01,\n",
       "                       5.6136e-01, -2.4056e-01,  2.5132e-01, -1.4622e-01, -4.9466e-01,\n",
       "                      -7.1790e-02,  1.9844e-01, -6.8496e-01, -1.8968e-02, -4.1259e-01,\n",
       "                      -1.0185e-01])),\n",
       "             ('decoder.rho_first_decoder.fc_layers.Layer 0.1.running_var',\n",
       "              tensor([0.8800, 1.4129, 1.7984, 1.3160, 1.8898, 1.6923, 1.5271, 1.4485, 0.8526,\n",
       "                      1.6742, 1.0300, 1.4436, 1.0121, 1.2955, 1.1758, 1.4912, 1.2269, 1.2533,\n",
       "                      1.4330, 1.6231, 1.4432, 1.6781, 1.3934, 1.8284, 1.0920, 1.3894, 1.7380,\n",
       "                      0.6803, 2.4327, 1.0303, 1.9021, 1.3695, 1.6672, 1.6376, 1.2579, 1.4529,\n",
       "                      1.1336, 1.5612, 0.6132, 2.0808, 1.0570, 1.8355, 1.9189, 1.1479, 1.3940,\n",
       "                      1.5720, 1.0680, 0.6909, 1.5815, 1.2367, 1.5755, 1.1234, 1.4346, 1.8999,\n",
       "                      1.4898, 1.1444, 1.1571, 1.8324, 1.2946, 1.3928, 1.1640, 1.1486, 1.3554,\n",
       "                      1.3462, 1.4453, 0.6700, 1.6195, 0.9260, 1.5932, 1.0821, 1.2070, 1.2527,\n",
       "                      0.9979, 1.5113, 1.1635, 1.3043, 1.0887, 1.4455, 2.1023, 1.5165, 1.2000,\n",
       "                      1.1475, 1.7157, 0.9019, 1.0232, 0.9246, 1.2673, 1.3516, 0.9937, 1.6381,\n",
       "                      0.9518, 1.6105, 0.7844, 1.0577, 1.0794, 1.2961, 1.2498, 1.8780, 1.3623,\n",
       "                      0.9193, 0.9657, 2.0358, 1.2853, 1.5982, 0.8877, 1.4243, 1.3008, 1.5900,\n",
       "                      1.6654, 0.8799, 2.1190, 1.6655, 1.1295, 1.4363, 1.5697, 0.9858, 1.0984,\n",
       "                      1.1749, 1.6341, 1.0519, 1.2652, 1.7716, 1.1998, 0.8063, 1.4437, 1.4228,\n",
       "                      1.6607, 1.0711, 1.5341, 0.7549, 1.3077, 1.4347, 1.9423, 1.2762, 1.2462,\n",
       "                      0.8816, 1.8670, 1.4294, 1.6325, 1.1180, 1.2848, 1.2488, 1.5327, 0.7699,\n",
       "                      1.2788, 2.7260, 1.0888, 1.7635, 1.4676, 1.0633, 1.9555, 1.6764, 0.9803,\n",
       "                      1.0309, 1.8754, 1.1400, 1.2177, 1.6196, 2.1379, 0.9685, 1.1519, 1.3683,\n",
       "                      0.8607, 2.0325, 1.2132, 1.3408, 1.2632, 1.3488, 1.2750, 1.4828, 0.7728,\n",
       "                      1.1856, 1.5038, 1.4520, 1.1153, 1.2247, 1.0310, 1.1880, 1.0984, 1.3840,\n",
       "                      1.4305, 0.9707, 1.3984, 0.9504, 1.5406, 1.6159, 1.5617, 1.4114, 1.4474,\n",
       "                      1.4313, 1.2033, 2.1158, 1.5093, 0.9590, 1.6828, 1.2898, 1.2562, 1.2965,\n",
       "                      1.7710, 0.9181, 1.1520, 1.2439, 0.7760, 1.3250, 1.0779, 1.0240, 0.8785,\n",
       "                      0.8666, 1.6557, 1.6051, 1.8018, 0.8265, 1.2254, 1.2710, 1.1612, 1.1796,\n",
       "                      1.1420, 1.0679, 1.3213, 1.9006, 2.1079, 1.0741, 0.9242, 1.5866, 1.2676,\n",
       "                      1.0278, 1.2404, 1.4161, 2.5513, 1.3149, 1.1355, 1.6256, 1.7951, 1.2050,\n",
       "                      2.1619, 1.3303, 1.0853, 1.4419, 1.1181, 1.0410, 1.1936, 1.1753, 0.8813,\n",
       "                      0.8369, 2.1643, 1.6069, 1.0830, 1.7633, 1.7366, 0.8678, 1.2149, 1.1517,\n",
       "                      2.0075, 0.8624, 0.8847, 1.2879])),\n",
       "             ('decoder.rho_first_decoder.fc_layers.Layer 0.1.num_batches_tracked',\n",
       "              tensor(668)),\n",
       "             ('decoder.pi_first_decoder.fc_layers.Layer 0.0.weight',\n",
       "              tensor([[-0.0692, -0.1548,  0.1481,  ...,  0.3720,  0.2059, -0.0779],\n",
       "                      [ 0.1139,  0.1371,  0.3756,  ...,  0.0308, -0.2353,  0.2277],\n",
       "                      [ 0.1463,  0.2675, -0.3285,  ...,  0.3379, -0.1185, -0.5084],\n",
       "                      ...,\n",
       "                      [ 0.1848, -0.1526, -0.0597,  ..., -0.4421,  0.2551,  0.0609],\n",
       "                      [-0.1224,  0.2067, -0.0805,  ...,  0.5102,  0.0280, -0.1618],\n",
       "                      [ 0.0654, -0.6169,  0.0359,  ..., -0.2335,  0.0713, -0.1997]])),\n",
       "             ('decoder.pi_first_decoder.fc_layers.Layer 0.0.bias',\n",
       "              tensor([ 0.3130,  0.2699,  0.4383,  0.5806, -0.1864, -0.2505, -0.2964,  0.5458,\n",
       "                       0.0702, -0.4179, -0.3074,  0.3395,  0.3950, -0.1913,  0.1451, -0.1676,\n",
       "                      -0.0806,  0.2014,  0.4411,  0.0233,  0.3899, -0.4829,  0.3111,  0.0608,\n",
       "                      -0.6770, -0.1360, -0.3364,  0.4027, -0.0594,  0.0504, -0.2826, -0.0318,\n",
       "                      -0.0255,  0.4293,  0.0986, -0.3180, -0.2462,  0.4800, -0.2616, -0.2028,\n",
       "                      -0.0334,  0.3109, -0.0917, -0.2286,  0.1895,  0.4948, -0.0248, -0.2467,\n",
       "                      -0.1808,  0.2699, -0.4352, -0.2495, -0.5805, -0.3609,  0.1767,  0.2038,\n",
       "                       0.2369, -0.0222,  0.3968, -0.3555, -0.1630,  0.2856, -0.0545,  0.1497,\n",
       "                      -0.5465, -0.1262,  0.1703, -0.3621, -0.1468,  0.0221, -0.3310,  0.0372,\n",
       "                      -0.1831, -0.1585,  0.1443,  0.2594, -0.2175,  0.0131,  0.2142,  0.0226,\n",
       "                       0.1713,  0.1181,  0.3171, -0.1140,  0.3430, -0.4175, -0.4539,  0.1461,\n",
       "                      -0.1755, -0.3025,  0.2143, -0.3897,  0.1026, -0.1757, -0.3132, -0.0384,\n",
       "                      -0.2348,  0.2873,  0.1297,  0.3857, -0.1043, -0.1607,  0.0847,  0.0848,\n",
       "                      -0.0914, -0.0491, -0.1215,  0.0875, -0.2389, -0.1851, -0.4386,  0.0075,\n",
       "                       0.2375, -0.2239, -0.1953, -0.0419,  0.4698,  0.2127,  0.0191, -0.1113,\n",
       "                       0.0948,  0.4181,  0.1619,  0.0857,  0.3697,  0.0740, -0.1568, -0.0847,\n",
       "                       0.2853, -0.1264,  0.0709,  0.2992, -0.3949, -0.8401,  0.3098, -0.1919,\n",
       "                      -0.0448, -0.3286,  0.2007,  0.0698,  0.0755, -0.2370,  0.0946,  0.1354,\n",
       "                       0.0900,  0.0286,  0.3390,  0.2400,  0.0425, -0.0177,  0.0639,  0.0355,\n",
       "                      -0.3137, -0.1008,  0.3060,  0.1495, -0.1344,  0.4152, -0.0553,  0.1780,\n",
       "                       0.0992,  0.0768,  0.2302,  0.0355, -0.1880,  0.2198,  0.2118,  0.1870,\n",
       "                       0.1243,  0.3953, -0.3181,  0.0478,  0.0547, -0.1357,  0.4949,  0.0501,\n",
       "                      -0.3493,  0.0907, -0.0561, -0.1023,  0.0045, -0.3909, -0.3399,  0.0194,\n",
       "                       0.0590, -0.1882,  0.0698,  0.3945,  0.2501,  0.2466, -0.0609, -0.1058,\n",
       "                       0.3869, -0.0093,  0.0586, -0.4630,  0.0862,  0.1027,  0.6210, -0.0962,\n",
       "                      -0.2575, -0.2624,  0.0496, -0.0792,  0.2110, -0.0761,  0.0400,  0.2320,\n",
       "                      -0.2402, -0.3376, -0.0606, -0.1342, -0.1345,  0.2880, -0.2341, -0.0947,\n",
       "                       0.3733,  0.0301, -0.0492, -0.3861,  0.2700, -0.1611,  0.1692,  0.1300,\n",
       "                      -0.2456, -0.2917,  0.3751, -0.0337, -0.4813,  0.1816, -0.3024,  0.2513,\n",
       "                      -0.0221, -0.0666,  0.3944,  0.1449, -0.0203,  0.1047,  0.3564,  0.0829,\n",
       "                      -0.2799,  0.4405,  0.3240, -0.1752,  0.0134,  0.2460, -0.3396, -0.0591,\n",
       "                      -0.5236, -0.1051, -0.0116,  0.3875, -0.0152,  0.1962,  0.1606, -0.1781])),\n",
       "             ('decoder.pi_first_decoder.fc_layers.Layer 0.1.weight',\n",
       "              tensor([1.0178, 0.8626, 1.3403, 0.8172, 1.0085, 0.9094, 1.2117, 1.0002, 0.9969,\n",
       "                      1.1349, 0.8305, 1.2712, 0.8269, 1.3718, 0.8457, 1.0677, 1.1817, 1.0677,\n",
       "                      1.0699, 1.2450, 0.9309, 1.2645, 0.8018, 0.8534, 0.7225, 0.9659, 0.9110,\n",
       "                      0.9389, 1.0206, 0.9280, 0.9993, 0.8626, 0.7902, 0.7019, 1.0220, 0.9759,\n",
       "                      1.1663, 1.0882, 0.8801, 1.0947, 0.9958, 0.9735, 0.9888, 0.9625, 1.0591,\n",
       "                      0.8568, 0.8566, 1.2382, 0.9312, 1.0727, 1.1308, 0.6924, 0.9238, 1.0324,\n",
       "                      0.8657, 0.7696, 0.9071, 0.8132, 1.0266, 1.1251, 0.8278, 0.9204, 0.8009,\n",
       "                      0.7191, 1.0730, 0.9297, 1.0058, 0.7086, 0.9442, 0.5577, 0.9678, 1.0040,\n",
       "                      0.8983, 1.2008, 0.8752, 0.4979, 0.7729, 1.2771, 0.8921, 1.0617, 0.8158,\n",
       "                      1.0573, 0.8672, 1.2988, 0.8148, 1.0427, 0.7792, 1.0639, 1.0265, 1.1999,\n",
       "                      0.8824, 1.1834, 0.8851, 1.0318, 1.3846, 1.3289, 0.9061, 0.8879, 0.7550,\n",
       "                      1.1371, 1.1649, 1.3293, 0.8581, 0.7333, 1.1230, 1.2692, 1.0403, 0.8188,\n",
       "                      0.9037, 0.8113, 0.9892, 1.0367, 1.1078, 0.9829, 1.0488, 1.4472, 0.8890,\n",
       "                      1.1739, 1.0913, 0.8270, 0.8381, 1.0563, 0.8408, 0.9579, 1.0424, 1.0038,\n",
       "                      0.9928, 0.8971, 0.8849, 0.9504, 1.1270, 0.8884, 0.6320, 1.1693, 1.1819,\n",
       "                      1.2819, 1.0881, 0.7095, 0.9380, 0.9912, 1.2397, 0.7026, 1.2865, 0.9317,\n",
       "                      0.6018, 0.6981, 1.3795, 1.0401, 1.0383, 0.8590, 0.9716, 0.7755, 1.2060,\n",
       "                      0.8862, 1.0019, 1.1031, 0.7468, 0.8563, 0.7830, 0.7662, 0.9123, 1.0125,\n",
       "                      1.0301, 0.9963, 0.7895, 0.7772, 1.0442, 1.1208, 1.2203, 0.9034, 1.1551,\n",
       "                      1.1210, 0.8979, 1.0235, 0.6928, 0.9324, 1.3460, 1.0840, 1.3745, 1.5615,\n",
       "                      1.0520, 0.9295, 0.7344, 0.8998, 0.9675, 0.9630, 1.3373, 1.0921, 1.1741,\n",
       "                      0.9835, 0.7408, 1.0016, 0.9553, 0.7508, 1.3193, 0.9606, 1.1955, 0.8738,\n",
       "                      0.8668, 1.0620, 1.0316, 0.8530, 1.1298, 1.2674, 0.8511, 1.0407, 1.0681,\n",
       "                      1.1752, 0.7186, 1.0738, 0.9233, 1.0198, 0.7112, 1.0890, 1.1053, 1.1818,\n",
       "                      0.9631, 0.4586, 0.6849, 0.7454, 1.0145, 1.0412, 1.3104, 1.2301, 0.8667,\n",
       "                      1.0649, 0.9706, 1.1913, 0.9013, 1.0785, 0.9294, 0.7684, 0.8793, 1.0938,\n",
       "                      0.8871, 0.9280, 1.3699, 0.6525, 1.0613, 1.3120, 1.0638, 1.1451, 0.8665,\n",
       "                      0.9703, 1.0078, 0.6701, 0.8446, 0.8717, 0.9786, 1.1307, 0.8036, 0.9636,\n",
       "                      0.8617, 1.0057, 1.0449, 0.8403])),\n",
       "             ('decoder.pi_first_decoder.fc_layers.Layer 0.1.bias',\n",
       "              tensor([ 6.9805e-02, -5.7281e-04,  4.2133e-01, -1.2103e-01,  1.9432e-02,\n",
       "                       1.2283e-01,  4.2592e-02,  2.0068e-01, -2.6043e-01, -3.0596e-01,\n",
       "                      -1.0911e-01, -3.3234e-01,  1.4190e-01,  4.6241e-01, -2.6969e-02,\n",
       "                      -1.0854e-02,  1.3480e-01,  4.8674e-01,  1.2298e-01,  3.1808e-02,\n",
       "                      -2.6205e-01, -1.7897e-02,  2.0728e-01,  1.9324e-01, -9.5265e-04,\n",
       "                       1.7707e-01, -9.0934e-02, -7.2118e-02,  1.6985e-01, -3.8348e-01,\n",
       "                      -4.0388e-03,  1.1808e-01, -6.4604e-03,  8.7263e-02,  6.6730e-02,\n",
       "                      -2.0016e-02, -5.3338e-02, -7.5200e-02,  1.2268e-01,  1.5917e-01,\n",
       "                      -8.7049e-02, -8.6058e-02, -3.3804e-02,  3.0890e-01, -4.1257e-02,\n",
       "                      -5.0905e-02, -4.1119e-01,  1.3098e-01,  3.5258e-02,  3.1737e-01,\n",
       "                       2.8443e-01,  6.5228e-02,  5.1761e-02, -2.4032e-01, -7.1569e-01,\n",
       "                       2.4329e-02, -1.1643e-01, -6.5005e-02,  5.6856e-02,  1.8435e-01,\n",
       "                      -1.4389e-01, -2.8375e-02,  9.0325e-02, -7.8546e-02,  8.2616e-02,\n",
       "                       5.2438e-02,  1.3817e-01,  9.8608e-02, -2.5717e-01,  1.3416e-01,\n",
       "                      -2.3767e-01, -1.8612e-02,  7.3318e-02,  1.2926e-01, -5.4467e-01,\n",
       "                       2.3226e-01,  3.4306e-02,  2.3709e-02, -8.9253e-02,  3.0963e-01,\n",
       "                       1.7017e-01, -2.0094e-02,  2.2812e-02,  6.7166e-02, -1.7531e-01,\n",
       "                       2.3624e-01,  1.5262e-01, -2.7474e-01, -2.6095e-01,  1.0316e-01,\n",
       "                      -3.5362e-01, -2.7197e-01,  9.4742e-02,  7.5787e-02,  1.3005e-01,\n",
       "                      -7.1237e-01,  6.5019e-02, -1.9727e-01,  3.3336e-02, -6.4602e-02,\n",
       "                      -2.0469e-01,  2.0656e-01, -9.2199e-02,  2.7830e-02, -7.9412e-02,\n",
       "                      -2.4134e-01, -2.3562e-01, -4.0008e-01, -9.1821e-02,  1.0968e-01,\n",
       "                      -6.8245e-02, -3.3453e-01,  8.2334e-02,  4.2507e-01, -4.8365e-02,\n",
       "                       7.5631e-02, -2.0989e-02,  1.6982e-01,  2.3814e-01,  7.8297e-02,\n",
       "                      -3.1936e-02,  2.4711e-01, -2.8634e-01, -4.6880e-01, -2.0586e-01,\n",
       "                      -1.2400e-01,  7.5839e-02,  3.7708e-01, -1.3513e-01,  2.3424e-03,\n",
       "                       1.4375e-01, -1.1727e-03, -8.8839e-02,  5.0761e-02, -5.6298e-01,\n",
       "                      -5.4270e-02,  2.1368e-01,  1.7671e-01, -1.0507e-01, -1.5713e-02,\n",
       "                       4.5088e-01,  7.3372e-02, -3.7623e-01, -2.2945e-01,  9.2166e-05,\n",
       "                       7.2265e-02, -3.9724e-01,  5.1965e-02,  9.8975e-02,  1.7018e-01,\n",
       "                      -1.7030e-01,  1.4583e-02, -3.6785e-01,  3.7513e-02,  2.2892e-01,\n",
       "                       1.8324e-01,  8.9306e-02, -9.8831e-02,  7.0800e-02, -7.9525e-02,\n",
       "                      -9.7780e-02, -1.6558e-01,  3.7929e-02,  3.5925e-01,  1.7094e-03,\n",
       "                       1.0209e-02,  2.8389e-02, -9.5611e-02,  1.5118e-01, -9.4132e-02,\n",
       "                       1.7596e-01, -3.9107e-01, -1.7253e-01, -4.7186e-04, -3.1229e-02,\n",
       "                      -4.0976e-02,  7.1927e-02,  1.6042e-01,  3.3012e-01, -8.4855e-02,\n",
       "                      -5.8889e-02,  3.1753e-01, -3.1852e-01, -6.7744e-03, -4.1537e-01,\n",
       "                       3.2238e-02,  4.5004e-01, -1.8968e-01, -4.1715e-01, -1.6551e-02,\n",
       "                       1.4016e-01,  1.0147e-01, -1.0826e-03,  2.0704e-01,  2.3558e-01,\n",
       "                       1.6992e-01, -2.8415e-01,  4.2717e-02, -5.9294e-02,  2.6611e-01,\n",
       "                      -8.8481e-03, -3.8902e-02, -3.2487e-01, -6.2555e-01, -1.1608e-01,\n",
       "                      -1.5965e-01,  2.0064e-01, -6.3125e-03,  6.0887e-02, -1.0310e+00,\n",
       "                      -9.2242e-02, -2.9110e-01,  6.9074e-02,  1.2443e-01,  9.2920e-02,\n",
       "                      -1.8022e-02, -1.5978e-02,  1.7202e-01,  8.0308e-02,  4.5713e-02,\n",
       "                       2.3839e-01,  7.7660e-02, -2.4251e-01,  1.2242e-01,  3.1449e-02,\n",
       "                       9.9986e-02, -1.2354e-01, -2.7862e-01,  1.3276e-01,  1.4487e-01,\n",
       "                       1.0818e-01, -4.2587e-03, -1.4568e-01,  1.4311e-01,  9.7380e-02,\n",
       "                       7.0586e-02, -7.4338e-03, -2.0932e-02,  8.4878e-03,  3.0790e-01,\n",
       "                      -7.0544e-01,  2.4133e-01, -1.8216e-01, -8.2884e-02,  1.0186e-01,\n",
       "                       2.1255e-01, -3.5642e-02, -4.8589e-01, -9.3946e-02, -2.3517e-01,\n",
       "                      -4.8968e-02, -2.2912e-01, -7.3895e-02, -4.1235e-01,  3.4993e-01,\n",
       "                       1.4583e-01])),\n",
       "             ('decoder.pi_first_decoder.fc_layers.Layer 0.1.running_mean',\n",
       "              tensor([ 3.1251e-01,  2.8677e-01,  4.3540e-01,  5.8592e-01, -1.5037e-01,\n",
       "                      -2.3572e-01, -2.9015e-01,  5.3446e-01,  8.0896e-02, -4.0919e-01,\n",
       "                      -2.9123e-01,  3.5987e-01,  3.8604e-01, -2.4401e-01,  1.1742e-01,\n",
       "                      -1.9971e-01, -4.3738e-02,  1.5491e-01,  4.5276e-01,  2.6697e-02,\n",
       "                       3.8926e-01, -4.7828e-01,  3.1547e-01,  4.1401e-02, -6.4740e-01,\n",
       "                      -6.9195e-02, -3.0855e-01,  3.7880e-01, -4.8290e-02,  4.8609e-02,\n",
       "                      -2.7789e-01, -5.7762e-02, -3.5598e-02,  4.0021e-01,  8.9873e-02,\n",
       "                      -3.7452e-01, -2.2886e-01,  4.7881e-01, -2.4219e-01, -2.1387e-01,\n",
       "                      -2.4145e-02,  3.3557e-01, -1.0877e-01, -2.0798e-01,  1.6004e-01,\n",
       "                       4.7177e-01, -1.9377e-02, -2.3287e-01, -1.4701e-01,  2.7295e-01,\n",
       "                      -4.3778e-01, -2.6322e-01, -5.7019e-01, -3.4678e-01,  1.7914e-01,\n",
       "                       2.0197e-01,  2.5949e-01, -2.9009e-02,  4.0493e-01, -3.2522e-01,\n",
       "                      -1.7372e-01,  2.7308e-01, -3.4802e-02,  1.8519e-01, -5.5876e-01,\n",
       "                      -1.4082e-01,  2.1438e-01, -4.0940e-01, -1.2869e-01,  1.4107e-02,\n",
       "                      -3.7013e-01,  5.2600e-02, -2.2808e-01, -1.9506e-01,  1.5683e-01,\n",
       "                       2.2558e-01, -1.9210e-01, -3.7562e-02,  2.4506e-01,  1.6156e-02,\n",
       "                       1.7425e-01,  1.3852e-01,  3.0542e-01, -8.9677e-02,  3.5416e-01,\n",
       "                      -4.1435e-01, -4.3551e-01,  1.6305e-01, -1.5019e-01, -3.1971e-01,\n",
       "                       2.3352e-01, -4.1136e-01,  9.9111e-02, -1.7299e-01, -2.5455e-01,\n",
       "                      -2.3589e-03, -1.8679e-01,  3.0240e-01,  1.3227e-01,  3.6125e-01,\n",
       "                      -1.0371e-01, -1.1583e-01,  7.4732e-02,  8.8312e-02, -8.7038e-02,\n",
       "                      -7.9278e-02, -9.9384e-02,  1.0188e-01, -2.2908e-01, -1.5675e-01,\n",
       "                      -4.6508e-01,  5.6222e-02,  2.5922e-01, -1.9426e-01, -1.9715e-01,\n",
       "                      -7.0179e-03,  4.4944e-01,  2.0751e-01,  2.5707e-02, -1.0334e-01,\n",
       "                       1.0906e-01,  4.3705e-01,  1.4736e-01,  9.1336e-02,  3.4864e-01,\n",
       "                       3.1554e-02, -1.7808e-01, -3.3501e-02,  2.5698e-01, -1.4601e-01,\n",
       "                       7.9364e-02,  2.7758e-01, -3.6338e-01, -8.2774e-01,  2.0461e-01,\n",
       "                      -1.1128e-01, -5.1351e-02, -2.8540e-01,  2.0769e-01,  1.0259e-01,\n",
       "                       1.0701e-01, -1.9954e-01,  1.1447e-01,  1.5966e-01,  1.3728e-01,\n",
       "                      -4.7054e-03,  3.3984e-01,  2.1932e-01,  8.6126e-02,  7.0999e-04,\n",
       "                       4.2147e-02,  6.8347e-02, -2.5637e-01, -9.6464e-02,  2.8012e-01,\n",
       "                       1.5867e-01, -1.0840e-01,  4.0666e-01, -3.8503e-02,  1.8035e-01,\n",
       "                       1.0765e-01,  5.6316e-02,  2.1353e-01,  3.3766e-02, -1.8668e-01,\n",
       "                       2.2679e-01,  2.1216e-01,  1.9882e-01,  1.5340e-01,  4.4308e-01,\n",
       "                      -3.7018e-01,  4.5455e-02,  1.4400e-02, -9.5513e-02,  4.8759e-01,\n",
       "                       1.0767e-01, -3.4532e-01,  6.8885e-02, -1.1542e-01, -6.6426e-02,\n",
       "                      -2.5855e-03, -3.8241e-01, -3.5172e-01,  3.5821e-02,  4.0011e-03,\n",
       "                      -1.8493e-01, -1.5821e-02,  3.7265e-01,  2.3800e-01,  2.8049e-01,\n",
       "                      -5.4534e-02, -5.5054e-02,  3.5218e-01, -6.0917e-04,  1.2377e-01,\n",
       "                      -4.8912e-01,  6.8897e-02,  7.8163e-02,  6.3408e-01, -8.2065e-02,\n",
       "                      -2.5191e-01, -2.6211e-01, -1.8422e-02, -8.2570e-02,  2.1106e-01,\n",
       "                      -9.9290e-02,  5.4539e-02,  2.6830e-01, -2.0554e-01, -3.7344e-01,\n",
       "                      -9.2225e-02, -1.1673e-01, -1.3985e-01,  3.1656e-01, -2.4852e-01,\n",
       "                      -1.1683e-01,  3.5894e-01,  1.4437e-02, -4.8290e-02, -3.5647e-01,\n",
       "                       2.6707e-01, -1.6861e-01,  1.5526e-01,  1.3297e-01, -2.7364e-01,\n",
       "                      -2.7811e-01,  4.0699e-01, -4.9120e-02, -4.5983e-01,  1.8588e-01,\n",
       "                      -3.0079e-01,  2.2507e-01,  4.6309e-03, -7.9578e-02,  3.5626e-01,\n",
       "                       9.1810e-02, -6.1098e-02,  8.4568e-02,  3.3171e-01,  2.1369e-02,\n",
       "                      -2.9024e-01,  4.2908e-01,  3.0386e-01, -2.0024e-01, -3.0698e-02,\n",
       "                       2.2658e-01, -3.5032e-01,  5.9453e-03, -5.0809e-01, -8.5211e-02,\n",
       "                       4.6639e-03,  3.2837e-01, -2.1420e-02,  1.8732e-01,  2.0204e-01,\n",
       "                      -1.9755e-01])),\n",
       "             ('decoder.pi_first_decoder.fc_layers.Layer 0.1.running_var',\n",
       "              tensor([0.8207, 0.8087, 1.2512, 1.0402, 0.8652, 0.5137, 0.9031, 1.1924, 0.5610,\n",
       "                      0.9291, 0.5525, 0.8949, 0.7506, 1.4595, 0.8495, 1.1966, 0.7787, 0.9522,\n",
       "                      0.9647, 0.6532, 0.5268, 1.2959, 1.1233, 0.9143, 0.9472, 1.0154, 1.1168,\n",
       "                      1.2594, 1.1757, 1.0616, 0.9032, 0.6303, 1.1709, 0.9214, 1.0668, 0.6631,\n",
       "                      1.1775, 1.0064, 0.6031, 0.7891, 1.1244, 0.9655, 1.1971, 0.9409, 0.9501,\n",
       "                      1.1954, 0.4949, 1.1466, 0.8843, 1.0653, 0.8583, 0.8148, 0.6243, 0.9068,\n",
       "                      1.1573, 0.6988, 1.1685, 0.5211, 1.0838, 0.8464, 0.6860, 0.8307, 0.7541,\n",
       "                      0.8498, 0.9693, 1.0474, 0.8498, 1.1019, 0.9044, 0.5779, 1.4715, 0.7604,\n",
       "                      0.8569, 0.7466, 0.7608, 0.6815, 0.4910, 1.0758, 0.7171, 1.1859, 0.5878,\n",
       "                      1.7379, 0.6589, 0.7812, 0.9801, 1.3231, 0.9999, 1.0630, 0.8251, 1.0245,\n",
       "                      0.7481, 1.0891, 0.9542, 0.9062, 1.1377, 1.3688, 0.7530, 0.6000, 0.6436,\n",
       "                      0.7701, 0.8020, 0.9824, 0.9161, 0.6862, 0.9389, 0.7612, 0.5980, 1.0662,\n",
       "                      1.3066, 1.0356, 1.2521, 0.6066, 1.2283, 1.2098, 0.8510, 1.3456, 0.6435,\n",
       "                      0.6787, 0.5873, 0.5388, 0.8158, 0.9562, 1.0256, 0.6654, 0.7905, 0.9519,\n",
       "                      0.9787, 0.7082, 1.0412, 0.8714, 1.3529, 0.9418, 0.7857, 1.0726, 1.3417,\n",
       "                      1.1105, 0.9733, 0.7607, 0.7217, 0.9319, 0.8876, 0.8263, 0.8594, 0.3373,\n",
       "                      0.9241, 0.5424, 0.7925, 0.8236, 1.0178, 0.7565, 1.0010, 0.9662, 1.1383,\n",
       "                      0.8771, 0.9497, 1.2400, 0.6146, 0.4516, 0.6299, 0.7013, 0.6462, 0.9279,\n",
       "                      0.7696, 1.1072, 0.5541, 0.6469, 0.6737, 1.1489, 1.2365, 0.7497, 0.7485,\n",
       "                      0.5630, 0.9265, 0.8360, 1.0912, 1.0454, 0.8208, 1.0453, 1.0698, 0.8306,\n",
       "                      1.1243, 0.5633, 0.6553, 1.7021, 0.6961, 0.6579, 1.1868, 0.8857, 1.2117,\n",
       "                      0.8601, 0.9701, 0.8446, 0.6356, 0.6815, 0.8277, 1.1406, 0.6718, 1.0666,\n",
       "                      1.0294, 0.6515, 0.7350, 1.0944, 0.6368, 0.9500, 0.6591, 0.8491, 1.0998,\n",
       "                      0.9809, 0.9752, 0.5875, 0.4297, 0.6698, 1.2180, 1.4274, 0.9336, 1.0416,\n",
       "                      0.9479, 0.7710, 0.6429, 0.4752, 1.1527, 1.0207, 1.3673, 0.9485, 0.6118,\n",
       "                      1.3968, 0.8351, 0.6356, 1.1511, 0.8603, 0.7381, 0.7039, 1.1167, 1.0150,\n",
       "                      0.8008, 0.9891, 1.2778, 0.8021, 0.8255, 0.8725, 0.9677, 1.5444, 1.1031,\n",
       "                      1.0752, 0.9247, 0.7392, 0.8269, 1.0128, 0.8198, 0.7107, 0.8850, 0.8014,\n",
       "                      0.5377, 0.7659, 0.9687, 1.0127])),\n",
       "             ('decoder.pi_first_decoder.fc_layers.Layer 0.1.num_batches_tracked',\n",
       "              tensor(668)),\n",
       "             ('decoder.px_pi_decoder.weight',\n",
       "              tensor([[ 0.0586,  0.1012, -0.0113,  ..., -0.0386,  0.0119,  0.0524],\n",
       "                      [-0.0654,  0.0019, -0.0475,  ..., -0.0374, -0.0058, -0.0028],\n",
       "                      [-0.0519, -0.0256, -0.0256,  ..., -0.0363, -0.0510, -0.0343],\n",
       "                      ...,\n",
       "                      [ 0.0102, -0.0917, -0.0718,  ...,  0.0241,  0.0212,  0.0188],\n",
       "                      [-0.0148, -0.0251, -0.0642,  ..., -0.0333, -0.0334, -0.0503],\n",
       "                      [-0.0298,  0.0197,  0.0017,  ..., -0.0335, -0.0105, -0.0410]])),\n",
       "             ('decoder.px_pi_decoder.bias',\n",
       "              tensor([ 0.0856,  0.0126, -0.0254,  0.0107, -0.0621, -0.0681,  0.0115, -0.0203,\n",
       "                      -0.0131, -0.0181, -0.0937, -0.0025,  0.0385,  0.0061, -0.0123,  0.0754,\n",
       "                      -0.0045, -0.0526, -0.0152, -0.0344,  0.0037, -0.0104, -0.0982,  0.0447,\n",
       "                       0.0674, -0.0390, -0.0156,  0.0158,  0.0007,  0.0222,  0.0034, -0.0096,\n",
       "                       0.0556,  0.0100, -0.0318,  0.0603, -0.0117,  0.0046,  0.0281, -0.0083,\n",
       "                      -0.0062,  0.0601, -0.0113, -0.0479, -0.0740, -0.0420,  0.0089,  0.0436,\n",
       "                       0.0068, -0.0709, -0.0125, -0.0195, -0.0236, -0.0192, -0.0285,  0.0060,\n",
       "                       0.0639, -0.0250,  0.0073, -0.0424,  0.0365, -0.0412, -0.0333, -0.0238,\n",
       "                      -0.0585,  0.0278,  0.0561, -0.0117, -0.0588,  0.0002, -0.0428,  0.0293,\n",
       "                       0.0671, -0.0475, -0.0464,  0.0057,  0.0072,  0.0098,  0.0485, -0.0512,\n",
       "                      -0.0319, -0.0274, -0.0897,  0.0559,  0.0703,  0.0173, -0.0130, -0.0232,\n",
       "                      -0.0301,  0.0277,  0.0107, -0.0204, -0.0142, -0.0010, -0.0354,  0.0042,\n",
       "                      -0.0089, -0.0188,  0.0253,  0.0746, -0.0453, -0.0055,  0.0484, -0.0441,\n",
       "                      -0.0227,  0.0394,  0.0048, -0.0056,  0.0227, -0.0092,  0.0265,  0.0632,\n",
       "                       0.0187, -0.0559, -0.0283, -0.0406, -0.0480,  0.0507, -0.0020, -0.0517,\n",
       "                       0.0277, -0.0469, -0.0571,  0.0259, -0.0925, -0.0165, -0.0124, -0.0739,\n",
       "                       0.0109, -0.0056, -0.0064, -0.0173,  0.0450, -0.0786, -0.0734,  0.0878,\n",
       "                       0.0112, -0.0732, -0.0093, -0.0179, -0.0632,  0.0914, -0.0146, -0.0089,\n",
       "                       0.0413,  0.0052, -0.0190,  0.0646, -0.0315, -0.0645,  0.0557, -0.0200,\n",
       "                      -0.0331,  0.0498,  0.0104, -0.0833, -0.0407, -0.1006, -0.0650,  0.0381,\n",
       "                      -0.0514, -0.0067,  0.0624,  0.0035,  0.0231,  0.0053, -0.0334,  0.0144,\n",
       "                      -0.0130, -0.0256,  0.0211, -0.0325,  0.0079, -0.0632,  0.0210, -0.0093,\n",
       "                       0.0088,  0.0212, -0.0622,  0.0238,  0.0611, -0.0128,  0.0482,  0.0515,\n",
       "                      -0.0902, -0.0709, -0.0196, -0.0017,  0.0011, -0.0293, -0.0427, -0.0190,\n",
       "                       0.0070, -0.0349, -0.0768,  0.0584, -0.0634, -0.0922,  0.0694, -0.0462,\n",
       "                      -0.0517, -0.0473, -0.0829, -0.0487,  0.0299,  0.0032, -0.0253,  0.0135,\n",
       "                      -0.0961,  0.0399,  0.0464, -0.0948,  0.0244,  0.0281, -0.0321,  0.0068,\n",
       "                      -0.0350, -0.0186,  0.0527,  0.0400, -0.0076,  0.0590,  0.0049, -0.0036,\n",
       "                       0.0010,  0.0159, -0.0990,  0.0192, -0.0293, -0.0530, -0.0213, -0.0233,\n",
       "                      -0.0697, -0.0180,  0.0004, -0.0335, -0.0246,  0.0562, -0.0322,  0.0275,\n",
       "                       0.0683,  0.0348, -0.0579,  0.0874, -0.1032, -0.0235,  0.0362, -0.0208,\n",
       "                      -0.0067,  0.0519, -0.0086, -0.0897,  0.0129, -0.0727,  0.0180, -0.0305,\n",
       "                      -0.0274, -0.0631,  0.0048, -0.0455, -0.0291, -0.0094, -0.0012, -0.0311,\n",
       "                       0.0323,  0.0022, -0.0026,  0.0111, -0.0926, -0.0534, -0.0159, -0.0350,\n",
       "                       0.0035, -0.0357, -0.0047,  0.0570, -0.0491, -0.0066, -0.0049,  0.0506,\n",
       "                      -0.0274,  0.0389,  0.0329,  0.0149,  0.0311,  0.0458, -0.0083,  0.0561,\n",
       "                       0.0176, -0.0253,  0.0532,  0.0135, -0.0469, -0.0163,  0.0157, -0.0816,\n",
       "                      -0.0352, -0.0077, -0.0749,  0.0622,  0.0343, -0.0882,  0.0234, -0.0191,\n",
       "                      -0.0950,  0.0026,  0.0234, -0.0010,  0.0297,  0.0539, -0.0191,  0.0157,\n",
       "                       0.0840, -0.0639, -0.0188,  0.0130, -0.0864, -0.0462,  0.0543, -0.0921,\n",
       "                      -0.0236, -0.0018, -0.0310,  0.0476,  0.0595, -0.0127, -0.0442, -0.0470,\n",
       "                      -0.0187,  0.0454, -0.0340, -0.0383,  0.0477, -0.0111, -0.0234, -0.0509,\n",
       "                      -0.0413, -0.0541, -0.0564, -0.0068, -0.0941, -0.0847,  0.0534, -0.0282,\n",
       "                      -0.0194,  0.0157, -0.0907, -0.0596, -0.0388, -0.0124,  0.0325,  0.0566,\n",
       "                      -0.0125,  0.0620, -0.0134, -0.1006, -0.0494, -0.0226,  0.0054, -0.0111,\n",
       "                       0.0493, -0.0421, -0.0277,  0.0525, -0.0988, -0.0402,  0.0348,  0.0017,\n",
       "                      -0.0094, -0.0301, -0.0590, -0.0851,  0.0140, -0.0796, -0.0727, -0.0183,\n",
       "                       0.0061, -0.0897, -0.0264, -0.0579, -0.0114, -0.0208, -0.0907, -0.0729,\n",
       "                       0.0076, -0.0973, -0.0023, -0.0177,  0.0092, -0.0575,  0.0274, -0.0763,\n",
       "                      -0.0829,  0.0174, -0.0405, -0.0669,  0.0515, -0.0763, -0.0200])),\n",
       "             ('decoder.px_rho_decoder.0.weight',\n",
       "              tensor([[ 0.0504, -0.0939,  0.1255,  ...,  0.0550, -0.1556, -0.0722],\n",
       "                      [-0.1357, -0.1033,  0.0986,  ...,  0.0076,  0.1194, -0.0492],\n",
       "                      [ 0.0613,  0.1402, -0.0511,  ..., -0.0451,  0.0915,  0.0537],\n",
       "                      ...,\n",
       "                      [ 0.1695,  0.0027,  0.0268,  ...,  0.2287,  0.0007,  0.0353],\n",
       "                      [ 0.1197,  0.5177,  0.0376,  ..., -0.3318, -0.2047, -0.1313],\n",
       "                      [ 0.0160,  0.0813,  0.1035,  ..., -0.0044,  0.0914,  0.0103]])),\n",
       "             ('decoder.px_rho_decoder.0.bias',\n",
       "              tensor([ 1.1332e-02,  5.3634e-02,  2.5898e-02,  6.8967e-02,  5.0521e-02,\n",
       "                       2.8675e-02, -3.4564e-02,  4.4183e-02,  1.7318e-02, -3.3749e-02,\n",
       "                       7.5511e-02, -7.3844e-03, -1.0250e-01,  3.7424e-02, -5.1876e-02,\n",
       "                      -2.4763e-02, -3.1668e-02,  2.7947e-02, -1.0424e-02, -1.6093e-04,\n",
       "                       1.1499e-02, -1.9382e-02, -8.0530e-02, -1.6283e-02, -2.3591e-03,\n",
       "                       7.4245e-02, -4.8124e-02,  5.0901e-02,  3.1498e-02, -1.7602e-02,\n",
       "                      -9.9537e-03,  8.2236e-02,  9.9481e-02,  2.6324e-02, -1.5111e-02,\n",
       "                       3.3993e-02,  7.3108e-03, -5.8746e-02, -1.7006e-02,  4.7314e-02,\n",
       "                      -2.4410e-02, -2.0330e-02,  6.4758e-02,  6.7900e-02, -9.2832e-03,\n",
       "                       7.2904e-02, -5.3783e-02, -2.9584e-02,  7.3053e-03, -1.5187e-03,\n",
       "                       1.1698e-01,  4.8738e-02, -6.9176e-02, -1.3331e-02, -1.9173e-02,\n",
       "                       2.9080e-02,  3.3862e-02,  2.1176e-02, -1.1926e-02, -3.5612e-02,\n",
       "                       5.6332e-04,  8.1755e-02,  1.4608e-02,  5.7924e-04,  5.0802e-02,\n",
       "                       7.6202e-02, -2.7489e-02,  3.2115e-02,  4.3426e-02,  4.6160e-02,\n",
       "                       6.8688e-02,  1.5362e-02, -2.2006e-02,  2.9329e-02, -2.6674e-03,\n",
       "                       4.9249e-02,  3.4557e-02, -3.2631e-02,  3.6061e-02, -1.3070e-01,\n",
       "                       1.0255e-01,  5.8267e-02,  4.5110e-02,  3.0617e-02,  4.5296e-02,\n",
       "                       6.3747e-02,  4.1655e-02,  3.3169e-01, -5.9670e-02,  1.0712e-02,\n",
       "                      -2.1161e-03,  3.5183e-03,  4.7294e-02,  1.1651e-02, -1.2179e-02,\n",
       "                      -7.7283e-04,  5.5546e-02, -4.8802e-02,  2.8850e-02,  5.6891e-02,\n",
       "                       5.3463e-02,  2.1882e-02, -2.3555e-02,  6.3829e-02, -7.7911e-03,\n",
       "                       3.7709e-02, -1.6725e-02, -7.1872e-02, -4.5374e-02,  5.1892e-04,\n",
       "                       3.9056e-02,  6.1271e-02,  4.5699e-02, -2.2345e-02, -3.3949e-02,\n",
       "                       7.7950e-02,  7.6763e-02,  4.9798e-02,  8.3344e-02,  3.8183e-02,\n",
       "                       2.6674e-02,  3.4888e-02, -2.7041e-02, -1.0344e-01,  1.3866e-01,\n",
       "                      -3.5017e-02,  9.8827e-03,  4.8036e-03,  1.2541e-03,  9.4895e-02,\n",
       "                      -9.1484e-04, -4.0881e-02,  6.6542e-02])),\n",
       "             ('decoder.px_tau_decoder.0.weight',\n",
       "              tensor([[ 0.0391,  0.3332, -0.1013,  ...,  0.0046, -0.1661, -0.1831],\n",
       "                      [ 0.1107,  0.0884, -0.5261,  ...,  0.0236, -0.0697, -0.3140],\n",
       "                      [ 0.3791, -0.1879,  0.7952,  ...,  0.0103,  0.4644,  0.6241],\n",
       "                      ...,\n",
       "                      [-0.0104, -0.1325, -0.1863,  ..., -0.1513, -0.0233,  0.0842],\n",
       "                      [ 0.2383, -0.2401,  0.1941,  ...,  0.2976,  0.3559, -0.4206],\n",
       "                      [-0.3204, -0.1014,  0.3210,  ..., -0.5277, -0.0111, -0.2248]])),\n",
       "             ('decoder.px_tau_decoder.0.bias',\n",
       "              tensor([ 0.0551,  0.0581,  0.0390,  0.0677, -0.0352,  0.1278, -0.0056, -0.0119,\n",
       "                      -0.0185, -0.0499, -0.0783,  0.0042, -0.0368,  0.0715,  0.0202, -0.0887,\n",
       "                       0.0415, -0.1063,  0.0809,  0.1200, -0.0930, -0.0800,  0.1057, -0.0979,\n",
       "                       0.1986,  0.2013, -0.0168,  0.0889, -0.0406,  0.0604,  0.2160, -0.0552,\n",
       "                       0.0228, -0.0659, -0.0522, -0.0089,  0.0182,  0.0728, -0.0653, -0.0378,\n",
       "                      -0.1137, -0.0267, -0.2162, -0.0254,  0.0253,  0.0016,  0.0534, -0.0188,\n",
       "                      -0.0081,  0.0886, -0.0226, -0.0215, -0.0365, -0.0210,  0.0090, -0.0332,\n",
       "                      -0.0848,  0.0647, -0.1771, -0.0544,  0.0643, -0.0152, -0.0031, -0.1221,\n",
       "                       0.0217, -0.0749,  0.0910, -0.0621, -0.0591,  0.0380, -0.0489, -0.1125,\n",
       "                       0.0701,  0.0268, -0.0318, -0.0676, -0.0781,  0.1413,  0.1795,  0.1171,\n",
       "                      -0.0519, -0.0952, -0.1438, -0.1314, -0.0810, -0.0085,  0.0618,  0.0680,\n",
       "                       0.1615,  0.0322, -0.0349,  0.0004,  0.1049, -0.1436,  0.1511, -0.1511,\n",
       "                       0.1432,  0.1192,  0.1803, -0.0087, -0.0078, -0.0507,  0.1494, -0.0496,\n",
       "                      -0.0363, -0.0524, -0.1053, -0.1043, -0.0372, -0.1351,  0.1418,  0.0123,\n",
       "                      -0.0682, -0.0248, -0.0165, -0.0718, -0.0787,  0.0839, -0.0372,  0.0252,\n",
       "                       0.0537, -0.2036,  0.1101,  0.0203, -0.0438, -0.0450,  0.0012, -0.0683,\n",
       "                      -0.0152,  0.0307, -0.0127,  0.0631,  0.0542])),\n",
       "             ('v_encoder.log_h',\n",
       "              tensor([[-0.7885,  0.0000, -0.7878,  ...,  0.0000,  0.0000,  0.0000],\n",
       "                      [ 0.0000,  0.0000, -0.0146,  ...,  0.0000,  0.0000,  0.0000],\n",
       "                      [ 0.0000,  0.0000,  0.0000,  ...,  0.0000,  0.0000,  0.0000],\n",
       "                      ...,\n",
       "                      [ 0.0000,  0.0000,  0.0000,  ...,  0.0000,  0.0000,  0.0000],\n",
       "                      [ 0.0000,  0.0000,  0.0000,  ...,  0.0000,  0.0000,  0.0000],\n",
       "                      [ 0.0000,  0.0000,  0.0000,  ...,  0.0000,  0.0000,  0.0000]])),\n",
       "             ('v_encoder.log_phi',\n",
       "              tensor([[1.8207, 0.0000, 1.8180,  ..., 0.0000, 0.0000, 0.0000],\n",
       "                      [0.0000, 0.0000, 1.1867,  ..., 0.0000, 0.0000, 0.0000],\n",
       "                      [0.0000, 0.0000, 0.0000,  ..., 0.0000, 0.0000, 0.0000],\n",
       "                      ...,\n",
       "                      [0.0000, 0.0000, 0.0000,  ..., 0.0000, 0.0000, 0.0000],\n",
       "                      [0.0000, 0.0000, 0.0000,  ..., 0.0000, 0.0000, 0.0000],\n",
       "                      [0.0000, 0.0000, 0.0000,  ..., 0.0000, 0.0000, 0.0000]])),\n",
       "             ('v_encoder.tau',\n",
       "              tensor([[10.8449,  0.0000, 10.8429,  ...,  0.0000,  0.0000,  0.0000],\n",
       "                      [ 0.0000,  0.0000, 10.1426,  ...,  0.0000,  0.0000,  0.0000],\n",
       "                      [ 0.0000,  0.0000,  0.0000,  ...,  0.0000,  0.0000,  0.0000],\n",
       "                      ...,\n",
       "                      [ 0.0000,  0.0000,  0.0000,  ...,  0.0000,  0.0000,  0.0000],\n",
       "                      [ 0.0000,  0.0000,  0.0000,  ...,  0.0000,  0.0000,  0.0000],\n",
       "                      [ 0.0000,  0.0000,  0.0000,  ...,  0.0000,  0.0000,  0.0000]])),\n",
       "             ('v_encoder.o',\n",
       "              tensor([[0.1155, 0.0000, 0.1097,  ..., 0.0000, 0.0000, 0.0000],\n",
       "                      [0.0000, 0.0000, 0.1343,  ..., 0.0000, 0.0000, 0.0000],\n",
       "                      [0.0000, 0.0000, 0.0000,  ..., 0.0000, 0.0000, 0.0000],\n",
       "                      ...,\n",
       "                      [0.0000, 0.0000, 0.0000,  ..., 0.0000, 0.0000, 0.0000],\n",
       "                      [0.0000, 0.0000, 0.0000,  ..., 0.0000, 0.0000, 0.0000],\n",
       "                      [0.0000, 0.0000, 0.0000,  ..., 0.0000, 0.0000, 0.0000]])),\n",
       "             ('v_encoder.grn',\n",
       "              tensor([[-0.6130, -0.0000, -0.5618,  ...,  0.0000,  0.0000,  0.0000],\n",
       "                      [-0.0000, -0.0000, -0.5641,  ...,  0.0000,  0.0000,  0.0000],\n",
       "                      [ 0.0000,  0.0000,  0.0000,  ..., -0.0000, -0.0000, -0.0000],\n",
       "                      ...,\n",
       "                      [-0.0000, -0.0000, -0.0000,  ...,  0.0000,  0.0000,  0.0000],\n",
       "                      [ 0.0000,  0.0000,  0.0000,  ..., -0.0000, -0.0000, -0.0000],\n",
       "                      [ 0.0000,  0.0000,  0.0000,  ...,  0.0000,  0.0000,  0.0000]])),\n",
       "             ('v_encoder.beta_mean_unconstr',\n",
       "              tensor([-7.5580e-01, -5.2437e-01, -4.3764e+00, -6.7977e-01, -6.5584e-01,\n",
       "                      -5.7478e-01, -5.8680e-01,  4.7007e-01, -5.0051e-02,  7.9879e-02,\n",
       "                      -2.1107e-01,  3.0164e-01, -7.2720e-01, -1.2061e-01, -3.5055e-01,\n",
       "                      -6.4957e-01, -4.7360e-02,  2.3606e-02, -3.5858e-03, -4.6863e-02,\n",
       "                       3.8338e-02, -1.0986e-01, -3.8607e-01,  7.0054e-02, -4.2386e-02,\n",
       "                      -1.3108e-02, -5.4277e-02, -1.6101e-01, -6.4622e-02, -1.7645e-01,\n",
       "                       4.3810e-02,  1.3623e-01,  3.0012e-01, -5.1485e-02,  2.0353e-01,\n",
       "                      -3.6796e-01, -8.5438e-02, -1.9765e-01, -3.8699e-01,  1.2013e-01,\n",
       "                       3.1449e-02, -2.0668e-01,  2.0316e-01,  2.7371e-01, -6.2592e-01,\n",
       "                      -3.9691e-01, -6.8191e-01, -4.9997e-01, -4.6988e-01, -5.4146e-01,\n",
       "                      -3.6555e-01, -4.9613e-01, -4.7862e-01, -4.8890e-01,  2.4384e-01,\n",
       "                      -1.4064e-01, -1.4591e-01, -2.3745e-01, -5.9289e-02, -3.1452e-01,\n",
       "                       3.7724e-01,  3.3984e-01,  3.3290e-01,  2.5203e-01,  2.0507e-01,\n",
       "                       2.1068e-01, -1.8666e-02,  1.2921e-01, -5.6908e-02,  1.4024e-01,\n",
       "                      -1.2939e-01,  3.1508e-01,  3.5745e-02,  2.5802e-01,  1.1573e-01,\n",
       "                       3.2640e-01, -6.0267e-03,  1.6388e-02,  8.2648e-02, -4.4279e-01,\n",
       "                      -4.4141e-01, -1.0515e+00, -5.7841e-01, -7.2373e-01, -6.8747e-01,\n",
       "                      -6.2313e-01, -4.4392e+00, -4.7708e+00,  8.9937e-03,  4.0466e-01,\n",
       "                      -8.0072e-02,  6.2629e-02,  7.4899e-02, -7.2307e-02,  2.5824e-02,\n",
       "                      -6.9998e-02,  5.2359e-02, -6.5255e-02,  1.4005e-01,  9.7902e-02,\n",
       "                       1.0130e-01,  5.7279e-02,  1.0659e-01,  2.4483e-02, -1.0660e-01,\n",
       "                       2.5332e+00, -2.8408e-02,  2.6719e-01,  2.3177e-01,  4.0315e-01,\n",
       "                       1.6317e-02, -7.3607e-02,  2.9997e-01, -6.4464e-01, -6.0464e-01,\n",
       "                       3.0563e-01, -4.5385e+00, -2.8528e-02,  4.4017e-01,  1.2590e-01,\n",
       "                      -9.4953e-01,  9.7531e-02,  1.5115e-01, -5.6554e-01, -5.6945e-01,\n",
       "                       2.1887e-01,  2.6120e-01,  3.1722e-01,  1.2030e-01,  6.0144e-02,\n",
       "                      -9.6704e-02, -3.9965e-01, -4.7608e-01])),\n",
       "             ('v_encoder.gamma_mean_unconstr',\n",
       "              tensor([-1.6880, -1.7976, -4.8014, -1.6201, -1.5462, -1.5231, -1.5525, -1.1051,\n",
       "                      -0.8696, -0.9516, -0.7816, -1.0372, -0.8905, -1.0746, -0.7719, -0.5332,\n",
       "                      -0.8844, -0.7282, -0.7701, -0.7549, -0.8388, -0.6875, -0.7643, -0.7836,\n",
       "                      -0.7870, -0.8353, -0.7966, -0.7462, -0.7750, -0.7196, -0.8844, -0.5099,\n",
       "                      -0.7150, -0.7606, -1.0893, -0.8710, -1.0068, -0.8867, -1.0670, -0.8842,\n",
       "                      -0.9573, -0.9121, -0.9898, -1.0451, -1.4737, -1.7431, -1.4328, -1.5640,\n",
       "                      -1.5543, -1.4707, -1.5558, -1.4842, -0.8122, -0.1869, -1.0157, -0.9722,\n",
       "                      -0.9282, -0.8516, -0.8553, -0.8173, -0.9119, -0.9960, -0.9927, -1.0296,\n",
       "                      -1.0149, -1.0131, -0.8732, -0.9462, -0.8899, -0.9527, -0.7369, -0.9121,\n",
       "                      -0.9012, -0.7554, -0.8707, -0.9066, -0.8615, -0.9058, -0.9463, -1.0959,\n",
       "                      -1.8027, -1.6766, -1.6053, -1.6109, -1.4872, -1.6811, -5.4864, -4.8317,\n",
       "                      -0.7761, -0.9324, -0.7743, -0.7380, -0.8902, -0.7523, -0.8590, -0.8309,\n",
       "                      -0.7889, -0.9318, -0.8306, -0.8217, -0.8518, -0.8027, -0.8643, -0.8355,\n",
       "                      -1.0762, -6.8590, -0.8758, -0.9494, -1.2510, -1.1890, -0.8484, -0.9219,\n",
       "                      -1.1446, -1.4593, -1.4818, -0.7067, -4.2334, -0.7103, -0.9065, -0.8103,\n",
       "                      -1.3930, -0.8859, -0.9730, -1.2772, -1.3895, -0.9214, -1.2654, -1.0557,\n",
       "                      -1.1223, -1.6492, -0.6376, -1.3155, -1.3647])),\n",
       "             ('v_encoder.alpha_unconstr_max',\n",
       "              tensor([ 7.7201e-01,  7.4656e-01,  7.3443e+00,  1.1697e+00,  7.8019e-01,\n",
       "                       8.1512e-01,  7.6706e-01, -3.2856e-02, -3.0120e-01, -1.9026e-01,\n",
       "                      -1.0876e-01, -3.8542e-01, -1.2478e-01, -2.1542e-01, -3.1703e-01,\n",
       "                      -2.4870e-02, -2.8895e-01,  1.5112e-01,  5.3563e-02,  3.5352e-02,\n",
       "                       2.0295e-01, -4.3566e-02, -9.8782e-03,  8.9033e-02,  1.2160e-01,\n",
       "                       1.4023e-01,  9.8497e-02,  9.0283e-04,  2.5853e-02,  2.4728e-03,\n",
       "                       2.4231e-01, -2.7291e-01, -4.8460e-01, -2.9011e-01, -2.7224e-01,\n",
       "                      -3.7713e-01, -1.7269e-01, -2.6194e-01, -3.7253e-01, -1.2894e-01,\n",
       "                      -1.9565e-01, -2.3994e-01, -1.1557e-01,  7.7277e-02,  9.0973e-01,\n",
       "                       8.4561e-01,  7.7572e-01,  9.5791e-01,  7.2679e-01,  8.4865e-01,\n",
       "                       7.3950e-01,  7.2508e-01, -4.1268e-01, -1.2878e-01, -6.8774e-04,\n",
       "                      -1.5857e-01, -2.5178e-01, -8.0920e-02, -2.5074e-01, -3.4813e-01,\n",
       "                       7.1401e-02, -9.3651e-02, -1.5113e-01,  1.0255e-02, -8.3609e-02,\n",
       "                       3.8103e-02, -2.3463e-01, -2.6454e-01, -3.4672e-01, -1.6107e-01,\n",
       "                      -1.6046e-01, -2.2926e-01, -2.6404e-01, -1.9558e-01, -1.7908e-01,\n",
       "                      -2.2964e-01, -2.6988e-01, -2.9175e-01, -2.4926e-01, -1.6815e-01,\n",
       "                       8.9698e-01,  9.4680e-01,  7.2486e-01,  8.3361e-01,  7.4817e-01,\n",
       "                       8.5204e-01,  7.9244e+00,  7.6680e+00, -3.8164e-02,  1.8545e-02,\n",
       "                      -8.1448e-02, -2.2899e-02,  7.1603e-02, -2.7160e-02,  8.3383e-02,\n",
       "                      -1.1349e-01,  8.0136e-02,  3.5478e-02, -9.6249e-02, -6.0639e-02,\n",
       "                      -6.0043e-02, -7.5560e-02, -1.4974e-03, -6.3257e-02,  2.6702e-01,\n",
       "                       8.0443e+00, -2.9307e-01, -1.3080e-01, -6.3566e-02, -1.8015e-01,\n",
       "                       8.2850e-02, -2.1078e-01,  5.0798e-01,  6.3013e-01,  6.0066e-01,\n",
       "                      -1.4853e-01,  6.6448e+00,  9.9827e-02, -4.3712e-01,  1.5142e-01,\n",
       "                       8.0832e-01,  1.4811e-01, -1.7509e-01,  8.8860e-01,  5.3244e-01,\n",
       "                      -5.7525e-03, -1.6677e-01, -7.7291e-02, -1.4020e-02,  5.2615e-01,\n",
       "                       1.0722e-01,  8.2810e-01,  6.4602e-01])),\n",
       "             ('v_encoder.alpha_unconstr_bias',\n",
       "              tensor([ 0.3385,  0.4045,  0.4678,  0.0866,  0.4684,  0.4378,  0.4749, -0.0295,\n",
       "                      -0.1103, -0.0448,  0.0774,  0.0486,  0.4591, -0.0589, -0.1895,  0.5801,\n",
       "                      -0.0075,  0.0896,  0.0561,  0.1115,  0.1109,  0.0716,  0.5956,  0.0487,\n",
       "                       0.0802,  0.0864,  0.0941,  0.1104,  0.1076,  0.1166,  0.1220, -0.1280,\n",
       "                      -0.3285,  0.2088,  0.0392,  0.0241, -0.0080,  0.1361,  0.2047,  0.1417,\n",
       "                       0.1690,  0.2164,  0.1668,  0.1401,  0.5212,  0.4862,  0.5430,  0.3673,\n",
       "                       0.4981,  0.3932,  0.5663,  0.5624,  0.0084,  0.4931,  0.0029, -0.0061,\n",
       "                      -0.0853,  0.0520, -0.0388, -0.0089, -0.2008, -0.0395,  0.0203, -0.0700,\n",
       "                       0.0125,  0.0023, -0.1767, -0.0931, -0.2207, -0.0368, -0.0925, -0.0288,\n",
       "                      -0.1513, -0.1748, -0.1369, -0.2421, -0.2293, -0.2179, -0.1969,  0.2686,\n",
       "                       0.2640,  0.3232,  0.4968,  0.3568,  0.5402,  0.3682,  0.4215,  0.2221,\n",
       "                      -0.0595, -0.1759,  0.0158, -0.1228, -0.0116, -0.0209,  0.0125, -0.0084,\n",
       "                       0.1529,  0.3122, -0.0556, -0.0364, -0.0643, -0.0265,  0.0343, -0.0096,\n",
       "                       0.1298,  0.3453, -0.2627, -0.2275,  0.2030, -0.2933, -0.0699, -0.2669,\n",
       "                      -0.0450,  0.6082,  0.5391,  0.1305,  0.2503, -0.0399, -0.1315, -0.0704,\n",
       "                       0.5273, -0.0563, -0.2608,  0.5307,  0.7068, -0.0162, -0.1196, -0.1101,\n",
       "                      -0.0651,  0.5111,  0.6652,  0.4000,  0.5439]))])"
      ]
     },
     "execution_count": 34,
     "metadata": {},
     "output_type": "execute_result"
    }
   ],
   "source": [
    "load_state_dict"
   ]
  },
  {
   "cell_type": "code",
   "execution_count": 35,
   "id": "ec411096-224a-46e8-9b99-258aafb557e1",
   "metadata": {},
   "outputs": [],
   "source": [
    "registry = attr_dict.pop(\"registry_\")"
   ]
  },
  {
   "cell_type": "code",
   "execution_count": 36,
   "id": "f52ce500-c1d4-4a18-ba5e-4af289c3460a",
   "metadata": {},
   "outputs": [
    {
     "data": {
      "text/plain": [
       "{'scvi_version': '0.20.3',\n",
       " 'model_name': 'REGVELOVI',\n",
       " 'setup_args': {'spliced_layer': 'Ms', 'unspliced_layer': 'Mu'},\n",
       " 'field_registries': defaultdict(dict,\n",
       "             {'X': {'data_registry': {'attr_name': 'layers', 'attr_key': 'Ms'},\n",
       "               'state_registry': {'n_obs': 1000,\n",
       "                'n_vars': 141,\n",
       "                'column_names': array(['A3_TF3', 'A3_TF4', 'A3_TF5', 'A3_TF6', 'A4_TF1', 'A4_TF3',\n",
       "                       'A5_TF1', 'A5_TF2', 'A6_TF1', 'A6_TF2', 'A6_TF3', 'A6_TF4',\n",
       "                       'B10_TF1', 'B10_TF2', 'B11_TF1', 'B11_TF2', 'B11_TF3', 'B11_TF4',\n",
       "                       'B11_TF5', 'B11_TF6', 'B11_TF7', 'B11_TF8', 'B12_TF1', 'B12_TF2',\n",
       "                       'B12_TF3', 'B12_TF4', 'B13_TF1', 'B13_TF2', 'B13_TF3', 'B13_TF4',\n",
       "                       'B14_TF1', 'B14_TF2', 'B14_TF3', 'B14_TF4', 'B14_TF5', 'B14_TF6',\n",
       "                       'B1_TF1', 'B1_TF2', 'B1_TF3', 'B2_TF1', 'B2_TF2', 'B2_TF3',\n",
       "                       'B2_TF4', 'B2_TF5', 'B3_TF1', 'B3_TF2', 'B3_TF3', 'B3_TF4',\n",
       "                       'B3_TF5', 'B4_TF1', 'B4_TF2', 'B4_TF3', 'B4_TF4', 'B5_TF1',\n",
       "                       'B5_TF2', 'B5_TF3', 'B5_TF4', 'B6_TF1', 'B6_TF2', 'B6_TF3',\n",
       "                       'B6_TF4', 'B6_TF5', 'B6_TF6', 'B7_TF1', 'B7_TF2', 'B7_TF3',\n",
       "                       'B8_TF1', 'B8_TF2', 'B8_TF3', 'B8_TF4', 'B8_TF5', 'B9_TF1',\n",
       "                       'B9_TF2', 'C1_TF1', 'C1_TF2', 'C1_TF3', 'C1_TF4', 'C1_TF5',\n",
       "                       'C1_TF6', 'C2_TF1', 'C2_TF2', 'C2_TF3', 'C2_TF4', 'C2_TF5',\n",
       "                       'C2_TF6', 'C3_TF2', 'C3_TF3', 'C3_TF4', 'C3_TF5', 'C3_TF8',\n",
       "                       'C3_TF9', 'C4_TF1', 'C4_TF3', 'C6_TF1', 'C6_TF4', 'C6_TF6',\n",
       "                       'D1_TF1', 'D1_TF2', 'D1_TF3', 'D2_TF1', 'D2_TF2', 'D2_TF3',\n",
       "                       'D2_TF4', 'D3_TF1', 'D3_TF2', 'D3_TF3', 'D4_TF1', 'D4_TF2',\n",
       "                       'D4_TF3', 'D4_TF4', 'D4_TF5', 'D4_TF6', 'Target10', 'Target12',\n",
       "                       'Target19', 'Target20', 'Target21', 'Target22', 'Target24',\n",
       "                       'Target25', 'Target26', 'Target27', 'Target29', 'Target30',\n",
       "                       'Target32', 'Target36', 'Target37', 'Target39', 'Target4',\n",
       "                       'Target42', 'Target43', 'Target44', 'Target45', 'Target47',\n",
       "                       'Target48', 'Target5', 'Target50', 'Target6', 'Target7', 'Target8',\n",
       "                       'Target9'], dtype=object)},\n",
       "               'summary_stats': {'n_vars': 141, 'n_cells': 1000}},\n",
       "              'U': {'data_registry': {'attr_name': 'layers', 'attr_key': 'Mu'},\n",
       "               'state_registry': {'n_obs': 1000,\n",
       "                'n_vars': 141,\n",
       "                'column_names': array(['A3_TF3', 'A3_TF4', 'A3_TF5', 'A3_TF6', 'A4_TF1', 'A4_TF3',\n",
       "                       'A5_TF1', 'A5_TF2', 'A6_TF1', 'A6_TF2', 'A6_TF3', 'A6_TF4',\n",
       "                       'B10_TF1', 'B10_TF2', 'B11_TF1', 'B11_TF2', 'B11_TF3', 'B11_TF4',\n",
       "                       'B11_TF5', 'B11_TF6', 'B11_TF7', 'B11_TF8', 'B12_TF1', 'B12_TF2',\n",
       "                       'B12_TF3', 'B12_TF4', 'B13_TF1', 'B13_TF2', 'B13_TF3', 'B13_TF4',\n",
       "                       'B14_TF1', 'B14_TF2', 'B14_TF3', 'B14_TF4', 'B14_TF5', 'B14_TF6',\n",
       "                       'B1_TF1', 'B1_TF2', 'B1_TF3', 'B2_TF1', 'B2_TF2', 'B2_TF3',\n",
       "                       'B2_TF4', 'B2_TF5', 'B3_TF1', 'B3_TF2', 'B3_TF3', 'B3_TF4',\n",
       "                       'B3_TF5', 'B4_TF1', 'B4_TF2', 'B4_TF3', 'B4_TF4', 'B5_TF1',\n",
       "                       'B5_TF2', 'B5_TF3', 'B5_TF4', 'B6_TF1', 'B6_TF2', 'B6_TF3',\n",
       "                       'B6_TF4', 'B6_TF5', 'B6_TF6', 'B7_TF1', 'B7_TF2', 'B7_TF3',\n",
       "                       'B8_TF1', 'B8_TF2', 'B8_TF3', 'B8_TF4', 'B8_TF5', 'B9_TF1',\n",
       "                       'B9_TF2', 'C1_TF1', 'C1_TF2', 'C1_TF3', 'C1_TF4', 'C1_TF5',\n",
       "                       'C1_TF6', 'C2_TF1', 'C2_TF2', 'C2_TF3', 'C2_TF4', 'C2_TF5',\n",
       "                       'C2_TF6', 'C3_TF2', 'C3_TF3', 'C3_TF4', 'C3_TF5', 'C3_TF8',\n",
       "                       'C3_TF9', 'C4_TF1', 'C4_TF3', 'C6_TF1', 'C6_TF4', 'C6_TF6',\n",
       "                       'D1_TF1', 'D1_TF2', 'D1_TF3', 'D2_TF1', 'D2_TF2', 'D2_TF3',\n",
       "                       'D2_TF4', 'D3_TF1', 'D3_TF2', 'D3_TF3', 'D4_TF1', 'D4_TF2',\n",
       "                       'D4_TF3', 'D4_TF4', 'D4_TF5', 'D4_TF6', 'Target10', 'Target12',\n",
       "                       'Target19', 'Target20', 'Target21', 'Target22', 'Target24',\n",
       "                       'Target25', 'Target26', 'Target27', 'Target29', 'Target30',\n",
       "                       'Target32', 'Target36', 'Target37', 'Target39', 'Target4',\n",
       "                       'Target42', 'Target43', 'Target44', 'Target45', 'Target47',\n",
       "                       'Target48', 'Target5', 'Target50', 'Target6', 'Target7', 'Target8',\n",
       "                       'Target9'], dtype=object)},\n",
       "               'summary_stats': {'n_U': 141}}}),\n",
       " 'setup_method_name': 'setup_anndata',\n",
       " '_scvi_uuid': '209d2079-2d89-4f81-9b2a-634a2fe63c99'}"
      ]
     },
     "execution_count": 36,
     "metadata": {},
     "output_type": "execute_result"
    }
   ],
   "source": [
    "registry"
   ]
  },
  {
   "cell_type": "code",
   "execution_count": 40,
   "id": "9fd4fa5c-7721-418f-b98d-178bfd355d0e",
   "metadata": {},
   "outputs": [],
   "source": [
    "REGVELOVI.setup_anndata(\n",
    "    adata,\n",
    "    source_registry=registry,\n",
    "    extend_categories=True,\n",
    "    allow_missing_labels=True,\n",
    "    **registry[_SETUP_ARGS_KEY],\n",
    ")"
   ]
  },
  {
   "cell_type": "code",
   "execution_count": 41,
   "id": "63351174-fbf1-4f60-825e-8f9c759c2914",
   "metadata": {},
   "outputs": [],
   "source": [
    "model = _initialize_model(REGVELOVI, adata, attr_dict)"
   ]
  },
  {
   "cell_type": "code",
   "execution_count": 48,
   "id": "2b975c63-f16b-403a-b06a-a087a410c5dc",
   "metadata": {},
   "outputs": [],
   "source": [
    "adata_manager = model.get_anndata_manager(adata, required=True)"
   ]
  },
  {
   "cell_type": "code",
   "execution_count": 49,
   "id": "ad9e301d-bc40-4ffa-83eb-0b945f42a52a",
   "metadata": {},
   "outputs": [
    {
     "data": {
      "text/plain": [
       "<scvi.data._manager.AnnDataManager at 0x29633a7d0>"
      ]
     },
     "execution_count": 49,
     "metadata": {},
     "output_type": "execute_result"
    }
   ],
   "source": [
    "adata_manager"
   ]
  },
  {
   "cell_type": "code",
   "execution_count": 50,
   "id": "de36484a-ec62-481d-8354-6aeeda8a1bae",
   "metadata": {},
   "outputs": [],
   "source": [
    "model.to_device(\"cpu\")"
   ]
  },
  {
   "cell_type": "code",
   "execution_count": 51,
   "id": "12abe68e-2c3a-42b0-b693-d59c956ab0d8",
   "metadata": {},
   "outputs": [
    {
     "data": {
      "text/html": [
       "<pre style=\"white-space:pre;overflow-x:auto;line-height:normal;font-family:Menlo,'DejaVu Sans Mono',consolas,'Courier New',monospace\">REGVELOVI Model with the following params: \n",
       "n_hidden: <span style=\"color: #008080; text-decoration-color: #008080; font-weight: bold\">256</span>, n_latent: <span style=\"color: #008080; text-decoration-color: #008080; font-weight: bold\">10</span>, n_layers: <span style=\"color: #008080; text-decoration-color: #008080; font-weight: bold\">1</span>, dropout_rate: <span style=\"color: #008080; text-decoration-color: #008080; font-weight: bold\">0.1</span>\n",
       "Training status: Trained\n",
       "Model's adata is minified?: <span style=\"color: #ff0000; text-decoration-color: #ff0000; font-style: italic\">False</span>\n",
       "</pre>\n"
      ],
      "text/plain": [
       "REGVELOVI Model with the following params: \n",
       "n_hidden: \u001b[1;36m256\u001b[0m, n_latent: \u001b[1;36m10\u001b[0m, n_layers: \u001b[1;36m1\u001b[0m, dropout_rate: \u001b[1;36m0.1\u001b[0m\n",
       "Training status: Trained\n",
       "Model's adata is minified?: \u001b[3;91mFalse\u001b[0m\n"
      ]
     },
     "metadata": {},
     "output_type": "display_data"
    },
    {
     "data": {
      "text/plain": []
     },
     "execution_count": 51,
     "metadata": {},
     "output_type": "execute_result"
    }
   ],
   "source": [
    "model"
   ]
  },
  {
   "cell_type": "code",
   "execution_count": 52,
   "id": "2a993826-4155-4d24-9ce8-276aa22bae87",
   "metadata": {},
   "outputs": [
    {
     "data": {
      "text/plain": [
       "VELOVAE(\n",
       "  (z_encoder): Encoder(\n",
       "    (encoder): FCLayers(\n",
       "      (fc_layers): Sequential(\n",
       "        (Layer 0): Sequential(\n",
       "          (0): Linear(in_features=282, out_features=256, bias=True)\n",
       "          (1): BatchNorm1d(256, eps=0.001, momentum=0.01, affine=True, track_running_stats=True)\n",
       "          (2): LayerNorm((256,), eps=1e-05, elementwise_affine=False)\n",
       "          (3): ReLU()\n",
       "          (4): Dropout(p=0.1, inplace=False)\n",
       "        )\n",
       "      )\n",
       "    )\n",
       "    (mean_encoder): Linear(in_features=256, out_features=10, bias=True)\n",
       "    (var_encoder): Linear(in_features=256, out_features=10, bias=True)\n",
       "    (var_activation): Softplus(beta=1, threshold=20)\n",
       "  )\n",
       "  (decoder): DecoderVELOVI(\n",
       "    (rho_first_decoder): FCLayers(\n",
       "      (fc_layers): Sequential(\n",
       "        (Layer 0): Sequential(\n",
       "          (0): Linear(in_features=10, out_features=256, bias=True)\n",
       "          (1): BatchNorm1d(256, eps=0.001, momentum=0.01, affine=True, track_running_stats=True)\n",
       "          (2): LayerNorm((256,), eps=1e-05, elementwise_affine=False)\n",
       "          (3): ReLU()\n",
       "          (4): None\n",
       "        )\n",
       "      )\n",
       "    )\n",
       "    (pi_first_decoder): FCLayers(\n",
       "      (fc_layers): Sequential(\n",
       "        (Layer 0): Sequential(\n",
       "          (0): Linear(in_features=10, out_features=256, bias=True)\n",
       "          (1): BatchNorm1d(256, eps=0.001, momentum=0.01, affine=True, track_running_stats=True)\n",
       "          (2): LayerNorm((256,), eps=1e-05, elementwise_affine=False)\n",
       "          (3): ReLU()\n",
       "          (4): None\n",
       "        )\n",
       "      )\n",
       "    )\n",
       "    (px_pi_decoder): Linear(in_features=256, out_features=399, bias=True)\n",
       "    (px_rho_decoder): Sequential(\n",
       "      (0): Linear(in_features=256, out_features=133, bias=True)\n",
       "      (1): Sigmoid()\n",
       "    )\n",
       "    (px_tau_decoder): Sequential(\n",
       "      (0): Linear(in_features=256, out_features=133, bias=True)\n",
       "      (1): Sigmoid()\n",
       "    )\n",
       "  )\n",
       "  (v_encoder): velocity_encoder()\n",
       ")"
      ]
     },
     "execution_count": 52,
     "metadata": {},
     "output_type": "execute_result"
    }
   ],
   "source": [
    "model.module.load_state_dict(load_state_dict)\n",
    "model.module.eval()"
   ]
  },
  {
   "cell_type": "code",
   "execution_count": 55,
   "id": "ac5038f0-3393-4646-99c6-1858a2a721a4",
   "metadata": {},
   "outputs": [
    {
     "data": {
      "text/plain": [
       "Parameter containing:\n",
       "tensor([[-0.6130, -0.0000, -0.5618,  ...,  0.0000,  0.0000,  0.0000],\n",
       "        [-0.0000, -0.0000, -0.5641,  ...,  0.0000,  0.0000,  0.0000],\n",
       "        [ 0.0000,  0.0000,  0.0000,  ..., -0.0000, -0.0000, -0.0000],\n",
       "        ...,\n",
       "        [-0.0000, -0.0000, -0.0000,  ...,  0.0000,  0.0000,  0.0000],\n",
       "        [ 0.0000,  0.0000,  0.0000,  ..., -0.0000, -0.0000, -0.0000],\n",
       "        [ 0.0000,  0.0000,  0.0000,  ...,  0.0000,  0.0000,  0.0000]],\n",
       "       requires_grad=True)"
      ]
     },
     "execution_count": 55,
     "metadata": {},
     "output_type": "execute_result"
    }
   ],
   "source": [
    "model.module.v_encoder.grn"
   ]
  },
  {
   "cell_type": "code",
   "execution_count": 57,
   "id": "c61f8b8a-b63b-4c78-8083-50fbc3d30b5d",
   "metadata": {},
   "outputs": [
    {
     "data": {
      "text/plain": [
       "Parameter containing:\n",
       "tensor([[-0.6130, -0.0000, -0.5618,  ...,  0.0000,  0.0000,  0.0000],\n",
       "        [-0.0000, -0.0000, -0.5641,  ...,  0.0000,  0.0000,  0.0000],\n",
       "        [ 0.0000,  0.0000,  0.0000,  ..., -0.0000, -0.0000, -0.0000],\n",
       "        ...,\n",
       "        [-0.0000, -0.0000, -0.0000,  ...,  0.0000,  0.0000,  0.0000],\n",
       "        [ 0.0000,  0.0000,  0.0000,  ..., -0.0000, -0.0000, -0.0000],\n",
       "        [ 0.0000,  0.0000,  0.0000,  ...,  0.0000,  0.0000,  0.0000]],\n",
       "       requires_grad=True)"
      ]
     },
     "execution_count": 57,
     "metadata": {},
     "output_type": "execute_result"
    }
   ],
   "source": [
    "reg_vae.module.v_encoder.grn"
   ]
  },
  {
   "cell_type": "code",
   "execution_count": 59,
   "id": "2cde2f29-fbac-4633-a1d4-dc2f27689b81",
   "metadata": {},
   "outputs": [
    {
     "name": "stdout",
     "output_type": "stream",
     "text": [
      "\n",
      "z_encoder\n",
      "z_encoder.encoder\n",
      "z_encoder.encoder.fc_layers\n",
      "z_encoder.encoder.fc_layers.Layer 0\n",
      "z_encoder.encoder.fc_layers.Layer 0.0\n",
      "z_encoder.encoder.fc_layers.Layer 0.1\n",
      "z_encoder.encoder.fc_layers.Layer 0.2\n",
      "z_encoder.encoder.fc_layers.Layer 0.3\n",
      "z_encoder.encoder.fc_layers.Layer 0.4\n",
      "z_encoder.mean_encoder\n",
      "z_encoder.var_encoder\n",
      "z_encoder.var_activation\n",
      "decoder\n",
      "decoder.rho_first_decoder\n",
      "decoder.rho_first_decoder.fc_layers\n",
      "decoder.rho_first_decoder.fc_layers.Layer 0\n",
      "decoder.rho_first_decoder.fc_layers.Layer 0.0\n",
      "decoder.rho_first_decoder.fc_layers.Layer 0.1\n",
      "decoder.rho_first_decoder.fc_layers.Layer 0.2\n",
      "decoder.rho_first_decoder.fc_layers.Layer 0.3\n",
      "decoder.pi_first_decoder\n",
      "decoder.pi_first_decoder.fc_layers\n",
      "decoder.pi_first_decoder.fc_layers.Layer 0\n",
      "decoder.pi_first_decoder.fc_layers.Layer 0.0\n",
      "decoder.pi_first_decoder.fc_layers.Layer 0.1\n",
      "decoder.pi_first_decoder.fc_layers.Layer 0.2\n",
      "decoder.pi_first_decoder.fc_layers.Layer 0.3\n",
      "decoder.px_pi_decoder\n",
      "decoder.px_rho_decoder\n",
      "decoder.px_rho_decoder.0\n",
      "decoder.px_rho_decoder.1\n",
      "decoder.px_tau_decoder\n",
      "decoder.px_tau_decoder.0\n",
      "decoder.px_tau_decoder.1\n",
      "v_encoder\n"
     ]
    }
   ],
   "source": [
    "for key, module in model.module.named_modules():\n",
    "    print(key)"
   ]
  },
  {
   "cell_type": "code",
   "execution_count": 69,
   "id": "59f83e98-5660-46e9-bc8a-8bbc14b0be49",
   "metadata": {},
   "outputs": [],
   "source": [
    "model.module.v_encoder.alpha_unconstr_max.requires_grad = False"
   ]
  },
  {
   "cell_type": "code",
   "execution_count": 72,
   "id": "68c159f4-6df8-4ae4-a2b6-29a0e7432f3a",
   "metadata": {},
   "outputs": [
    {
     "data": {
      "text/plain": [
       "Parameter containing:\n",
       "tensor([ 7.7201e-01,  7.4656e-01,  7.3443e+00,  1.1697e+00,  7.8019e-01,\n",
       "         8.1512e-01,  7.6706e-01, -3.2856e-02, -3.0120e-01, -1.9026e-01,\n",
       "        -1.0876e-01, -3.8542e-01, -1.2478e-01, -2.1542e-01, -3.1703e-01,\n",
       "        -2.4870e-02, -2.8895e-01,  1.5112e-01,  5.3563e-02,  3.5352e-02,\n",
       "         2.0295e-01, -4.3566e-02, -9.8782e-03,  8.9033e-02,  1.2160e-01,\n",
       "         1.4023e-01,  9.8497e-02,  9.0283e-04,  2.5853e-02,  2.4728e-03,\n",
       "         2.4231e-01, -2.7291e-01, -4.8460e-01, -2.9011e-01, -2.7224e-01,\n",
       "        -3.7713e-01, -1.7269e-01, -2.6194e-01, -3.7253e-01, -1.2894e-01,\n",
       "        -1.9565e-01, -2.3994e-01, -1.1557e-01,  7.7277e-02,  9.0973e-01,\n",
       "         8.4561e-01,  7.7572e-01,  9.5791e-01,  7.2679e-01,  8.4865e-01,\n",
       "         7.3950e-01,  7.2508e-01, -4.1268e-01, -1.2878e-01, -6.8774e-04,\n",
       "        -1.5857e-01, -2.5178e-01, -8.0920e-02, -2.5074e-01, -3.4813e-01,\n",
       "         7.1401e-02, -9.3651e-02, -1.5113e-01,  1.0255e-02, -8.3609e-02,\n",
       "         3.8103e-02, -2.3463e-01, -2.6454e-01, -3.4672e-01, -1.6107e-01,\n",
       "        -1.6046e-01, -2.2926e-01, -2.6404e-01, -1.9558e-01, -1.7908e-01,\n",
       "        -2.2964e-01, -2.6988e-01, -2.9175e-01, -2.4926e-01, -1.6815e-01,\n",
       "         8.9698e-01,  9.4680e-01,  7.2486e-01,  8.3361e-01,  7.4817e-01,\n",
       "         8.5204e-01,  7.9244e+00,  7.6680e+00, -3.8164e-02,  1.8545e-02,\n",
       "        -8.1448e-02, -2.2899e-02,  7.1603e-02, -2.7160e-02,  8.3383e-02,\n",
       "        -1.1349e-01,  8.0136e-02,  3.5478e-02, -9.6249e-02, -6.0639e-02,\n",
       "        -6.0043e-02, -7.5560e-02, -1.4974e-03, -6.3257e-02,  2.6702e-01,\n",
       "         8.0443e+00, -2.9307e-01, -1.3080e-01, -6.3566e-02, -1.8015e-01,\n",
       "         8.2850e-02, -2.1078e-01,  5.0798e-01,  6.3013e-01,  6.0066e-01,\n",
       "        -1.4853e-01,  6.6448e+00,  9.9827e-02, -4.3712e-01,  1.5142e-01,\n",
       "         8.0832e-01,  1.4811e-01, -1.7509e-01,  8.8860e-01,  5.3244e-01,\n",
       "        -5.7525e-03, -1.6677e-01, -7.7291e-02, -1.4020e-02,  5.2615e-01,\n",
       "         1.0722e-01,  8.2810e-01,  6.4602e-01])"
      ]
     },
     "execution_count": 72,
     "metadata": {},
     "output_type": "execute_result"
    }
   ],
   "source": [
    "model.module.alpha_1_unconstr"
   ]
  },
  {
   "cell_type": "code",
   "execution_count": 74,
   "id": "4a8513f0-9cda-474f-aa89-dde9ae9a505c",
   "metadata": {},
   "outputs": [
    {
     "data": {
      "text/plain": [
       "True"
      ]
     },
     "execution_count": 74,
     "metadata": {},
     "output_type": "execute_result"
    }
   ],
   "source": [
    "model.module.v_encoder.grn.requires_grad"
   ]
  },
  {
   "cell_type": "code",
   "execution_count": 78,
   "id": "ebeccb2d-b1de-4c2c-895d-c9b6952238d5",
   "metadata": {},
   "outputs": [
    {
     "name": "stdout",
     "output_type": "stream",
     "text": [
      "log_h\n",
      "log_phi\n",
      "tau\n",
      "o\n",
      "grn\n",
      "beta_mean_unconstr\n",
      "gamma_mean_unconstr\n",
      "alpha_unconstr_max\n",
      "alpha_unconstr_bias\n"
     ]
    }
   ],
   "source": [
    "for k,par in model.module.v_encoder.named_parameters():\n",
    "    print(k)"
   ]
  },
  {
   "cell_type": "code",
   "execution_count": 88,
   "id": "52033b50-6b0c-4e5f-b9b3-37473f1b84f7",
   "metadata": {},
   "outputs": [
    {
     "ename": "ValueError",
     "evalue": "Seems model is not in pretraining or refining",
     "output_type": "error",
     "traceback": [
      "\u001b[0;31m---------------------------------------------------------------------------\u001b[0m",
      "\u001b[0;31mValueError\u001b[0m                                Traceback (most recent call last)",
      "Cell \u001b[0;32mIn[88], line 7\u001b[0m\n\u001b[1;32m      5\u001b[0m     \u001b[38;5;28mprint\u001b[39m(\u001b[38;5;124m\"\u001b[39m\u001b[38;5;124mloss\u001b[39m\u001b[38;5;124m\"\u001b[39m)\n\u001b[1;32m      6\u001b[0m \u001b[38;5;28;01melse\u001b[39;00m:\n\u001b[0;32m----> 7\u001b[0m     \u001b[38;5;28;01mraise\u001b[39;00m \u001b[38;5;167;01mValueError\u001b[39;00m(\u001b[38;5;124m\"\u001b[39m\u001b[38;5;124mSeems model is not in pretraining or refining\u001b[39m\u001b[38;5;124m\"\u001b[39m)\n",
      "\u001b[0;31mValueError\u001b[0m: Seems model is not in pretraining or refining"
     ]
    }
   ],
   "source": [
    "model_stage = \"sdas\"\n",
    "if model_stage == \"pretraining\":\n",
    "    print('elbo_train')\n",
    "elif model_stage == \"refining\":\n",
    "    print(\"loss\")\n",
    "else:\n",
    "    raise ValueError(\"Seems model is not in pretraining or refining\")"
   ]
  },
  {
   "cell_type": "code",
   "execution_count": 89,
   "id": "6e9a7dcb-1296-4fce-a668-21eab3a7e8ee",
   "metadata": {},
   "outputs": [
    {
     "data": {
      "text/plain": [
       "{'history_': {'validation_loss':       validation_loss\n",
       "  epoch                \n",
       "  0           83.795418\n",
       "  1            18.71455\n",
       "  2            1.632535\n",
       "  3          -13.104841\n",
       "  4          -20.945612\n",
       "  ...               ...\n",
       "  162       -458.038177\n",
       "  163       -469.001709\n",
       "  164       -463.427734\n",
       "  165       -455.971863\n",
       "  166       -455.627808\n",
       "  \n",
       "  [167 rows x 1 columns],\n",
       "  'elbo_validation':       elbo_validation\n",
       "  epoch                \n",
       "  0            7.054896\n",
       "  1            6.789626\n",
       "  2            7.637541\n",
       "  3            6.809509\n",
       "  4            6.801549\n",
       "  ...               ...\n",
       "  162          2.734669\n",
       "  163          2.735562\n",
       "  164          2.704306\n",
       "  165          2.924189\n",
       "  166          2.890836\n",
       "  \n",
       "  [167 rows x 1 columns],\n",
       "  'reconstruction_loss_validation':       reconstruction_loss_validation\n",
       "  epoch                               \n",
       "  0                           7.054896\n",
       "  1                           6.789626\n",
       "  2                           7.637541\n",
       "  3                           6.809509\n",
       "  4                           6.801549\n",
       "  ...                              ...\n",
       "  162                         2.734669\n",
       "  163                         2.735562\n",
       "  164                         2.704306\n",
       "  165                         2.924189\n",
       "  166                         2.890836\n",
       "  \n",
       "  [167 rows x 1 columns],\n",
       "  'kl_local_validation':       kl_local_validation\n",
       "  epoch                    \n",
       "  0                     0.0\n",
       "  1                     0.0\n",
       "  2                     0.0\n",
       "  3                     0.0\n",
       "  4                     0.0\n",
       "  ...                   ...\n",
       "  162                   0.0\n",
       "  163                   0.0\n",
       "  164                   0.0\n",
       "  165                   0.0\n",
       "  166                   0.0\n",
       "  \n",
       "  [167 rows x 1 columns],\n",
       "  'kl_global_validation':       kl_global_validation\n",
       "  epoch                     \n",
       "  0                      0.0\n",
       "  1                      0.0\n",
       "  2                      0.0\n",
       "  3                      0.0\n",
       "  4                      0.0\n",
       "  ...                    ...\n",
       "  162                    0.0\n",
       "  163                    0.0\n",
       "  164                    0.0\n",
       "  165                    0.0\n",
       "  166                    0.0\n",
       "  \n",
       "  [167 rows x 1 columns],\n",
       "  'train_loss_epoch':       train_loss_epoch\n",
       "  epoch                 \n",
       "  0           142.927017\n",
       "  1             55.25317\n",
       "  2            10.127101\n",
       "  3            -5.726399\n",
       "  4           -18.207365\n",
       "  ...                ...\n",
       "  162        -474.987061\n",
       "  163        -473.848358\n",
       "  164        -477.097778\n",
       "  165        -472.978333\n",
       "  166        -469.365601\n",
       "  \n",
       "  [167 rows x 1 columns],\n",
       "  'elbo_train':       elbo_train\n",
       "  epoch           \n",
       "  0       9.354665\n",
       "  1       7.104723\n",
       "  2       6.953837\n",
       "  3       7.220021\n",
       "  4       6.634566\n",
       "  ...          ...\n",
       "  162     2.689277\n",
       "  163     2.764832\n",
       "  164     2.741884\n",
       "  165     2.757839\n",
       "  166     2.854979\n",
       "  \n",
       "  [167 rows x 1 columns],\n",
       "  'reconstruction_loss_train':       reconstruction_loss_train\n",
       "  epoch                          \n",
       "  0                      9.354665\n",
       "  1                      7.104723\n",
       "  2                      6.953837\n",
       "  3                      7.220021\n",
       "  4                      6.634566\n",
       "  ...                         ...\n",
       "  162                    2.689277\n",
       "  163                    2.764832\n",
       "  164                    2.741884\n",
       "  165                    2.757839\n",
       "  166                    2.854979\n",
       "  \n",
       "  [167 rows x 1 columns],\n",
       "  'kl_local_train':       kl_local_train\n",
       "  epoch               \n",
       "  0                0.0\n",
       "  1                0.0\n",
       "  2                0.0\n",
       "  3                0.0\n",
       "  4                0.0\n",
       "  ...              ...\n",
       "  162              0.0\n",
       "  163              0.0\n",
       "  164              0.0\n",
       "  165              0.0\n",
       "  166              0.0\n",
       "  \n",
       "  [167 rows x 1 columns],\n",
       "  'kl_global_train':       kl_global_train\n",
       "  epoch                \n",
       "  0                 0.0\n",
       "  1                 0.0\n",
       "  2                 0.0\n",
       "  3                 0.0\n",
       "  4                 0.0\n",
       "  ...               ...\n",
       "  162               0.0\n",
       "  163               0.0\n",
       "  164               0.0\n",
       "  165               0.0\n",
       "  166               0.0\n",
       "  \n",
       "  [167 rows x 1 columns],\n",
       "  'kl_weight':       kl_weight\n",
       "  epoch          \n",
       "  2         0.005\n",
       "  4          0.01\n",
       "  7        0.0175\n",
       "  9        0.0225\n",
       "  12         0.03\n",
       "  ...         ...\n",
       "  154       0.385\n",
       "  157      0.3925\n",
       "  159      0.3975\n",
       "  162       0.405\n",
       "  164        0.41\n",
       "  \n",
       "  [66 rows x 1 columns],\n",
       "  'train_loss_step':       train_loss_step\n",
       "  epoch                \n",
       "  2           13.565853\n",
       "  4          -18.929703\n",
       "  7          -36.951618\n",
       "  9          -45.368488\n",
       "  12         -60.485447\n",
       "  ...               ...\n",
       "  154       -470.749359\n",
       "  157       -476.167175\n",
       "  159        -466.01123\n",
       "  162       -479.968781\n",
       "  164        -476.81308\n",
       "  \n",
       "  [66 rows x 1 columns]},\n",
       " 'is_trained_': True,\n",
       " 'test_indices_': array([], dtype=int64),\n",
       " 'train_indices_': array([785, 873,  65, 902, 317, 636, 666, 789, 958, 214,  97, 583, 466,\n",
       "        523, 255, 385, 545, 382, 489, 513, 780, 904, 122, 946,  60, 844,\n",
       "        372, 283, 939, 608, 495, 630, 596, 713, 753, 624, 312,   8, 529,\n",
       "        876, 101, 615, 520, 249, 278, 424, 384, 395,  54,  34, 271,  30,\n",
       "        403, 757, 975, 990, 457, 362, 860, 483, 580, 986, 688, 864, 927,\n",
       "        378, 320, 942, 351, 418, 945, 795, 145, 826, 492, 751, 240, 648,\n",
       "        886, 144, 767, 999, 467, 315, 989, 922, 717, 458, 773, 204, 834,\n",
       "        832, 435,   5, 769, 679, 722, 215, 653, 150, 687, 500, 332, 979,\n",
       "        817, 620, 814, 516, 518, 940, 113, 612,  37, 894, 895, 992, 158,\n",
       "        154,  40, 585, 805, 592, 964, 266, 406, 294, 604, 522,  18, 425,\n",
       "        527, 308, 622, 794,  62,  79, 680, 193, 750, 181, 535, 484, 200,\n",
       "        364, 991, 462, 356,   2, 478, 695, 253, 667,  85, 969,  75, 786,\n",
       "        658, 465, 920,  38, 944, 725, 436, 140, 818, 602, 745, 471, 342,\n",
       "        416, 711, 557,  50, 162, 765, 856, 867, 524, 443, 172, 956, 330,\n",
       "        352, 857, 766,  39, 852, 875, 156, 222, 641, 210, 746, 960, 700,\n",
       "        167, 998, 984, 491,  10, 105,  68, 479, 399, 434, 258, 827, 884,\n",
       "        304, 811, 938, 924, 526,  20, 905, 380, 420, 285,  71,  49, 179,\n",
       "        506, 929, 116, 293,  76,  48, 503, 263, 808, 863, 748,  64, 798,\n",
       "         52, 440, 124, 650, 409, 752, 952, 477, 118,  12, 157, 337, 127,\n",
       "         46, 235, 538, 241, 590, 358, 959, 848, 792, 325, 899, 809, 350,\n",
       "        363,  17, 186, 402, 338, 206, 963, 345, 313, 242, 913, 170, 187,\n",
       "        934, 133, 301, 731, 670, 318,  78, 521, 346, 198, 865, 548, 915,\n",
       "        588, 447,  21, 724, 718, 250, 243, 571,  35,  81, 159, 333, 837,\n",
       "        474, 671, 109, 661, 379, 625, 603,  92, 451, 652, 822, 855, 390,\n",
       "        577, 985, 422, 211, 171, 165, 238, 188, 685, 803, 344, 741, 453,\n",
       "        646, 830, 155, 487, 597, 988, 125,  66, 908, 511, 224, 268, 161,\n",
       "        813, 618, 676, 178, 950, 415, 100, 733, 689, 229, 334, 627, 702,\n",
       "        878, 482, 919, 220, 391, 912, 427, 309, 775, 885,  15, 493, 245,\n",
       "        898,   6, 613, 533, 397, 721, 858, 691, 104, 303, 549, 729, 208,\n",
       "        302,  51,  90, 354, 632, 460,  22, 374, 546, 439, 218, 737, 505,\n",
       "        605, 801, 948, 683, 205, 647, 190, 361, 664, 375, 631, 185, 732,\n",
       "        404, 194, 564, 401, 530, 656, 441, 132, 233, 173, 428, 567, 967,\n",
       "        758, 626,  96, 781, 499,  74,  89, 609,   0, 392, 476, 799, 519,\n",
       "        107, 708, 634, 223, 327, 102, 704, 475, 213, 135, 246, 970, 891,\n",
       "        619, 815, 365, 812,  26, 642, 417, 907, 921,   3, 134, 355, 877,\n",
       "        768, 836, 561, 892, 225, 820, 369, 681, 339, 419, 829, 951, 454,\n",
       "         63, 759, 360, 237, 112, 640, 532, 126, 259, 742, 761, 137,   7,\n",
       "        502, 831, 762, 851, 407, 692, 353, 153, 566, 542, 343, 887, 997,\n",
       "        825,  56, 400, 572, 473, 468, 651, 669, 504, 900, 649, 931, 300,\n",
       "        674, 665, 570, 163, 336,  59, 821, 933, 490, 787, 449, 703, 437,\n",
       "        563, 720, 890, 219, 678, 586, 282, 348, 686,   4, 995, 463, 776,\n",
       "        682, 879, 517, 573, 793, 893, 534, 903, 276, 284, 470, 426, 281,\n",
       "        120, 593, 981,  13, 655, 455, 584, 955, 160, 977, 973, 715, 744,\n",
       "        195, 191, 628, 536, 880, 164, 106,  16, 575, 925, 712, 540, 329,\n",
       "        480, 498, 968, 405, 743,  93, 433,  83, 843, 914, 657, 414, 662,\n",
       "        978, 771, 728, 911, 807, 322, 556, 357,  69, 514, 509, 340, 221,\n",
       "        928, 146, 289,  29, 114, 508, 810, 972, 176, 168, 347, 376, 764,\n",
       "        871, 889, 772, 189, 136, 446, 839, 254, 881, 290, 941, 954, 232,\n",
       "        645,  33,  88,  44, 341,  61, 953, 199, 429, 747, 394, 730, 297,\n",
       "         73, 393, 547, 579, 541, 854, 833, 840, 663, 217, 539, 828, 623,\n",
       "        668, 824, 421, 694, 138, 212, 616, 842, 838, 866, 727, 965, 701,\n",
       "        726, 917, 716, 234,  67,  24, 381, 216, 735, 129, 349, 111, 166,\n",
       "        207, 438, 552, 274, 974, 591, 800, 937, 525, 287, 469, 326, 121,\n",
       "        994, 507, 228, 673, 595, 445, 117, 464,  25, 110, 149, 152, 528,\n",
       "        696, 621, 461, 598, 139, 749, 260, 961, 323, 897, 248, 450, 410,\n",
       "        607,  19, 328, 296, 269, 226,  94, 515, 841, 637, 280, 286, 589,\n",
       "        930, 444, 184, 371, 872, 976, 275, 806, 935, 182,  32,  80, 307,\n",
       "        770,  11,  43,  86, 778,  36, 980,  58,  41, 782, 411, 562, 209,\n",
       "        148, 739, 594, 123, 734, 574,  98, 377, 130, 699,  23, 869, 555,\n",
       "        370, 512, 383, 201, 368, 554, 610, 387, 861, 816, 292, 690, 256,\n",
       "        606, 197,  95, 962, 943, 169, 581, 305, 560, 853, 373, 719, 791,\n",
       "        227, 660, 143, 846, 180, 868, 131, 949,  47, 774, 324, 203,  84,\n",
       "        633, 565, 611, 398, 896,  91,  82, 430, 779, 119, 870, 291,  57,\n",
       "        321, 257, 888, 947, 442,  42, 617, 388, 335, 273, 756, 488, 550,\n",
       "        901,  53, 932, 936, 128, 802,  28, 183, 882, 459, 510, 675, 151,\n",
       "        244, 714, 543, 544, 639, 697, 265, 288, 423, 910, 147, 659, 797,\n",
       "        966, 177,  99, 850, 448, 431, 847, 709, 755, 115, 916, 777,  72,\n",
       "        845, 537, 677, 849, 983, 174,  87, 551, 486, 705, 314, 396, 600,\n",
       "        472,  70, 599, 804, 754, 277, 723,   9, 359, 707, 763, 835, 192,\n",
       "        629, 559, 684]),\n",
       " 'validation_indices_': array([993, 859, 298, 553, 672, 971,  27, 231, 306, 706, 496, 558, 784,\n",
       "        239, 578,  55, 906, 175,  14,  77,  31, 481, 310, 311, 883, 788,\n",
       "         45, 103, 760,   1, 823, 710, 614, 790, 408, 736, 957, 366, 918,\n",
       "        267, 230, 996, 635, 698, 251, 783, 819, 141, 316, 587, 331, 295,\n",
       "        262, 432, 862, 582, 272, 270, 987, 319, 569, 643, 142, 202, 413,\n",
       "        196, 264, 531, 252, 576, 738, 299, 740, 247, 926, 412, 389, 796,\n",
       "        601, 654, 261, 456, 386, 982, 909, 693, 236, 501, 497, 874, 452,\n",
       "        494, 923, 279, 638, 485, 568, 108, 367, 644])}"
      ]
     },
     "execution_count": 89,
     "metadata": {},
     "output_type": "execute_result"
    }
   ],
   "source": [
    "attr_dict"
   ]
  },
  {
   "cell_type": "code",
   "execution_count": null,
   "id": "70cddaa0-420a-4e91-94ba-69503d0423aa",
   "metadata": {},
   "outputs": [],
   "source": []
  }
 ],
 "metadata": {
  "kernelspec": {
   "display_name": "Python 3 (ipykernel)",
   "language": "python",
   "name": "python3"
  },
  "language_info": {
   "codemirror_mode": {
    "name": "ipython",
    "version": 3
   },
   "file_extension": ".py",
   "mimetype": "text/x-python",
   "name": "python",
   "nbconvert_exporter": "python",
   "pygments_lexer": "ipython3",
   "version": "3.10.0"
  }
 },
 "nbformat": 4,
 "nbformat_minor": 5
}
