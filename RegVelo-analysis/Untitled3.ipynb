{
 "cells": [
  {
   "cell_type": "code",
   "execution_count": 1,
   "id": "cd0a2ea8-a2f0-4103-b146-7f505b60be19",
   "metadata": {},
   "outputs": [
    {
     "name": "stderr",
     "output_type": "stream",
     "text": [
      "Global seed set to 0\n"
     ]
    }
   ],
   "source": [
    "######## running coupling model\n",
    "import scanpy as sc\n",
    "import numpy as np\n",
    "import pandas as pd\n",
    "import matplotlib.pyplot as plt\n",
    "import scvelo as scv\n",
    "import RegVelo as rgv"
   ]
  },
  {
   "cell_type": "code",
   "execution_count": 81,
   "id": "072d7d39-41ed-4855-8d19-57c79869e6ae",
   "metadata": {},
   "outputs": [],
   "source": [
    "adata = sc.read_h5ad(\"dataset_branch_v3.h5ad\")"
   ]
  },
  {
   "cell_type": "code",
   "execution_count": 82,
   "id": "0f333607-913b-4010-adb9-224a6eb3f08e",
   "metadata": {},
   "outputs": [],
   "source": [
    "adata.X = adata.X.copy()\n",
    "adata.layers[\"spliced\"] = adata.layers[\"counts_spliced\"].copy()\n",
    "adata.layers[\"unspliced\"] = adata.layers[\"counts_unspliced\"].copy()"
   ]
  },
  {
   "cell_type": "code",
   "execution_count": 83,
   "id": "d528e716-7484-4dd5-9da2-51994cd7b97b",
   "metadata": {},
   "outputs": [],
   "source": [
    "sc.pp.calculate_qc_metrics(adata, percent_top=None, log1p=False, inplace=True)"
   ]
  },
  {
   "cell_type": "code",
   "execution_count": 84,
   "id": "9a469506-5758-4d34-969e-c8b794e62074",
   "metadata": {},
   "outputs": [
    {
     "name": "stdout",
     "output_type": "stream",
     "text": [
      "Filtered out 2 genes that are detected 5 counts (shared).\n",
      "Normalized count data: X, spliced, unspliced.\n",
      "Skip filtering by dispersion since number of variables are less than `n_top_genes`.\n",
      "WARNING: Did not modify X as it looks preprocessed already.\n",
      "computing neighbors\n",
      "    finished (0:00:00) --> added \n",
      "    'distances' and 'connectivities', weighted adjacency matrices (adata.obsp)\n",
      "computing moments based on connectivities\n",
      "    finished (0:00:00) --> added \n",
      "    'Ms' and 'Mu', moments of un/spliced abundances (adata.layers)\n"
     ]
    }
   ],
   "source": [
    "scv.pp.filter_and_normalize(adata, min_shared_counts=5, n_top_genes=210)\n",
    "scv.pp.moments(adata, n_pcs=30, n_neighbors=30)"
   ]
  },
  {
   "cell_type": "code",
   "execution_count": 85,
   "id": "ce69f08b-3a1e-4f43-8125-32c4bbe63a16",
   "metadata": {},
   "outputs": [],
   "source": [
    "adata.X = np.log1p(adata.X.copy())"
   ]
  },
  {
   "cell_type": "code",
   "execution_count": 86,
   "id": "7748997d-c4ca-4a6b-b1e3-35e675c41798",
   "metadata": {},
   "outputs": [],
   "source": [
    "W = adata.uns[\"skeleton\"].copy()"
   ]
  },
  {
   "cell_type": "code",
   "execution_count": 87,
   "id": "12e96e6e-5c38-4338-bc2b-f562ed154b14",
   "metadata": {},
   "outputs": [],
   "source": [
    "features = [i in adata.var.index.values for i in adata.uns[\"regulators\"]]\n",
    "W = W[features,:]\n",
    "W = W[:,features]"
   ]
  },
  {
   "cell_type": "code",
   "execution_count": 88,
   "id": "8c769f54-0236-4f10-8e10-552820eab668",
   "metadata": {},
   "outputs": [],
   "source": [
    "import torch\n",
    "W = torch.tensor(W).int()"
   ]
  },
  {
   "cell_type": "code",
   "execution_count": 61,
   "id": "9ac30104-e501-4a3f-9fec-2cb9c3d95b9f",
   "metadata": {},
   "outputs": [],
   "source": [
    "rgv_m = rgv.train.Trainer(adata, loss_mode='mse',W=W.T, solver = \"AdamW\",early_stopping = False, scheduler = \"CyclicLR\", batch_size = 128,nepoch = 500, n_latent = 20,lr = 0.01,wt_decay = 0.01)"
   ]
  },
  {
   "cell_type": "code",
   "execution_count": 62,
   "id": "f48b7a54-8edc-4f9e-be68-f8306832b932",
   "metadata": {},
   "outputs": [
    {
     "name": "stderr",
     "output_type": "stream",
     "text": [
      "Epoch 500: 100%|████████████████████████████████| 500/500 [02:17<00:00,  3.64epoch/s, train_loss=2.63e+9, val_loss=2.57e+9]\n"
     ]
    }
   ],
   "source": [
    "rgv_m.train()"
   ]
  },
  {
   "cell_type": "code",
   "execution_count": 63,
   "id": "f264fda3-c9c5-4ac7-b599-25640a2e989a",
   "metadata": {},
   "outputs": [],
   "source": [
    "from typing import Optional\n",
    "from sctour._utils import get_step_size\n",
    "from torchdiffeq import odeint\n",
    "def get_vector_field(\n",
    "    self,\n",
    "    T: np.ndarray,\n",
    "    model: Optional[str] = None,\n",
    "    sim_dynamics: bool = False,\n",
    ") -> np.ndarray:\n",
    "    \"\"\"\n",
    "    Get the vector field.\n",
    "\n",
    "    Parameters\n",
    "    ----------\n",
    "    T\n",
    "        The estimated pseudotime for each cell.\n",
    "    Z\n",
    "        The latent representation for each cell.\n",
    "    model\n",
    "        The model used to get the vector field. Only provided when using the saved model.\n",
    "\n",
    "    Returns\n",
    "    ----------\n",
    "    :class:`~numpy.ndarray`\n",
    "        The estimated vector field.\n",
    "    \"\"\"\n",
    "\n",
    "    model = self._get_model(model)\n",
    "    model.eval()\n",
    "    Z = np.concatenate([self.adata.layers[\"Mu\"],self.adata.layers[\"Ms\"]],axis = 1)\n",
    "    if not (isinstance(T, np.ndarray) and isinstance(Z, np.ndarray)):\n",
    "        raise TypeError('The inputs must be numpy arrays.')\n",
    "    Z = torch.tensor(Z).to(self.device)\n",
    "    T = torch.tensor(T).to(self.device)\n",
    "    #index = torch.argsort(T)\n",
    "    #T = T[index]\n",
    "    #Z = Z[index]\n",
    "\n",
    "    #if self.time_reverse is None:\n",
    "    #    raise RuntimeError('It seems you did not run get_time() function first. Please run get_time() before you run get_vector_field().')\n",
    "    #direction = 1\n",
    "    #if self.time_reverse:\n",
    "    #    direction = -1\n",
    "    velo = model.lode_func(T, Z).cpu().detach().numpy()\n",
    "\n",
    "    if sim_dynamics:\n",
    "        id = adata.obs.index.values\n",
    "        ## simulate the system to generate the dynamics of all cells\n",
    "        T = T.ravel()  ## odeint requires 1-D Tensor for time\n",
    "        index = torch.argsort(T)\n",
    "        T = T[index]\n",
    "        Z = Z[index]\n",
    "        id = id[index.cpu().numpy()]\n",
    "        index2 = (T[:-1] != T[1:])\n",
    "        index2 = torch.cat((index2, torch.tensor([True]).to(index2.device))) ## index2 is used to get unique time points as odeint requires strictly increasing/decreasing time points\n",
    "        T = T[index2]   \n",
    "        Z = Z[index2]\n",
    "        id = id[index2.cpu().numpy()]\n",
    "\n",
    "        ## generate dynamics through ODE solver\n",
    "        Z0 = Z[0]\n",
    "        options = get_step_size(model.step_size, T[0], T[-1], len(T))\n",
    "        pred_x = odeint(model.lode_func, Z0.to(model.device), T.to(model.device), method = model.ode_method, options = options).view(-1, model.n_int)\n",
    "        pred_x = pred_x.to(Z.device)\n",
    "        \n",
    "        new_velo = model.lode_func(T, pred_x).cpu().detach().numpy()\n",
    "        \n",
    "        ## insert into the velocity matrix\n",
    "        insert = [adata.obs.index.tolist().index(i) for i in id]\n",
    "        for i in insert:\n",
    "            velo[i,:] = new_velo[i,:]\n",
    "\n",
    "    return velo"
   ]
  },
  {
   "cell_type": "code",
   "execution_count": 77,
   "id": "09138366-01f0-41bc-b50f-2b8be41dba96",
   "metadata": {},
   "outputs": [],
   "source": [
    "adata.obs[\"ptime\"] = rgv_m.get_time()\n",
    "velocity = get_vector_field(rgv_m,T=adata.obs['ptime'].values)"
   ]
  },
  {
   "cell_type": "code",
   "execution_count": 65,
   "id": "73e6275d-d87f-42e9-9af3-126fffcbf81a",
   "metadata": {},
   "outputs": [],
   "source": [
    "velocity = torch.tensor(velocity)"
   ]
  },
  {
   "cell_type": "code",
   "execution_count": 66,
   "id": "463bfc48-b921-4869-95e5-8cf69cc1ebe0",
   "metadata": {},
   "outputs": [],
   "source": [
    "ds = velocity[:,int(rgv_m.n_int/2):rgv_m.n_int]"
   ]
  },
  {
   "cell_type": "code",
   "execution_count": 67,
   "id": "2a718fac-4664-4baf-9138-1c4d8deec7f3",
   "metadata": {},
   "outputs": [
    {
     "data": {
      "text/plain": [
       "torch.Size([1000, 208])"
      ]
     },
     "execution_count": 67,
     "metadata": {},
     "output_type": "execute_result"
    }
   ],
   "source": [
    "ds.shape"
   ]
  },
  {
   "cell_type": "code",
   "execution_count": 68,
   "id": "10d63534-2ddf-4ddc-9c67-6dc1eba1d7e1",
   "metadata": {},
   "outputs": [],
   "source": [
    "adata.layers[\"velocity\"] = ds"
   ]
  },
  {
   "cell_type": "code",
   "execution_count": 69,
   "id": "b9d6f3cb-23cf-49d5-8abe-5c39a2386ac3",
   "metadata": {},
   "outputs": [
    {
     "name": "stdout",
     "output_type": "stream",
     "text": [
      "computing velocity graph (using 1/8 cores)\n",
      "    finished (0:00:00) --> added \n",
      "    'velocity_graph', sparse matrix with cosine correlations (adata.uns)\n"
     ]
    }
   ],
   "source": [
    "scv.tl.velocity_graph(adata)"
   ]
  },
  {
   "cell_type": "code",
   "execution_count": 70,
   "id": "4ba2ed99-81c6-4b64-8065-71232c19267b",
   "metadata": {},
   "outputs": [
    {
     "name": "stdout",
     "output_type": "stream",
     "text": [
      "Renamed 'dimred' to convention 'X_dimred' (adata.obsm).\n",
      "computing velocity embedding\n",
      "    finished (0:00:00) --> added\n",
      "    'velocity_dimred', embedded velocity vectors (adata.obsm)\n"
     ]
    },
    {
     "name": "stderr",
     "output_type": "stream",
     "text": [
      "/Users/weixu.wang/miniconda3/envs/RegVelo/lib/python3.10/site-packages/scvelo/plotting/utils.py:869: MatplotlibDeprecationWarning: The draw_all function was deprecated in Matplotlib 3.6 and will be removed two minor releases later. Use fig.draw_without_rendering() instead.\n",
      "  cb.draw_all()\n"
     ]
    },
    {
     "data": {
      "image/png": "[encoded data removed]",
      "text/plain": [
       "<Figure size 640x480 with 2 Axes>"
      ]
     },
     "metadata": {},
     "output_type": "display_data"
    }
   ],
   "source": [
    "scv.pl.velocity_embedding_stream(adata, basis='dimred',color = 'ptime')"
   ]
  },
  {
   "cell_type": "code",
   "execution_count": 71,
   "id": "653ecaa9-3271-43ad-94a5-ed43ccf0822a",
   "metadata": {},
   "outputs": [
    {
     "data": {
      "text/plain": [
       "SignificanceResult(statistic=0.8416486787220002, pvalue=2.6691112931183633e-269)"
      ]
     },
     "execution_count": 71,
     "metadata": {},
     "output_type": "execute_result"
    }
   ],
   "source": [
    "###### import scipy\n",
    "scipy.stats.spearmanr(adata.obs[\"ptime\"], adata.obs[\"sim_time\"])"
   ]
  },
  {
   "cell_type": "code",
   "execution_count": 74,
   "id": "3e6de173-5e14-4cb6-bde3-19bfa6481d97",
   "metadata": {},
   "outputs": [],
   "source": [
    "velocity_gt = adata.layers[\"rna_velocity\"]\n",
    "velocity = adata.layers[\"velocity\"]\n",
    "import scipy\n",
    "corr = scipy.stats.spearmanr(velocity_gt.todense(), velocity)\n",
    "corr = np.diagonal(corr.statistic[0:208,208:(208*2)])"
   ]
  },
  {
   "cell_type": "code",
   "execution_count": 75,
   "id": "e84413be-edb5-456e-bc94-cd8ad42a4327",
   "metadata": {},
   "outputs": [
    {
     "data": {
      "text/plain": [
       "0.16954410660830385"
      ]
     },
     "execution_count": 75,
     "metadata": {},
     "output_type": "execute_result"
    }
   ],
   "source": [
    "corr = corr[~np.isnan(corr)]\n",
    "corr.mean()"
   ]
  },
  {
   "cell_type": "code",
   "execution_count": 78,
   "id": "e495bd18-ab6b-42ae-8a70-f65aa401929a",
   "metadata": {},
   "outputs": [],
   "source": [
    "import pandas as pd\n",
    "corr = pd.DataFrame(corr)\n",
    "corr.to_csv(\"coupling_velo_corr_v3.csv\")"
   ]
  },
  {
   "cell_type": "code",
   "execution_count": 89,
   "id": "86168ead-eb64-4bda-a775-bbc804c49a2f",
   "metadata": {},
   "outputs": [],
   "source": [
    "GRN = rgv_m.model.lode_func.mask_m * rgv_m.model.lode_func.fc1.weight.data"
   ]
  },
  {
   "cell_type": "code",
   "execution_count": 90,
   "id": "11f1c9f0-27e1-4f40-8178-e3cf3fa32041",
   "metadata": {},
   "outputs": [],
   "source": [
    "features = [i in adata.var.index.values for i in adata.uns[\"regulators\"]]\n",
    "#W = W[features,:]\n",
    "#W = W[:,features]"
   ]
  },
  {
   "cell_type": "code",
   "execution_count": 91,
   "id": "80fee68e-2614-4364-b37d-6d691b2474a4",
   "metadata": {},
   "outputs": [],
   "source": [
    "gt = adata.uns[\"network\"]\n",
    "gt = gt[features,:]\n",
    "gt = gt[:,features]"
   ]
  },
  {
   "cell_type": "code",
   "execution_count": 92,
   "id": "19253fbd-1667-4b6e-8526-eb8d17a917fe",
   "metadata": {},
   "outputs": [],
   "source": [
    "gt = gt.T[rgv_m.model.lode_func.mask_m==1]"
   ]
  },
  {
   "cell_type": "code",
   "execution_count": 93,
   "id": "acc1cdba-f581-43f8-9646-51bf70cc4847",
   "metadata": {},
   "outputs": [],
   "source": [
    "pre = GRN[rgv_m.model.lode_func.mask_m==1]"
   ]
  },
  {
   "cell_type": "code",
   "execution_count": 94,
   "id": "ff6100be-717a-44bb-bb59-0de454d6113f",
   "metadata": {},
   "outputs": [],
   "source": [
    "from scipy.spatial.distance import cdist\n",
    "regulator_index = [i in adata.uns[\"regulators\"] for i in adata.var.index.values]\n",
    "target_index = [i in adata.uns[\"regulators\"] for i in adata.var.index.values]\n",
    "        \n",
    "corr_m = 1 - cdist(adata.X.todense().T, adata.X.todense().T, metric='correlation')\n",
    "corr_m = torch.tensor(corr_m)\n",
    "#corr_m = corr_m[target_index,]\n",
    "#corr_m = corr_m[:,regulator_index]\n",
    "corr_m = corr_m.float()"
   ]
  },
  {
   "cell_type": "code",
   "execution_count": 95,
   "id": "4183086a-b6fd-4b2f-bc6e-d82510512033",
   "metadata": {},
   "outputs": [],
   "source": [
    "pre2 = corr_m[rgv_m.model.lode_func.mask_m==1]"
   ]
  },
  {
   "cell_type": "code",
   "execution_count": 99,
   "id": "c78650f5-f0f9-44de-a5a7-ec7eb81bea9f",
   "metadata": {},
   "outputs": [
    {
     "data": {
      "text/plain": [
       "0.45385342081195545"
      ]
     },
     "execution_count": 99,
     "metadata": {},
     "output_type": "execute_result"
    }
   ],
   "source": [
    "import scipy.stats as stats\n",
    "\n",
    "# calculate Spearman correlation coefficient and p-value\n",
    "corr, _ = stats.spearmanr((pre.detach().numpy()),(gt))\n",
    "corr"
   ]
  },
  {
   "cell_type": "code",
   "execution_count": null,
   "id": "87760446-0804-499e-8e42-e31b39e6b3c1",
   "metadata": {},
   "outputs": [],
   "source": []
  }
 ],
 "metadata": {
  "kernelspec": {
   "display_name": "Python 3 (ipykernel)",
   "language": "python",
   "name": "python3"
  },
  "language_info": {
   "codemirror_mode": {
    "name": "ipython",
    "version": 3
   },
   "file_extension": ".py",
   "mimetype": "text/x-python",
   "name": "python",
   "nbconvert_exporter": "python",
   "pygments_lexer": "ipython3",
   "version": "3.10.0"
  }
 },
 "nbformat": 4,
 "nbformat_minor": 5
}
